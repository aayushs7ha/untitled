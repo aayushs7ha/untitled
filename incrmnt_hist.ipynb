{
 "cells": [
  {
   "cell_type": "code",
   "execution_count": 1,
   "metadata": {},
   "outputs": [],
   "source": [
    "from pyspark import SparkContext, SparkConf\n",
    "from pyspark.sql import HiveContext, Row, SparkSession"
   ]
  },
  {
   "cell_type": "code",
   "execution_count": 2,
   "metadata": {},
   "outputs": [],
   "source": [
    "from pyspark.sql.functions import *"
   ]
  },
  {
   "cell_type": "code",
   "execution_count": 3,
   "metadata": {},
   "outputs": [],
   "source": [
    "spark = SparkSession.builder.appName(\"incr_load\").config(\"spark.driver.maxResultSize\", \"4g\").config(\"spark.driver.cores\", \"5\").config(\"spark.driver.memory\", \"4g\").config(\"spark.executor.cores\", \"4\").config(\"spark.executor.memory\", \"8g\").getOrCreate()"
   ]
  },
  {
   "cell_type": "code",
   "execution_count": 4,
   "metadata": {},
   "outputs": [],
   "source": [
    "#hive history table in text format\n",
    "dt_hive_hist =spark.sql(\"\"\"select * from hmm.loyal_user_hist\"\"\")"
   ]
  },
  {
   "cell_type": "code",
   "execution_count": 5,
   "metadata": {},
   "outputs": [
    {
     "name": "stdout",
     "output_type": "stream",
     "text": [
      "['id', 'mobileno', 'title', 'firstname', 'gender', 'dob', 'doa', 'street', 'city', 'postalcode', 'occupation', 'member_type', 'member_id', 'created_on', 'upload_on', 'status_flag', 'support_remarks', 'vinregistrationnumber', 'fueltype', 'transmissiontype', 'vindeliverydate', 'lastrodate', 'vinservicemodelcode', 'vinvariantname', 'vinexteriorcolor', 'vinnumber', 'statename', 'interest', 'tnc', 'vinname', 'if_crte_dt']\n"
     ]
    }
   ],
   "source": [
    "print(dt_hive_hist.columns)"
   ]
  },
  {
   "cell_type": "code",
   "execution_count": 6,
   "metadata": {},
   "outputs": [
    {
     "ename": "KeyboardInterrupt",
     "evalue": "",
     "output_type": "error",
     "traceback": [
      "\u001b[0;31m---------------------------------------------------------------------------\u001b[0m",
      "\u001b[0;31mKeyboardInterrupt\u001b[0m                         Traceback (most recent call last)",
      "\u001b[0;32m<ipython-input-6-d66bb8869c4a>\u001b[0m in \u001b[0;36m<module>\u001b[0;34m\u001b[0m\n\u001b[0;32m----> 1\u001b[0;31m \u001b[0mdt_hive_hist\u001b[0m\u001b[0;34m.\u001b[0m\u001b[0mshow\u001b[0m\u001b[0;34m(\u001b[0m\u001b[0;36m2\u001b[0m\u001b[0;34m)\u001b[0m\u001b[0;34m\u001b[0m\u001b[0;34m\u001b[0m\u001b[0m\n\u001b[0m",
      "\u001b[0;32m/usr/hdp/current/spark2-client/python/pyspark/sql/dataframe.py\u001b[0m in \u001b[0;36mshow\u001b[0;34m(self, n, truncate, vertical)\u001b[0m\n\u001b[1;32m    348\u001b[0m         \"\"\"\n\u001b[1;32m    349\u001b[0m         \u001b[0;32mif\u001b[0m \u001b[0misinstance\u001b[0m\u001b[0;34m(\u001b[0m\u001b[0mtruncate\u001b[0m\u001b[0;34m,\u001b[0m \u001b[0mbool\u001b[0m\u001b[0;34m)\u001b[0m \u001b[0;32mand\u001b[0m \u001b[0mtruncate\u001b[0m\u001b[0;34m:\u001b[0m\u001b[0;34m\u001b[0m\u001b[0;34m\u001b[0m\u001b[0m\n\u001b[0;32m--> 350\u001b[0;31m             \u001b[0mprint\u001b[0m\u001b[0;34m(\u001b[0m\u001b[0mself\u001b[0m\u001b[0;34m.\u001b[0m\u001b[0m_jdf\u001b[0m\u001b[0;34m.\u001b[0m\u001b[0mshowString\u001b[0m\u001b[0;34m(\u001b[0m\u001b[0mn\u001b[0m\u001b[0;34m,\u001b[0m \u001b[0;36m20\u001b[0m\u001b[0;34m,\u001b[0m \u001b[0mvertical\u001b[0m\u001b[0;34m)\u001b[0m\u001b[0;34m)\u001b[0m\u001b[0;34m\u001b[0m\u001b[0;34m\u001b[0m\u001b[0m\n\u001b[0m\u001b[1;32m    351\u001b[0m         \u001b[0;32melse\u001b[0m\u001b[0;34m:\u001b[0m\u001b[0;34m\u001b[0m\u001b[0;34m\u001b[0m\u001b[0m\n\u001b[1;32m    352\u001b[0m             \u001b[0mprint\u001b[0m\u001b[0;34m(\u001b[0m\u001b[0mself\u001b[0m\u001b[0;34m.\u001b[0m\u001b[0m_jdf\u001b[0m\u001b[0;34m.\u001b[0m\u001b[0mshowString\u001b[0m\u001b[0;34m(\u001b[0m\u001b[0mn\u001b[0m\u001b[0;34m,\u001b[0m \u001b[0mint\u001b[0m\u001b[0;34m(\u001b[0m\u001b[0mtruncate\u001b[0m\u001b[0;34m)\u001b[0m\u001b[0;34m,\u001b[0m \u001b[0mvertical\u001b[0m\u001b[0;34m)\u001b[0m\u001b[0;34m)\u001b[0m\u001b[0;34m\u001b[0m\u001b[0;34m\u001b[0m\u001b[0m\n",
      "\u001b[0;32m/usr/hdp/current/spark2-client/python/lib/py4j-0.10.7-src.zip/py4j/java_gateway.py\u001b[0m in \u001b[0;36m__call__\u001b[0;34m(self, *args)\u001b[0m\n\u001b[1;32m   1253\u001b[0m             \u001b[0mproto\u001b[0m\u001b[0;34m.\u001b[0m\u001b[0mEND_COMMAND_PART\u001b[0m\u001b[0;34m\u001b[0m\u001b[0;34m\u001b[0m\u001b[0m\n\u001b[1;32m   1254\u001b[0m \u001b[0;34m\u001b[0m\u001b[0m\n\u001b[0;32m-> 1255\u001b[0;31m         \u001b[0manswer\u001b[0m \u001b[0;34m=\u001b[0m \u001b[0mself\u001b[0m\u001b[0;34m.\u001b[0m\u001b[0mgateway_client\u001b[0m\u001b[0;34m.\u001b[0m\u001b[0msend_command\u001b[0m\u001b[0;34m(\u001b[0m\u001b[0mcommand\u001b[0m\u001b[0;34m)\u001b[0m\u001b[0;34m\u001b[0m\u001b[0;34m\u001b[0m\u001b[0m\n\u001b[0m\u001b[1;32m   1256\u001b[0m         return_value = get_return_value(\n\u001b[1;32m   1257\u001b[0m             answer, self.gateway_client, self.target_id, self.name)\n",
      "\u001b[0;32m/usr/hdp/current/spark2-client/python/lib/py4j-0.10.7-src.zip/py4j/java_gateway.py\u001b[0m in \u001b[0;36msend_command\u001b[0;34m(self, command, retry, binary)\u001b[0m\n\u001b[1;32m    983\u001b[0m         \u001b[0mconnection\u001b[0m \u001b[0;34m=\u001b[0m \u001b[0mself\u001b[0m\u001b[0;34m.\u001b[0m\u001b[0m_get_connection\u001b[0m\u001b[0;34m(\u001b[0m\u001b[0;34m)\u001b[0m\u001b[0;34m\u001b[0m\u001b[0;34m\u001b[0m\u001b[0m\n\u001b[1;32m    984\u001b[0m         \u001b[0;32mtry\u001b[0m\u001b[0;34m:\u001b[0m\u001b[0;34m\u001b[0m\u001b[0;34m\u001b[0m\u001b[0m\n\u001b[0;32m--> 985\u001b[0;31m             \u001b[0mresponse\u001b[0m \u001b[0;34m=\u001b[0m \u001b[0mconnection\u001b[0m\u001b[0;34m.\u001b[0m\u001b[0msend_command\u001b[0m\u001b[0;34m(\u001b[0m\u001b[0mcommand\u001b[0m\u001b[0;34m)\u001b[0m\u001b[0;34m\u001b[0m\u001b[0;34m\u001b[0m\u001b[0m\n\u001b[0m\u001b[1;32m    986\u001b[0m             \u001b[0;32mif\u001b[0m \u001b[0mbinary\u001b[0m\u001b[0;34m:\u001b[0m\u001b[0;34m\u001b[0m\u001b[0;34m\u001b[0m\u001b[0m\n\u001b[1;32m    987\u001b[0m                 \u001b[0;32mreturn\u001b[0m \u001b[0mresponse\u001b[0m\u001b[0;34m,\u001b[0m \u001b[0mself\u001b[0m\u001b[0;34m.\u001b[0m\u001b[0m_create_connection_guard\u001b[0m\u001b[0;34m(\u001b[0m\u001b[0mconnection\u001b[0m\u001b[0;34m)\u001b[0m\u001b[0;34m\u001b[0m\u001b[0;34m\u001b[0m\u001b[0m\n",
      "\u001b[0;32m/usr/hdp/current/spark2-client/python/lib/py4j-0.10.7-src.zip/py4j/java_gateway.py\u001b[0m in \u001b[0;36msend_command\u001b[0;34m(self, command)\u001b[0m\n\u001b[1;32m   1150\u001b[0m \u001b[0;34m\u001b[0m\u001b[0m\n\u001b[1;32m   1151\u001b[0m         \u001b[0;32mtry\u001b[0m\u001b[0;34m:\u001b[0m\u001b[0;34m\u001b[0m\u001b[0;34m\u001b[0m\u001b[0m\n\u001b[0;32m-> 1152\u001b[0;31m             \u001b[0manswer\u001b[0m \u001b[0;34m=\u001b[0m \u001b[0msmart_decode\u001b[0m\u001b[0;34m(\u001b[0m\u001b[0mself\u001b[0m\u001b[0;34m.\u001b[0m\u001b[0mstream\u001b[0m\u001b[0;34m.\u001b[0m\u001b[0mreadline\u001b[0m\u001b[0;34m(\u001b[0m\u001b[0;34m)\u001b[0m\u001b[0;34m[\u001b[0m\u001b[0;34m:\u001b[0m\u001b[0;34m-\u001b[0m\u001b[0;36m1\u001b[0m\u001b[0;34m]\u001b[0m\u001b[0;34m)\u001b[0m\u001b[0;34m\u001b[0m\u001b[0;34m\u001b[0m\u001b[0m\n\u001b[0m\u001b[1;32m   1153\u001b[0m             \u001b[0mlogger\u001b[0m\u001b[0;34m.\u001b[0m\u001b[0mdebug\u001b[0m\u001b[0;34m(\u001b[0m\u001b[0;34m\"Answer received: {0}\"\u001b[0m\u001b[0;34m.\u001b[0m\u001b[0mformat\u001b[0m\u001b[0;34m(\u001b[0m\u001b[0manswer\u001b[0m\u001b[0;34m)\u001b[0m\u001b[0;34m)\u001b[0m\u001b[0;34m\u001b[0m\u001b[0;34m\u001b[0m\u001b[0m\n\u001b[1;32m   1154\u001b[0m             \u001b[0;32mif\u001b[0m \u001b[0manswer\u001b[0m\u001b[0;34m.\u001b[0m\u001b[0mstartswith\u001b[0m\u001b[0;34m(\u001b[0m\u001b[0mproto\u001b[0m\u001b[0;34m.\u001b[0m\u001b[0mRETURN_MESSAGE\u001b[0m\u001b[0;34m)\u001b[0m\u001b[0;34m:\u001b[0m\u001b[0;34m\u001b[0m\u001b[0;34m\u001b[0m\u001b[0m\n",
      "\u001b[0;32m/usr/local/src/anaconda3/lib/python3.6/socket.py\u001b[0m in \u001b[0;36mreadinto\u001b[0;34m(self, b)\u001b[0m\n\u001b[1;32m    584\u001b[0m         \u001b[0;32mwhile\u001b[0m \u001b[0;32mTrue\u001b[0m\u001b[0;34m:\u001b[0m\u001b[0;34m\u001b[0m\u001b[0;34m\u001b[0m\u001b[0m\n\u001b[1;32m    585\u001b[0m             \u001b[0;32mtry\u001b[0m\u001b[0;34m:\u001b[0m\u001b[0;34m\u001b[0m\u001b[0;34m\u001b[0m\u001b[0m\n\u001b[0;32m--> 586\u001b[0;31m                 \u001b[0;32mreturn\u001b[0m \u001b[0mself\u001b[0m\u001b[0;34m.\u001b[0m\u001b[0m_sock\u001b[0m\u001b[0;34m.\u001b[0m\u001b[0mrecv_into\u001b[0m\u001b[0;34m(\u001b[0m\u001b[0mb\u001b[0m\u001b[0;34m)\u001b[0m\u001b[0;34m\u001b[0m\u001b[0;34m\u001b[0m\u001b[0m\n\u001b[0m\u001b[1;32m    587\u001b[0m             \u001b[0;32mexcept\u001b[0m \u001b[0mtimeout\u001b[0m\u001b[0;34m:\u001b[0m\u001b[0;34m\u001b[0m\u001b[0;34m\u001b[0m\u001b[0m\n\u001b[1;32m    588\u001b[0m                 \u001b[0mself\u001b[0m\u001b[0;34m.\u001b[0m\u001b[0m_timeout_occurred\u001b[0m \u001b[0;34m=\u001b[0m \u001b[0;32mTrue\u001b[0m\u001b[0;34m\u001b[0m\u001b[0;34m\u001b[0m\u001b[0m\n",
      "\u001b[0;31mKeyboardInterrupt\u001b[0m: "
     ]
    }
   ],
   "source": [
    "dt_hive_hist.show(2)"
   ]
  },
  {
   "cell_type": "code",
   "execution_count": 40,
   "metadata": {},
   "outputs": [
    {
     "data": {
      "text/plain": [
       "1170670"
      ]
     },
     "execution_count": 40,
     "metadata": {},
     "output_type": "execute_result"
    }
   ],
   "source": [
    "dt_hive_hist.count()"
   ]
  },
  {
   "cell_type": "code",
   "execution_count": 6,
   "metadata": {},
   "outputs": [],
   "source": [
    "key_col=['id']"
   ]
  },
  {
   "cell_type": "code",
   "execution_count": 7,
   "metadata": {},
   "outputs": [],
   "source": [
    "non_key_cols=dt_hive_hist.columns\n",
    "non_key_cols.remove('id')"
   ]
  },
  {
   "cell_type": "code",
   "execution_count": 8,
   "metadata": {},
   "outputs": [
    {
     "data": {
      "text/plain": [
       "['mobileno',\n",
       " 'title',\n",
       " 'firstname',\n",
       " 'gender',\n",
       " 'dob',\n",
       " 'doa',\n",
       " 'street',\n",
       " 'city',\n",
       " 'postalcode',\n",
       " 'occupation',\n",
       " 'member_type',\n",
       " 'member_id',\n",
       " 'created_on',\n",
       " 'upload_on',\n",
       " 'status_flag',\n",
       " 'support_remarks',\n",
       " 'vinregistrationnumber',\n",
       " 'fueltype',\n",
       " 'transmissiontype',\n",
       " 'vindeliverydate',\n",
       " 'lastrodate',\n",
       " 'vinservicemodelcode',\n",
       " 'vinvariantname',\n",
       " 'vinexteriorcolor',\n",
       " 'vinnumber',\n",
       " 'statename',\n",
       " 'interest',\n",
       " 'tnc',\n",
       " 'vinname',\n",
       " 'if_crte_dt']"
      ]
     },
     "execution_count": 8,
     "metadata": {},
     "output_type": "execute_result"
    }
   ],
   "source": [
    "non_key_cols"
   ]
  },
  {
   "cell_type": "code",
   "execution_count": 9,
   "metadata": {},
   "outputs": [],
   "source": [
    "cols=dt_hive_hist.columns"
   ]
  },
  {
   "cell_type": "code",
   "execution_count": 10,
   "metadata": {},
   "outputs": [
    {
     "data": {
      "text/plain": [
       "['id',\n",
       " 'mobileno',\n",
       " 'title',\n",
       " 'firstname',\n",
       " 'gender',\n",
       " 'dob',\n",
       " 'doa',\n",
       " 'street',\n",
       " 'city',\n",
       " 'postalcode',\n",
       " 'occupation',\n",
       " 'member_type',\n",
       " 'member_id',\n",
       " 'created_on',\n",
       " 'upload_on',\n",
       " 'status_flag',\n",
       " 'support_remarks',\n",
       " 'vinregistrationnumber',\n",
       " 'fueltype',\n",
       " 'transmissiontype',\n",
       " 'vindeliverydate',\n",
       " 'lastrodate',\n",
       " 'vinservicemodelcode',\n",
       " 'vinvariantname',\n",
       " 'vinexteriorcolor',\n",
       " 'vinnumber',\n",
       " 'statename',\n",
       " 'interest',\n",
       " 'tnc',\n",
       " 'vinname',\n",
       " 'if_crte_dt']"
      ]
     },
     "execution_count": 10,
     "metadata": {},
     "output_type": "execute_result"
    }
   ],
   "source": [
    "cols"
   ]
  },
  {
   "cell_type": "code",
   "execution_count": 11,
   "metadata": {},
   "outputs": [
    {
     "name": "stdout",
     "output_type": "stream",
     "text": [
      "+-------+----------+-----+---------------------+------+-----------------------+----+-----------------+----+----------+----------+-----------+----------+-----------------------+-----------------------+-----------+--------------------------------------------+---------------------+--------+----------------+-----------------------+-----------------------+-------------------+---------------------------------+----------------+-----------------+---------+----------------------------------------------------------------------------------------------------------------------------------------------------------------------------------------------------------------------------------+---+----------------+-----------------------+----------------------------------------------------------------+\n",
      "|id     |mobileno  |title|firstname            |gender|dob                    |doa |street           |city|postalcode|occupation|member_type|member_id |created_on             |upload_on              |status_flag|support_remarks                             |vinregistrationnumber|fueltype|transmissiontype|vindeliverydate        |lastrodate             |vinservicemodelcode|vinvariantname                   |vinexteriorcolor|vinnumber        |statename|interest                                                                                                                                                                                                                          |tnc|vinname         |if_crte_dt             |row_sha                                                         |\n",
      "+-------+----------+-----+---------------------+------+-----------------------+----+-----------------+----+----------+----------+-----------+----------+-----------------------+-----------------------+-----------+--------------------------------------------+---------------------+--------+----------------+-----------------------+-----------------------+-------------------+---------------------------------+----------------+-----------------+---------+----------------------------------------------------------------------------------------------------------------------------------------------------------------------------------------------------------------------------------+---+----------------+-----------------------+----------------------------------------------------------------+\n",
      "|1451109|6000016146|1    |Mohini mohan ghatowar|NULL  |1900-01-01 00:00:00.000|NULL|Borbaruah        |4613|786001    |NULL      |New        |BCE8540557|2021-10-26 09:51:52.333|2021-10-26 09:51:52.333|1          |NULL                                        |AS06AD4220           |Petrol  |Manual          |2021-01-28 00:00:00.000|1900-01-01 00:00:00.000|Self               |Grand i10 NIOS 1.2MT Kappa Sportz|AQUA TEAL       |Malb351clmm150516|27       |                                                                                                                                                                                                                                  |   |Nios            |2021-11-27 04:27:13.200|5b0f48452d868bb801c07f75eefae5c5b980e0b4ce72e6ce60b779693258f48c|\n",
      "|216692 |6000020344|2    |Shahida begum        |NULL  |1900-01-01 00:00:00.000|NULL|Hatigaon         |4612|781038    |NULL      |New        |CEC5298166|2020-12-29 18:44:39.960|2020-12-29 18:44:39.960|1          | Form Id updated on 20 Apr at 4:42PM:#247485|                     |Petrol  |Manual          |2020-12-09 00:00:00.000|1900-01-01 00:00:00.000|Self               |                                 |Polar White     |MALBG512LLM026296|27       |Concerts, Dancing, Fashion, Fitness & Wellness, Food, Gadget, Gifting, Movies, Music, News, Nightlife, Online Courses, Painting, Pets, Photography, Reading, Shopping, Singing, Social, Sports & Outdoors, Travel, Weekend Getaway|   |I20             |2021-11-27 04:27:13.200|5a5a677d837e887381c3ffcc2573d6b76aef4f77d7be895b4253622561cd07d9|\n",
      "|653823 |6000021615|1    |Rahuljeet kemprai    |NULL  |1900-01-01 00:00:00.000|NULL|Haflong          |4500|788819    |NULL      |New        |BFB8134093|2021-03-26 17:14:36.777|2021-03-26 17:14:36.777|1          | Form Id updated on 20 Apr at 4:42PM:#247485|                     |Petrol  |Manual          |2021-03-24 00:00:00.000|1900-01-01 00:00:00.000|Self               |                                 |Polar White     |MALBK512LMM059916|27       |Concerts, Dancing, Fashion, Fitness & Wellness, Food, Gadget, Gifting, Movies, Music, News, Nightlife, Online Courses, Painting, Pets, Photography, Reading, Shopping, Singing, Social, Sports & Outdoors, Travel, Weekend Getaway|   |i20 Asta        |2021-11-27 04:27:13.200|c1e84406997c6405c003e846f6e3bf3100697afde1c88ffef5c61c51793d2919|\n",
      "|357769 |6000023200|1    |Khukumoni sinha      |NULL  |1900-01-01 00:00:00.000|NULL|Karimganj        |4626|788710    |NULL      |New        |BEF2064819|2021-02-05 13:14:28.100|2021-02-05 13:14:28.100|1          | Form Id updated on 20 Apr at 4:42PM:#247485|                     |Petrol  |Manual          |1900-01-01 00:00:00.000|1900-01-01 00:00:00.000|Self               |                                 |Starry Night    |MALBK512LMM041897|27       |Gadget                                                                                                                                                                                                                            |   |New i20         |2021-11-27 04:27:13.200|a12dc825efded3179d290411a3a9639fedac885fda59f8a936853c025da52eba|\n",
      "|828207 |6000024986|1    |Prasanta buragohain  |NULL  |1900-01-01 00:00:00.000|NULL|Panbazar         |4612|781001    |NULL      |New        |CBB8710661|2021-05-26 09:52:31.673|2021-05-26 09:52:31.673|1          |NULL                                        |                     |Petrol  |Manual          |2021-05-21 00:00:00.000|1900-01-01 00:00:00.000|Self               |Creta 1.5 MPi MT SX              |Titan Grey      |MALPC812LMM172725|27       |                                                                                                                                                                                                                                  |   |                |2021-11-27 04:27:13.200|50e8ec7141b7e77c89a351d0440203a9055acbc9f17768a344b76175efd362f2|\n",
      "|961943 |6000031213|2    |Niru prabha das      |NULL  |1900-01-01 00:00:00.000|NULL|Rangachakua      |7422|784182    |NULL      |New        |ADC5651730|2021-07-05 11:44:03.930|2021-07-05 11:44:03.930|1          |NULL                                        |AS12Z6922            |Petrol  |Manual          |2020-07-13 00:00:00.000|1900-01-01 00:00:00.000|Self               |AURA 1.2MT kappa SX[O]           |Typhoon Silver  |MALB541CLLM022556|27       |                                                                                                                                                                                                                                  |   |Aura            |2021-11-27 04:27:13.200|0ab99bc612801082c5fa6ee7081b83c23615ccdef15f7d1b130ed8bacaccd385|\n",
      "|208015 |6000031345|1    |Lal chan             |NULL  |1900-01-01 00:00:00.000|NULL|Silguri          |4559|784114    |NULL      |New        |EFE3735551|2020-12-25 16:01:04.203|2020-12-25 16:01:04.203|1          | Form Id updated on 20 Apr at 4:42PM:#247485|AF                   |Petrol  |Manual          |2020-12-25 00:00:00.000|1900-01-01 00:00:00.000|Self               |                                 |AQUA TEAL       |MALB351CLLM124677|27       |                                                                                                                                                                                                                                  |   |Nios            |2021-11-27 04:27:13.200|c88cfd2ec84a99236c2320ad6ee6e965094a94d8167853dfda9bd6aab3ee2e91|\n",
      "|775345 |6000032362|1    |Bhaskar sonowal      |NULL  |1900-01-01 00:00:00.000|NULL|Balipara gojpuria|4613|786610    |NULL      |New        |AAD7434928|2021-04-23 17:14:29.363|2021-04-23 17:14:29.363|1          |NULL                                        |NEW                  |Petrol  |Manual          |2021-04-23 00:00:00.000|1900-01-01 00:00:00.000|Self               |                                 |AQUA TEAL       |MALB251CLMM151789|27       |                                                                                                                                                                                                                                  |   |NIOS            |2021-11-27 04:27:13.200|0d5a0b17419b47873079dc055ca2169cf89a747756c3a5f5ec0a2ed7b55429ff|\n",
      "|675356 |6000034487|1    |Sumit kr deb         |NULL  |1900-01-01 00:00:00.000|NULL|Guwahati         |4612|781006    |NULL      |New        |CAE8770513|2021-03-31 16:10:37.693|2021-03-31 16:10:37.693|1          | Form Id updated on 20 Apr at 4:42PM:#247485|AS01AU3470           |Petrol  |Manual          |2011-05-13 00:00:00.000|1900-01-01 00:00:00.000|Self               |                                 |CRYSTAL WHITE   |MALAA51HLBM668806|27       |                                                                                                                                                                                                                                  |   |Santro          |2021-11-27 04:27:13.200|7bb782e0e0a6c4069ebd30224a5fd828d04a50bc9f5673701adf45fb491f85cc|\n",
      "|457868 |6000035928|1    |Madan nath           |NULL  |1900-01-01 00:00:00.000|NULL|Agia             |4619|783120    |NULL      |New        |FEE1871762|2021-02-23 12:50:15.573|2021-02-23 12:50:15.573|1          | Form Id updated on 20 Apr at 4:42PM:#247485|                     |Petrol  |Manual          |1900-01-01 00:00:00.000|1900-01-01 00:00:00.000|Self               |                                 |Polar White     |MALB351CLLM128732|27       |Concerts, Dancing, Fashion, Fitness & Wellness, Food, Gadget, Gifting, Movies, Music, News, Nightlife, Online Courses, Painting, Pets, Photography, Reading, Shopping, Singing, Social, Sports & Outdoors, Travel, Weekend Getaway|   |Nios            |2021-11-27 04:27:13.200|a0747c3f45c49f51e5e56e0c2693cccd7016a7f0b7d5ea7ad175574f226ec0d7|\n",
      "|388866 |6000036439|1    |Taseen               |NULL  |1900-01-01 00:00:00.000|NULL|Lala             |4398|788801    |NULL      |New        |AFE6489593|2021-02-11 17:44:16.263|2021-02-11 17:44:16.263|1          | Form Id updated on 20 Apr at 4:42PM:#247485|AS11L2681            |Petrol  |Manual          |2016-07-22 00:00:00.000|1900-01-01 00:00:00.000|Self               |                                 |Sleek Silver    |MALA351BLGM451116|27       |                                                                                                                                                                                                                                  |   |Eon             |2021-11-27 04:27:13.200|5eef1fa3440bbd3902b92aa26500c22a8fa03c8e5128324c1e662bbec540482f|\n",
      "|1153929|6000036618|4    |Anjumoni deka        |NULL  |1900-01-01 00:00:00.000|NULL|Ghy              |4612|781028    |NULL      |New        |BEC8620589|2021-08-17 13:24:50.977|2021-08-17 13:24:50.977|1          |NULL                                        |AS01DM6165           |Petrol  |Manual          |2017-11-17 00:00:00.000|1900-01-01 00:00:00.000|Self               |Grand i10 Sportz[O] 1.2          |Sleek Silver    |Mala851clhm734966|27       |                                                                                                                                                                                                                                  |   |I10             |2021-11-27 04:27:13.200|8c9e3c3b6f8de696e6fa321858c68d4ac34dec719df9b80b2c2f572f5867ab40|\n",
      "|107938 |6000036705|1    |Nitya teron          |NULL  |1900-01-01 00:00:00.000|NULL|Diphu            |4514|782481    |NULL      |New        |EFE9478000|2020-10-29 16:06:10.513|2020-10-29 16:06:10.513|1          | Form Id updated on 20 Apr at 4:42PM:#247485|NEW                  |Petrol  |Manual          |2020-10-29 00:00:00.000|1900-01-01 00:00:00.000|                   |                                 |Polar White     |MALPB812LLM055937|27       |                                                                                                                                                                                                                                  |   |Creta S         |2021-11-27 04:27:13.200|d95dda6225b08a2b7db8172e7fd17233b0908cebc4fdf77bd30c0446b627493e|\n",
      "|532046 |6000039085|1    |Bornali deori        |NULL  |1900-01-01 00:00:00.000|NULL|Guwahati         |4612|781006    |NULL      |New        |BFA6470603|2021-03-05 14:40:40.817|2021-03-05 14:40:40.817|1          | Form Id updated on 20 Apr at 4:42PM:#247485|AS01EJ7493           |Petrol  |Manual          |2020-03-02 00:00:00.000|1900-01-01 00:00:00.000|Self               |                                 |AQUA TEAL       |MALB351CLLM053504|27       |                                                                                                                                                                                                                                  |   |Grandi10        |2021-11-27 04:27:13.200|842eb9708ddc7025518c5dc757eeda863090c6b5fe397af53c4fc2e13b97bc84|\n",
      "|1286764|6000041906|1    |Tapan ch kalita      |NULL  |1900-01-01 00:00:00.000|NULL|Ghy              |4605|781003    |NULL      |New        |FBB8054994|2021-09-16 12:08:24.453|2021-09-16 12:08:24.453|1          |NULL                                        |AS01EE8340           |Petrol  |Manual          |2019-09-19 00:00:00.000|1900-01-01 00:00:00.000|Self               |Santro 1.1MT Sportz              |Star Dust       |MALAF51CLKM079745|27       |Gadget, Gifting                                                                                                                                                                                                                   |   |SANTRO          |2021-11-27 04:27:13.200|1a45b4e4aff747b442818df6225fd814e327c37200ad4a26bce36a361253068d|\n",
      "|382471 |6000047445|1    |Bipul                |NULL  |1900-01-01 00:00:00.000|NULL|Sivasagar        |4451|785640    |NULL      |New        |BFF9015982|2021-02-10 16:16:45.470|2021-02-10 16:16:45.470|1          | Form Id updated on 20 Apr at 4:42PM:#247485|                     |Petrol  |Manual          |1900-01-01 00:00:00.000|1900-01-01 00:00:00.000|Self               |                                 |Alpha Blue      |MALB351CLLM057330|27       |Concerts                                                                                                                                                                                                                          |   |NIOS            |2021-11-27 04:27:13.200|495ba03d2e89031dfebb9d1c100a1c63eff2aa41cf1cf217daf76ccdea7fc8c7|\n",
      "|1348370|6000048893|1    |Chakradhar bora      |NULL  |1900-01-01 00:00:00.000|NULL|Bebejia          |4444|782142    |NULL      |New        |AAC1230161|2021-09-30 12:57:39.067|2021-09-30 12:57:39.067|1          |NULL                                        |                     |Petrol  |Manual          |1900-01-01 00:00:00.000|1900-01-01 00:00:00.000|Self               |Alcazar 2.0 MT Platinum 7S       |Polar White     |MALPC815LMM803843|27       |                                                                                                                                                                                                                                  |   |Alcazar Platinum|2021-11-27 04:27:13.200|8746403449d6166af86c567b66352cac4a6b9dd345b6db716d90e4fdaef74eaf|\n",
      "|1284317|6000049994|1    |Hemakanta dutta      |NULL  |1900-01-01 00:00:00.000|NULL|Margherita       |4623|786174    |NULL      |New        |AEA2735746|2021-09-15 16:53:02.250|2021-09-15 16:53:02.250|1          |NULL                                        |                     |Petrol  |Manual          |1900-01-01 00:00:00.000|1900-01-01 00:00:00.000|Self               |VENUE 1.2 Kappa MT S+            |Polar White     |MALFC81BLMM251194|27       |                                                                                                                                                                                                                                  |   |Venue           |2021-11-27 04:27:13.200|7c1faf3dc0f41e90c6172705c4d8294b188f080b6954b9583ed3bf43118ed0e7|\n",
      "|768446 |6000050418|2    |Gorima bhuyan        |NULL  |1900-01-01 00:00:00.000|NULL|Adabari          |4612|781014    |NULL      |New        |BAE3680704|2021-04-22 11:45:23.360|2021-04-22 11:45:23.360|1          |NULL                                        |                     |Petrol  |Automatic       |2021-04-08 00:00:00.000|1900-01-01 00:00:00.000|Self               |                                 |Fiery Red+Black |Malbj512tmm063586|27       |                                                                                                                                                                                                                                  |   |I20 asta        |2021-11-27 04:27:13.200|fb669db1ecf4713f11b71347676c572b439e75f2d1af729282ba59277b8be2a6|\n",
      "|886278 |6000050521|1    |Bhabendra nath kalita|NULL  |1900-01-01 00:00:00.000|NULL|Bongaigaon       |4617|783380    |NULL      |New        |FCB3404448|2021-06-17 09:57:07.227|2021-06-17 09:57:07.227|1          |NULL                                        |AS19M7595            |Petrol  |Manual          |2019-04-26 00:00:00.000|1900-01-01 00:00:00.000|Self               |Grand i10 Magna 1.2              |Star Dust       |Mala851clkm969985|27       |                                                                                                                                                                                                                                  |   |I10             |2021-11-27 04:27:13.200|286fe009f6a4bd16cc249b87a0559e9d7cfd805ec18cfd20406dd3ad8cf33023|\n",
      "+-------+----------+-----+---------------------+------+-----------------------+----+-----------------+----+----------+----------+-----------+----------+-----------------------+-----------------------+-----------+--------------------------------------------+---------------------+--------+----------------+-----------------------+-----------------------+-------------------+---------------------------------+----------------+-----------------+---------+----------------------------------------------------------------------------------------------------------------------------------------------------------------------------------------------------------------------------------+---+----------------+-----------------------+----------------------------------------------------------------+\n",
      "only showing top 20 rows\n",
      "\n"
     ]
    }
   ],
   "source": [
    "dt_hive_hist.withColumn('row_sha', sha2(concat_ws(\"||\", *non_key_cols), 256)).show(truncate=False)"
   ]
  },
  {
   "cell_type": "code",
   "execution_count": 12,
   "metadata": {},
   "outputs": [],
   "source": [
    "dt_hive = dt_hive_hist.withColumn('row_sha', sha2(concat_ws(\"||\", *non_key_cols), 256))"
   ]
  },
  {
   "cell_type": "code",
   "execution_count": 13,
   "metadata": {},
   "outputs": [
    {
     "name": "stdout",
     "output_type": "stream",
     "text": [
      "['id', 'mobileno', 'title', 'firstname', 'gender', 'dob', 'doa', 'street', 'city', 'postalcode', 'occupation', 'member_type', 'member_id', 'created_on', 'upload_on', 'status_flag', 'support_remarks', 'vinregistrationnumber', 'fueltype', 'transmissiontype', 'vindeliverydate', 'lastrodate', 'vinservicemodelcode', 'vinvariantname', 'vinexteriorcolor', 'vinnumber', 'statename', 'interest', 'tnc', 'vinname', 'if_crte_dt', 'row_sha']\n"
     ]
    }
   ],
   "source": [
    "print(dt_hive.columns)"
   ]
  },
  {
   "cell_type": "code",
   "execution_count": 14,
   "metadata": {},
   "outputs": [
    {
     "name": "stdout",
     "output_type": "stream",
     "text": [
      "+-------+----------+-----+--------------------+------+--------------------+----+---------+----+----------+----------+-----------+----------+--------------------+--------------------+-----------+--------------------+---------------------+--------+----------------+--------------------+--------------------+-------------------+--------------------+----------------+-----------------+---------+--------------------+---+-------+--------------------+--------------------+\n",
      "|     id|  mobileno|title|           firstname|gender|                 dob| doa|   street|city|postalcode|occupation|member_type| member_id|          created_on|           upload_on|status_flag|     support_remarks|vinregistrationnumber|fueltype|transmissiontype|     vindeliverydate|          lastrodate|vinservicemodelcode|      vinvariantname|vinexteriorcolor|        vinnumber|statename|            interest|tnc|vinname|          if_crte_dt|             row_sha|\n",
      "+-------+----------+-----+--------------------+------+--------------------+----+---------+----+----------+----------+-----------+----------+--------------------+--------------------+-----------+--------------------+---------------------+--------+----------------+--------------------+--------------------+-------------------+--------------------+----------------+-----------------+---------+--------------------+---+-------+--------------------+--------------------+\n",
      "|1451109|6000016146|    1|Mohini mohan ghat...|  NULL|1900-01-01 00:00:...|NULL|Borbaruah|4613|    786001|      NULL|        New|BCE8540557|2021-10-26 09:51:...|2021-10-26 09:51:...|          1|                NULL|           AS06AD4220|  Petrol|          Manual|2021-01-28 00:00:...|1900-01-01 00:00:...|               Self|Grand i10 NIOS 1....|       AQUA TEAL|Malb351clmm150516|       27|                    |   |   Nios|2021-11-27 04:27:...|5b0f48452d868bb80...|\n",
      "| 216692|6000020344|    2|       Shahida begum|  NULL|1900-01-01 00:00:...|NULL| Hatigaon|4612|    781038|      NULL|        New|CEC5298166|2020-12-29 18:44:...|2020-12-29 18:44:...|          1| Form Id updated ...|                     |  Petrol|          Manual|2020-12-09 00:00:...|1900-01-01 00:00:...|               Self|                    |     Polar White|MALBG512LLM026296|       27|Concerts, Dancing...|   |    I20|2021-11-27 04:27:...|5a5a677d837e88738...|\n",
      "+-------+----------+-----+--------------------+------+--------------------+----+---------+----+----------+----------+-----------+----------+--------------------+--------------------+-----------+--------------------+---------------------+--------+----------------+--------------------+--------------------+-------------------+--------------------+----------------+-----------------+---------+--------------------+---+-------+--------------------+--------------------+\n",
      "only showing top 2 rows\n",
      "\n"
     ]
    }
   ],
   "source": [
    "dt_hive.show(2)"
   ]
  },
  {
   "cell_type": "code",
   "execution_count": 15,
   "metadata": {},
   "outputs": [
    {
     "ename": "AnalysisException",
     "evalue": "'path hdfs://nameservice1/user/hive/warehouse/hmm.db/loyal_user/loyal_user.txt already exists.;'",
     "output_type": "error",
     "traceback": [
      "\u001b[0;31m---------------------------------------------------------------------------\u001b[0m",
      "\u001b[0;31mPy4JJavaError\u001b[0m                             Traceback (most recent call last)",
      "\u001b[0;32m/usr/hdp/current/spark2-client/python/pyspark/sql/utils.py\u001b[0m in \u001b[0;36mdeco\u001b[0;34m(*a, **kw)\u001b[0m\n\u001b[1;32m     62\u001b[0m         \u001b[0;32mtry\u001b[0m\u001b[0;34m:\u001b[0m\u001b[0;34m\u001b[0m\u001b[0;34m\u001b[0m\u001b[0m\n\u001b[0;32m---> 63\u001b[0;31m             \u001b[0;32mreturn\u001b[0m \u001b[0mf\u001b[0m\u001b[0;34m(\u001b[0m\u001b[0;34m*\u001b[0m\u001b[0ma\u001b[0m\u001b[0;34m,\u001b[0m \u001b[0;34m**\u001b[0m\u001b[0mkw\u001b[0m\u001b[0;34m)\u001b[0m\u001b[0;34m\u001b[0m\u001b[0;34m\u001b[0m\u001b[0m\n\u001b[0m\u001b[1;32m     64\u001b[0m         \u001b[0;32mexcept\u001b[0m \u001b[0mpy4j\u001b[0m\u001b[0;34m.\u001b[0m\u001b[0mprotocol\u001b[0m\u001b[0;34m.\u001b[0m\u001b[0mPy4JJavaError\u001b[0m \u001b[0;32mas\u001b[0m \u001b[0me\u001b[0m\u001b[0;34m:\u001b[0m\u001b[0;34m\u001b[0m\u001b[0;34m\u001b[0m\u001b[0m\n",
      "\u001b[0;32m/usr/hdp/current/spark2-client/python/lib/py4j-0.10.7-src.zip/py4j/protocol.py\u001b[0m in \u001b[0;36mget_return_value\u001b[0;34m(answer, gateway_client, target_id, name)\u001b[0m\n\u001b[1;32m    327\u001b[0m                     \u001b[0;34m\"An error occurred while calling {0}{1}{2}.\\n\"\u001b[0m\u001b[0;34m.\u001b[0m\u001b[0;34m\u001b[0m\u001b[0;34m\u001b[0m\u001b[0m\n\u001b[0;32m--> 328\u001b[0;31m                     format(target_id, \".\", name), value)\n\u001b[0m\u001b[1;32m    329\u001b[0m             \u001b[0;32melse\u001b[0m\u001b[0;34m:\u001b[0m\u001b[0;34m\u001b[0m\u001b[0;34m\u001b[0m\u001b[0m\n",
      "\u001b[0;31mPy4JJavaError\u001b[0m: An error occurred while calling o162.save.\n: org.apache.spark.sql.AnalysisException: path hdfs://nameservice1/user/hive/warehouse/hmm.db/loyal_user/loyal_user.txt already exists.;\n\tat org.apache.spark.sql.execution.datasources.InsertIntoHadoopFsRelationCommand.run(InsertIntoHadoopFsRelationCommand.scala:109)\n\tat org.apache.spark.sql.execution.command.DataWritingCommandExec.sideEffectResult$lzycompute(commands.scala:104)\n\tat org.apache.spark.sql.execution.command.DataWritingCommandExec.sideEffectResult(commands.scala:102)\n\tat org.apache.spark.sql.execution.command.DataWritingCommandExec.doExecute(commands.scala:122)\n\tat org.apache.spark.sql.execution.SparkPlan$$anonfun$execute$1.apply(SparkPlan.scala:131)\n\tat org.apache.spark.sql.execution.SparkPlan$$anonfun$execute$1.apply(SparkPlan.scala:127)\n\tat org.apache.spark.sql.execution.SparkPlan$$anonfun$executeQuery$1.apply(SparkPlan.scala:155)\n\tat org.apache.spark.rdd.RDDOperationScope$.withScope(RDDOperationScope.scala:151)\n\tat org.apache.spark.sql.execution.SparkPlan.executeQuery(SparkPlan.scala:152)\n\tat org.apache.spark.sql.execution.SparkPlan.execute(SparkPlan.scala:127)\n\tat org.apache.spark.sql.execution.QueryExecution.toRdd$lzycompute(QueryExecution.scala:80)\n\tat org.apache.spark.sql.execution.QueryExecution.toRdd(QueryExecution.scala:80)\n\tat org.apache.spark.sql.DataFrameWriter$$anonfun$runCommand$1.apply(DataFrameWriter.scala:656)\n\tat org.apache.spark.sql.DataFrameWriter$$anonfun$runCommand$1.apply(DataFrameWriter.scala:656)\n\tat org.apache.spark.sql.execution.SQLExecution$.withNewExecutionId(SQLExecution.scala:77)\n\tat org.apache.spark.sql.DataFrameWriter.runCommand(DataFrameWriter.scala:656)\n\tat org.apache.spark.sql.DataFrameWriter.saveToV1Source(DataFrameWriter.scala:273)\n\tat org.apache.spark.sql.DataFrameWriter.save(DataFrameWriter.scala:267)\n\tat org.apache.spark.sql.DataFrameWriter.save(DataFrameWriter.scala:225)\n\tat sun.reflect.NativeMethodAccessorImpl.invoke0(Native Method)\n\tat sun.reflect.NativeMethodAccessorImpl.invoke(NativeMethodAccessorImpl.java:62)\n\tat sun.reflect.DelegatingMethodAccessorImpl.invoke(DelegatingMethodAccessorImpl.java:43)\n\tat java.lang.reflect.Method.invoke(Method.java:498)\n\tat py4j.reflection.MethodInvoker.invoke(MethodInvoker.java:244)\n\tat py4j.reflection.ReflectionEngine.invoke(ReflectionEngine.java:357)\n\tat py4j.Gateway.invoke(Gateway.java:282)\n\tat py4j.commands.AbstractCommand.invokeMethod(AbstractCommand.java:132)\n\tat py4j.commands.CallCommand.execute(CallCommand.java:79)\n\tat py4j.GatewayConnection.run(GatewayConnection.java:238)\n\tat java.lang.Thread.run(Thread.java:748)\n",
      "\nDuring handling of the above exception, another exception occurred:\n",
      "\u001b[0;31mAnalysisException\u001b[0m                         Traceback (most recent call last)",
      "\u001b[0;32m<ipython-input-15-a7052cb5d3e4>\u001b[0m in \u001b[0;36m<module>\u001b[0;34m\u001b[0m\n\u001b[0;32m----> 1\u001b[0;31m \u001b[0mdt_hive\u001b[0m\u001b[0;34m.\u001b[0m\u001b[0mwrite\u001b[0m\u001b[0;34m.\u001b[0m\u001b[0mformat\u001b[0m\u001b[0;34m(\u001b[0m\u001b[0;34m'csv'\u001b[0m\u001b[0;34m)\u001b[0m\u001b[0;34m.\u001b[0m\u001b[0msave\u001b[0m\u001b[0;34m(\u001b[0m\u001b[0;34m'/user/hive/warehouse/hmm.db/loyal_user/loyal_user.txt'\u001b[0m\u001b[0;34m)\u001b[0m\u001b[0;34m\u001b[0m\u001b[0;34m\u001b[0m\u001b[0m\n\u001b[0m",
      "\u001b[0;32m/usr/hdp/current/spark2-client/python/pyspark/sql/readwriter.py\u001b[0m in \u001b[0;36msave\u001b[0;34m(self, path, format, mode, partitionBy, **options)\u001b[0m\n\u001b[1;32m    703\u001b[0m             \u001b[0mself\u001b[0m\u001b[0;34m.\u001b[0m\u001b[0m_jwrite\u001b[0m\u001b[0;34m.\u001b[0m\u001b[0msave\u001b[0m\u001b[0;34m(\u001b[0m\u001b[0;34m)\u001b[0m\u001b[0;34m\u001b[0m\u001b[0;34m\u001b[0m\u001b[0m\n\u001b[1;32m    704\u001b[0m         \u001b[0;32melse\u001b[0m\u001b[0;34m:\u001b[0m\u001b[0;34m\u001b[0m\u001b[0;34m\u001b[0m\u001b[0m\n\u001b[0;32m--> 705\u001b[0;31m             \u001b[0mself\u001b[0m\u001b[0;34m.\u001b[0m\u001b[0m_jwrite\u001b[0m\u001b[0;34m.\u001b[0m\u001b[0msave\u001b[0m\u001b[0;34m(\u001b[0m\u001b[0mpath\u001b[0m\u001b[0;34m)\u001b[0m\u001b[0;34m\u001b[0m\u001b[0;34m\u001b[0m\u001b[0m\n\u001b[0m\u001b[1;32m    706\u001b[0m \u001b[0;34m\u001b[0m\u001b[0m\n\u001b[1;32m    707\u001b[0m     \u001b[0;34m@\u001b[0m\u001b[0msince\u001b[0m\u001b[0;34m(\u001b[0m\u001b[0;36m1.4\u001b[0m\u001b[0;34m)\u001b[0m\u001b[0;34m\u001b[0m\u001b[0;34m\u001b[0m\u001b[0m\n",
      "\u001b[0;32m/usr/hdp/current/spark2-client/python/lib/py4j-0.10.7-src.zip/py4j/java_gateway.py\u001b[0m in \u001b[0;36m__call__\u001b[0;34m(self, *args)\u001b[0m\n\u001b[1;32m   1255\u001b[0m         \u001b[0manswer\u001b[0m \u001b[0;34m=\u001b[0m \u001b[0mself\u001b[0m\u001b[0;34m.\u001b[0m\u001b[0mgateway_client\u001b[0m\u001b[0;34m.\u001b[0m\u001b[0msend_command\u001b[0m\u001b[0;34m(\u001b[0m\u001b[0mcommand\u001b[0m\u001b[0;34m)\u001b[0m\u001b[0;34m\u001b[0m\u001b[0;34m\u001b[0m\u001b[0m\n\u001b[1;32m   1256\u001b[0m         return_value = get_return_value(\n\u001b[0;32m-> 1257\u001b[0;31m             answer, self.gateway_client, self.target_id, self.name)\n\u001b[0m\u001b[1;32m   1258\u001b[0m \u001b[0;34m\u001b[0m\u001b[0m\n\u001b[1;32m   1259\u001b[0m         \u001b[0;32mfor\u001b[0m \u001b[0mtemp_arg\u001b[0m \u001b[0;32min\u001b[0m \u001b[0mtemp_args\u001b[0m\u001b[0;34m:\u001b[0m\u001b[0;34m\u001b[0m\u001b[0;34m\u001b[0m\u001b[0m\n",
      "\u001b[0;32m/usr/hdp/current/spark2-client/python/pyspark/sql/utils.py\u001b[0m in \u001b[0;36mdeco\u001b[0;34m(*a, **kw)\u001b[0m\n\u001b[1;32m     67\u001b[0m                                              e.java_exception.getStackTrace()))\n\u001b[1;32m     68\u001b[0m             \u001b[0;32mif\u001b[0m \u001b[0ms\u001b[0m\u001b[0;34m.\u001b[0m\u001b[0mstartswith\u001b[0m\u001b[0;34m(\u001b[0m\u001b[0;34m'org.apache.spark.sql.AnalysisException: '\u001b[0m\u001b[0;34m)\u001b[0m\u001b[0;34m:\u001b[0m\u001b[0;34m\u001b[0m\u001b[0;34m\u001b[0m\u001b[0m\n\u001b[0;32m---> 69\u001b[0;31m                 \u001b[0;32mraise\u001b[0m \u001b[0mAnalysisException\u001b[0m\u001b[0;34m(\u001b[0m\u001b[0ms\u001b[0m\u001b[0;34m.\u001b[0m\u001b[0msplit\u001b[0m\u001b[0;34m(\u001b[0m\u001b[0;34m': '\u001b[0m\u001b[0;34m,\u001b[0m \u001b[0;36m1\u001b[0m\u001b[0;34m)\u001b[0m\u001b[0;34m[\u001b[0m\u001b[0;36m1\u001b[0m\u001b[0;34m]\u001b[0m\u001b[0;34m,\u001b[0m \u001b[0mstackTrace\u001b[0m\u001b[0;34m)\u001b[0m\u001b[0;34m\u001b[0m\u001b[0;34m\u001b[0m\u001b[0m\n\u001b[0m\u001b[1;32m     70\u001b[0m             \u001b[0;32mif\u001b[0m \u001b[0ms\u001b[0m\u001b[0;34m.\u001b[0m\u001b[0mstartswith\u001b[0m\u001b[0;34m(\u001b[0m\u001b[0;34m'org.apache.spark.sql.catalyst.analysis'\u001b[0m\u001b[0;34m)\u001b[0m\u001b[0;34m:\u001b[0m\u001b[0;34m\u001b[0m\u001b[0;34m\u001b[0m\u001b[0m\n\u001b[1;32m     71\u001b[0m                 \u001b[0;32mraise\u001b[0m \u001b[0mAnalysisException\u001b[0m\u001b[0;34m(\u001b[0m\u001b[0ms\u001b[0m\u001b[0;34m.\u001b[0m\u001b[0msplit\u001b[0m\u001b[0;34m(\u001b[0m\u001b[0;34m': '\u001b[0m\u001b[0;34m,\u001b[0m \u001b[0;36m1\u001b[0m\u001b[0;34m)\u001b[0m\u001b[0;34m[\u001b[0m\u001b[0;36m1\u001b[0m\u001b[0;34m]\u001b[0m\u001b[0;34m,\u001b[0m \u001b[0mstackTrace\u001b[0m\u001b[0;34m)\u001b[0m\u001b[0;34m\u001b[0m\u001b[0;34m\u001b[0m\u001b[0m\n",
      "\u001b[0;31mAnalysisException\u001b[0m: 'path hdfs://nameservice1/user/hive/warehouse/hmm.db/loyal_user/loyal_user.txt already exists.;'"
     ]
    }
   ],
   "source": [
    "## ALready written to HDFS , table updated\n",
    "#dt_hive.write.format('csv').save('/user/hive/warehouse/hmm.db/loyal_user/loyal_user.txt')"
   ]
  },
  {
   "cell_type": "code",
   "execution_count": 16,
   "metadata": {},
   "outputs": [],
   "source": [
    "## Read incremental data from file\n",
    "inc_df = spark.read.csv('/user/arastogi/loyaluser_IS_1209.txt',header='True')"
   ]
  },
  {
   "cell_type": "code",
   "execution_count": 17,
   "metadata": {},
   "outputs": [
    {
     "name": "stdout",
     "output_type": "stream",
     "text": [
      "+-------+----------+-----+-----------------+------+--------------------+----+----------+----+----------+----------+-----------+----------+--------------------+--------------------+-----------+---------------+---------------------+--------+----------------+--------------------+--------------------+-------------------+--------------------+----------------+-----------------+---------+--------------------+----+-------+--------------------+\n",
      "|     id|  mobileno|title|        firstname|gender|                 dob| doa|    street|city|postalcode|occupation|member_type| member_id|          created_on|           upload_on|status_flag|support_remarks|vinregistrationnumber|fueltype|transmissiontype|     vindeliverydate|          lastrodate|vinservicemodelcode|      vinvariantname|vinexteriorcolor|        vinnumber|statename|            interest| tnc|vinname|          if_crte_dt|\n",
      "+-------+----------+-----+-----------------+------+--------------------+----+----------+----+----------+----------+-----------+----------+--------------------+--------------------+-----------+---------------+---------------------+--------+----------------+--------------------+--------------------+-------------------+--------------------+----------------+-----------------+---------+--------------------+----+-------+--------------------+\n",
      "|1563953|6000019946|    2|Rekha rani kalita|  NULL|1900-01-01 00:00:...|NULL|  Guwahati|4612|    781020|      NULL|        New|ACA5710288|2021-11-25 17:43:...|2021-11-25 17:43:...|          1|           NULL|                 null|  Petrol|          Manual|1900-01-01 00:00:...|1900-01-01 00:00:...|               Self| Santro 1.1MT Sportz|      Titan Grey|MALAF51CLMM169059|       27|Concerts, Dancing...|null| Santro|2021-12-09 09:10:...|\n",
      "|1563947|6000120785|    1|   Pranjal saikia|  NULL|1900-01-01 00:00:...|NULL|HATIEKHOWA|4453|    785621|      NULL|        New|CCE6314368|2021-11-25 17:42:...|2021-11-25 17:42:...|          1|           NULL|                   AF|  Petrol|          Manual|2021-11-25 00:00:...|1900-01-01 00:00:...|               Self|VENUE 1.2 Kappa M...|     Polar White|MALFC81BLMM272123|       27|                null|null|  venue|2021-12-09 09:10:...|\n",
      "+-------+----------+-----+-----------------+------+--------------------+----+----------+----+----------+----------+-----------+----------+--------------------+--------------------+-----------+---------------+---------------------+--------+----------------+--------------------+--------------------+-------------------+--------------------+----------------+-----------------+---------+--------------------+----+-------+--------------------+\n",
      "only showing top 2 rows\n",
      "\n"
     ]
    }
   ],
   "source": [
    "inc_df.show(2)"
   ]
  },
  {
   "cell_type": "code",
   "execution_count": null,
   "metadata": {},
   "outputs": [],
   "source": [
    "#inc_df = inc_df[dt_hive.columns]"
   ]
  },
  {
   "cell_type": "code",
   "execution_count": 18,
   "metadata": {},
   "outputs": [
    {
     "name": "stdout",
     "output_type": "stream",
     "text": [
      "['id', 'mobileno', 'title', 'firstname', 'gender', 'dob', 'doa', 'street', 'city', 'postalcode', 'occupation', 'member_type', 'member_id', 'created_on', 'upload_on', 'status_flag', 'support_remarks', 'vinregistrationnumber', 'fueltype', 'transmissiontype', 'vindeliverydate', 'lastrodate', 'vinservicemodelcode', 'vinvariantname', 'vinexteriorcolor', 'vinnumber', 'statename', 'interest', 'tnc', 'vinname', 'if_crte_dt']\n"
     ]
    }
   ],
   "source": [
    "print(inc_df.columns)"
   ]
  },
  {
   "cell_type": "code",
   "execution_count": 19,
   "metadata": {},
   "outputs": [
    {
     "name": "stdout",
     "output_type": "stream",
     "text": [
      "['id', 'mobileno', 'title', 'firstname', 'gender', 'dob', 'doa', 'street', 'city', 'postalcode', 'occupation', 'member_type', 'member_id', 'created_on', 'upload_on', 'status_flag', 'support_remarks', 'vinregistrationnumber', 'fueltype', 'transmissiontype', 'vindeliverydate', 'lastrodate', 'vinservicemodelcode', 'vinvariantname', 'vinexteriorcolor', 'vinnumber', 'statename', 'interest', 'tnc', 'vinname', 'if_crte_dt', 'row_sha']\n"
     ]
    }
   ],
   "source": [
    "print(dt_hive.columns)"
   ]
  },
  {
   "cell_type": "code",
   "execution_count": 20,
   "metadata": {},
   "outputs": [
    {
     "data": {
      "text/plain": [
       "['mobileno',\n",
       " 'title',\n",
       " 'firstname',\n",
       " 'gender',\n",
       " 'dob',\n",
       " 'doa',\n",
       " 'street',\n",
       " 'city',\n",
       " 'postalcode',\n",
       " 'occupation',\n",
       " 'member_type',\n",
       " 'member_id',\n",
       " 'created_on',\n",
       " 'upload_on',\n",
       " 'status_flag',\n",
       " 'support_remarks',\n",
       " 'vinregistrationnumber',\n",
       " 'fueltype',\n",
       " 'transmissiontype',\n",
       " 'vindeliverydate',\n",
       " 'lastrodate',\n",
       " 'vinservicemodelcode',\n",
       " 'vinvariantname',\n",
       " 'vinexteriorcolor',\n",
       " 'vinnumber',\n",
       " 'statename',\n",
       " 'interest',\n",
       " 'tnc',\n",
       " 'vinname',\n",
       " 'if_crte_dt']"
      ]
     },
     "execution_count": 20,
     "metadata": {},
     "output_type": "execute_result"
    }
   ],
   "source": [
    "non_key_cols"
   ]
  },
  {
   "cell_type": "code",
   "execution_count": 21,
   "metadata": {},
   "outputs": [
    {
     "name": "stdout",
     "output_type": "stream",
     "text": [
      "+-------+----------+-----+-----------------+------+-----------------------+----+--------------------------------------------+----+----------+----------+-----------+----------+-----------------------+-----------------------+-----------+---------------+---------------------+--------+----------------+-----------------------+-----------------------+-------------------+-----------------------------------+-----------------+-----------------+---------+-------------------------------------------------------------------------------------------------------------------------------------------------------------------------------------------------------------------+----+-------------------+-----------------------+----------------------------------------------------------------+\n",
      "|id     |mobileno  |title|firstname        |gender|dob                    |doa |street                                      |city|postalcode|occupation|member_type|member_id |created_on             |upload_on              |status_flag|support_remarks|vinregistrationnumber|fueltype|transmissiontype|vindeliverydate        |lastrodate             |vinservicemodelcode|vinvariantname                     |vinexteriorcolor |vinnumber        |statename|interest                                                                                                                                                                                                           |tnc |vinname            |if_crte_dt             |row_sha                                                         |\n",
      "+-------+----------+-----+-----------------+------+-----------------------+----+--------------------------------------------+----+----------+----------+-----------+----------+-----------------------+-----------------------+-----------+---------------+---------------------+--------+----------------+-----------------------+-----------------------+-------------------+-----------------------------------+-----------------+-----------------+---------+-------------------------------------------------------------------------------------------------------------------------------------------------------------------------------------------------------------------+----+-------------------+-----------------------+----------------------------------------------------------------+\n",
      "|1563953|6000019946|2    |Rekha rani kalita|NULL  |1900-01-01 00:00:00.000|NULL|Guwahati                                    |4612|781020    |NULL      |New        |ACA5710288|2021-11-25 17:43:08.960|2021-11-25 17:43:08.960|1          |NULL           |null                 |Petrol  |Manual          |1900-01-01 00:00:00.000|1900-01-01 00:00:00.000|Self               |Santro 1.1MT Sportz                |Titan Grey       |MALAF51CLMM169059|27       |Concerts, Dancing, Fitness & Wellness, Food, Gadget, Gifting, Movies, Music, News, Nightlife, Online Courses, Painting, Photography, Reading, Shopping, Singing, Social, Sports & Outdoors, Travel, Weekend Getaway|null|Santro             |2021-12-09 09:10:05.430|34ea680cf9cd9840c1b973f65a303d9e4a0b2bfac09cc189881aed685e366b28|\n",
      "|1563947|6000120785|1    |Pranjal saikia   |NULL  |1900-01-01 00:00:00.000|NULL|HATIEKHOWA                                  |4453|785621    |NULL      |New        |CCE6314368|2021-11-25 17:42:49.013|2021-11-25 17:42:49.013|1          |NULL           |AF                   |Petrol  |Manual          |2021-11-25 00:00:00.000|1900-01-01 00:00:00.000|Self               |VENUE 1.2 Kappa MT S+              |Polar White      |MALFC81BLMM272123|27       |null                                                                                                                                                                                                               |null|venue              |2021-12-09 09:10:05.430|8ed5fed4c2cd6c8e396e0e37ff4a18868fdf998bc26cc3c17c63dfab83616015|\n",
      "|1607574|6000149313|2    |Ranu dutta       |NULL  |1900-01-01 00:00:00.000|NULL|Bijoy nagor                                 |4396|787001    |NULL      |New        |FEE7439035|2021-12-07 14:50:14.887|2021-12-07 14:50:14.887|1          |NULL           |AS07M9179            |Petrol  |Manual          |2018-08-13 00:00:00.000|1900-01-01 00:00:00.000|Self               |i20 Active VTVT SX                 |2 Tone X5B+PSW   |Malbm51bljm567315|27       |Concerts, Dancing, Fitness & Wellness, Food, Gadget, Gifting, Movies, Music, News, Nightlife, Online Courses, Painting, Photography, Reading, Shopping, Singing, Social, Sports & Outdoors, Travel, Weekend Getaway|null|I20active          |2021-12-09 09:10:05.430|e17d61a1c06bae0c9c6ab1e8799ea1be9b8b153905fbeb77e092be35b92e1622|\n",
      "|1595355|6000171253|1    |Mahibar rahman   |NULL  |1900-01-01 00:00:00.000|NULL|Guwahati                                    |4612|781028    |NULL      |New        |ACC8944993|2021-12-03 17:30:09.067|2021-12-03 17:30:09.067|1          |NULL           |null                 |Petrol  |Manual          |1900-01-01 00:00:00.000|1900-01-01 00:00:00.000|Self               |i20 Asta[O] 1.2 Kappa MT           |Fiery Red+Black  |MALBK512LMM104493|27       |null                                                                                                                                                                                                               |null|I20                |2021-12-09 09:10:05.430|445d48efc7036f528f902c9ee0b036a1b1f58bb3b5c1deba83177617eda56cac|\n",
      "|1599591|6000214437|1    |Anuj kumar borah |NULL  |1900-01-01 00:00:00.000|NULL|Kalita Gaon                                 |7422|784001    |NULL      |New        |DAE9103505|2021-12-04 18:21:20.653|2021-12-04 18:21:20.653|1          |NULL           |null                 |Petrol  |Manual          |2021-12-03 00:00:00.000|1900-01-01 00:00:00.000|Self               |VENUE 1.0 Turbo GDI iMT SX         |Denim Blue       |MALFC81ALMM276545|27       |Food, Movies, Travel                                                                                                                                                                                               |null|Venue              |2021-12-09 09:10:05.430|5238e0af9d08891ba199e897768260fad8be9870c7563a3b0a88986fe962820f|\n",
      "|1601678|6000245133|1    |Ruston ali       |NULL  |1900-01-01 00:00:00.000|NULL|Tengakhat                                   |4613|786001    |NULL      |New        |CCD7038052|2021-12-06 10:22:00.157|2021-12-06 10:22:00.157|1          |NULL           |AS06AD9112           |Diesel  |Manual          |2021-03-05 00:00:00.000|1900-01-01 00:00:00.000|Self               |Creta 1.5 CRDi MT SX               |Polar White      |Malpc813lmm140816|27       |null                                                                                                                                                                                                               |null|Creta              |2021-12-09 09:10:05.430|f4031192955c362b87d7b3e34c5e994b41743ff70968dd516641533da0a31c65|\n",
      "|1612042|6000279292|2    |Deepamoni nath   |NULL  |1900-01-01 00:00:00.000|NULL|Vill:jhaubari po: chakihali dist: bongaigaon|4617|783392    |NULL      |New        |EAA1926007|2021-12-08 13:17:29.800|2021-12-08 13:17:29.800|1          |NULL           |null                 |Petrol  |Manual          |1900-01-01 00:00:00.000|1900-01-01 00:00:00.000|Self               |i20 Sportz 1.2 Kappa MT            |Starry Night     |MALBH512LMM108011|27       |null                                                                                                                                                                                                               |null|I20                |2021-12-09 09:10:05.430|049ff669b4f3061c0a5ad8a75fef6d2dbc119884b878d87faca718a30da450a6|\n",
      "|1574962|6000383485|2    |Geeta das        |NULL  |1900-01-01 00:00:00.000|NULL|Jorhat                                      |4614|785001    |NULL      |New        |CBA3773519|2021-11-28 16:44:16.927|2021-11-28 16:44:16.927|1          |NULL           |AS03X2430            |Petrol  |Manual          |2018-04-23 00:00:00.000|1900-01-01 00:00:00.000|Self               |Grand i10 Sportz[O] 1.2            |Polar White      |Mala851cljm785372|27       |null                                                                                                                                                                                                               |null|Grand i10          |2021-12-09 09:10:05.430|662bbb609cf5269e7ecc867b57a42df7140045a1fd6f93ce346bf27581d337a4|\n",
      "|1584964|6000393604|1    |Naba kr baruah   |NULL  |1900-01-01 00:00:00.000|NULL|Khanamukh                                   |4612|781015    |NULL      |New        |BAB3055665|2021-12-01 11:47:23.747|2021-12-01 11:47:23.747|1          |NULL           |AS01AY1107           |Petrol  |Manual          |2011-12-26 00:00:00.000|1900-01-01 00:00:00.000|Self               |MAGNA 1.2 BSIV F/L                 |Crystal White    |Malam51clbm062231|27       |Concerts, Dancing, Fitness & Wellness, Food, Gadget, Gifting                                                                                                                                                       |null|I10                |2021-12-09 09:10:05.430|66539be4102954ad7a38c97d8d230c6a99c2db5c9db98afdc1295534fb6c2ddd|\n",
      "|1569217|6000454698|2    |Rumi bhuyan      |NULL  |1900-01-01 00:00:00.000|NULL|Barbhuyan gaon                              |7422|784175    |NULL      |New        |BFA2764186|2021-11-27 09:52:47.717|2021-11-27 09:52:47.717|1          |NULL           |AS12H6245            |Petrol  |Manual          |2011-08-11 00:00:00.000|1900-01-01 00:00:00.000|Self               |GLS+Audio BSIV                     |Silky Beige      |MALAA51HLBM679731|27       |null                                                                                                                                                                                                               |null|Santro             |2021-12-09 09:10:05.430|5ddf18f49b2cf2c5899324206b9a67f3dc141fb0f9e47766dfcd39067d83687d|\n",
      "|1590253|6000496584|4    |Bharati hazarika |NULL  |1900-01-01 00:00:00.000|NULL|Kochgaon                                    |4507|784176    |NULL      |New        |CDF3368404|2021-12-02 14:39:01.083|2021-12-02 14:39:01.083|1          |NULL           |AF                   |Petrol  |Semi-automatic  |2021-11-25 00:00:00.000|1900-01-01 00:00:00.000|Self               |Santro 1.1 AMT Sportz              |Polar White      |MALAF51CYMM167104|27       |null                                                                                                                                                                                                               |null|Santro             |2021-12-09 09:10:05.430|3c7e66ded2d2ca99544b943f24d2b37c5a8e4fb38942c62ba136f2606c8610b8|\n",
      "|1567114|6000505311|1    |Phulsing das     |NULL  |1900-01-01 00:00:00.000|NULL|Morigaon                                    |4518|782105    |NULL      |New        |BAA8317810|2021-11-26 14:57:32.227|2021-11-26 14:57:32.227|1          |NULL           |AS21J7755            |Petrol  |Manual          |2020-12-03 00:00:00.000|1900-01-01 00:00:00.000|Self               |null                               |Polar White      |MALB341CLLM040484|27       |null                                                                                                                                                                                                               |null|Aura               |2021-12-09 09:10:05.430|8f0dacb4fce21730de3cb26f23206c32a1b9816250b9f98f4b6abc97fdc202ab|\n",
      "|1576451|6000519292|1    |Monjon kr deori  |NULL  |1900-01-01 00:00:00.000|NULL|Lakhimpur                                   |4396|787001    |NULL      |New        |CBE7810277|2021-11-29 12:32:39.733|2021-11-29 12:32:39.733|1          |NULL           |null                 |Petrol  |Manual          |1900-01-01 00:00:00.000|1900-01-01 00:00:00.000|Self               |VENUE 1.2 Kappa MT S               |Fiery red        |MALFC81BLMM263797|27       |null                                                                                                                                                                                                               |null|Venue              |2021-12-09 09:10:05.430|3f3dc9eabfc9c10d1c58088b421d1c67c7ea6fa569eee9be6330c9cc0cd74b43|\n",
      "|1592544|6000585452|1    |Hardeep          |NULL  |1900-01-01 00:00:00.000|NULL|Dhanarsi bhiwani                            |536 |127022    |NULL      |New        |CEE9878279|2021-12-03 11:16:17.903|2021-12-03 11:16:17.903|1          |NULL           |null                 |Petrol  |Manual          |1900-01-01 00:00:00.000|1900-01-01 00:00:00.000|Self               |Creta 1.5 MPi MT E                 |Polar White      |MALPA812LMM256282|10       |Fitness & Wellness, Food, Gadget, Gifting, Movies, Shopping, Sports & Outdoors, Travel                                                                                                                             |null|Beast              |2021-12-09 09:10:05.430|373c4eda21aa7a090febf066be6fcfe40b7fd4ab72c106dffab9aad5ce1bed18|\n",
      "|1595146|6000648838|1    |Jayanta saikia   |NULL  |1900-01-01 00:00:00.000|NULL|Golaghat                                    |4453|785621    |NULL      |New        |CEF3286172|2021-12-03 17:04:46.333|2021-12-03 17:04:46.333|1          |NULL           |AF                   |Petrol  |Manual          |2021-11-11 00:00:00.000|1900-01-01 00:00:00.000|Self               |i20 Sportz 1.2 Kappa MT            |Fiery red        |MALBH512LMM105830|27       |Concerts, Dancing, Fitness & Wellness, Food, Gadget, Gifting, Movies, Music, News, Nightlife, Online Courses, Painting, Photography, Reading, Shopping, Singing, Social, Sports & Outdoors, Travel, Weekend Getaway|null|i20                |2021-12-09 09:10:05.430|1939ef90af70f979c1211aa9616f5b32878972672306cf0ae1ba928d05b71f85|\n",
      "|1581628|6000682057|1    |N kachari        |NULL  |1900-01-01 00:00:00.000|NULL|Borhulla                                    |4533|785001    |NULL      |New        |AEF6665817|2021-11-30 14:30:48.210|2021-11-30 14:30:48.210|1          |NULL           |AS03AB2203           |Petrol  |Manual          |2019-11-26 00:00:00.000|1900-01-01 00:00:00.000|Self               |i20 Sportz + VTVT                  |Polar White      |Malbm51blkm768358|27       |null                                                                                                                                                                                                               |null|20                 |2021-12-09 09:10:05.430|33cb0475faedaabf23fd072ace86fb30af9c07ec6ed513cb4bbb2cede7ae5af3|\n",
      "|1588925|6000720242|1    |Bhubaneswar deka |NULL  |1900-01-01 00:00:00.000|NULL|Gamarimuri                                  |4621|781354    |NULL      |New        |CEF4835368|2021-12-02 11:28:06.100|2021-12-02 11:28:06.100|1          |NULL           |AS01DW5152           |Petrol  |Semi-automatic  |2018-11-16 00:00:00.000|1900-01-01 00:00:00.000|Self               |Santro 1.1 AMT Sportz              |Typhoon Silver   |MALAF51CYJM012355|27       |null                                                                                                                                                                                                               |null|SANTRO             |2021-12-09 09:10:05.430|530f25017f5f0aff35c5685c613aaf5dac70fd33caf30a4c5a18a5bc38c1e809|\n",
      "|1564947|6000752551|1    |Loknath          |NULL  |1900-01-01 00:00:00.000|NULL|Bongaigaon                                  |4617|783380    |NULL      |New        |ECF6058183|2021-11-26 10:12:06.023|2021-11-26 10:12:06.023|1          |NULL           |AS16H2726            |Petrol  |Automatic       |2020-07-13 00:00:00.000|1900-01-01 00:00:00.000|Self               |Creta 1.4 Turbo GDi DCT SX         |2TONE Black+white|Malpc811vlm017109|27       |null                                                                                                                                                                                                               |null|New creta          |2021-12-09 09:10:05.430|ba3e6e7049cbc759b019c08616f5dca9869f1489e26bfad082ea7cc5f6492426|\n",
      "|1581212|6000759485|1    |Manoj neog       |NULL  |1900-01-01 00:00:00.000|NULL|Narayanpur                                  |4396|784164    |NULL      |New        |CDF7017680|2021-11-30 13:20:44.503|2021-11-30 13:20:44.503|1          |NULL           |null                 |Petrol  |Manual          |1900-01-01 00:00:00.000|1900-01-01 00:00:00.000|Self               |Creta 1.5 MPi MT EX                |Phantom Black    |MALPA812LMM225135|27       |Concerts, Dancing, Fitness & Wellness, Food, Gadget, Gifting, Movies, Music, News, Nightlife, Online Courses, Painting, Photography, Reading, Shopping, Singing, Social, Sports & Outdoors, Travel, Weekend Getaway|null|Creta 1.5 mpi MT EX|2021-12-09 09:10:05.430|50354d6defbbd437fa17266218218a6d6328d3334d2ae47428a5f50c53b37822|\n",
      "|1562584|6000789063|1    |Anil tanti       |NULL  |1900-01-01 00:00:00.000|NULL|Pabhoi                                      |4507|784174    |NULL      |New        |BFA7624174|2021-11-25 15:42:33.613|2021-11-25 15:42:33.613|1          |NULL           |AF                   |Petrol  |Manual          |2021-11-24 00:00:00.000|1900-01-01 00:00:00.000|Self               |Grand i10 NIOS 1.2MT Kappa Sportz D|2TONE Black+white|MALB351CLMM249022|27       |null                                                                                                                                                                                                               |null|Gi10nios           |2021-12-09 09:10:05.430|aedcf7df99067c799bd4f72f90ed9f61ec8a56131e3681374dbf889b03f825fa|\n",
      "+-------+----------+-----+-----------------+------+-----------------------+----+--------------------------------------------+----+----------+----------+-----------+----------+-----------------------+-----------------------+-----------+---------------+---------------------+--------+----------------+-----------------------+-----------------------+-------------------+-----------------------------------+-----------------+-----------------+---------+-------------------------------------------------------------------------------------------------------------------------------------------------------------------------------------------------------------------+----+-------------------+-----------------------+----------------------------------------------------------------+\n",
      "only showing top 20 rows\n",
      "\n"
     ]
    }
   ],
   "source": [
    "inc_df.withColumn('row_sha', sha2(concat_ws(\"||\", *non_key_cols), 256)).show(truncate=False)"
   ]
  },
  {
   "cell_type": "code",
   "execution_count": 22,
   "metadata": {},
   "outputs": [],
   "source": [
    "src_inc_df=inc_df.withColumn('row_sha', sha2(concat_ws(\"||\", *non_key_cols), 256))"
   ]
  },
  {
   "cell_type": "code",
   "execution_count": 23,
   "metadata": {},
   "outputs": [
    {
     "name": "stdout",
     "output_type": "stream",
     "text": [
      "['id', 'mobileno', 'title', 'firstname', 'gender', 'dob', 'doa', 'street', 'city', 'postalcode', 'occupation', 'member_type', 'member_id', 'created_on', 'upload_on', 'status_flag', 'support_remarks', 'vinregistrationnumber', 'fueltype', 'transmissiontype', 'vindeliverydate', 'lastrodate', 'vinservicemodelcode', 'vinvariantname', 'vinexteriorcolor', 'vinnumber', 'statename', 'interest', 'tnc', 'vinname', 'if_crte_dt', 'row_sha']\n"
     ]
    }
   ],
   "source": [
    "print(src_inc_df.columns)"
   ]
  },
  {
   "cell_type": "code",
   "execution_count": 24,
   "metadata": {},
   "outputs": [
    {
     "name": "stdout",
     "output_type": "stream",
     "text": [
      "+-------+----------+-----+-----------------+------+--------------------+----+--------------------+----+----------+----------+-----------+----------+--------------------+--------------------+-----------+---------------+---------------------+--------+----------------+--------------------+--------------------+-------------------+--------------------+-----------------+-----------------+---------+--------------------+----+-------------------+--------------------+--------------------+\n",
      "|     id|  mobileno|title|        firstname|gender|                 dob| doa|              street|city|postalcode|occupation|member_type| member_id|          created_on|           upload_on|status_flag|support_remarks|vinregistrationnumber|fueltype|transmissiontype|     vindeliverydate|          lastrodate|vinservicemodelcode|      vinvariantname| vinexteriorcolor|        vinnumber|statename|            interest| tnc|            vinname|          if_crte_dt|             row_sha|\n",
      "+-------+----------+-----+-----------------+------+--------------------+----+--------------------+----+----------+----------+-----------+----------+--------------------+--------------------+-----------+---------------+---------------------+--------+----------------+--------------------+--------------------+-------------------+--------------------+-----------------+-----------------+---------+--------------------+----+-------------------+--------------------+--------------------+\n",
      "|1563953|6000019946|    2|Rekha rani kalita|  NULL|1900-01-01 00:00:...|NULL|            Guwahati|4612|    781020|      NULL|        New|ACA5710288|2021-11-25 17:43:...|2021-11-25 17:43:...|          1|           NULL|                 null|  Petrol|          Manual|1900-01-01 00:00:...|1900-01-01 00:00:...|               Self| Santro 1.1MT Sportz|       Titan Grey|MALAF51CLMM169059|       27|Concerts, Dancing...|null|             Santro|2021-12-09 09:10:...|34ea680cf9cd9840c...|\n",
      "|1563947|6000120785|    1|   Pranjal saikia|  NULL|1900-01-01 00:00:...|NULL|          HATIEKHOWA|4453|    785621|      NULL|        New|CCE6314368|2021-11-25 17:42:...|2021-11-25 17:42:...|          1|           NULL|                   AF|  Petrol|          Manual|2021-11-25 00:00:...|1900-01-01 00:00:...|               Self|VENUE 1.2 Kappa M...|      Polar White|MALFC81BLMM272123|       27|                null|null|              venue|2021-12-09 09:10:...|8ed5fed4c2cd6c8e3...|\n",
      "|1607574|6000149313|    2|       Ranu dutta|  NULL|1900-01-01 00:00:...|NULL|         Bijoy nagor|4396|    787001|      NULL|        New|FEE7439035|2021-12-07 14:50:...|2021-12-07 14:50:...|          1|           NULL|            AS07M9179|  Petrol|          Manual|2018-08-13 00:00:...|1900-01-01 00:00:...|               Self|  i20 Active VTVT SX|   2 Tone X5B+PSW|Malbm51bljm567315|       27|Concerts, Dancing...|null|          I20active|2021-12-09 09:10:...|e17d61a1c06bae0c9...|\n",
      "|1595355|6000171253|    1|  Mahibar rahman |  NULL|1900-01-01 00:00:...|NULL|           Guwahati |4612|    781028|      NULL|        New|ACC8944993|2021-12-03 17:30:...|2021-12-03 17:30:...|          1|           NULL|                 null|  Petrol|          Manual|1900-01-01 00:00:...|1900-01-01 00:00:...|               Self|i20 Asta[O] 1.2 K...|  Fiery Red+Black|MALBK512LMM104493|       27|                null|null|                I20|2021-12-09 09:10:...|445d48efc7036f528...|\n",
      "|1599591|6000214437|    1| Anuj kumar borah|  NULL|1900-01-01 00:00:...|NULL|         Kalita Gaon|7422|    784001|      NULL|        New|DAE9103505|2021-12-04 18:21:...|2021-12-04 18:21:...|          1|           NULL|                 null|  Petrol|          Manual|2021-12-03 00:00:...|1900-01-01 00:00:...|               Self|VENUE 1.0 Turbo G...|       Denim Blue|MALFC81ALMM276545|       27|Food, Movies, Travel|null|             Venue |2021-12-09 09:10:...|5238e0af9d08891ba...|\n",
      "|1601678|6000245133|    1|       Ruston ali|  NULL|1900-01-01 00:00:...|NULL|           Tengakhat|4613|    786001|      NULL|        New|CCD7038052|2021-12-06 10:22:...|2021-12-06 10:22:...|          1|           NULL|           AS06AD9112|  Diesel|          Manual|2021-03-05 00:00:...|1900-01-01 00:00:...|               Self|Creta 1.5 CRDi MT SX|      Polar White|Malpc813lmm140816|       27|                null|null|              Creta|2021-12-09 09:10:...|f4031192955c362b8...|\n",
      "|1612042|6000279292|    2|   Deepamoni nath|  NULL|1900-01-01 00:00:...|NULL|Vill:jhaubari po:...|4617|    783392|      NULL|        New|EAA1926007|2021-12-08 13:17:...|2021-12-08 13:17:...|          1|           NULL|                 null|  Petrol|          Manual|1900-01-01 00:00:...|1900-01-01 00:00:...|               Self|i20 Sportz 1.2 Ka...|     Starry Night|MALBH512LMM108011|       27|                null|null|                I20|2021-12-09 09:10:...|049ff669b4f3061c0...|\n",
      "|1574962|6000383485|    2|        Geeta das|  NULL|1900-01-01 00:00:...|NULL|              Jorhat|4614|    785001|      NULL|        New|CBA3773519|2021-11-28 16:44:...|2021-11-28 16:44:...|          1|           NULL|            AS03X2430|  Petrol|          Manual|2018-04-23 00:00:...|1900-01-01 00:00:...|               Self|Grand i10 Sportz[...|      Polar White|Mala851cljm785372|       27|                null|null|          Grand i10|2021-12-09 09:10:...|662bbb609cf5269e7...|\n",
      "|1584964|6000393604|    1|   Naba kr baruah|  NULL|1900-01-01 00:00:...|NULL|           Khanamukh|4612|    781015|      NULL|        New|BAB3055665|2021-12-01 11:47:...|2021-12-01 11:47:...|          1|           NULL|           AS01AY1107|  Petrol|          Manual|2011-12-26 00:00:...|1900-01-01 00:00:...|               Self|  MAGNA 1.2 BSIV F/L|    Crystal White|Malam51clbm062231|       27|Concerts, Dancing...|null|                I10|2021-12-09 09:10:...|66539be4102954ad7...|\n",
      "|1569217|6000454698|    2|      Rumi bhuyan|  NULL|1900-01-01 00:00:...|NULL|      Barbhuyan gaon|7422|    784175|      NULL|        New|BFA2764186|2021-11-27 09:52:...|2021-11-27 09:52:...|          1|           NULL|            AS12H6245|  Petrol|          Manual|2011-08-11 00:00:...|1900-01-01 00:00:...|               Self|      GLS+Audio BSIV|      Silky Beige|MALAA51HLBM679731|       27|                null|null|             Santro|2021-12-09 09:10:...|5ddf18f49b2cf2c58...|\n",
      "|1590253|6000496584|    4|Bharati hazarika |  NULL|1900-01-01 00:00:...|NULL|           Kochgaon |4507|    784176|      NULL|        New|CDF3368404|2021-12-02 14:39:...|2021-12-02 14:39:...|          1|           NULL|                   AF|  Petrol|  Semi-automatic|2021-11-25 00:00:...|1900-01-01 00:00:...|               Self|Santro 1.1 AMT Sp...|      Polar White|MALAF51CYMM167104|       27|                null|null|             Santro|2021-12-09 09:10:...|3c7e66ded2d2ca995...|\n",
      "|1567114|6000505311|    1|    Phulsing das |  NULL|1900-01-01 00:00:...|NULL|            Morigaon|4518|    782105|      NULL|        New|BAA8317810|2021-11-26 14:57:...|2021-11-26 14:57:...|          1|           NULL|            AS21J7755|  Petrol|          Manual|2020-12-03 00:00:...|1900-01-01 00:00:...|               Self|                null|      Polar White|MALB341CLLM040484|       27|                null|null|               Aura|2021-12-09 09:10:...|8f0dacb4fce21730d...|\n",
      "|1576451|6000519292|    1|  Monjon kr deori|  NULL|1900-01-01 00:00:...|NULL|           Lakhimpur|4396|    787001|      NULL|        New|CBE7810277|2021-11-29 12:32:...|2021-11-29 12:32:...|          1|           NULL|                 null|  Petrol|          Manual|1900-01-01 00:00:...|1900-01-01 00:00:...|               Self|VENUE 1.2 Kappa MT S|        Fiery red|MALFC81BLMM263797|       27|                null|null|              Venue|2021-12-09 09:10:...|3f3dc9eabfc9c10d1...|\n",
      "|1592544|6000585452|    1|          Hardeep|  NULL|1900-01-01 00:00:...|NULL|   Dhanarsi bhiwani | 536|    127022|      NULL|        New|CEE9878279|2021-12-03 11:16:...|2021-12-03 11:16:...|          1|           NULL|                 null|  Petrol|          Manual|1900-01-01 00:00:...|1900-01-01 00:00:...|               Self|  Creta 1.5 MPi MT E|      Polar White|MALPA812LMM256282|       10|Fitness & Wellnes...|null|             Beast |2021-12-09 09:10:...|373c4eda21aa7a090...|\n",
      "|1595146|6000648838|    1|   Jayanta saikia|  NULL|1900-01-01 00:00:...|NULL|            Golaghat|4453|    785621|      NULL|        New|CEF3286172|2021-12-03 17:04:...|2021-12-03 17:04:...|          1|           NULL|                   AF|  Petrol|          Manual|2021-11-11 00:00:...|1900-01-01 00:00:...|               Self|i20 Sportz 1.2 Ka...|        Fiery red|MALBH512LMM105830|       27|Concerts, Dancing...|null|                i20|2021-12-09 09:10:...|1939ef90af70f979c...|\n",
      "|1581628|6000682057|    1|        N kachari|  NULL|1900-01-01 00:00:...|NULL|            Borhulla|4533|    785001|      NULL|        New|AEF6665817|2021-11-30 14:30:...|2021-11-30 14:30:...|          1|           NULL|           AS03AB2203|  Petrol|          Manual|2019-11-26 00:00:...|1900-01-01 00:00:...|               Self|   i20 Sportz + VTVT|      Polar White|Malbm51blkm768358|       27|                null|null|                 20|2021-12-09 09:10:...|33cb0475faedaabf2...|\n",
      "|1588925|6000720242|    1| Bhubaneswar deka|  NULL|1900-01-01 00:00:...|NULL|          Gamarimuri|4621|    781354|      NULL|        New|CEF4835368|2021-12-02 11:28:...|2021-12-02 11:28:...|          1|           NULL|           AS01DW5152|  Petrol|  Semi-automatic|2018-11-16 00:00:...|1900-01-01 00:00:...|               Self|Santro 1.1 AMT Sp...|   Typhoon Silver|MALAF51CYJM012355|       27|                null|null|             SANTRO|2021-12-09 09:10:...|530f25017f5f0aff3...|\n",
      "|1564947|6000752551|    1|          Loknath|  NULL|1900-01-01 00:00:...|NULL|         Bongaigaon |4617|    783380|      NULL|        New|ECF6058183|2021-11-26 10:12:...|2021-11-26 10:12:...|          1|           NULL|            AS16H2726|  Petrol|       Automatic|2020-07-13 00:00:...|1900-01-01 00:00:...|               Self|Creta 1.4 Turbo G...|2TONE Black+white|Malpc811vlm017109|       27|                null|null|          New creta|2021-12-09 09:10:...|ba3e6e7049cbc759b...|\n",
      "|1581212|6000759485|    1|       Manoj neog|  NULL|1900-01-01 00:00:...|NULL|          Narayanpur|4396|    784164|      NULL|        New|CDF7017680|2021-11-30 13:20:...|2021-11-30 13:20:...|          1|           NULL|                 null|  Petrol|          Manual|1900-01-01 00:00:...|1900-01-01 00:00:...|               Self| Creta 1.5 MPi MT EX|    Phantom Black|MALPA812LMM225135|       27|Concerts, Dancing...|null|Creta 1.5 mpi MT EX|2021-12-09 09:10:...|50354d6defbbd437f...|\n",
      "|1562584|6000789063|    1|      Anil tanti |  NULL|1900-01-01 00:00:...|NULL|             Pabhoi |4507|    784174|      NULL|        New|BFA7624174|2021-11-25 15:42:...|2021-11-25 15:42:...|          1|           NULL|                   AF|  Petrol|          Manual|2021-11-24 00:00:...|1900-01-01 00:00:...|               Self|Grand i10 NIOS 1....|2TONE Black+white|MALB351CLMM249022|       27|                null|null|           Gi10nios|2021-12-09 09:10:...|aedcf7df99067c799...|\n",
      "+-------+----------+-----+-----------------+------+--------------------+----+--------------------+----+----------+----------+-----------+----------+--------------------+--------------------+-----------+---------------+---------------------+--------+----------------+--------------------+--------------------+-------------------+--------------------+-----------------+-----------------+---------+--------------------+----+-------------------+--------------------+--------------------+\n",
      "only showing top 20 rows\n",
      "\n"
     ]
    }
   ],
   "source": [
    "src_inc_df.show()"
   ]
  },
  {
   "cell_type": "markdown",
   "metadata": {},
   "source": [
    "CASE 1 : SAME VIN, SHA DIFFERENT ===> UPDATED RECORD"
   ]
  },
  {
   "cell_type": "code",
   "execution_count": 25,
   "metadata": {},
   "outputs": [],
   "source": [
    "update_df=src_inc_df.join(dt_hive,(dt_hive['id']==src_inc_df['id']) & (dt_hive['row_sha']!=src_inc_df['row_sha']),\"inner\" ).select(src_inc_df['*'])"
   ]
  },
  {
   "cell_type": "code",
   "execution_count": 26,
   "metadata": {},
   "outputs": [
    {
     "data": {
      "text/plain": [
       "0"
      ]
     },
     "execution_count": 26,
     "metadata": {},
     "output_type": "execute_result"
    }
   ],
   "source": [
    "update_df.count()"
   ]
  },
  {
   "cell_type": "code",
   "execution_count": 32,
   "metadata": {},
   "outputs": [
    {
     "data": {
      "text/plain": [
       "0"
      ]
     },
     "execution_count": 32,
     "metadata": {},
     "output_type": "execute_result"
    }
   ],
   "source": [
    "# check matching id col in hive and incr data\n",
    "#src_inc_df.join(dt_hive,(dt_hive['id']==src_inc_df['id']) ,\"inner\" ).select(src_inc_df['*']).count()"
   ]
  },
  {
   "cell_type": "code",
   "execution_count": 33,
   "metadata": {},
   "outputs": [
    {
     "name": "stdout",
     "output_type": "stream",
     "text": [
      "+---+--------+-----+---------+------+---+---+------+----+----------+----------+-----------+---------+----------+---------+-----------+---------------+---------------------+--------+----------------+---------------+----------+-------------------+--------------+----------------+---------+---------+--------+---+-------+----------+-------+\n",
      "| id|mobileno|title|firstname|gender|dob|doa|street|city|postalcode|occupation|member_type|member_id|created_on|upload_on|status_flag|support_remarks|vinregistrationnumber|fueltype|transmissiontype|vindeliverydate|lastrodate|vinservicemodelcode|vinvariantname|vinexteriorcolor|vinnumber|statename|interest|tnc|vinname|if_crte_dt|row_sha|\n",
      "+---+--------+-----+---------+------+---+---+------+----+----------+----------+-----------+---------+----------+---------+-----------+---------------+---------------------+--------+----------------+---------------+----------+-------------------+--------------+----------------+---------+---------+--------+---+-------+----------+-------+\n",
      "+---+--------+-----+---------+------+---+---+------+----+----------+----------+-----------+---------+----------+---------+-----------+---------------+---------------------+--------+----------------+---------------+----------+-------------------+--------------+----------------+---------+---------+--------+---+-------+----------+-------+\n",
      "\n"
     ]
    }
   ],
   "source": [
    "src_inc_df.join(dt_hive,(dt_hive['id']==src_inc_df['id']) & (dt_hive['row_sha']!=src_inc_df['row_sha']),\"inner\" ).select(src_inc_df['*']).show()"
   ]
  },
  {
   "cell_type": "markdown",
   "metadata": {},
   "source": [
    "CASE 2: NEW VIN : NEW/INSERT RECORD"
   ]
  },
  {
   "cell_type": "code",
   "execution_count": 34,
   "metadata": {},
   "outputs": [],
   "source": [
    "insert_df=src_inc_df.join(dt_hive,(dt_hive['id']==src_inc_df['id']),\"left_outer\" ).where(dt_hive.id.isNull()).select(src_inc_df['*'])"
   ]
  },
  {
   "cell_type": "code",
   "execution_count": 35,
   "metadata": {},
   "outputs": [
    {
     "name": "stdout",
     "output_type": "stream",
     "text": [
      "+-------+----------+-----+-----------------+------+--------------------+----+--------------------+----+----------+----------+-----------+----------+--------------------+--------------------+-----------+---------------+---------------------+--------+----------------+--------------------+--------------------+-------------------+--------------------+-----------------+-----------------+---------+--------------------+----+-------------------+--------------------+--------------------+\n",
      "|     id|  mobileno|title|        firstname|gender|                 dob| doa|              street|city|postalcode|occupation|member_type| member_id|          created_on|           upload_on|status_flag|support_remarks|vinregistrationnumber|fueltype|transmissiontype|     vindeliverydate|          lastrodate|vinservicemodelcode|      vinvariantname| vinexteriorcolor|        vinnumber|statename|            interest| tnc|            vinname|          if_crte_dt|             row_sha|\n",
      "+-------+----------+-----+-----------------+------+--------------------+----+--------------------+----+----------+----------+-----------+----------+--------------------+--------------------+-----------+---------------+---------------------+--------+----------------+--------------------+--------------------+-------------------+--------------------+-----------------+-----------------+---------+--------------------+----+-------------------+--------------------+--------------------+\n",
      "|1563953|6000019946|    2|Rekha rani kalita|  NULL|1900-01-01 00:00:...|NULL|            Guwahati|4612|    781020|      NULL|        New|ACA5710288|2021-11-25 17:43:...|2021-11-25 17:43:...|          1|           NULL|                 null|  Petrol|          Manual|1900-01-01 00:00:...|1900-01-01 00:00:...|               Self| Santro 1.1MT Sportz|       Titan Grey|MALAF51CLMM169059|       27|Concerts, Dancing...|null|             Santro|2021-12-09 09:10:...|34ea680cf9cd9840c...|\n",
      "|1563947|6000120785|    1|   Pranjal saikia|  NULL|1900-01-01 00:00:...|NULL|          HATIEKHOWA|4453|    785621|      NULL|        New|CCE6314368|2021-11-25 17:42:...|2021-11-25 17:42:...|          1|           NULL|                   AF|  Petrol|          Manual|2021-11-25 00:00:...|1900-01-01 00:00:...|               Self|VENUE 1.2 Kappa M...|      Polar White|MALFC81BLMM272123|       27|                null|null|              venue|2021-12-09 09:10:...|8ed5fed4c2cd6c8e3...|\n",
      "|1607574|6000149313|    2|       Ranu dutta|  NULL|1900-01-01 00:00:...|NULL|         Bijoy nagor|4396|    787001|      NULL|        New|FEE7439035|2021-12-07 14:50:...|2021-12-07 14:50:...|          1|           NULL|            AS07M9179|  Petrol|          Manual|2018-08-13 00:00:...|1900-01-01 00:00:...|               Self|  i20 Active VTVT SX|   2 Tone X5B+PSW|Malbm51bljm567315|       27|Concerts, Dancing...|null|          I20active|2021-12-09 09:10:...|e17d61a1c06bae0c9...|\n",
      "|1595355|6000171253|    1|  Mahibar rahman |  NULL|1900-01-01 00:00:...|NULL|           Guwahati |4612|    781028|      NULL|        New|ACC8944993|2021-12-03 17:30:...|2021-12-03 17:30:...|          1|           NULL|                 null|  Petrol|          Manual|1900-01-01 00:00:...|1900-01-01 00:00:...|               Self|i20 Asta[O] 1.2 K...|  Fiery Red+Black|MALBK512LMM104493|       27|                null|null|                I20|2021-12-09 09:10:...|445d48efc7036f528...|\n",
      "|1599591|6000214437|    1| Anuj kumar borah|  NULL|1900-01-01 00:00:...|NULL|         Kalita Gaon|7422|    784001|      NULL|        New|DAE9103505|2021-12-04 18:21:...|2021-12-04 18:21:...|          1|           NULL|                 null|  Petrol|          Manual|2021-12-03 00:00:...|1900-01-01 00:00:...|               Self|VENUE 1.0 Turbo G...|       Denim Blue|MALFC81ALMM276545|       27|Food, Movies, Travel|null|             Venue |2021-12-09 09:10:...|5238e0af9d08891ba...|\n",
      "|1601678|6000245133|    1|       Ruston ali|  NULL|1900-01-01 00:00:...|NULL|           Tengakhat|4613|    786001|      NULL|        New|CCD7038052|2021-12-06 10:22:...|2021-12-06 10:22:...|          1|           NULL|           AS06AD9112|  Diesel|          Manual|2021-03-05 00:00:...|1900-01-01 00:00:...|               Self|Creta 1.5 CRDi MT SX|      Polar White|Malpc813lmm140816|       27|                null|null|              Creta|2021-12-09 09:10:...|f4031192955c362b8...|\n",
      "|1612042|6000279292|    2|   Deepamoni nath|  NULL|1900-01-01 00:00:...|NULL|Vill:jhaubari po:...|4617|    783392|      NULL|        New|EAA1926007|2021-12-08 13:17:...|2021-12-08 13:17:...|          1|           NULL|                 null|  Petrol|          Manual|1900-01-01 00:00:...|1900-01-01 00:00:...|               Self|i20 Sportz 1.2 Ka...|     Starry Night|MALBH512LMM108011|       27|                null|null|                I20|2021-12-09 09:10:...|049ff669b4f3061c0...|\n",
      "|1574962|6000383485|    2|        Geeta das|  NULL|1900-01-01 00:00:...|NULL|              Jorhat|4614|    785001|      NULL|        New|CBA3773519|2021-11-28 16:44:...|2021-11-28 16:44:...|          1|           NULL|            AS03X2430|  Petrol|          Manual|2018-04-23 00:00:...|1900-01-01 00:00:...|               Self|Grand i10 Sportz[...|      Polar White|Mala851cljm785372|       27|                null|null|          Grand i10|2021-12-09 09:10:...|662bbb609cf5269e7...|\n",
      "|1584964|6000393604|    1|   Naba kr baruah|  NULL|1900-01-01 00:00:...|NULL|           Khanamukh|4612|    781015|      NULL|        New|BAB3055665|2021-12-01 11:47:...|2021-12-01 11:47:...|          1|           NULL|           AS01AY1107|  Petrol|          Manual|2011-12-26 00:00:...|1900-01-01 00:00:...|               Self|  MAGNA 1.2 BSIV F/L|    Crystal White|Malam51clbm062231|       27|Concerts, Dancing...|null|                I10|2021-12-09 09:10:...|66539be4102954ad7...|\n",
      "|1569217|6000454698|    2|      Rumi bhuyan|  NULL|1900-01-01 00:00:...|NULL|      Barbhuyan gaon|7422|    784175|      NULL|        New|BFA2764186|2021-11-27 09:52:...|2021-11-27 09:52:...|          1|           NULL|            AS12H6245|  Petrol|          Manual|2011-08-11 00:00:...|1900-01-01 00:00:...|               Self|      GLS+Audio BSIV|      Silky Beige|MALAA51HLBM679731|       27|                null|null|             Santro|2021-12-09 09:10:...|5ddf18f49b2cf2c58...|\n",
      "|1590253|6000496584|    4|Bharati hazarika |  NULL|1900-01-01 00:00:...|NULL|           Kochgaon |4507|    784176|      NULL|        New|CDF3368404|2021-12-02 14:39:...|2021-12-02 14:39:...|          1|           NULL|                   AF|  Petrol|  Semi-automatic|2021-11-25 00:00:...|1900-01-01 00:00:...|               Self|Santro 1.1 AMT Sp...|      Polar White|MALAF51CYMM167104|       27|                null|null|             Santro|2021-12-09 09:10:...|3c7e66ded2d2ca995...|\n",
      "|1567114|6000505311|    1|    Phulsing das |  NULL|1900-01-01 00:00:...|NULL|            Morigaon|4518|    782105|      NULL|        New|BAA8317810|2021-11-26 14:57:...|2021-11-26 14:57:...|          1|           NULL|            AS21J7755|  Petrol|          Manual|2020-12-03 00:00:...|1900-01-01 00:00:...|               Self|                null|      Polar White|MALB341CLLM040484|       27|                null|null|               Aura|2021-12-09 09:10:...|8f0dacb4fce21730d...|\n",
      "|1576451|6000519292|    1|  Monjon kr deori|  NULL|1900-01-01 00:00:...|NULL|           Lakhimpur|4396|    787001|      NULL|        New|CBE7810277|2021-11-29 12:32:...|2021-11-29 12:32:...|          1|           NULL|                 null|  Petrol|          Manual|1900-01-01 00:00:...|1900-01-01 00:00:...|               Self|VENUE 1.2 Kappa MT S|        Fiery red|MALFC81BLMM263797|       27|                null|null|              Venue|2021-12-09 09:10:...|3f3dc9eabfc9c10d1...|\n",
      "|1592544|6000585452|    1|          Hardeep|  NULL|1900-01-01 00:00:...|NULL|   Dhanarsi bhiwani | 536|    127022|      NULL|        New|CEE9878279|2021-12-03 11:16:...|2021-12-03 11:16:...|          1|           NULL|                 null|  Petrol|          Manual|1900-01-01 00:00:...|1900-01-01 00:00:...|               Self|  Creta 1.5 MPi MT E|      Polar White|MALPA812LMM256282|       10|Fitness & Wellnes...|null|             Beast |2021-12-09 09:10:...|373c4eda21aa7a090...|\n",
      "|1595146|6000648838|    1|   Jayanta saikia|  NULL|1900-01-01 00:00:...|NULL|            Golaghat|4453|    785621|      NULL|        New|CEF3286172|2021-12-03 17:04:...|2021-12-03 17:04:...|          1|           NULL|                   AF|  Petrol|          Manual|2021-11-11 00:00:...|1900-01-01 00:00:...|               Self|i20 Sportz 1.2 Ka...|        Fiery red|MALBH512LMM105830|       27|Concerts, Dancing...|null|                i20|2021-12-09 09:10:...|1939ef90af70f979c...|\n",
      "|1581628|6000682057|    1|        N kachari|  NULL|1900-01-01 00:00:...|NULL|            Borhulla|4533|    785001|      NULL|        New|AEF6665817|2021-11-30 14:30:...|2021-11-30 14:30:...|          1|           NULL|           AS03AB2203|  Petrol|          Manual|2019-11-26 00:00:...|1900-01-01 00:00:...|               Self|   i20 Sportz + VTVT|      Polar White|Malbm51blkm768358|       27|                null|null|                 20|2021-12-09 09:10:...|33cb0475faedaabf2...|\n",
      "|1588925|6000720242|    1| Bhubaneswar deka|  NULL|1900-01-01 00:00:...|NULL|          Gamarimuri|4621|    781354|      NULL|        New|CEF4835368|2021-12-02 11:28:...|2021-12-02 11:28:...|          1|           NULL|           AS01DW5152|  Petrol|  Semi-automatic|2018-11-16 00:00:...|1900-01-01 00:00:...|               Self|Santro 1.1 AMT Sp...|   Typhoon Silver|MALAF51CYJM012355|       27|                null|null|             SANTRO|2021-12-09 09:10:...|530f25017f5f0aff3...|\n",
      "|1564947|6000752551|    1|          Loknath|  NULL|1900-01-01 00:00:...|NULL|         Bongaigaon |4617|    783380|      NULL|        New|ECF6058183|2021-11-26 10:12:...|2021-11-26 10:12:...|          1|           NULL|            AS16H2726|  Petrol|       Automatic|2020-07-13 00:00:...|1900-01-01 00:00:...|               Self|Creta 1.4 Turbo G...|2TONE Black+white|Malpc811vlm017109|       27|                null|null|          New creta|2021-12-09 09:10:...|ba3e6e7049cbc759b...|\n",
      "|1581212|6000759485|    1|       Manoj neog|  NULL|1900-01-01 00:00:...|NULL|          Narayanpur|4396|    784164|      NULL|        New|CDF7017680|2021-11-30 13:20:...|2021-11-30 13:20:...|          1|           NULL|                 null|  Petrol|          Manual|1900-01-01 00:00:...|1900-01-01 00:00:...|               Self| Creta 1.5 MPi MT EX|    Phantom Black|MALPA812LMM225135|       27|Concerts, Dancing...|null|Creta 1.5 mpi MT EX|2021-12-09 09:10:...|50354d6defbbd437f...|\n",
      "|1562584|6000789063|    1|      Anil tanti |  NULL|1900-01-01 00:00:...|NULL|             Pabhoi |4507|    784174|      NULL|        New|BFA7624174|2021-11-25 15:42:...|2021-11-25 15:42:...|          1|           NULL|                   AF|  Petrol|          Manual|2021-11-24 00:00:...|1900-01-01 00:00:...|               Self|Grand i10 NIOS 1....|2TONE Black+white|MALB351CLMM249022|       27|                null|null|           Gi10nios|2021-12-09 09:10:...|aedcf7df99067c799...|\n",
      "+-------+----------+-----+-----------------+------+--------------------+----+--------------------+----+----------+----------+-----------+----------+--------------------+--------------------+-----------+---------------+---------------------+--------+----------------+--------------------+--------------------+-------------------+--------------------+-----------------+-----------------+---------+--------------------+----+-------------------+--------------------+--------------------+\n",
      "only showing top 20 rows\n",
      "\n"
     ]
    }
   ],
   "source": [
    "src_inc_df.join(dt_hive,(dt_hive['id']==src_inc_df['id']),\"left_outer\" ).where(dt_hive.id.isNull()).select(src_inc_df['*']).show()"
   ]
  },
  {
   "cell_type": "code",
   "execution_count": 36,
   "metadata": {},
   "outputs": [
    {
     "data": {
      "text/plain": [
       "39554"
      ]
     },
     "execution_count": 36,
     "metadata": {},
     "output_type": "execute_result"
    }
   ],
   "source": [
    "insert_df.count()"
   ]
  },
  {
   "cell_type": "markdown",
   "metadata": {},
   "source": [
    "CASE 3: UNCHANGED RECORDS ==> Total records minus updated records"
   ]
  },
  {
   "cell_type": "code",
   "execution_count": 37,
   "metadata": {},
   "outputs": [
    {
     "name": "stdout",
     "output_type": "stream",
     "text": [
      "+-------+----------+-----+--------------------+------+--------------------+----+--------------------+----+----------+----------+-----------+----------+--------------------+--------------------+-----------+--------------------+---------------------+--------+----------------+--------------------+--------------------+-------------------+--------------------+----------------+-----------------+---------+--------------------+---+-----------------+--------------------+--------------------+\n",
      "|     id|  mobileno|title|           firstname|gender|                 dob| doa|              street|city|postalcode|occupation|member_type| member_id|          created_on|           upload_on|status_flag|     support_remarks|vinregistrationnumber|fueltype|transmissiontype|     vindeliverydate|          lastrodate|vinservicemodelcode|      vinvariantname|vinexteriorcolor|        vinnumber|statename|            interest|tnc|          vinname|          if_crte_dt|             row_sha|\n",
      "+-------+----------+-----+--------------------+------+--------------------+----+--------------------+----+----------+----------+-----------+----------+--------------------+--------------------+-----------+--------------------+---------------------+--------+----------------+--------------------+--------------------+-------------------+--------------------+----------------+-----------------+---------+--------------------+---+-----------------+--------------------+--------------------+\n",
      "|1000240|7728946384|    4|      Shruti mathur |  NULL|1900-01-01 00:00:...|NULL|             Jodhpur|1706|    342001|      NULL|        New|AFF8098785|2021-07-13 12:31:...|2021-07-13 12:31:...|          1|                NULL|                   AF|  Petrol|          Manual|1900-01-01 00:00:...|1900-01-01 00:00:...|               Self| Santro 1.1MT Sportz|     Polar White|MALAF51CLMM148110|       19|Concerts, Dancing...|   |           Santro|2021-11-27 04:27:...|4b5405f0862c5eb19...|\n",
      "|1000280|7407435436|    1|        Suraj sharma|  NULL|1900-01-01 00:00:...|NULL|            Siliguri|3676|    734003|      NULL|        New|FCB6101936|2021-07-13 12:36:...|2021-07-13 12:36:...|          1|                NULL|           WB74BC7306|  Petrol|          Manual|2020-08-12 00:00:...|1900-01-01 00:00:...|               Self| Santro 1.1MT Sportz|  Typhoon Silver|MALAF51CLLM109316|       24|                    |   |                 |2021-11-27 04:27:...|dae7d12e76bf6ad33...|\n",
      "|1000665|6375413175|    1|             Prahlad|  NULL|1900-01-01 00:00:...|NULL|          Laxmipura | 526|    311204|      NULL|        New|AEA7397331|2021-07-13 13:20:...|2021-07-13 13:20:...|          1|                NULL|           TEMP068319|  Petrol|          Manual|2021-06-24 00:00:...|1900-01-01 00:00:...|               Self| AURA 1.2MT Kappa SX|     Polar White|Malb341clmm068319|       19|Concerts, Dancing...|   |                 |2021-11-27 04:27:...|344bb2170a2bd4aa1...|\n",
      "|1000795|9593785192|    1|        Sonjyo gupta|  NULL|1900-01-01 00:00:...|NULL|           Siliguri |3676|    734001|      NULL|        New|EBE8335593|2021-07-13 13:45:...|2021-07-13 13:45:...|          1|                NULL|           WB74AU0548|  Diesel|          Manual|2018-04-04 00:00:...|1900-01-01 00:00:...|               Self|   Creta 1.4 CRDi E+|     Polar White|MALC181RLJM395220|       24|                    |   |            Creta|2021-11-27 04:27:...|26a0cd8164777bfd1...|\n",
      "|1000839|9937373723|    1|  Santosha kumar das|  NULL|1900-01-01 00:00:...|NULL|               Patia|6378|    751024|      NULL|        New|FDB5229083|2021-07-13 13:51:...|2021-07-13 13:51:...|          1|                NULL|           OD02AQ3167|  Diesel|          Manual|2017-11-08 00:00:...|1900-01-01 00:00:...|               Self|   Verna 1.6 CRDi SX|       Fiery red|MALC841DLHM021910|       17|                    |   |            VERNA|2021-11-27 04:27:...|029588ef89beaf348...|\n",
      "|1000888|9873282828|    2|          Vikas sood|  NULL|1900-01-01 00:00:...|NULL|F-3/32 Vijay chow...| 983|    110051|      NULL|        New|CDB9184254|2021-07-13 14:00:...|2021-07-13 14:00:...|          1|                NULL|                     |  Petrol|       Automatic|1900-01-01 00:00:...|1900-01-01 00:00:...|               Self|Creta 1.5 MPi IVT...|   Phantom Black|MALPC812TMM186132|        8|                    |   |            Creta|2021-11-27 04:27:...|366c8c48b5f84bab5...|\n",
      "| 100140|7698456400|    1|           Nalinbhai|  NULL|1900-01-01 00:00:...|NULL|              Doldha|4063|    396321|      NULL|        New|FCB5245452|2020-10-25 15:10:...|2020-10-25 15:10:...|          1| Form Id updated ...|                     |  Petrol|          Manual|1900-01-01 00:00:...|1900-01-01 00:00:...|                   |                    |     Polar White|MALB251CLLM093235|        9|                    |   |       Nalinbhai |2021-11-27 04:27:...|ace52fa122ada01b2...|\n",
      "|1002011|9425275282|    1|              Suresh|  NULL|1900-01-01 00:00:...|NULL|             Raigarh|3193|    496001|      NULL|        New|ABB1298454|2021-07-13 16:15:...|2021-07-13 16:15:...|          1|                NULL|           CG13UH8098|  Petrol|          Manual|2016-01-18 00:00:...|1900-01-01 00:00:...|               Self|Grand i10 Sportz 1.2|      Pure White|MALA851CLFM357550|        5|                    |   |            Kedia|2021-11-27 04:27:...|f18f59fab0b4ee773...|\n",
      "|1002185|9744952685|    2|   Anitha udayakumar|  NULL|1900-01-01 00:00:...|NULL|Vattathinamala ko...|5658|    689521|      NULL|        New|FCD1209493|2021-07-13 16:30:...|2021-07-13 16:30:...|          1|                NULL|                     |  Petrol|  Semi-automatic|1900-01-01 00:00:...|1900-01-01 00:00:...|               Self|Grand i10 NIOS 1....|      Titan Grey|MALB351CYMM197008|       14|Concerts, Dancing...|   |Anitha Udayakumar|2021-11-27 04:27:...|7a9eb632cce3eae0c...|\n",
      "|1002442|8360085150|    1|        Ankur sharma|  NULL|1900-01-01 00:00:...|NULL|         Ward no. 11|1171|    147203|      NULL|        New|CEA9914794|2021-07-13 16:53:...|2021-07-13 16:53:...|          1|                NULL|            PB48F4499|  Petrol|          Manual|2020-07-16 00:00:...|1900-01-01 00:00:...|               Self|  Santro 1.1MT Magna|     Polar White|MALAF51CLLM121270|       18|Concerts, Dancing...|   |                 |2021-11-27 04:27:...|9e5ed8fb5b7ad91fe...|\n",
      "| 100263|9702494666|    1|        Abhijit bose|  NULL|1900-01-01 00:00:...|NULL|Flat 204, shree s...|2956|    410210|      NULL|        New|BCB3623706|2020-10-25 16:05:...|2020-10-25 16:05:...|          1| Form Id updated ...|           MH46BV1086|  Petrol|       Automatic|2020-10-23 00:00:...|1900-01-01 00:00:...|                   |                    |      Denim Blue|MALFC81AVLM142980|       16|Dancing, Fitness ...|   |            Venue|2021-11-27 04:27:...|6cb98d452aa5702e2...|\n",
      "|1002783|9819996805|    1|     Abhishek bansal|  NULL|1900-01-01 00:00:...|NULL|            Chembur |2610|    400075|      NULL|        New|BDF4157668|2021-07-13 17:24:...|2021-07-13 17:24:...|          1|                NULL|                  123|  Petrol|          Manual|2021-07-13 00:00:...|1900-01-01 00:00:...|               Self|Grand i10 NIOS 1....|       AQUA TEAL|MALB351CLMM197856|       16|                    |   |         I10 Nios|2021-11-27 04:27:...|93add55c7ef4ad271...|\n",
      "|1002883|9925193946|    1|         Vipul patel|  NULL|1900-01-01 00:00:...|NULL|          Uttarsanda|2668|    387370|      NULL|        New|FFF5154806|2021-07-13 17:34:...|2021-07-13 17:34:...|          1|                NULL|               192169|  Diesel|          Manual|2021-06-24 00:00:...|1900-01-01 00:00:...|               Self|Creta 1.5 CRDi MT EX|     Polar White|MALPA813LMM192169|        9|Concerts, Dancing...|   |            Creta|2021-11-27 04:27:...|1ac902bfdcc67f271...|\n",
      "|1002887|9945830906|    2|      Saddam hussein|  NULL|1900-01-01 00:00:...|NULL|Tq-aland dist-gul...|4250|    585223|      NULL|        New|AEA9333738|2021-07-13 17:35:...|2021-07-13 17:35:...|          1|                NULL|           MH12EG8702|  Petrol|          Manual|2007-10-31 00:00:...|1900-01-01 00:00:...|               Self|          GLS E3 [R]|      Real Earth|MALAA51HR7M216690|       25|                    |   |           Santro|2021-11-27 04:27:...|7290c98270adbf9ec...|\n",
      "| 100320|7506037961|    1|              Yogesh|  NULL|1900-01-01 00:00:...|NULL|radiant silver bell2|4263|    560067|      NULL|        New|AAF4558381|2020-10-25 16:42:...|2020-10-25 16:42:...|          1| Form Id updated ...|                     |  Petrol|          Manual|1900-01-01 00:00:...|1900-01-01 00:00:...|                   |                    |       AQUA TEAL|MALB251CLLM100150|       25|                    |   |                 |2021-11-27 04:27:...|45dbf73fe0bafc1ac...|\n",
      "|1003366|9537389137|    1|              Ashwin|  NULL|1900-01-01 00:00:...|NULL|                Bhuj| 558|    370001|      NULL|        New|AEE2012020|2021-07-13 18:42:...|2021-07-13 18:42:...|          1|                NULL|           GJ12CP5492|  Petrol|          Manual|2016-05-29 00:00:...|1900-01-01 00:00:...|               Self|Grand i10 Sportz 1.2|       Star Dust|MALA851CLGM413398|        9|                    |   |        Grand i10|2021-11-27 04:27:...|44334ff58ba2e20ce...|\n",
      "|1003397|9160051344|    1|   K siddhartha goud|  NULL|1900-01-01 00:00:...|NULL|          v r colony|5173|    518006|      NULL|        New|EAA6304628|2021-07-13 18:57:...|2021-07-13 18:57:...|          1|                NULL|           AP21BM7677|  Diesel|          Manual|2016-09-28 00:00:...|1900-01-01 00:00:...|               Self|   i20 Asta [O] CRDi|    Sleek Silver|MALBM51RLGM295133|        2|Gadget, Gifting, ...|   |              i20|2021-11-27 04:27:...|61142e475b735e7b5...|\n",
      "|1003644|9969561994|    1| Vijay daji vekhande|  NULL|1900-01-01 00:00:...|NULL|B/601 Anant Regen...|5902|    421603|      NULL|        New|BFB1696344|2021-07-14 09:13:...|2021-07-14 09:13:...|          1|                NULL|           MH04KD1497|  Petrol|          Manual|2019-08-21 00:00:...|1900-01-01 00:00:...|               Self|VENUE 1.0 Turbo G...|     Polar White|Malfc81alkm025806|       16|                    |   |            Venue|2021-11-27 04:27:...|530eec05205c31671...|\n",
      "|1003663|9740292773|    1|Ramachandra prasa...|  NULL|1900-01-01 00:00:...|NULL|No. 1511, 13th ma...|4263|    560076|      NULL|        New|EEC3925502|2021-07-14 09:20:...|2021-07-14 09:20:...|          1|                NULL|           KA51MB2981|  Petrol|          Manual|2011-04-30 00:00:...|1900-01-01 00:00:...|               Self| SPORTZ 1.2 BSIV F/L|    Sleek Silver|MALAN51CLBM869197|       25|                    |   |              I10|2021-11-27 04:27:...|4441d28b86f524d1e...|\n",
      "|1003665|9560597182|    1|     Prakash narayan|  NULL|1900-01-01 00:00:...|NULL|B-6/4, CONCOR HOU...|2806|    110044|      NULL|        New|EAE3835690|2021-07-14 09:21:...|2021-07-14 09:21:...|          1|                NULL|           DL3CBQ4508|  Petrol|          Manual|2012-08-09 00:00:...|1900-01-01 00:00:...|               Self| SPORTZ 1.2 BSIV F/L|   Crystal White|MALAN51CLCM205795|        8|                    |   |              I10|2021-11-27 04:27:...|be5e79c0ab2d12b4b...|\n",
      "+-------+----------+-----+--------------------+------+--------------------+----+--------------------+----+----------+----------+-----------+----------+--------------------+--------------------+-----------+--------------------+---------------------+--------+----------------+--------------------+--------------------+-------------------+--------------------+----------------+-----------------+---------+--------------------+---+-----------------+--------------------+--------------------+\n",
      "only showing top 20 rows\n",
      "\n"
     ]
    }
   ],
   "source": [
    "dt_hive.join(update_df,(dt_hive['id']==update_df['id']),\"left_anti\" ).show()"
   ]
  },
  {
   "cell_type": "code",
   "execution_count": 42,
   "metadata": {},
   "outputs": [],
   "source": [
    "unchanged_df=dt_hive.join(update_df,(dt_hive['id']==update_df['id']),\"left_anti\")"
   ]
  },
  {
   "cell_type": "code",
   "execution_count": 39,
   "metadata": {},
   "outputs": [
    {
     "data": {
      "text/plain": [
       "1170670"
      ]
     },
     "execution_count": 39,
     "metadata": {},
     "output_type": "execute_result"
    }
   ],
   "source": [
    "unchanged_df.count()"
   ]
  },
  {
   "cell_type": "code",
   "execution_count": 43,
   "metadata": {},
   "outputs": [],
   "source": [
    "final_df=update_df.unionAll(insert_df).unionAll(unchanged_df)"
   ]
  },
  {
   "cell_type": "code",
   "execution_count": 45,
   "metadata": {},
   "outputs": [
    {
     "name": "stdout",
     "output_type": "stream",
     "text": [
      "+-------+----------+-----+-----------------+------+--------------------+----+--------------------+----+----------+----------+-----------+----------+--------------------+--------------------+-----------+---------------+---------------------+--------+----------------+--------------------+--------------------+-------------------+--------------------+-----------------+-----------------+---------+--------------------+----+-------------------+--------------------+--------------------+\n",
      "|     id|  mobileno|title|        firstname|gender|                 dob| doa|              street|city|postalcode|occupation|member_type| member_id|          created_on|           upload_on|status_flag|support_remarks|vinregistrationnumber|fueltype|transmissiontype|     vindeliverydate|          lastrodate|vinservicemodelcode|      vinvariantname| vinexteriorcolor|        vinnumber|statename|            interest| tnc|            vinname|          if_crte_dt|             row_sha|\n",
      "+-------+----------+-----+-----------------+------+--------------------+----+--------------------+----+----------+----------+-----------+----------+--------------------+--------------------+-----------+---------------+---------------------+--------+----------------+--------------------+--------------------+-------------------+--------------------+-----------------+-----------------+---------+--------------------+----+-------------------+--------------------+--------------------+\n",
      "|1563953|6000019946|    2|Rekha rani kalita|  NULL|1900-01-01 00:00:...|NULL|            Guwahati|4612|    781020|      NULL|        New|ACA5710288|2021-11-25 17:43:...|2021-11-25 17:43:...|          1|           NULL|                 null|  Petrol|          Manual|1900-01-01 00:00:...|1900-01-01 00:00:...|               Self| Santro 1.1MT Sportz|       Titan Grey|MALAF51CLMM169059|       27|Concerts, Dancing...|null|             Santro|2021-12-09 09:10:...|34ea680cf9cd9840c...|\n",
      "|1563947|6000120785|    1|   Pranjal saikia|  NULL|1900-01-01 00:00:...|NULL|          HATIEKHOWA|4453|    785621|      NULL|        New|CCE6314368|2021-11-25 17:42:...|2021-11-25 17:42:...|          1|           NULL|                   AF|  Petrol|          Manual|2021-11-25 00:00:...|1900-01-01 00:00:...|               Self|VENUE 1.2 Kappa M...|      Polar White|MALFC81BLMM272123|       27|                null|null|              venue|2021-12-09 09:10:...|8ed5fed4c2cd6c8e3...|\n",
      "|1607574|6000149313|    2|       Ranu dutta|  NULL|1900-01-01 00:00:...|NULL|         Bijoy nagor|4396|    787001|      NULL|        New|FEE7439035|2021-12-07 14:50:...|2021-12-07 14:50:...|          1|           NULL|            AS07M9179|  Petrol|          Manual|2018-08-13 00:00:...|1900-01-01 00:00:...|               Self|  i20 Active VTVT SX|   2 Tone X5B+PSW|Malbm51bljm567315|       27|Concerts, Dancing...|null|          I20active|2021-12-09 09:10:...|e17d61a1c06bae0c9...|\n",
      "|1595355|6000171253|    1|  Mahibar rahman |  NULL|1900-01-01 00:00:...|NULL|           Guwahati |4612|    781028|      NULL|        New|ACC8944993|2021-12-03 17:30:...|2021-12-03 17:30:...|          1|           NULL|                 null|  Petrol|          Manual|1900-01-01 00:00:...|1900-01-01 00:00:...|               Self|i20 Asta[O] 1.2 K...|  Fiery Red+Black|MALBK512LMM104493|       27|                null|null|                I20|2021-12-09 09:10:...|445d48efc7036f528...|\n",
      "|1599591|6000214437|    1| Anuj kumar borah|  NULL|1900-01-01 00:00:...|NULL|         Kalita Gaon|7422|    784001|      NULL|        New|DAE9103505|2021-12-04 18:21:...|2021-12-04 18:21:...|          1|           NULL|                 null|  Petrol|          Manual|2021-12-03 00:00:...|1900-01-01 00:00:...|               Self|VENUE 1.0 Turbo G...|       Denim Blue|MALFC81ALMM276545|       27|Food, Movies, Travel|null|             Venue |2021-12-09 09:10:...|5238e0af9d08891ba...|\n",
      "|1601678|6000245133|    1|       Ruston ali|  NULL|1900-01-01 00:00:...|NULL|           Tengakhat|4613|    786001|      NULL|        New|CCD7038052|2021-12-06 10:22:...|2021-12-06 10:22:...|          1|           NULL|           AS06AD9112|  Diesel|          Manual|2021-03-05 00:00:...|1900-01-01 00:00:...|               Self|Creta 1.5 CRDi MT SX|      Polar White|Malpc813lmm140816|       27|                null|null|              Creta|2021-12-09 09:10:...|f4031192955c362b8...|\n",
      "|1612042|6000279292|    2|   Deepamoni nath|  NULL|1900-01-01 00:00:...|NULL|Vill:jhaubari po:...|4617|    783392|      NULL|        New|EAA1926007|2021-12-08 13:17:...|2021-12-08 13:17:...|          1|           NULL|                 null|  Petrol|          Manual|1900-01-01 00:00:...|1900-01-01 00:00:...|               Self|i20 Sportz 1.2 Ka...|     Starry Night|MALBH512LMM108011|       27|                null|null|                I20|2021-12-09 09:10:...|049ff669b4f3061c0...|\n",
      "|1574962|6000383485|    2|        Geeta das|  NULL|1900-01-01 00:00:...|NULL|              Jorhat|4614|    785001|      NULL|        New|CBA3773519|2021-11-28 16:44:...|2021-11-28 16:44:...|          1|           NULL|            AS03X2430|  Petrol|          Manual|2018-04-23 00:00:...|1900-01-01 00:00:...|               Self|Grand i10 Sportz[...|      Polar White|Mala851cljm785372|       27|                null|null|          Grand i10|2021-12-09 09:10:...|662bbb609cf5269e7...|\n",
      "|1584964|6000393604|    1|   Naba kr baruah|  NULL|1900-01-01 00:00:...|NULL|           Khanamukh|4612|    781015|      NULL|        New|BAB3055665|2021-12-01 11:47:...|2021-12-01 11:47:...|          1|           NULL|           AS01AY1107|  Petrol|          Manual|2011-12-26 00:00:...|1900-01-01 00:00:...|               Self|  MAGNA 1.2 BSIV F/L|    Crystal White|Malam51clbm062231|       27|Concerts, Dancing...|null|                I10|2021-12-09 09:10:...|66539be4102954ad7...|\n",
      "|1569217|6000454698|    2|      Rumi bhuyan|  NULL|1900-01-01 00:00:...|NULL|      Barbhuyan gaon|7422|    784175|      NULL|        New|BFA2764186|2021-11-27 09:52:...|2021-11-27 09:52:...|          1|           NULL|            AS12H6245|  Petrol|          Manual|2011-08-11 00:00:...|1900-01-01 00:00:...|               Self|      GLS+Audio BSIV|      Silky Beige|MALAA51HLBM679731|       27|                null|null|             Santro|2021-12-09 09:10:...|5ddf18f49b2cf2c58...|\n",
      "|1590253|6000496584|    4|Bharati hazarika |  NULL|1900-01-01 00:00:...|NULL|           Kochgaon |4507|    784176|      NULL|        New|CDF3368404|2021-12-02 14:39:...|2021-12-02 14:39:...|          1|           NULL|                   AF|  Petrol|  Semi-automatic|2021-11-25 00:00:...|1900-01-01 00:00:...|               Self|Santro 1.1 AMT Sp...|      Polar White|MALAF51CYMM167104|       27|                null|null|             Santro|2021-12-09 09:10:...|3c7e66ded2d2ca995...|\n",
      "|1567114|6000505311|    1|    Phulsing das |  NULL|1900-01-01 00:00:...|NULL|            Morigaon|4518|    782105|      NULL|        New|BAA8317810|2021-11-26 14:57:...|2021-11-26 14:57:...|          1|           NULL|            AS21J7755|  Petrol|          Manual|2020-12-03 00:00:...|1900-01-01 00:00:...|               Self|                null|      Polar White|MALB341CLLM040484|       27|                null|null|               Aura|2021-12-09 09:10:...|8f0dacb4fce21730d...|\n",
      "|1576451|6000519292|    1|  Monjon kr deori|  NULL|1900-01-01 00:00:...|NULL|           Lakhimpur|4396|    787001|      NULL|        New|CBE7810277|2021-11-29 12:32:...|2021-11-29 12:32:...|          1|           NULL|                 null|  Petrol|          Manual|1900-01-01 00:00:...|1900-01-01 00:00:...|               Self|VENUE 1.2 Kappa MT S|        Fiery red|MALFC81BLMM263797|       27|                null|null|              Venue|2021-12-09 09:10:...|3f3dc9eabfc9c10d1...|\n",
      "|1592544|6000585452|    1|          Hardeep|  NULL|1900-01-01 00:00:...|NULL|   Dhanarsi bhiwani | 536|    127022|      NULL|        New|CEE9878279|2021-12-03 11:16:...|2021-12-03 11:16:...|          1|           NULL|                 null|  Petrol|          Manual|1900-01-01 00:00:...|1900-01-01 00:00:...|               Self|  Creta 1.5 MPi MT E|      Polar White|MALPA812LMM256282|       10|Fitness & Wellnes...|null|             Beast |2021-12-09 09:10:...|373c4eda21aa7a090...|\n",
      "|1595146|6000648838|    1|   Jayanta saikia|  NULL|1900-01-01 00:00:...|NULL|            Golaghat|4453|    785621|      NULL|        New|CEF3286172|2021-12-03 17:04:...|2021-12-03 17:04:...|          1|           NULL|                   AF|  Petrol|          Manual|2021-11-11 00:00:...|1900-01-01 00:00:...|               Self|i20 Sportz 1.2 Ka...|        Fiery red|MALBH512LMM105830|       27|Concerts, Dancing...|null|                i20|2021-12-09 09:10:...|1939ef90af70f979c...|\n",
      "|1581628|6000682057|    1|        N kachari|  NULL|1900-01-01 00:00:...|NULL|            Borhulla|4533|    785001|      NULL|        New|AEF6665817|2021-11-30 14:30:...|2021-11-30 14:30:...|          1|           NULL|           AS03AB2203|  Petrol|          Manual|2019-11-26 00:00:...|1900-01-01 00:00:...|               Self|   i20 Sportz + VTVT|      Polar White|Malbm51blkm768358|       27|                null|null|                 20|2021-12-09 09:10:...|33cb0475faedaabf2...|\n",
      "|1588925|6000720242|    1| Bhubaneswar deka|  NULL|1900-01-01 00:00:...|NULL|          Gamarimuri|4621|    781354|      NULL|        New|CEF4835368|2021-12-02 11:28:...|2021-12-02 11:28:...|          1|           NULL|           AS01DW5152|  Petrol|  Semi-automatic|2018-11-16 00:00:...|1900-01-01 00:00:...|               Self|Santro 1.1 AMT Sp...|   Typhoon Silver|MALAF51CYJM012355|       27|                null|null|             SANTRO|2021-12-09 09:10:...|530f25017f5f0aff3...|\n",
      "|1564947|6000752551|    1|          Loknath|  NULL|1900-01-01 00:00:...|NULL|         Bongaigaon |4617|    783380|      NULL|        New|ECF6058183|2021-11-26 10:12:...|2021-11-26 10:12:...|          1|           NULL|            AS16H2726|  Petrol|       Automatic|2020-07-13 00:00:...|1900-01-01 00:00:...|               Self|Creta 1.4 Turbo G...|2TONE Black+white|Malpc811vlm017109|       27|                null|null|          New creta|2021-12-09 09:10:...|ba3e6e7049cbc759b...|\n",
      "|1581212|6000759485|    1|       Manoj neog|  NULL|1900-01-01 00:00:...|NULL|          Narayanpur|4396|    784164|      NULL|        New|CDF7017680|2021-11-30 13:20:...|2021-11-30 13:20:...|          1|           NULL|                 null|  Petrol|          Manual|1900-01-01 00:00:...|1900-01-01 00:00:...|               Self| Creta 1.5 MPi MT EX|    Phantom Black|MALPA812LMM225135|       27|Concerts, Dancing...|null|Creta 1.5 mpi MT EX|2021-12-09 09:10:...|50354d6defbbd437f...|\n",
      "|1562584|6000789063|    1|      Anil tanti |  NULL|1900-01-01 00:00:...|NULL|             Pabhoi |4507|    784174|      NULL|        New|BFA7624174|2021-11-25 15:42:...|2021-11-25 15:42:...|          1|           NULL|                   AF|  Petrol|          Manual|2021-11-24 00:00:...|1900-01-01 00:00:...|               Self|Grand i10 NIOS 1....|2TONE Black+white|MALB351CLMM249022|       27|                null|null|           Gi10nios|2021-12-09 09:10:...|aedcf7df99067c799...|\n",
      "+-------+----------+-----+-----------------+------+--------------------+----+--------------------+----+----------+----------+-----------+----------+--------------------+--------------------+-----------+---------------+---------------------+--------+----------------+--------------------+--------------------+-------------------+--------------------+-----------------+-----------------+---------+--------------------+----+-------------------+--------------------+--------------------+\n",
      "only showing top 20 rows\n",
      "\n"
     ]
    }
   ],
   "source": [
    "final_df.show()"
   ]
  },
  {
   "cell_type": "code",
   "execution_count": 44,
   "metadata": {},
   "outputs": [
    {
     "data": {
      "text/plain": [
       "1210224"
      ]
     },
     "execution_count": 44,
     "metadata": {},
     "output_type": "execute_result"
    }
   ],
   "source": [
    "final_df.count()"
   ]
  },
  {
   "cell_type": "code",
   "execution_count": null,
   "metadata": {},
   "outputs": [],
   "source": [
    "#final_df.write.parquet('/user/hive/warehouse/ccs.db/test_enroll_status_parquet')"
   ]
  }
 ],
 "metadata": {
  "kernelspec": {
   "display_name": "PySpark3 (Spark 2.x)",
   "language": "python",
   "name": "pyspark"
  },
  "language_info": {
   "codemirror_mode": {
    "name": "ipython",
    "version": 3
   },
   "file_extension": ".py",
   "mimetype": "text/x-python",
   "name": "python",
   "nbconvert_exporter": "python",
   "pygments_lexer": "ipython3",
   "version": "3.6.8"
  }
 },
 "nbformat": 4,
 "nbformat_minor": 2
}
