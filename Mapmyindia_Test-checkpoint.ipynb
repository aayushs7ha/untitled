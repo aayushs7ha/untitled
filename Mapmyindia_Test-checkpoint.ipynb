{
 "cells": [
  {
   "cell_type": "code",
   "execution_count": 1,
   "metadata": {
    "ExecuteTime": {
     "end_time": "2021-10-29T09:16:02.600574Z",
     "start_time": "2021-10-29T09:16:01.173439Z"
    }
   },
   "outputs": [],
   "source": [
    "#importing libraries \n",
    "import pandas as pd\n",
    "from geopy import distance\n",
    "import requests \n",
    "import json\n",
    "import datetime\n",
    "import math\n",
    "import itertools\n",
    "import numpy as np\n",
    "import os\n",
    "import warnings\n",
    "warnings.filterwarnings('ignore')"
   ]
  },
  {
   "cell_type": "code",
   "execution_count": 2,
   "metadata": {
    "ExecuteTime": {
     "end_time": "2021-10-29T09:16:02.678008Z",
     "start_time": "2021-10-29T09:16:02.664015Z"
    }
   },
   "outputs": [],
   "source": [
    "os.chdir(\"C:\\\\Users\\\\274774\\\\Desktop\\\\Sales_Logistic\\\\\")"
   ]
  },
  {
   "cell_type": "code",
   "execution_count": 3,
   "metadata": {
    "ExecuteTime": {
     "end_time": "2021-10-29T09:16:03.327905Z",
     "start_time": "2021-10-29T09:16:03.317921Z"
    }
   },
   "outputs": [],
   "source": [
    "#origin\n",
    "lat1= 77.229455\n",
    "long1 = 28.612960\n",
    "#destination\n",
    "long2 =28.458830\n",
    "lat2=77.018639"
   ]
  },
  {
   "cell_type": "code",
   "execution_count": 7,
   "metadata": {
    "ExecuteTime": {
     "end_time": "2021-10-29T09:22:36.112874Z",
     "start_time": "2021-10-29T09:22:35.636381Z"
    }
   },
   "outputs": [],
   "source": [
    "mmi_url = f\"https://apis.mapmyindia.com/advancedmaps/v1/95846a48eeef5b6c17863d2367c75349/distance_matrix/driving/{lat1},{long1};{lat2},{long2};17ZUL7?rtype=0&region=ind&Profile=trucking\"\n",
    "output = requests.get(mmi_url)"
   ]
  },
  {
   "cell_type": "code",
   "execution_count": 9,
   "metadata": {
    "ExecuteTime": {
     "end_time": "2021-10-29T09:22:48.064746Z",
     "start_time": "2021-10-29T09:22:48.045201Z"
    }
   },
   "outputs": [
    {
     "data": {
      "text/plain": [
       "{'Server': 'Adv-5400',\n",
       " 'version': '202109.19.5222',\n",
       " 'results': {'distances': [[0, 33120.6, 2125.9]],\n",
       "  'code': 'Ok',\n",
       "  'durations': [[0, 2367, 311.5]]},\n",
       " 'responseCode': 200}"
      ]
     },
     "execution_count": 9,
     "metadata": {},
     "output_type": "execute_result"
    }
   ],
   "source": [
    "result = json.loads(output.content)\n",
    "result"
   ]
  },
  {
   "cell_type": "code",
   "execution_count": 14,
   "metadata": {
    "ExecuteTime": {
     "end_time": "2021-10-29T09:24:01.145425Z",
     "start_time": "2021-10-29T09:24:01.135451Z"
    }
   },
   "outputs": [
    {
     "name": "stdout",
     "output_type": "stream",
     "text": [
      "distance : [[0, 33120.6, 2125.9]]\n",
      "durations : [[0, 2367, 311.5]]\n"
     ]
    }
   ],
   "source": [
    "route = json.loads(output.content)[\"results\"]\n",
    "print('distance :',route[\"distances\"])\n",
    "print('durations :',route[\"durations\"])"
   ]
  },
  {
   "cell_type": "code",
   "execution_count": 15,
   "metadata": {
    "ExecuteTime": {
     "end_time": "2021-10-29T09:25:22.890041Z",
     "start_time": "2021-10-29T09:25:22.872820Z"
    }
   },
   "outputs": [],
   "source": [
    "#extract the 2nd element"
   ]
  }
 ],
 "metadata": {
  "kernelspec": {
   "display_name": "Python 3",
   "language": "python",
   "name": "python3"
  },
  "language_info": {
   "codemirror_mode": {
    "name": "ipython",
    "version": 3
   },
   "file_extension": ".py",
   "mimetype": "text/x-python",
   "name": "python",
   "nbconvert_exporter": "python",
   "pygments_lexer": "ipython3",
   "version": "3.7.6"
  },
  "toc": {
   "base_numbering": 1,
   "nav_menu": {},
   "number_sections": true,
   "sideBar": true,
   "skip_h1_title": false,
   "title_cell": "Table of Contents",
   "title_sidebar": "Contents",
   "toc_cell": false,
   "toc_position": {},
   "toc_section_display": true,
   "toc_window_display": false
  },
  "varInspector": {
   "cols": {
    "lenName": 16,
    "lenType": 16,
    "lenVar": 40
   },
   "kernels_config": {
    "python": {
     "delete_cmd_postfix": "",
     "delete_cmd_prefix": "del ",
     "library": "var_list.py",
     "varRefreshCmd": "print(var_dic_list())"
    },
    "r": {
     "delete_cmd_postfix": ") ",
     "delete_cmd_prefix": "rm(",
     "library": "var_list.r",
     "varRefreshCmd": "cat(var_dic_list()) "
    }
   },
   "types_to_exclude": [
    "module",
    "function",
    "builtin_function_or_method",
    "instance",
    "_Feature"
   ],
   "window_display": false
  }
 },
 "nbformat": 4,
 "nbformat_minor": 4
}
