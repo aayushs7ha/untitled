{
 "cells": [
  {
   "cell_type": "markdown",
   "metadata": {},
   "source": [
    "#### IF CONDITIONS FOR LOOP"
   ]
  },
  {
   "cell_type": "code",
   "execution_count": 5,
   "metadata": {},
   "outputs": [
    {
     "name": "stdout",
     "output_type": "stream",
     "text": [
      "30 25\n"
     ]
    }
   ],
   "source": [
    "lst = [1,2,3,4,5,6,7,8,9,10]\n",
    "even_sum = 0 \n",
    "odd_sum = 0 \n",
    "for i in lst:\n",
    "    if i%2==0:\n",
    "       even_sum = even_sum  + i\n",
    "    else:\n",
    "        odd_sum = odd_sum + i\n",
    "print(even_sum,odd_sum)"
   ]
  },
  {
   "cell_type": "code",
   "execution_count": 6,
   "metadata": {},
   "outputs": [],
   "source": [
    "def mul(x,y):\n",
    "    return x*y"
   ]
  },
  {
   "cell_type": "code",
   "execution_count": 7,
   "metadata": {},
   "outputs": [
    {
     "data": {
      "text/plain": [
       "6"
      ]
     },
     "execution_count": 7,
     "metadata": {},
     "output_type": "execute_result"
    }
   ],
   "source": [
    "mul(3,2)"
   ]
  },
  {
   "cell_type": "code",
   "execution_count": 10,
   "metadata": {},
   "outputs": [
    {
     "data": {
      "text/plain": [
       "1474"
      ]
     },
     "execution_count": 10,
     "metadata": {},
     "output_type": "execute_result"
    }
   ],
   "source": [
    "mul(67,22)"
   ]
  },
  {
   "cell_type": "code",
   "execution_count": null,
   "metadata": {},
   "outputs": [],
   "source": [
    "Monthly_Trend_final_added[\"Financial_enquiry\"] = np.where((Monthly_Trend_final_added[\"ORDER_DATEMonthKey\"] ==\"2020_12\"),2712,Monthly_Trend_final_added[\"Financial_enquiry\"])\n",
    "Monthly_Trend_final_added[\"Financial_enquiry\"] = np.where((Monthly_Trend_final_added[\"ORDER_DATEMonthKey\"] ==\"2021_1\"), 727,Monthly_Trend_final_added[\"Financial_enquiry\"])\n",
    "Monthly_Trend_final_added[\"Financial_enquiry\"] = np.where((Monthly_Trend_final_added[\"ORDER_DATEMonthKey\"] ==\"2021_2\"), 1346,Monthly_Trend_final_added[\"Financial_enquiry\"])\n"
   ]
  }
 ],
 "metadata": {
  "kernelspec": {
   "display_name": "Python 3",
   "language": "python",
   "name": "python3"
  },
  "language_info": {
   "codemirror_mode": {
    "name": "ipython",
    "version": 3
   },
   "file_extension": ".py",
   "mimetype": "text/x-python",
   "name": "python",
   "nbconvert_exporter": "python",
   "pygments_lexer": "ipython3",
   "version": "3.8.5"
  }
 },
 "nbformat": 4,
 "nbformat_minor": 4
}
