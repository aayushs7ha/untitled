{
 "cells": [
  {
   "cell_type": "code",
   "execution_count": 3,
   "metadata": {},
   "outputs": [],
   "source": [
    "import pandas as pd\n",
    "import numpy as np\n",
    "import networkx as nx\n",
    "import xlrd"
   ]
  },
  {
   "cell_type": "code",
   "execution_count": 2,
   "metadata": {},
   "outputs": [],
   "source": [
    "import pydoop.hdfs as hdfs\n",
    "from pyhive import hive\n",
    "from impala.dbapi import connect\n",
    "from impala.util import as_pandas  \n",
    "import pandas as pd\n",
    "import numpy as np"
   ]
  },
  {
   "cell_type": "code",
   "execution_count": 4,
   "metadata": {},
   "outputs": [],
   "source": [
    "# Establishing the connection with Hive\n",
    "host_name = \"10.107.6.14\"\n",
    "port = 10000\n",
    "user = \"hdfs\"\n",
    "password = \"bigid#01\"\n",
    "database=\"referral_mart_latest\"\n",
    "conn = hive.Connection(host=host_name, port=port, username=user, password=password,\n",
    "                           database=database, auth='CUSTOM')\n",
    "cursor_1 = conn.cursor()"
   ]
  },
  {
   "cell_type": "markdown",
   "metadata": {},
   "source": [
    "**Data pre-processing**"
   ]
  },
  {
   "cell_type": "markdown",
   "metadata": {},
   "source": [
    "Read all the csv files first."
   ]
  },
  {
   "cell_type": "code",
   "execution_count": 3,
   "metadata": {},
   "outputs": [
    {
     "name": "stdout",
     "output_type": "stream",
     "text": [
      "WARNING *** OLE2 inconsistency: SSCS size is 0 but SSAT size is non-zero\n"
     ]
    }
   ],
   "source": [
    "df = pd.read_excel('Referral_VIN_Prime.xls')  #Prime VINs associated with taxi\n",
    "taxi_vin_list = df.REFL_VIN.tolist()"
   ]
  },
  {
   "cell_type": "code",
   "execution_count": 5,
   "metadata": {},
   "outputs": [],
   "source": [
    "# Reading table refrl_vhcl_history_vin_final\n",
    "cursor_1.execute('select * from refrl_vhcl_history_vin_final')\n",
    "refrl_vhcl_history_vin = as_pandas(cursor_1)"
   ]
  },
  {
   "cell_type": "code",
   "execution_count": 7,
   "metadata": {},
   "outputs": [],
   "source": [
    "refrl_vhcl_history_vin_final = refrl_vhcl_history_vin"
   ]
  },
  {
   "cell_type": "code",
   "execution_count": 8,
   "metadata": {},
   "outputs": [
    {
     "name": "stdout",
     "output_type": "stream",
     "text": [
      "(25760815, 6)\n",
      "Index(['vhcl_id', 'sale_dt', 'dlr_ou_id', 'repm_vin', 'vhcl_con_id',\n",
      "       'phone_no'],\n",
      "      dtype='object')\n"
     ]
    },
    {
     "data": {
      "text/html": [
       "<div>\n",
       "<style scoped>\n",
       "    .dataframe tbody tr th:only-of-type {\n",
       "        vertical-align: middle;\n",
       "    }\n",
       "\n",
       "    .dataframe tbody tr th {\n",
       "        vertical-align: top;\n",
       "    }\n",
       "\n",
       "    .dataframe thead th {\n",
       "        text-align: right;\n",
       "    }\n",
       "</style>\n",
       "<table border=\"1\" class=\"dataframe\">\n",
       "  <thead>\n",
       "    <tr style=\"text-align: right;\">\n",
       "      <th></th>\n",
       "      <th>vhcl_id</th>\n",
       "      <th>sale_dt</th>\n",
       "      <th>dlr_ou_id</th>\n",
       "      <th>repm_vin</th>\n",
       "      <th>vhcl_con_id</th>\n",
       "      <th>phone_no</th>\n",
       "    </tr>\n",
       "  </thead>\n",
       "  <tbody>\n",
       "    <tr>\n",
       "      <th>0</th>\n",
       "      <td>1-2IJO-4542</td>\n",
       "      <td>2005-10-16</td>\n",
       "      <td>1-29J8-84</td>\n",
       "      <td>MALAA51HR5M700082</td>\n",
       "      <td>1-29OZ-1503</td>\n",
       "      <td>9891112121</td>\n",
       "    </tr>\n",
       "    <tr>\n",
       "      <th>1</th>\n",
       "      <td>1-2IJO-4919</td>\n",
       "      <td>2005-08-29</td>\n",
       "      <td>1-29J8-26</td>\n",
       "      <td>MALAA51HR5M700158</td>\n",
       "      <td>1-29OE-2971</td>\n",
       "      <td>2501201900</td>\n",
       "    </tr>\n",
       "    <tr>\n",
       "      <th>2</th>\n",
       "      <td>1-2ILN-4104</td>\n",
       "      <td>2006-07-14</td>\n",
       "      <td>1-29J8-300</td>\n",
       "      <td>MALAA51HR5M700178</td>\n",
       "      <td>1-2A9X-3345</td>\n",
       "      <td>9994155040</td>\n",
       "    </tr>\n",
       "  </tbody>\n",
       "</table>\n",
       "</div>"
      ],
      "text/plain": [
       "       vhcl_id    sale_dt   dlr_ou_id           repm_vin  vhcl_con_id  \\\n",
       "0  1-2IJO-4542 2005-10-16   1-29J8-84  MALAA51HR5M700082  1-29OZ-1503   \n",
       "1  1-2IJO-4919 2005-08-29   1-29J8-26  MALAA51HR5M700158  1-29OE-2971   \n",
       "2  1-2ILN-4104 2006-07-14  1-29J8-300  MALAA51HR5M700178  1-2A9X-3345   \n",
       "\n",
       "     phone_no  \n",
       "0  9891112121  \n",
       "1  2501201900  \n",
       "2  9994155040  "
      ]
     },
     "execution_count": 8,
     "metadata": {},
     "output_type": "execute_result"
    }
   ],
   "source": [
    "print(refrl_vhcl_history_vin_final.shape)\n",
    "print(refrl_vhcl_history_vin_final.columns)\n",
    "refrl_vhcl_history_vin_final.head(3)"
   ]
  },
  {
   "cell_type": "code",
   "execution_count": 9,
   "metadata": {},
   "outputs": [],
   "source": [
    "# Reading table cust_details\n",
    "cursor_1.execute('select * from cust_details')\n",
    "cust_details = as_pandas(cursor_1)"
   ]
  },
  {
   "cell_type": "code",
   "execution_count": 10,
   "metadata": {},
   "outputs": [
    {
     "name": "stdout",
     "output_type": "stream",
     "text": [
      "(4596173, 20)\n",
      "Index(['cust_id', 'repm_dlr_no', 'repm_cust_no', 'repm_vin', 'm_mobl_phone_no',\n",
      "       'con_id', 'person_uid', 'age', 'annl_incm_amt', 'birth_dt',\n",
      "       'credit_score', 'job_title', 'occupation', 'sex_mf', 'marital_stat_cd',\n",
      "       'state', 'title', 'con_type', 'contact_cell_phone',\n",
      "       'master_cell_phone'],\n",
      "      dtype='object')\n"
     ]
    },
    {
     "data": {
      "text/html": [
       "<div>\n",
       "<style scoped>\n",
       "    .dataframe tbody tr th:only-of-type {\n",
       "        vertical-align: middle;\n",
       "    }\n",
       "\n",
       "    .dataframe tbody tr th {\n",
       "        vertical-align: top;\n",
       "    }\n",
       "\n",
       "    .dataframe thead th {\n",
       "        text-align: right;\n",
       "    }\n",
       "</style>\n",
       "<table border=\"1\" class=\"dataframe\">\n",
       "  <thead>\n",
       "    <tr style=\"text-align: right;\">\n",
       "      <th></th>\n",
       "      <th>cust_id</th>\n",
       "      <th>repm_dlr_no</th>\n",
       "      <th>repm_cust_no</th>\n",
       "      <th>repm_vin</th>\n",
       "      <th>m_mobl_phone_no</th>\n",
       "      <th>con_id</th>\n",
       "      <th>person_uid</th>\n",
       "      <th>age</th>\n",
       "      <th>annl_incm_amt</th>\n",
       "      <th>birth_dt</th>\n",
       "      <th>credit_score</th>\n",
       "      <th>job_title</th>\n",
       "      <th>occupation</th>\n",
       "      <th>sex_mf</th>\n",
       "      <th>marital_stat_cd</th>\n",
       "      <th>state</th>\n",
       "      <th>title</th>\n",
       "      <th>con_type</th>\n",
       "      <th>contact_cell_phone</th>\n",
       "      <th>master_cell_phone</th>\n",
       "    </tr>\n",
       "  </thead>\n",
       "  <tbody>\n",
       "    <tr>\n",
       "      <th>0</th>\n",
       "      <td>E1200B2015060270</td>\n",
       "      <td>E1200</td>\n",
       "      <td>B2015060270</td>\n",
       "      <td>MALAA51HR8M282087</td>\n",
       "      <td>9836211410</td>\n",
       "      <td>1-ET5S-26</td>\n",
       "      <td>HMI1007004716</td>\n",
       "      <td>None</td>\n",
       "      <td>None</td>\n",
       "      <td>None</td>\n",
       "      <td>None</td>\n",
       "      <td>null</td>\n",
       "      <td>null</td>\n",
       "      <td>M</td>\n",
       "      <td>null</td>\n",
       "      <td>CG</td>\n",
       "      <td>Mr.</td>\n",
       "      <td>I</td>\n",
       "      <td>9836211410</td>\n",
       "      <td>9836211410</td>\n",
       "    </tr>\n",
       "    <tr>\n",
       "      <th>1</th>\n",
       "      <td>E1200B2017060287</td>\n",
       "      <td>E1200</td>\n",
       "      <td>B2017060287</td>\n",
       "      <td>MALBM51BLGM246636</td>\n",
       "      <td>9830026536</td>\n",
       "      <td>1-IYDX-163</td>\n",
       "      <td>HMI1011605484</td>\n",
       "      <td>None</td>\n",
       "      <td>None</td>\n",
       "      <td>None</td>\n",
       "      <td>None</td>\n",
       "      <td>null</td>\n",
       "      <td>null</td>\n",
       "      <td>null</td>\n",
       "      <td>null</td>\n",
       "      <td>WB</td>\n",
       "      <td>null</td>\n",
       "      <td>I</td>\n",
       "      <td>9830026536</td>\n",
       "      <td>9830026536</td>\n",
       "    </tr>\n",
       "    <tr>\n",
       "      <th>2</th>\n",
       "      <td>E1200B2018110416</td>\n",
       "      <td>E1200</td>\n",
       "      <td>B2018110416</td>\n",
       "      <td>MALAA51HLCM778489</td>\n",
       "      <td>9830025617</td>\n",
       "      <td>1-RUNQ-1061</td>\n",
       "      <td>HMI1022736883</td>\n",
       "      <td>None</td>\n",
       "      <td>None</td>\n",
       "      <td>None</td>\n",
       "      <td>None</td>\n",
       "      <td>null</td>\n",
       "      <td>null</td>\n",
       "      <td>null</td>\n",
       "      <td>null</td>\n",
       "      <td>WB</td>\n",
       "      <td>null</td>\n",
       "      <td>I</td>\n",
       "      <td>9830025617</td>\n",
       "      <td>9830025617</td>\n",
       "    </tr>\n",
       "  </tbody>\n",
       "</table>\n",
       "</div>"
      ],
      "text/plain": [
       "            cust_id repm_dlr_no repm_cust_no           repm_vin  \\\n",
       "0  E1200B2015060270       E1200  B2015060270  MALAA51HR8M282087   \n",
       "1  E1200B2017060287       E1200  B2017060287  MALBM51BLGM246636   \n",
       "2  E1200B2018110416       E1200  B2018110416  MALAA51HLCM778489   \n",
       "\n",
       "  m_mobl_phone_no       con_id     person_uid   age annl_incm_amt birth_dt  \\\n",
       "0      9836211410    1-ET5S-26  HMI1007004716  None          None     None   \n",
       "1      9830026536   1-IYDX-163  HMI1011605484  None          None     None   \n",
       "2      9830025617  1-RUNQ-1061  HMI1022736883  None          None     None   \n",
       "\n",
       "  credit_score job_title occupation sex_mf marital_stat_cd state title  \\\n",
       "0         None      null       null      M            null    CG   Mr.   \n",
       "1         None      null       null   null            null    WB  null   \n",
       "2         None      null       null   null            null    WB  null   \n",
       "\n",
       "  con_type contact_cell_phone master_cell_phone  \n",
       "0        I         9836211410        9836211410  \n",
       "1        I         9830026536        9830026536  \n",
       "2        I         9830025617        9830025617  "
      ]
     },
     "execution_count": 10,
     "metadata": {},
     "output_type": "execute_result"
    }
   ],
   "source": [
    "print(cust_details.shape)\n",
    "print(cust_details.columns)\n",
    "cust_details.head(3)"
   ]
  },
  {
   "cell_type": "code",
   "execution_count": 11,
   "metadata": {},
   "outputs": [],
   "source": [
    "#Remove used car VIN and merge service phone to referral VIN\n",
    "# Reading table used_car_rcrepm\n",
    "cursor_1.execute('select * from used_car_rcrepm')\n",
    "used_car_rcrepm = as_pandas(cursor_1)"
   ]
  },
  {
   "cell_type": "code",
   "execution_count": 12,
   "metadata": {},
   "outputs": [
    {
     "name": "stdout",
     "output_type": "stream",
     "text": [
      "(33744535, 14)\n",
      "Index(['repm_dlr_code', 'repm_cust_no', 'repm_ro_no', 'repm_ro_dtime',\n",
      "       'repm_vin', 'repm_work_type', 'repm_vst_type',\n",
      "       'repm_bill_total_labr_amt', 'repm_bill_total_othr_amt',\n",
      "       'repm_bill_total_part_amt', 'vinm_selling_date', 'vinm_sale_date',\n",
      "       'vinm_model_year', 'vinm_last_milg'],\n",
      "      dtype='object')\n"
     ]
    },
    {
     "data": {
      "text/html": [
       "<div>\n",
       "<style scoped>\n",
       "    .dataframe tbody tr th:only-of-type {\n",
       "        vertical-align: middle;\n",
       "    }\n",
       "\n",
       "    .dataframe tbody tr th {\n",
       "        vertical-align: top;\n",
       "    }\n",
       "\n",
       "    .dataframe thead th {\n",
       "        text-align: right;\n",
       "    }\n",
       "</style>\n",
       "<table border=\"1\" class=\"dataframe\">\n",
       "  <thead>\n",
       "    <tr style=\"text-align: right;\">\n",
       "      <th></th>\n",
       "      <th>repm_dlr_code</th>\n",
       "      <th>repm_cust_no</th>\n",
       "      <th>repm_ro_no</th>\n",
       "      <th>repm_ro_dtime</th>\n",
       "      <th>repm_vin</th>\n",
       "      <th>repm_work_type</th>\n",
       "      <th>repm_vst_type</th>\n",
       "      <th>repm_bill_total_labr_amt</th>\n",
       "      <th>repm_bill_total_othr_amt</th>\n",
       "      <th>repm_bill_total_part_amt</th>\n",
       "      <th>vinm_selling_date</th>\n",
       "      <th>vinm_sale_date</th>\n",
       "      <th>vinm_model_year</th>\n",
       "      <th>vinm_last_milg</th>\n",
       "    </tr>\n",
       "  </thead>\n",
       "  <tbody>\n",
       "    <tr>\n",
       "      <th>0</th>\n",
       "      <td>N3208</td>\n",
       "      <td>C2008020258</td>\n",
       "      <td>R201708673</td>\n",
       "      <td>2017-07-29 10:10:50</td>\n",
       "      <td>MALCG51WR6M015343</td>\n",
       "      <td>OC</td>\n",
       "      <td>null</td>\n",
       "      <td>0.00</td>\n",
       "      <td>0.00</td>\n",
       "      <td>0.00</td>\n",
       "      <td>null</td>\n",
       "      <td>20060629</td>\n",
       "      <td>2006</td>\n",
       "      <td>81635</td>\n",
       "    </tr>\n",
       "    <tr>\n",
       "      <th>1</th>\n",
       "      <td>W2213</td>\n",
       "      <td>C2008030086</td>\n",
       "      <td>R201610998</td>\n",
       "      <td>2016-11-16 17:14:46</td>\n",
       "      <td>MALCG51WR6M015479</td>\n",
       "      <td>OC</td>\n",
       "      <td>null</td>\n",
       "      <td>0.00</td>\n",
       "      <td>0.00</td>\n",
       "      <td>0.00</td>\n",
       "      <td>null</td>\n",
       "      <td>20061128</td>\n",
       "      <td>2006</td>\n",
       "      <td>75950</td>\n",
       "    </tr>\n",
       "    <tr>\n",
       "      <th>2</th>\n",
       "      <td>W2213</td>\n",
       "      <td>C2008030086</td>\n",
       "      <td>R201702566</td>\n",
       "      <td>2017-03-13 18:08:27</td>\n",
       "      <td>MALCG51WR6M015479</td>\n",
       "      <td>OC</td>\n",
       "      <td>null</td>\n",
       "      <td>0.00</td>\n",
       "      <td>0.00</td>\n",
       "      <td>0.00</td>\n",
       "      <td>null</td>\n",
       "      <td>20061128</td>\n",
       "      <td>2006</td>\n",
       "      <td>75950</td>\n",
       "    </tr>\n",
       "  </tbody>\n",
       "</table>\n",
       "</div>"
      ],
      "text/plain": [
       "  repm_dlr_code repm_cust_no  repm_ro_no       repm_ro_dtime  \\\n",
       "0         N3208  C2008020258  R201708673 2017-07-29 10:10:50   \n",
       "1         W2213  C2008030086  R201610998 2016-11-16 17:14:46   \n",
       "2         W2213  C2008030086  R201702566 2017-03-13 18:08:27   \n",
       "\n",
       "            repm_vin repm_work_type repm_vst_type repm_bill_total_labr_amt  \\\n",
       "0  MALCG51WR6M015343             OC          null                     0.00   \n",
       "1  MALCG51WR6M015479             OC          null                     0.00   \n",
       "2  MALCG51WR6M015479             OC          null                     0.00   \n",
       "\n",
       "  repm_bill_total_othr_amt repm_bill_total_part_amt vinm_selling_date  \\\n",
       "0                     0.00                     0.00              null   \n",
       "1                     0.00                     0.00              null   \n",
       "2                     0.00                     0.00              null   \n",
       "\n",
       "  vinm_sale_date vinm_model_year  vinm_last_milg  \n",
       "0       20060629            2006           81635  \n",
       "1       20061128            2006           75950  \n",
       "2       20061128            2006           75950  "
      ]
     },
     "execution_count": 12,
     "metadata": {},
     "output_type": "execute_result"
    }
   ],
   "source": [
    "print(used_car_rcrepm.shape)\n",
    "print(used_car_rcrepm.columns)\n",
    "used_car_rcrepm.head(3)"
   ]
  },
  {
   "cell_type": "code",
   "execution_count": 14,
   "metadata": {},
   "outputs": [],
   "source": [
    "cust_details = cust_details.replace('null', np.nan)"
   ]
  },
  {
   "cell_type": "code",
   "execution_count": 15,
   "metadata": {},
   "outputs": [],
   "source": [
    "used_car_rcrepm = used_car_rcrepm.replace('null',np.nan)"
   ]
  },
  {
   "cell_type": "code",
   "execution_count": 17,
   "metadata": {},
   "outputs": [],
   "source": [
    "refrl_vhcl_history_vin = refrl_vhcl_history_vin.replace('null',np.nan)"
   ]
  },
  {
   "cell_type": "code",
   "execution_count": 18,
   "metadata": {},
   "outputs": [
    {
     "name": "stdout",
     "output_type": "stream",
     "text": [
      "(25760815, 6)\n",
      "Index(['vhcl_id', 'sale_dt', 'dlr_ou_id', 'repm_vin', 'vhcl_con_id',\n",
      "       'phone_no'],\n",
      "      dtype='object')\n"
     ]
    },
    {
     "data": {
      "text/html": [
       "<div>\n",
       "<style scoped>\n",
       "    .dataframe tbody tr th:only-of-type {\n",
       "        vertical-align: middle;\n",
       "    }\n",
       "\n",
       "    .dataframe tbody tr th {\n",
       "        vertical-align: top;\n",
       "    }\n",
       "\n",
       "    .dataframe thead th {\n",
       "        text-align: right;\n",
       "    }\n",
       "</style>\n",
       "<table border=\"1\" class=\"dataframe\">\n",
       "  <thead>\n",
       "    <tr style=\"text-align: right;\">\n",
       "      <th></th>\n",
       "      <th>vhcl_id</th>\n",
       "      <th>sale_dt</th>\n",
       "      <th>dlr_ou_id</th>\n",
       "      <th>repm_vin</th>\n",
       "      <th>vhcl_con_id</th>\n",
       "      <th>phone_no</th>\n",
       "    </tr>\n",
       "  </thead>\n",
       "  <tbody>\n",
       "    <tr>\n",
       "      <th>0</th>\n",
       "      <td>1-2IJO-4542</td>\n",
       "      <td>2005-10-16</td>\n",
       "      <td>1-29J8-84</td>\n",
       "      <td>MALAA51HR5M700082</td>\n",
       "      <td>1-29OZ-1503</td>\n",
       "      <td>9891112121</td>\n",
       "    </tr>\n",
       "    <tr>\n",
       "      <th>1</th>\n",
       "      <td>1-2IJO-4919</td>\n",
       "      <td>2005-08-29</td>\n",
       "      <td>1-29J8-26</td>\n",
       "      <td>MALAA51HR5M700158</td>\n",
       "      <td>1-29OE-2971</td>\n",
       "      <td>2501201900</td>\n",
       "    </tr>\n",
       "    <tr>\n",
       "      <th>2</th>\n",
       "      <td>1-2ILN-4104</td>\n",
       "      <td>2006-07-14</td>\n",
       "      <td>1-29J8-300</td>\n",
       "      <td>MALAA51HR5M700178</td>\n",
       "      <td>1-2A9X-3345</td>\n",
       "      <td>9994155040</td>\n",
       "    </tr>\n",
       "  </tbody>\n",
       "</table>\n",
       "</div>"
      ],
      "text/plain": [
       "       vhcl_id    sale_dt   dlr_ou_id           repm_vin  vhcl_con_id  \\\n",
       "0  1-2IJO-4542 2005-10-16   1-29J8-84  MALAA51HR5M700082  1-29OZ-1503   \n",
       "1  1-2IJO-4919 2005-08-29   1-29J8-26  MALAA51HR5M700158  1-29OE-2971   \n",
       "2  1-2ILN-4104 2006-07-14  1-29J8-300  MALAA51HR5M700178  1-2A9X-3345   \n",
       "\n",
       "     phone_no  \n",
       "0  9891112121  \n",
       "1  2501201900  \n",
       "2  9994155040  "
      ]
     },
     "execution_count": 18,
     "metadata": {},
     "output_type": "execute_result"
    }
   ],
   "source": [
    "vin_phone  = refrl_vhcl_history_vin_final.copy()\n",
    "print(vin_phone.shape)\n",
    "print(vin_phone.columns)\n",
    "vin_phone.head(3)"
   ]
  },
  {
   "cell_type": "code",
   "execution_count": 19,
   "metadata": {},
   "outputs": [
    {
     "name": "stdout",
     "output_type": "stream",
     "text": [
      "(4596173, 20)\n",
      "Index(['cust_id', 'repm_dlr_no', 'repm_cust_no', 'repm_vin', 'm_mobl_phone_no',\n",
      "       'con_id', 'person_uid', 'age', 'annl_incm_amt', 'birth_dt',\n",
      "       'credit_score', 'job_title', 'occupation', 'sex_mf', 'marital_stat_cd',\n",
      "       'state', 'title', 'con_type', 'contact_cell_phone',\n",
      "       'master_cell_phone'],\n",
      "      dtype='object')\n"
     ]
    },
    {
     "data": {
      "text/html": [
       "<div>\n",
       "<style scoped>\n",
       "    .dataframe tbody tr th:only-of-type {\n",
       "        vertical-align: middle;\n",
       "    }\n",
       "\n",
       "    .dataframe tbody tr th {\n",
       "        vertical-align: top;\n",
       "    }\n",
       "\n",
       "    .dataframe thead th {\n",
       "        text-align: right;\n",
       "    }\n",
       "</style>\n",
       "<table border=\"1\" class=\"dataframe\">\n",
       "  <thead>\n",
       "    <tr style=\"text-align: right;\">\n",
       "      <th></th>\n",
       "      <th>cust_id</th>\n",
       "      <th>repm_dlr_no</th>\n",
       "      <th>repm_cust_no</th>\n",
       "      <th>repm_vin</th>\n",
       "      <th>m_mobl_phone_no</th>\n",
       "      <th>con_id</th>\n",
       "      <th>person_uid</th>\n",
       "      <th>age</th>\n",
       "      <th>annl_incm_amt</th>\n",
       "      <th>birth_dt</th>\n",
       "      <th>credit_score</th>\n",
       "      <th>job_title</th>\n",
       "      <th>occupation</th>\n",
       "      <th>sex_mf</th>\n",
       "      <th>marital_stat_cd</th>\n",
       "      <th>state</th>\n",
       "      <th>title</th>\n",
       "      <th>con_type</th>\n",
       "      <th>contact_cell_phone</th>\n",
       "      <th>master_cell_phone</th>\n",
       "    </tr>\n",
       "  </thead>\n",
       "  <tbody>\n",
       "    <tr>\n",
       "      <th>0</th>\n",
       "      <td>E1200B2015060270</td>\n",
       "      <td>E1200</td>\n",
       "      <td>B2015060270</td>\n",
       "      <td>MALAA51HR8M282087</td>\n",
       "      <td>9836211410</td>\n",
       "      <td>1-ET5S-26</td>\n",
       "      <td>HMI1007004716</td>\n",
       "      <td>None</td>\n",
       "      <td>None</td>\n",
       "      <td>None</td>\n",
       "      <td>None</td>\n",
       "      <td>NaN</td>\n",
       "      <td>NaN</td>\n",
       "      <td>M</td>\n",
       "      <td>NaN</td>\n",
       "      <td>CG</td>\n",
       "      <td>Mr.</td>\n",
       "      <td>I</td>\n",
       "      <td>9836211410</td>\n",
       "      <td>9836211410</td>\n",
       "    </tr>\n",
       "    <tr>\n",
       "      <th>1</th>\n",
       "      <td>E1200B2017060287</td>\n",
       "      <td>E1200</td>\n",
       "      <td>B2017060287</td>\n",
       "      <td>MALBM51BLGM246636</td>\n",
       "      <td>9830026536</td>\n",
       "      <td>1-IYDX-163</td>\n",
       "      <td>HMI1011605484</td>\n",
       "      <td>None</td>\n",
       "      <td>None</td>\n",
       "      <td>None</td>\n",
       "      <td>None</td>\n",
       "      <td>NaN</td>\n",
       "      <td>NaN</td>\n",
       "      <td>NaN</td>\n",
       "      <td>NaN</td>\n",
       "      <td>WB</td>\n",
       "      <td>NaN</td>\n",
       "      <td>I</td>\n",
       "      <td>9830026536</td>\n",
       "      <td>9830026536</td>\n",
       "    </tr>\n",
       "    <tr>\n",
       "      <th>2</th>\n",
       "      <td>E1200B2018110416</td>\n",
       "      <td>E1200</td>\n",
       "      <td>B2018110416</td>\n",
       "      <td>MALAA51HLCM778489</td>\n",
       "      <td>9830025617</td>\n",
       "      <td>1-RUNQ-1061</td>\n",
       "      <td>HMI1022736883</td>\n",
       "      <td>None</td>\n",
       "      <td>None</td>\n",
       "      <td>None</td>\n",
       "      <td>None</td>\n",
       "      <td>NaN</td>\n",
       "      <td>NaN</td>\n",
       "      <td>NaN</td>\n",
       "      <td>NaN</td>\n",
       "      <td>WB</td>\n",
       "      <td>NaN</td>\n",
       "      <td>I</td>\n",
       "      <td>9830025617</td>\n",
       "      <td>9830025617</td>\n",
       "    </tr>\n",
       "  </tbody>\n",
       "</table>\n",
       "</div>"
      ],
      "text/plain": [
       "            cust_id repm_dlr_no repm_cust_no           repm_vin  \\\n",
       "0  E1200B2015060270       E1200  B2015060270  MALAA51HR8M282087   \n",
       "1  E1200B2017060287       E1200  B2017060287  MALBM51BLGM246636   \n",
       "2  E1200B2018110416       E1200  B2018110416  MALAA51HLCM778489   \n",
       "\n",
       "  m_mobl_phone_no       con_id     person_uid   age annl_incm_amt birth_dt  \\\n",
       "0      9836211410    1-ET5S-26  HMI1007004716  None          None     None   \n",
       "1      9830026536   1-IYDX-163  HMI1011605484  None          None     None   \n",
       "2      9830025617  1-RUNQ-1061  HMI1022736883  None          None     None   \n",
       "\n",
       "  credit_score job_title  occupation sex_mf marital_stat_cd state title  \\\n",
       "0         None       NaN         NaN      M             NaN    CG   Mr.   \n",
       "1         None       NaN         NaN    NaN             NaN    WB   NaN   \n",
       "2         None       NaN         NaN    NaN             NaN    WB   NaN   \n",
       "\n",
       "  con_type contact_cell_phone master_cell_phone  \n",
       "0        I         9836211410        9836211410  \n",
       "1        I         9830026536        9830026536  \n",
       "2        I         9830025617        9830025617  "
      ]
     },
     "execution_count": 19,
     "metadata": {},
     "output_type": "execute_result"
    }
   ],
   "source": [
    "service_phone  = cust_details.copy()\n",
    "print(service_phone.shape)\n",
    "print(service_phone.columns)\n",
    "service_phone.head(3)"
   ]
  },
  {
   "cell_type": "raw",
   "metadata": {},
   "source": [
    "# Add Target column to cust_grp_final df to identify customer group that provided referral vs those that did not\n",
    "\n",
    "refrl_tag = pd.read_excel('crm_rcrefl_tb_complete.xlsx') #Referral master data"
   ]
  },
  {
   "cell_type": "raw",
   "metadata": {},
   "source": [
    "refrl_tag.head(3)"
   ]
  },
  {
   "cell_type": "code",
   "execution_count": 20,
   "metadata": {},
   "outputs": [],
   "source": [
    "# Remove Prime Taxi vins from both the above table\n",
    "vin_phone = vin_phone[~vin_phone['repm_vin'].isin(taxi_vin_list)]\n",
    "service_phone = service_phone[~service_phone['repm_vin'].isin(taxi_vin_list)]"
   ]
  },
  {
   "cell_type": "code",
   "execution_count": 21,
   "metadata": {},
   "outputs": [],
   "source": [
    "#Phone number pre-processing\n",
    "service_phone['Phone_no'] = np.where(((service_phone['master_cell_phone'].isnull())|\n",
    "                            (service_phone['master_cell_phone'].astype(str).str.startswith('1'))|\n",
    "                            (service_phone['master_cell_phone'].astype(str).str.startswith('0'))), \n",
    "                            service_phone['contact_cell_phone'], service_phone['master_cell_phone'])\n",
    "\n",
    "#Remove suspicious phone numbers\n",
    "service_phone_clean = service_phone[~service_phone['Phone_no'].astype(str).str.startswith('1')]\n",
    "service_phone_clean = service_phone_clean[~service_phone_clean['Phone_no'].astype(str).str.startswith('0')]\n",
    "service_phone_clean = service_phone_clean[~service_phone_clean['Phone_no'].astype(str).str.len()<10]\n",
    "service_phone_clean = service_phone_clean[~service_phone_clean['Phone_no'].isnull()]"
   ]
  },
  {
   "cell_type": "code",
   "execution_count": 22,
   "metadata": {},
   "outputs": [
    {
     "name": "stdout",
     "output_type": "stream",
     "text": [
      "(4430815, 21)\n",
      "Index(['cust_id', 'repm_dlr_no', 'repm_cust_no', 'repm_vin', 'm_mobl_phone_no',\n",
      "       'con_id', 'person_uid', 'age', 'annl_incm_amt', 'birth_dt',\n",
      "       'credit_score', 'job_title', 'occupation', 'sex_mf', 'marital_stat_cd',\n",
      "       'state', 'title', 'con_type', 'contact_cell_phone', 'master_cell_phone',\n",
      "       'Phone_no'],\n",
      "      dtype='object')\n"
     ]
    },
    {
     "data": {
      "text/html": [
       "<div>\n",
       "<style scoped>\n",
       "    .dataframe tbody tr th:only-of-type {\n",
       "        vertical-align: middle;\n",
       "    }\n",
       "\n",
       "    .dataframe tbody tr th {\n",
       "        vertical-align: top;\n",
       "    }\n",
       "\n",
       "    .dataframe thead th {\n",
       "        text-align: right;\n",
       "    }\n",
       "</style>\n",
       "<table border=\"1\" class=\"dataframe\">\n",
       "  <thead>\n",
       "    <tr style=\"text-align: right;\">\n",
       "      <th></th>\n",
       "      <th>cust_id</th>\n",
       "      <th>repm_dlr_no</th>\n",
       "      <th>repm_cust_no</th>\n",
       "      <th>repm_vin</th>\n",
       "      <th>m_mobl_phone_no</th>\n",
       "      <th>con_id</th>\n",
       "      <th>person_uid</th>\n",
       "      <th>age</th>\n",
       "      <th>annl_incm_amt</th>\n",
       "      <th>birth_dt</th>\n",
       "      <th>...</th>\n",
       "      <th>job_title</th>\n",
       "      <th>occupation</th>\n",
       "      <th>sex_mf</th>\n",
       "      <th>marital_stat_cd</th>\n",
       "      <th>state</th>\n",
       "      <th>title</th>\n",
       "      <th>con_type</th>\n",
       "      <th>contact_cell_phone</th>\n",
       "      <th>master_cell_phone</th>\n",
       "      <th>Phone_no</th>\n",
       "    </tr>\n",
       "  </thead>\n",
       "  <tbody>\n",
       "    <tr>\n",
       "      <th>0</th>\n",
       "      <td>E1200B2015060270</td>\n",
       "      <td>E1200</td>\n",
       "      <td>B2015060270</td>\n",
       "      <td>MALAA51HR8M282087</td>\n",
       "      <td>9836211410</td>\n",
       "      <td>1-ET5S-26</td>\n",
       "      <td>HMI1007004716</td>\n",
       "      <td>None</td>\n",
       "      <td>None</td>\n",
       "      <td>None</td>\n",
       "      <td>...</td>\n",
       "      <td>NaN</td>\n",
       "      <td>NaN</td>\n",
       "      <td>M</td>\n",
       "      <td>NaN</td>\n",
       "      <td>CG</td>\n",
       "      <td>Mr.</td>\n",
       "      <td>I</td>\n",
       "      <td>9836211410</td>\n",
       "      <td>9836211410</td>\n",
       "      <td>9836211410</td>\n",
       "    </tr>\n",
       "    <tr>\n",
       "      <th>1</th>\n",
       "      <td>E1200B2017060287</td>\n",
       "      <td>E1200</td>\n",
       "      <td>B2017060287</td>\n",
       "      <td>MALBM51BLGM246636</td>\n",
       "      <td>9830026536</td>\n",
       "      <td>1-IYDX-163</td>\n",
       "      <td>HMI1011605484</td>\n",
       "      <td>None</td>\n",
       "      <td>None</td>\n",
       "      <td>None</td>\n",
       "      <td>...</td>\n",
       "      <td>NaN</td>\n",
       "      <td>NaN</td>\n",
       "      <td>NaN</td>\n",
       "      <td>NaN</td>\n",
       "      <td>WB</td>\n",
       "      <td>NaN</td>\n",
       "      <td>I</td>\n",
       "      <td>9830026536</td>\n",
       "      <td>9830026536</td>\n",
       "      <td>9830026536</td>\n",
       "    </tr>\n",
       "    <tr>\n",
       "      <th>2</th>\n",
       "      <td>E1200B2018110416</td>\n",
       "      <td>E1200</td>\n",
       "      <td>B2018110416</td>\n",
       "      <td>MALAA51HLCM778489</td>\n",
       "      <td>9830025617</td>\n",
       "      <td>1-RUNQ-1061</td>\n",
       "      <td>HMI1022736883</td>\n",
       "      <td>None</td>\n",
       "      <td>None</td>\n",
       "      <td>None</td>\n",
       "      <td>...</td>\n",
       "      <td>NaN</td>\n",
       "      <td>NaN</td>\n",
       "      <td>NaN</td>\n",
       "      <td>NaN</td>\n",
       "      <td>WB</td>\n",
       "      <td>NaN</td>\n",
       "      <td>I</td>\n",
       "      <td>9830025617</td>\n",
       "      <td>9830025617</td>\n",
       "      <td>9830025617</td>\n",
       "    </tr>\n",
       "  </tbody>\n",
       "</table>\n",
       "<p>3 rows × 21 columns</p>\n",
       "</div>"
      ],
      "text/plain": [
       "            cust_id repm_dlr_no repm_cust_no           repm_vin  \\\n",
       "0  E1200B2015060270       E1200  B2015060270  MALAA51HR8M282087   \n",
       "1  E1200B2017060287       E1200  B2017060287  MALBM51BLGM246636   \n",
       "2  E1200B2018110416       E1200  B2018110416  MALAA51HLCM778489   \n",
       "\n",
       "  m_mobl_phone_no       con_id     person_uid   age annl_incm_amt birth_dt  \\\n",
       "0      9836211410    1-ET5S-26  HMI1007004716  None          None     None   \n",
       "1      9830026536   1-IYDX-163  HMI1011605484  None          None     None   \n",
       "2      9830025617  1-RUNQ-1061  HMI1022736883  None          None     None   \n",
       "\n",
       "   ... job_title occupation  sex_mf marital_stat_cd state title con_type  \\\n",
       "0  ...       NaN        NaN       M             NaN    CG   Mr.        I   \n",
       "1  ...       NaN        NaN     NaN             NaN    WB   NaN        I   \n",
       "2  ...       NaN        NaN     NaN             NaN    WB   NaN        I   \n",
       "\n",
       "  contact_cell_phone master_cell_phone    Phone_no  \n",
       "0         9836211410        9836211410  9836211410  \n",
       "1         9830026536        9830026536  9830026536  \n",
       "2         9830025617        9830025617  9830025617  \n",
       "\n",
       "[3 rows x 21 columns]"
      ]
     },
     "execution_count": 22,
     "metadata": {},
     "output_type": "execute_result"
    }
   ],
   "source": [
    "print(service_phone_clean.shape)\n",
    "print(service_phone_clean.columns)\n",
    "service_phone_clean.head(3)"
   ]
  },
  {
   "cell_type": "code",
   "execution_count": 23,
   "metadata": {},
   "outputs": [
    {
     "data": {
      "text/plain": [
       "30"
      ]
     },
     "execution_count": 23,
     "metadata": {},
     "output_type": "execute_result"
    }
   ],
   "source": [
    "#Additional list of suspicious service phone numbers\n",
    "x = service_phone_clean.groupby(['master_cell_phone'])['repm_vin'].nunique().reset_index().sort_values(by=['repm_vin'], ascending=False)\n",
    "Bad_service_phone = x[x['repm_vin']>50].master_cell_phone.tolist()\n",
    "#Bad_service_phone list was further verified using True Caller API\n",
    "#curl --request GET \\\n",
    "#  --url 'https://peoplestacks.com/api/v1/lookup/people/{phone_number}'\n",
    "#  --header 'content-type: application/json'\n",
    "len(Bad_service_phone)"
   ]
  },
  {
   "cell_type": "raw",
   "metadata": {},
   "source": [
    "# currently Not in use \n",
    "# No reference found for 'cust_notused'\n",
    "# Getting error that 'cut_notused' not defined\n",
    "#Additional list of suspicious service phone numbers\n",
    "x = cust_notused.groupby(['service_phone'])['repm_vin'].nunique().reset_index().sort_values(by=['repm_vin'], ascending=False)\n",
    "Bad_service_phone = x[x['repm_vin']>50].service_phone.tolist()\n",
    "#Bad_service_phone list was further verified using True Caller API\n",
    "#curl --request GET \\\n",
    "#  --url 'https://peoplestacks.com/api/v1/lookup/people/{phone_number}'\n",
    "#  --header 'content-type: application/json'\n",
    "\n",
    "service_phone_clean = service_phone_clean[~service_phone_clean['service_phone'].isin(Bad_service_phone)]"
   ]
  },
  {
   "cell_type": "markdown",
   "metadata": {},
   "source": [
    "**Create unique customer group id for non-used cars VIN**"
   ]
  },
  {
   "cell_type": "code",
   "execution_count": 69,
   "metadata": {},
   "outputs": [],
   "source": [
    "used_car_serv = used_car_rcrepm.copy()"
   ]
  },
  {
   "cell_type": "code",
   "execution_count": 71,
   "metadata": {},
   "outputs": [
    {
     "data": {
      "text/plain": [
       "repm_dlr_code                       object\n",
       "repm_cust_no                        object\n",
       "repm_ro_no                          object\n",
       "repm_ro_dtime               datetime64[ns]\n",
       "repm_vin                            object\n",
       "repm_work_type                      object\n",
       "repm_vst_type                       object\n",
       "repm_bill_total_labr_amt            object\n",
       "repm_bill_total_othr_amt            object\n",
       "repm_bill_total_part_amt            object\n",
       "vinm_selling_date                   object\n",
       "vinm_sale_date                      object\n",
       "vinm_model_year                     object\n",
       "vinm_last_milg                       int64\n",
       "dtype: object"
      ]
     },
     "execution_count": 71,
     "metadata": {},
     "output_type": "execute_result"
    }
   ],
   "source": [
    "used_car_serv.dtypes"
   ]
  },
  {
   "cell_type": "code",
   "execution_count": 25,
   "metadata": {},
   "outputs": [
    {
     "data": {
      "text/plain": [
       "33744535"
      ]
     },
     "execution_count": 25,
     "metadata": {},
     "output_type": "execute_result"
    }
   ],
   "source": [
    "# Remove used car VIN and merge service phone to referral VIN\n",
    "# used_car_serv = pd.read_csv('used_car_rcrepm.csv')\n",
    "used_car_list = used_car_serv.repm_vin.tolist()\n",
    "len(used_car_list)"
   ]
  },
  {
   "cell_type": "code",
   "execution_count": 26,
   "metadata": {},
   "outputs": [],
   "source": [
    "# Reading table cars_with_used_tags\n",
    "cursor_1.execute('select * from cars_with_used_tags')\n",
    "car_with_used_tag = as_pandas(cursor_1)"
   ]
  },
  {
   "cell_type": "code",
   "execution_count": 27,
   "metadata": {},
   "outputs": [],
   "source": [
    "car_with_used_tag = car_with_used_tag.replace('null', np.nan)"
   ]
  },
  {
   "cell_type": "code",
   "execution_count": 28,
   "metadata": {},
   "outputs": [
    {
     "name": "stdout",
     "output_type": "stream",
     "text": [
      "(1588120, 6)\n",
      "Index(['vinm_vin', 'vinm_selling_date', 'repm_dlr_code', 'repm_dlr_no',\n",
      "       'repm_cust_no', 'repm_ro_dtime'],\n",
      "      dtype='object')\n"
     ]
    },
    {
     "data": {
      "text/html": [
       "<div>\n",
       "<style scoped>\n",
       "    .dataframe tbody tr th:only-of-type {\n",
       "        vertical-align: middle;\n",
       "    }\n",
       "\n",
       "    .dataframe tbody tr th {\n",
       "        vertical-align: top;\n",
       "    }\n",
       "\n",
       "    .dataframe thead th {\n",
       "        text-align: right;\n",
       "    }\n",
       "</style>\n",
       "<table border=\"1\" class=\"dataframe\">\n",
       "  <thead>\n",
       "    <tr style=\"text-align: right;\">\n",
       "      <th></th>\n",
       "      <th>vinm_vin</th>\n",
       "      <th>vinm_selling_date</th>\n",
       "      <th>repm_dlr_code</th>\n",
       "      <th>repm_dlr_no</th>\n",
       "      <th>repm_cust_no</th>\n",
       "      <th>repm_ro_dtime</th>\n",
       "    </tr>\n",
       "  </thead>\n",
       "  <tbody>\n",
       "    <tr>\n",
       "      <th>0</th>\n",
       "      <td>MALCH41GRYM012111</td>\n",
       "      <td>20180501</td>\n",
       "      <td>N4212</td>\n",
       "      <td>N4212</td>\n",
       "      <td>C2016080175</td>\n",
       "      <td>2016-08-17 16:08:13</td>\n",
       "    </tr>\n",
       "    <tr>\n",
       "      <th>1</th>\n",
       "      <td>MALCH41GRYM012111</td>\n",
       "      <td>20180501</td>\n",
       "      <td>W4200</td>\n",
       "      <td>W4200</td>\n",
       "      <td>C2017051025</td>\n",
       "      <td>2017-05-31 18:17:01</td>\n",
       "    </tr>\n",
       "    <tr>\n",
       "      <th>2</th>\n",
       "      <td>MALCH41VR1M025259</td>\n",
       "      <td>20191114</td>\n",
       "      <td>S7202</td>\n",
       "      <td>S7202</td>\n",
       "      <td>C2019102145</td>\n",
       "      <td>2019-10-26 13:53:04</td>\n",
       "    </tr>\n",
       "  </tbody>\n",
       "</table>\n",
       "</div>"
      ],
      "text/plain": [
       "            vinm_vin vinm_selling_date repm_dlr_code repm_dlr_no repm_cust_no  \\\n",
       "0  MALCH41GRYM012111          20180501         N4212       N4212  C2016080175   \n",
       "1  MALCH41GRYM012111          20180501         W4200       W4200  C2017051025   \n",
       "2  MALCH41VR1M025259          20191114         S7202       S7202  C2019102145   \n",
       "\n",
       "        repm_ro_dtime  \n",
       "0 2016-08-17 16:08:13  \n",
       "1 2017-05-31 18:17:01  \n",
       "2 2019-10-26 13:53:04  "
      ]
     },
     "execution_count": 28,
     "metadata": {},
     "output_type": "execute_result"
    }
   ],
   "source": [
    "print(car_with_used_tag.shape)\n",
    "print(car_with_used_tag.columns)\n",
    "car_with_used_tag.head(3)"
   ]
  },
  {
   "cell_type": "code",
   "execution_count": 29,
   "metadata": {},
   "outputs": [
    {
     "data": {
      "text/plain": [
       "1588120"
      ]
     },
     "execution_count": 29,
     "metadata": {},
     "output_type": "execute_result"
    }
   ],
   "source": [
    "car_with_used_tag_list = car_with_used_tag.vinm_vin.tolist()\n",
    "len(car_with_used_tag_list)"
   ]
  },
  {
   "cell_type": "code",
   "execution_count": 30,
   "metadata": {},
   "outputs": [
    {
     "name": "stdout",
     "output_type": "stream",
     "text": [
      "service_phone_clean (4430815, 21)\n",
      "(4176515, 3)\n"
     ]
    },
    {
     "data": {
      "text/html": [
       "<div>\n",
       "<style scoped>\n",
       "    .dataframe tbody tr th:only-of-type {\n",
       "        vertical-align: middle;\n",
       "    }\n",
       "\n",
       "    .dataframe tbody tr th {\n",
       "        vertical-align: top;\n",
       "    }\n",
       "\n",
       "    .dataframe thead th {\n",
       "        text-align: right;\n",
       "    }\n",
       "</style>\n",
       "<table border=\"1\" class=\"dataframe\">\n",
       "  <thead>\n",
       "    <tr style=\"text-align: right;\">\n",
       "      <th></th>\n",
       "      <th>repm_vin</th>\n",
       "      <th>con_id</th>\n",
       "      <th>service_phone</th>\n",
       "    </tr>\n",
       "  </thead>\n",
       "  <tbody>\n",
       "    <tr>\n",
       "      <th>6</th>\n",
       "      <td>MALAA51HR3M358445</td>\n",
       "      <td>1-2BN1-1903</td>\n",
       "      <td>9836298621</td>\n",
       "    </tr>\n",
       "    <tr>\n",
       "      <th>7</th>\n",
       "      <td>MALAA51HR3M385680</td>\n",
       "      <td>1-2BUT-2847</td>\n",
       "      <td>9831077282</td>\n",
       "    </tr>\n",
       "  </tbody>\n",
       "</table>\n",
       "</div>"
      ],
      "text/plain": [
       "            repm_vin       con_id service_phone\n",
       "6  MALAA51HR3M358445  1-2BN1-1903    9836298621\n",
       "7  MALAA51HR3M385680  1-2BUT-2847    9831077282"
      ]
     },
     "execution_count": 30,
     "metadata": {},
     "output_type": "execute_result"
    }
   ],
   "source": [
    "print(\"service_phone_clean\", service_phone_clean.shape)\n",
    "service_phone_notused = service_phone_clean[~service_phone_clean['repm_vin'].isin(car_with_used_tag_list)][[ \n",
    "    'repm_vin', 'con_id', 'Phone_no']].rename(columns={'Phone_no': 'service_phone'})\n",
    "print(service_phone_notused.shape)\n",
    "service_phone_notused.head(2)"
   ]
  },
  {
   "cell_type": "code",
   "execution_count": 31,
   "metadata": {},
   "outputs": [
    {
     "name": "stdout",
     "output_type": "stream",
     "text": [
      "vin_phone (25728615, 6)\n",
      "(24607162, 3)\n"
     ]
    },
    {
     "data": {
      "text/html": [
       "<div>\n",
       "<style scoped>\n",
       "    .dataframe tbody tr th:only-of-type {\n",
       "        vertical-align: middle;\n",
       "    }\n",
       "\n",
       "    .dataframe tbody tr th {\n",
       "        vertical-align: top;\n",
       "    }\n",
       "\n",
       "    .dataframe thead th {\n",
       "        text-align: right;\n",
       "    }\n",
       "</style>\n",
       "<table border=\"1\" class=\"dataframe\">\n",
       "  <thead>\n",
       "    <tr style=\"text-align: right;\">\n",
       "      <th></th>\n",
       "      <th>repm_vin</th>\n",
       "      <th>con_id</th>\n",
       "      <th>phone_no</th>\n",
       "    </tr>\n",
       "  </thead>\n",
       "  <tbody>\n",
       "    <tr>\n",
       "      <th>0</th>\n",
       "      <td>MALAA51HR5M700082</td>\n",
       "      <td>1-29OZ-1503</td>\n",
       "      <td>9891112121</td>\n",
       "    </tr>\n",
       "    <tr>\n",
       "      <th>1</th>\n",
       "      <td>MALAA51HR5M700158</td>\n",
       "      <td>1-29OE-2971</td>\n",
       "      <td>2501201900</td>\n",
       "    </tr>\n",
       "  </tbody>\n",
       "</table>\n",
       "</div>"
      ],
      "text/plain": [
       "            repm_vin       con_id    phone_no\n",
       "0  MALAA51HR5M700082  1-29OZ-1503  9891112121\n",
       "1  MALAA51HR5M700158  1-29OE-2971  2501201900"
      ]
     },
     "execution_count": 31,
     "metadata": {},
     "output_type": "execute_result"
    }
   ],
   "source": [
    "print(\"vin_phone\", vin_phone.shape)\n",
    "vin_phone_notused = vin_phone[~vin_phone['repm_vin'].isin(car_with_used_tag_list)][[\n",
    "    'repm_vin', 'vhcl_con_id', 'phone_no']].rename(columns={'vhcl_con_id': 'con_id'})\n",
    "print(vin_phone_notused.shape)\n",
    "vin_phone_notused.head(2)"
   ]
  },
  {
   "cell_type": "raw",
   "metadata": {},
   "source": [
    "service_phone_notused = service_phone_clean[~service_phone_clean['repm_vin'].isin(used_car_list)][[ \n",
    "    'repm_vin', 'con_id', 'Phone_no']].rename(columns={'Phone_no': 'service_phone'})\n",
    "vin_phone_notused = vin_phone[~vin_phone['repm_vin'].isin(used_car_list)][[\n",
    "    'repm_vin', 'vhcl_con_id', 'phone_no']].rename(columns={'vhcl_con_id': 'con_id'})\n",
    "\n",
    "# Error in next line, service_phone_merge not defined\n",
    "# cust_notused = pd.merge(vin_phone, service_phone_merge, how ='inner', on=['repm_vin'])"
   ]
  },
  {
   "cell_type": "code",
   "execution_count": 32,
   "metadata": {},
   "outputs": [],
   "source": [
    "cust_notused = pd.merge(vin_phone_notused, service_phone_notused, how ='inner', on=['repm_vin'])"
   ]
  },
  {
   "cell_type": "code",
   "execution_count": 33,
   "metadata": {},
   "outputs": [
    {
     "name": "stdout",
     "output_type": "stream",
     "text": [
      "(35407199, 5)\n"
     ]
    },
    {
     "data": {
      "text/html": [
       "<div>\n",
       "<style scoped>\n",
       "    .dataframe tbody tr th:only-of-type {\n",
       "        vertical-align: middle;\n",
       "    }\n",
       "\n",
       "    .dataframe tbody tr th {\n",
       "        vertical-align: top;\n",
       "    }\n",
       "\n",
       "    .dataframe thead th {\n",
       "        text-align: right;\n",
       "    }\n",
       "</style>\n",
       "<table border=\"1\" class=\"dataframe\">\n",
       "  <thead>\n",
       "    <tr style=\"text-align: right;\">\n",
       "      <th></th>\n",
       "      <th>repm_vin</th>\n",
       "      <th>con_id_x</th>\n",
       "      <th>phone_no</th>\n",
       "      <th>con_id_y</th>\n",
       "      <th>service_phone</th>\n",
       "    </tr>\n",
       "  </thead>\n",
       "  <tbody>\n",
       "    <tr>\n",
       "      <th>0</th>\n",
       "      <td>MALAA51HR5M700082</td>\n",
       "      <td>1-29OZ-1503</td>\n",
       "      <td>9891112121</td>\n",
       "      <td>1-29OZ-1503</td>\n",
       "      <td>9891112121</td>\n",
       "    </tr>\n",
       "    <tr>\n",
       "      <th>1</th>\n",
       "      <td>MALAA51HR5M700082</td>\n",
       "      <td>1-29OZ-1503</td>\n",
       "      <td>9891112121</td>\n",
       "      <td>1-29OZ-1503</td>\n",
       "      <td>9891112121</td>\n",
       "    </tr>\n",
       "    <tr>\n",
       "      <th>2</th>\n",
       "      <td>MALAA51HR5M700082</td>\n",
       "      <td>1-29OZ-1503</td>\n",
       "      <td>9891112121</td>\n",
       "      <td>1-29OZ-1503</td>\n",
       "      <td>9891112121</td>\n",
       "    </tr>\n",
       "  </tbody>\n",
       "</table>\n",
       "</div>"
      ],
      "text/plain": [
       "            repm_vin     con_id_x    phone_no     con_id_y service_phone\n",
       "0  MALAA51HR5M700082  1-29OZ-1503  9891112121  1-29OZ-1503    9891112121\n",
       "1  MALAA51HR5M700082  1-29OZ-1503  9891112121  1-29OZ-1503    9891112121\n",
       "2  MALAA51HR5M700082  1-29OZ-1503  9891112121  1-29OZ-1503    9891112121"
      ]
     },
     "execution_count": 33,
     "metadata": {},
     "output_type": "execute_result"
    }
   ],
   "source": [
    "print(cust_notused.shape)\n",
    "cust_notused.head(3)"
   ]
  },
  {
   "cell_type": "code",
   "execution_count": 34,
   "metadata": {},
   "outputs": [
    {
     "data": {
      "text/html": [
       "<div>\n",
       "<style scoped>\n",
       "    .dataframe tbody tr th:only-of-type {\n",
       "        vertical-align: middle;\n",
       "    }\n",
       "\n",
       "    .dataframe tbody tr th {\n",
       "        vertical-align: top;\n",
       "    }\n",
       "\n",
       "    .dataframe thead th {\n",
       "        text-align: right;\n",
       "    }\n",
       "</style>\n",
       "<table border=\"1\" class=\"dataframe\">\n",
       "  <thead>\n",
       "    <tr style=\"text-align: right;\">\n",
       "      <th></th>\n",
       "      <th>repm_vin</th>\n",
       "      <th>con_id_x</th>\n",
       "      <th>phone_no</th>\n",
       "      <th>con_id_y</th>\n",
       "      <th>service_phone</th>\n",
       "      <th>vin_grp</th>\n",
       "    </tr>\n",
       "  </thead>\n",
       "  <tbody>\n",
       "    <tr>\n",
       "      <th>0</th>\n",
       "      <td>MALAA51HR5M700082</td>\n",
       "      <td>1-29OZ-1503</td>\n",
       "      <td>9891112121</td>\n",
       "      <td>1-29OZ-1503</td>\n",
       "      <td>9891112121</td>\n",
       "      <td>566852</td>\n",
       "    </tr>\n",
       "    <tr>\n",
       "      <th>1</th>\n",
       "      <td>MALAA51HR5M700082</td>\n",
       "      <td>1-29OZ-1503</td>\n",
       "      <td>9891112121</td>\n",
       "      <td>1-29OZ-1503</td>\n",
       "      <td>9891112121</td>\n",
       "      <td>566852</td>\n",
       "    </tr>\n",
       "    <tr>\n",
       "      <th>2</th>\n",
       "      <td>MALAA51HR5M700082</td>\n",
       "      <td>1-29OZ-1503</td>\n",
       "      <td>9891112121</td>\n",
       "      <td>1-29OZ-1503</td>\n",
       "      <td>9891112121</td>\n",
       "      <td>566852</td>\n",
       "    </tr>\n",
       "  </tbody>\n",
       "</table>\n",
       "</div>"
      ],
      "text/plain": [
       "            repm_vin     con_id_x    phone_no     con_id_y service_phone  \\\n",
       "0  MALAA51HR5M700082  1-29OZ-1503  9891112121  1-29OZ-1503    9891112121   \n",
       "1  MALAA51HR5M700082  1-29OZ-1503  9891112121  1-29OZ-1503    9891112121   \n",
       "2  MALAA51HR5M700082  1-29OZ-1503  9891112121  1-29OZ-1503    9891112121   \n",
       "\n",
       "   vin_grp  \n",
       "0   566852  \n",
       "1   566852  \n",
       "2   566852  "
      ]
     },
     "execution_count": 34,
     "metadata": {},
     "output_type": "execute_result"
    }
   ],
   "source": [
    "cust_notused['vin_grp'] = cust_notused.groupby(['repm_vin']).ngroup()+1\n",
    "cust_notused.head(3)"
   ]
  },
  {
   "cell_type": "code",
   "execution_count": 35,
   "metadata": {},
   "outputs": [
    {
     "data": {
      "text/html": [
       "<div>\n",
       "<style scoped>\n",
       "    .dataframe tbody tr th:only-of-type {\n",
       "        vertical-align: middle;\n",
       "    }\n",
       "\n",
       "    .dataframe tbody tr th {\n",
       "        vertical-align: top;\n",
       "    }\n",
       "\n",
       "    .dataframe thead th {\n",
       "        text-align: right;\n",
       "    }\n",
       "</style>\n",
       "<table border=\"1\" class=\"dataframe\">\n",
       "  <thead>\n",
       "    <tr style=\"text-align: right;\">\n",
       "      <th></th>\n",
       "      <th>repm_vin</th>\n",
       "      <th>con_id_x</th>\n",
       "      <th>phone_no</th>\n",
       "      <th>con_id_y</th>\n",
       "      <th>service_phone</th>\n",
       "      <th>vin_grp</th>\n",
       "      <th>ser_ph_grp</th>\n",
       "    </tr>\n",
       "  </thead>\n",
       "  <tbody>\n",
       "    <tr>\n",
       "      <th>0</th>\n",
       "      <td>MALAA51HR5M700082</td>\n",
       "      <td>1-29OZ-1503</td>\n",
       "      <td>9891112121</td>\n",
       "      <td>1-29OZ-1503</td>\n",
       "      <td>9891112121</td>\n",
       "      <td>566852</td>\n",
       "      <td>1316486</td>\n",
       "    </tr>\n",
       "    <tr>\n",
       "      <th>1</th>\n",
       "      <td>MALAA51HR5M700082</td>\n",
       "      <td>1-29OZ-1503</td>\n",
       "      <td>9891112121</td>\n",
       "      <td>1-29OZ-1503</td>\n",
       "      <td>9891112121</td>\n",
       "      <td>566852</td>\n",
       "      <td>1316486</td>\n",
       "    </tr>\n",
       "    <tr>\n",
       "      <th>2</th>\n",
       "      <td>MALAA51HR5M700082</td>\n",
       "      <td>1-29OZ-1503</td>\n",
       "      <td>9891112121</td>\n",
       "      <td>1-29OZ-1503</td>\n",
       "      <td>9891112121</td>\n",
       "      <td>566852</td>\n",
       "      <td>1316486</td>\n",
       "    </tr>\n",
       "  </tbody>\n",
       "</table>\n",
       "</div>"
      ],
      "text/plain": [
       "            repm_vin     con_id_x    phone_no     con_id_y service_phone  \\\n",
       "0  MALAA51HR5M700082  1-29OZ-1503  9891112121  1-29OZ-1503    9891112121   \n",
       "1  MALAA51HR5M700082  1-29OZ-1503  9891112121  1-29OZ-1503    9891112121   \n",
       "2  MALAA51HR5M700082  1-29OZ-1503  9891112121  1-29OZ-1503    9891112121   \n",
       "\n",
       "   vin_grp  ser_ph_grp  \n",
       "0   566852     1316486  \n",
       "1   566852     1316486  \n",
       "2   566852     1316486  "
      ]
     },
     "execution_count": 35,
     "metadata": {},
     "output_type": "execute_result"
    }
   ],
   "source": [
    "cust_notused['ser_ph_grp'] = cust_notused.groupby(['service_phone']).ngroup()+1\n",
    "cust_notused.head(3)"
   ]
  },
  {
   "cell_type": "code",
   "execution_count": 36,
   "metadata": {},
   "outputs": [
    {
     "name": "stdout",
     "output_type": "stream",
     "text": [
      "(1682487, 2)\n"
     ]
    },
    {
     "data": {
      "text/html": [
       "<div>\n",
       "<style scoped>\n",
       "    .dataframe tbody tr th:only-of-type {\n",
       "        vertical-align: middle;\n",
       "    }\n",
       "\n",
       "    .dataframe tbody tr th {\n",
       "        vertical-align: top;\n",
       "    }\n",
       "\n",
       "    .dataframe thead th {\n",
       "        text-align: right;\n",
       "    }\n",
       "</style>\n",
       "<table border=\"1\" class=\"dataframe\">\n",
       "  <thead>\n",
       "    <tr style=\"text-align: right;\">\n",
       "      <th></th>\n",
       "      <th>ser_ph_grp</th>\n",
       "      <th>repm_vin</th>\n",
       "    </tr>\n",
       "  </thead>\n",
       "  <tbody>\n",
       "    <tr>\n",
       "      <th>0</th>\n",
       "      <td>1</td>\n",
       "      <td>MALBM51BLJM504767</td>\n",
       "    </tr>\n",
       "    <tr>\n",
       "      <th>1</th>\n",
       "      <td>2</td>\n",
       "      <td>MALA851CLGM513092</td>\n",
       "    </tr>\n",
       "    <tr>\n",
       "      <th>2</th>\n",
       "      <td>3</td>\n",
       "      <td>MALBM51RLEM012428</td>\n",
       "    </tr>\n",
       "    <tr>\n",
       "      <th>3</th>\n",
       "      <td>4</td>\n",
       "      <td>MALSH81XLBM010678</td>\n",
       "    </tr>\n",
       "    <tr>\n",
       "      <th>4</th>\n",
       "      <td>5</td>\n",
       "      <td>MALA251ALJM602011</td>\n",
       "    </tr>\n",
       "  </tbody>\n",
       "</table>\n",
       "</div>"
      ],
      "text/plain": [
       "   ser_ph_grp           repm_vin\n",
       "0           1  MALBM51BLJM504767\n",
       "1           2  MALA851CLGM513092\n",
       "2           3  MALBM51RLEM012428\n",
       "3           4  MALSH81XLBM010678\n",
       "4           5  MALA251ALJM602011"
      ]
     },
     "execution_count": 36,
     "metadata": {},
     "output_type": "execute_result"
    }
   ],
   "source": [
    "phone_vin = cust_notused.groupby(['ser_ph_grp', 'repm_vin']).count().reset_index()\n",
    "phone_vin = phone_vin[['ser_ph_grp', 'repm_vin']]\n",
    "print(phone_vin.shape)\n",
    "phone_vin.head()"
   ]
  },
  {
   "cell_type": "code",
   "execution_count": 37,
   "metadata": {},
   "outputs": [
    {
     "name": "stdout",
     "output_type": "stream",
     "text": [
      "(63318479, 3)\n"
     ]
    },
    {
     "data": {
      "text/html": [
       "<div>\n",
       "<style scoped>\n",
       "    .dataframe tbody tr th:only-of-type {\n",
       "        vertical-align: middle;\n",
       "    }\n",
       "\n",
       "    .dataframe tbody tr th {\n",
       "        vertical-align: top;\n",
       "    }\n",
       "\n",
       "    .dataframe thead th {\n",
       "        text-align: right;\n",
       "    }\n",
       "</style>\n",
       "<table border=\"1\" class=\"dataframe\">\n",
       "  <thead>\n",
       "    <tr style=\"text-align: right;\">\n",
       "      <th></th>\n",
       "      <th>ser_ph_grp</th>\n",
       "      <th>repm_vin_x</th>\n",
       "      <th>repm_vin_y</th>\n",
       "    </tr>\n",
       "  </thead>\n",
       "  <tbody>\n",
       "    <tr>\n",
       "      <th>0</th>\n",
       "      <td>1316486</td>\n",
       "      <td>MALAA51HR5M700082</td>\n",
       "      <td>MALAA51HR5M700082</td>\n",
       "    </tr>\n",
       "    <tr>\n",
       "      <th>1</th>\n",
       "      <td>1316486</td>\n",
       "      <td>MALAA51HR5M700082</td>\n",
       "      <td>MALAA51HR5M700082</td>\n",
       "    </tr>\n",
       "  </tbody>\n",
       "</table>\n",
       "</div>"
      ],
      "text/plain": [
       "   ser_ph_grp         repm_vin_x         repm_vin_y\n",
       "0     1316486  MALAA51HR5M700082  MALAA51HR5M700082\n",
       "1     1316486  MALAA51HR5M700082  MALAA51HR5M700082"
      ]
     },
     "execution_count": 37,
     "metadata": {},
     "output_type": "execute_result"
    }
   ],
   "source": [
    "nwk = pd.merge(cust_notused[['ser_ph_grp', 'repm_vin']], phone_vin, how='left', on=['ser_ph_grp'])\n",
    "print(nwk.shape)\n",
    "nwk.head(2)"
   ]
  },
  {
   "cell_type": "code",
   "execution_count": 38,
   "metadata": {},
   "outputs": [
    {
     "name": "stdout",
     "output_type": "stream",
     "text": [
      "(2825957, 3)\n"
     ]
    },
    {
     "data": {
      "text/html": [
       "<div>\n",
       "<style scoped>\n",
       "    .dataframe tbody tr th:only-of-type {\n",
       "        vertical-align: middle;\n",
       "    }\n",
       "\n",
       "    .dataframe tbody tr th {\n",
       "        vertical-align: top;\n",
       "    }\n",
       "\n",
       "    .dataframe thead th {\n",
       "        text-align: right;\n",
       "    }\n",
       "</style>\n",
       "<table border=\"1\" class=\"dataframe\">\n",
       "  <thead>\n",
       "    <tr style=\"text-align: right;\">\n",
       "      <th></th>\n",
       "      <th>ser_ph_grp</th>\n",
       "      <th>repm_vin_x</th>\n",
       "      <th>repm_vin_y</th>\n",
       "    </tr>\n",
       "  </thead>\n",
       "  <tbody>\n",
       "    <tr>\n",
       "      <th>44</th>\n",
       "      <td>1316486</td>\n",
       "      <td>MALAA51HR5M700082</td>\n",
       "      <td>MALAA51HR5M700082</td>\n",
       "    </tr>\n",
       "    <tr>\n",
       "      <th>63</th>\n",
       "      <td>235</td>\n",
       "      <td>MALAA51HR5M700158</td>\n",
       "      <td>MALAA51HR5M700158</td>\n",
       "    </tr>\n",
       "    <tr>\n",
       "      <th>110</th>\n",
       "      <td>1567815</td>\n",
       "      <td>MALAA51HR5M700178</td>\n",
       "      <td>MALAA51HR5M700178</td>\n",
       "    </tr>\n",
       "  </tbody>\n",
       "</table>\n",
       "</div>"
      ],
      "text/plain": [
       "     ser_ph_grp         repm_vin_x         repm_vin_y\n",
       "44      1316486  MALAA51HR5M700082  MALAA51HR5M700082\n",
       "63          235  MALAA51HR5M700158  MALAA51HR5M700158\n",
       "110     1567815  MALAA51HR5M700178  MALAA51HR5M700178"
      ]
     },
     "execution_count": 38,
     "metadata": {},
     "output_type": "execute_result"
    }
   ],
   "source": [
    "#Need to run graph code with this var\n",
    "nwk_dup_rm = nwk.drop_duplicates(subset = ['ser_ph_grp', 'repm_vin_x','repm_vin_y'], keep = 'last')\n",
    "print(nwk_dup_rm.shape)\n",
    "nwk_dup_rm.head(3)"
   ]
  },
  {
   "cell_type": "code",
   "execution_count": 1,
   "metadata": {},
   "outputs": [
    {
     "ename": "NameError",
     "evalue": "name 'nwk_dup_rm' is not defined",
     "output_type": "error",
     "traceback": [
      "\u001b[0;31m---------------------------------------------------------------------------\u001b[0m",
      "\u001b[0;31mNameError\u001b[0m                                 Traceback (most recent call last)",
      "\u001b[0;32m<ipython-input-1-329788479e32>\u001b[0m in \u001b[0;36m<module>\u001b[0;34m\u001b[0m\n\u001b[0;32m----> 1\u001b[0;31m \u001b[0mnwk_x\u001b[0m \u001b[0;34m=\u001b[0m \u001b[0mnwk_dup_rm\u001b[0m\u001b[0;34m.\u001b[0m\u001b[0mdrop\u001b[0m\u001b[0;34m(\u001b[0m\u001b[0;34m[\u001b[0m\u001b[0;34m'ser_ph_grp'\u001b[0m\u001b[0;34m]\u001b[0m\u001b[0;34m,\u001b[0m \u001b[0maxis\u001b[0m\u001b[0;34m=\u001b[0m\u001b[0;36m1\u001b[0m\u001b[0;34m)\u001b[0m\u001b[0;34m\u001b[0m\u001b[0;34m\u001b[0m\u001b[0m\n\u001b[0m",
      "\u001b[0;31mNameError\u001b[0m: name 'nwk_dup_rm' is not defined"
     ]
    }
   ],
   "source": [
    "nwk_x = nwk.drop(['ser_ph_grp'], axis=1)"
   ]
  },
  {
   "cell_type": "code",
   "execution_count": 40,
   "metadata": {},
   "outputs": [],
   "source": [
    "##Create network graph for service phone and VIN\n",
    "G = nx.from_pandas_edgelist(nwk_x, source='repm_vin_x', target='repm_vin_y')\n",
    "l = list(G.subgraph(x) for x in nx.connected_components(G))\n",
    "d = dict((k, i) for i in range(len(l)) for k in l[i])\n",
    "cust_notused['unique_cust_grp'] = cust_notused.repm_vin.map(d)\n",
    "cust_notused = cust_notused[cust_notused.service_phone.notnull()]"
   ]
  },
  {
   "cell_type": "code",
   "execution_count": 41,
   "metadata": {},
   "outputs": [
    {
     "name": "stdout",
     "output_type": "stream",
     "text": [
      "(35407199, 8)\n"
     ]
    },
    {
     "data": {
      "text/html": [
       "<div>\n",
       "<style scoped>\n",
       "    .dataframe tbody tr th:only-of-type {\n",
       "        vertical-align: middle;\n",
       "    }\n",
       "\n",
       "    .dataframe tbody tr th {\n",
       "        vertical-align: top;\n",
       "    }\n",
       "\n",
       "    .dataframe thead th {\n",
       "        text-align: right;\n",
       "    }\n",
       "</style>\n",
       "<table border=\"1\" class=\"dataframe\">\n",
       "  <thead>\n",
       "    <tr style=\"text-align: right;\">\n",
       "      <th></th>\n",
       "      <th>repm_vin</th>\n",
       "      <th>con_id_x</th>\n",
       "      <th>phone_no</th>\n",
       "      <th>con_id_y</th>\n",
       "      <th>service_phone</th>\n",
       "      <th>vin_grp</th>\n",
       "      <th>ser_ph_grp</th>\n",
       "      <th>unique_cust_grp</th>\n",
       "    </tr>\n",
       "  </thead>\n",
       "  <tbody>\n",
       "    <tr>\n",
       "      <th>0</th>\n",
       "      <td>MALAA51HR5M700082</td>\n",
       "      <td>1-29OZ-1503</td>\n",
       "      <td>9891112121</td>\n",
       "      <td>1-29OZ-1503</td>\n",
       "      <td>9891112121</td>\n",
       "      <td>566852</td>\n",
       "      <td>1316486</td>\n",
       "      <td>0</td>\n",
       "    </tr>\n",
       "    <tr>\n",
       "      <th>1</th>\n",
       "      <td>MALAA51HR5M700082</td>\n",
       "      <td>1-29OZ-1503</td>\n",
       "      <td>9891112121</td>\n",
       "      <td>1-29OZ-1503</td>\n",
       "      <td>9891112121</td>\n",
       "      <td>566852</td>\n",
       "      <td>1316486</td>\n",
       "      <td>0</td>\n",
       "    </tr>\n",
       "    <tr>\n",
       "      <th>2</th>\n",
       "      <td>MALAA51HR5M700082</td>\n",
       "      <td>1-29OZ-1503</td>\n",
       "      <td>9891112121</td>\n",
       "      <td>1-29OZ-1503</td>\n",
       "      <td>9891112121</td>\n",
       "      <td>566852</td>\n",
       "      <td>1316486</td>\n",
       "      <td>0</td>\n",
       "    </tr>\n",
       "    <tr>\n",
       "      <th>3</th>\n",
       "      <td>MALAA51HR5M700082</td>\n",
       "      <td>1-29OZ-1503</td>\n",
       "      <td>9891112121</td>\n",
       "      <td>1-29OZ-1503</td>\n",
       "      <td>9891112121</td>\n",
       "      <td>566852</td>\n",
       "      <td>1316486</td>\n",
       "      <td>0</td>\n",
       "    </tr>\n",
       "    <tr>\n",
       "      <th>4</th>\n",
       "      <td>MALAA51HR5M700082</td>\n",
       "      <td>1-29OZ-1503</td>\n",
       "      <td>9891112121</td>\n",
       "      <td>1-29OZ-1503</td>\n",
       "      <td>9891112121</td>\n",
       "      <td>566852</td>\n",
       "      <td>1316486</td>\n",
       "      <td>0</td>\n",
       "    </tr>\n",
       "  </tbody>\n",
       "</table>\n",
       "</div>"
      ],
      "text/plain": [
       "            repm_vin     con_id_x    phone_no     con_id_y service_phone  \\\n",
       "0  MALAA51HR5M700082  1-29OZ-1503  9891112121  1-29OZ-1503    9891112121   \n",
       "1  MALAA51HR5M700082  1-29OZ-1503  9891112121  1-29OZ-1503    9891112121   \n",
       "2  MALAA51HR5M700082  1-29OZ-1503  9891112121  1-29OZ-1503    9891112121   \n",
       "3  MALAA51HR5M700082  1-29OZ-1503  9891112121  1-29OZ-1503    9891112121   \n",
       "4  MALAA51HR5M700082  1-29OZ-1503  9891112121  1-29OZ-1503    9891112121   \n",
       "\n",
       "   vin_grp  ser_ph_grp  unique_cust_grp  \n",
       "0   566852     1316486                0  \n",
       "1   566852     1316486                0  \n",
       "2   566852     1316486                0  \n",
       "3   566852     1316486                0  \n",
       "4   566852     1316486                0  "
      ]
     },
     "execution_count": 41,
     "metadata": {},
     "output_type": "execute_result"
    }
   ],
   "source": [
    "print(cust_notused.shape)\n",
    "cust_notused.head()"
   ]
  },
  {
   "cell_type": "markdown",
   "metadata": {},
   "source": [
    "**Create unique customer group id for used car VIN**"
   ]
  },
  {
   "cell_type": "code",
   "execution_count": 43,
   "metadata": {},
   "outputs": [
    {
     "data": {
      "text/html": [
       "<div>\n",
       "<style scoped>\n",
       "    .dataframe tbody tr th:only-of-type {\n",
       "        vertical-align: middle;\n",
       "    }\n",
       "\n",
       "    .dataframe tbody tr th {\n",
       "        vertical-align: top;\n",
       "    }\n",
       "\n",
       "    .dataframe thead th {\n",
       "        text-align: right;\n",
       "    }\n",
       "</style>\n",
       "<table border=\"1\" class=\"dataframe\">\n",
       "  <thead>\n",
       "    <tr style=\"text-align: right;\">\n",
       "      <th></th>\n",
       "      <th>repm_dlr_code</th>\n",
       "      <th>repm_cust_no</th>\n",
       "      <th>repm_ro_no</th>\n",
       "      <th>repm_ro_dtime</th>\n",
       "      <th>repm_vin</th>\n",
       "      <th>repm_work_type</th>\n",
       "      <th>repm_vst_type</th>\n",
       "      <th>repm_bill_total_labr_amt</th>\n",
       "      <th>repm_bill_total_othr_amt</th>\n",
       "      <th>repm_bill_total_part_amt</th>\n",
       "      <th>vinm_selling_date</th>\n",
       "      <th>vinm_sale_date</th>\n",
       "      <th>vinm_model_year</th>\n",
       "      <th>vinm_last_milg</th>\n",
       "    </tr>\n",
       "  </thead>\n",
       "  <tbody>\n",
       "    <tr>\n",
       "      <th>0</th>\n",
       "      <td>N3208</td>\n",
       "      <td>C2008020258</td>\n",
       "      <td>R201708673</td>\n",
       "      <td>2017-07-29 10:10:50</td>\n",
       "      <td>MALCG51WR6M015343</td>\n",
       "      <td>OC</td>\n",
       "      <td>NaN</td>\n",
       "      <td>0.00</td>\n",
       "      <td>0.00</td>\n",
       "      <td>0.00</td>\n",
       "      <td>NaN</td>\n",
       "      <td>20060629</td>\n",
       "      <td>2006</td>\n",
       "      <td>81635</td>\n",
       "    </tr>\n",
       "    <tr>\n",
       "      <th>1</th>\n",
       "      <td>W2213</td>\n",
       "      <td>C2008030086</td>\n",
       "      <td>R201610998</td>\n",
       "      <td>2016-11-16 17:14:46</td>\n",
       "      <td>MALCG51WR6M015479</td>\n",
       "      <td>OC</td>\n",
       "      <td>NaN</td>\n",
       "      <td>0.00</td>\n",
       "      <td>0.00</td>\n",
       "      <td>0.00</td>\n",
       "      <td>NaN</td>\n",
       "      <td>20061128</td>\n",
       "      <td>2006</td>\n",
       "      <td>75950</td>\n",
       "    </tr>\n",
       "  </tbody>\n",
       "</table>\n",
       "</div>"
      ],
      "text/plain": [
       "  repm_dlr_code repm_cust_no  repm_ro_no       repm_ro_dtime  \\\n",
       "0         N3208  C2008020258  R201708673 2017-07-29 10:10:50   \n",
       "1         W2213  C2008030086  R201610998 2016-11-16 17:14:46   \n",
       "\n",
       "            repm_vin repm_work_type repm_vst_type repm_bill_total_labr_amt  \\\n",
       "0  MALCG51WR6M015343             OC           NaN                     0.00   \n",
       "1  MALCG51WR6M015479             OC           NaN                     0.00   \n",
       "\n",
       "  repm_bill_total_othr_amt repm_bill_total_part_amt vinm_selling_date  \\\n",
       "0                     0.00                     0.00               NaN   \n",
       "1                     0.00                     0.00               NaN   \n",
       "\n",
       "  vinm_sale_date vinm_model_year  vinm_last_milg  \n",
       "0       20060629            2006           81635  \n",
       "1       20061128            2006           75950  "
      ]
     },
     "execution_count": 43,
     "metadata": {},
     "output_type": "execute_result"
    }
   ],
   "source": [
    "used_car_serv.head(2)"
   ]
  },
  {
   "cell_type": "code",
   "execution_count": 102,
   "metadata": {},
   "outputs": [
    {
     "data": {
      "text/plain": [
       "repm_dlr_code                       object\n",
       "repm_cust_no                        object\n",
       "repm_ro_no                          object\n",
       "repm_ro_dtime               datetime64[ns]\n",
       "repm_vin                            object\n",
       "repm_work_type                      object\n",
       "repm_vst_type                       object\n",
       "repm_bill_total_labr_amt            object\n",
       "repm_bill_total_othr_amt            object\n",
       "repm_bill_total_part_amt            object\n",
       "vinm_selling_date           datetime64[ns]\n",
       "vinm_sale_date                      object\n",
       "vinm_model_year                     object\n",
       "vinm_last_milg                       int64\n",
       "used_car_sale_date_raw              object\n",
       "used_car_sale_date          datetime64[ns]\n",
       "dtype: object"
      ]
     },
     "execution_count": 102,
     "metadata": {},
     "output_type": "execute_result"
    }
   ],
   "source": [
    "used_car_serv.dtypes"
   ]
  },
  {
   "cell_type": "code",
   "execution_count": 45,
   "metadata": {},
   "outputs": [],
   "source": [
    "used_car_serv['repm_ro_dtime'] = pd.to_datetime(used_car_serv['repm_ro_dtime'])"
   ]
  },
  {
   "cell_type": "code",
   "execution_count": 75,
   "metadata": {},
   "outputs": [],
   "source": [
    "used_car_serv['vinm_selling_date'] = pd.to_datetime(used_car_serv['vinm_selling_date'])"
   ]
  },
  {
   "cell_type": "raw",
   "metadata": {},
   "source": [
    "used_car_serv[\"used_car_sale_date_raw\"] = np.where((used_car_serv['vinm_selling_date'].notna()), used_car_serv['vinm_selling_date'].map(lambda x: str(x)[0:4]) + \"-\" +used_car_serv['vinm_selling_date'].map(lambda x: str(x)[4:6])+ \"-\" +used_car_serv['vinm_selling_date'].map(lambda x: str(x)[6:8]),used_car_serv['vinm_selling_date'])"
   ]
  },
  {
   "cell_type": "code",
   "execution_count": 76,
   "metadata": {},
   "outputs": [],
   "source": [
    "used_car_serv[\"used_car_sale_date_raw\"] = np.where((used_car_serv['vinm_selling_date'].notna()), used_car_serv['vinm_selling_date'].map(lambda x: str(x)[0:4]) + \"-\" + used_car_serv['vinm_selling_date'].map(lambda x: str(x)[5:7]) + \"-\" + used_car_serv['vinm_selling_date'].map(lambda x: str(x)[8:10]),used_car_serv['vinm_selling_date'])"
   ]
  },
  {
   "cell_type": "code",
   "execution_count": null,
   "metadata": {},
   "outputs": [],
   "source": [
    "used_car_serv[\"used_car_sale_date_raw\"] = used_car_serv[\"used_car_sale_date_raw\"].replace(np.nan,\"Test\")\n",
    "used_car_serv[\"used_car_sale_date_raw\"] = used_car_serv[\"used_car_sale_date_raw\"].replace(\"Test\",np.nan)"
   ]
  },
  {
   "cell_type": "code",
   "execution_count": 100,
   "metadata": {},
   "outputs": [],
   "source": [
    "used_car_serv['used_car_sale_date'] = pd.to_datetime(used_car_serv['used_car_sale_date_raw'].astype(str), format = '%Y-%m-%d')"
   ]
  },
  {
   "cell_type": "code",
   "execution_count": 101,
   "metadata": {},
   "outputs": [
    {
     "data": {
      "text/html": [
       "<div>\n",
       "<style scoped>\n",
       "    .dataframe tbody tr th:only-of-type {\n",
       "        vertical-align: middle;\n",
       "    }\n",
       "\n",
       "    .dataframe tbody tr th {\n",
       "        vertical-align: top;\n",
       "    }\n",
       "\n",
       "    .dataframe thead th {\n",
       "        text-align: right;\n",
       "    }\n",
       "</style>\n",
       "<table border=\"1\" class=\"dataframe\">\n",
       "  <thead>\n",
       "    <tr style=\"text-align: right;\">\n",
       "      <th></th>\n",
       "      <th>repm_dlr_code</th>\n",
       "      <th>repm_cust_no</th>\n",
       "      <th>repm_ro_no</th>\n",
       "      <th>repm_ro_dtime</th>\n",
       "      <th>repm_vin</th>\n",
       "      <th>repm_work_type</th>\n",
       "      <th>repm_vst_type</th>\n",
       "      <th>repm_bill_total_labr_amt</th>\n",
       "      <th>repm_bill_total_othr_amt</th>\n",
       "      <th>repm_bill_total_part_amt</th>\n",
       "      <th>vinm_selling_date</th>\n",
       "      <th>vinm_sale_date</th>\n",
       "      <th>vinm_model_year</th>\n",
       "      <th>vinm_last_milg</th>\n",
       "      <th>used_car_sale_date_raw</th>\n",
       "      <th>used_car_sale_date</th>\n",
       "    </tr>\n",
       "  </thead>\n",
       "  <tbody>\n",
       "    <tr>\n",
       "      <th>0</th>\n",
       "      <td>N3208</td>\n",
       "      <td>C2008020258</td>\n",
       "      <td>R201708673</td>\n",
       "      <td>2017-07-29 10:10:50</td>\n",
       "      <td>MALCG51WR6M015343</td>\n",
       "      <td>OC</td>\n",
       "      <td>NaN</td>\n",
       "      <td>0.00</td>\n",
       "      <td>0.00</td>\n",
       "      <td>0.00</td>\n",
       "      <td>NaT</td>\n",
       "      <td>20060629</td>\n",
       "      <td>2006</td>\n",
       "      <td>81635</td>\n",
       "      <td>NaN</td>\n",
       "      <td>NaT</td>\n",
       "    </tr>\n",
       "    <tr>\n",
       "      <th>1</th>\n",
       "      <td>W2213</td>\n",
       "      <td>C2008030086</td>\n",
       "      <td>R201610998</td>\n",
       "      <td>2016-11-16 17:14:46</td>\n",
       "      <td>MALCG51WR6M015479</td>\n",
       "      <td>OC</td>\n",
       "      <td>NaN</td>\n",
       "      <td>0.00</td>\n",
       "      <td>0.00</td>\n",
       "      <td>0.00</td>\n",
       "      <td>NaT</td>\n",
       "      <td>20061128</td>\n",
       "      <td>2006</td>\n",
       "      <td>75950</td>\n",
       "      <td>NaN</td>\n",
       "      <td>NaT</td>\n",
       "    </tr>\n",
       "  </tbody>\n",
       "</table>\n",
       "</div>"
      ],
      "text/plain": [
       "  repm_dlr_code repm_cust_no  repm_ro_no       repm_ro_dtime  \\\n",
       "0         N3208  C2008020258  R201708673 2017-07-29 10:10:50   \n",
       "1         W2213  C2008030086  R201610998 2016-11-16 17:14:46   \n",
       "\n",
       "            repm_vin repm_work_type repm_vst_type repm_bill_total_labr_amt  \\\n",
       "0  MALCG51WR6M015343             OC           NaN                     0.00   \n",
       "1  MALCG51WR6M015479             OC           NaN                     0.00   \n",
       "\n",
       "  repm_bill_total_othr_amt repm_bill_total_part_amt vinm_selling_date  \\\n",
       "0                     0.00                     0.00               NaT   \n",
       "1                     0.00                     0.00               NaT   \n",
       "\n",
       "  vinm_sale_date vinm_model_year  vinm_last_milg used_car_sale_date_raw  \\\n",
       "0       20060629            2006           81635                    NaN   \n",
       "1       20061128            2006           75950                    NaN   \n",
       "\n",
       "  used_car_sale_date  \n",
       "0                NaT  \n",
       "1                NaT  "
      ]
     },
     "execution_count": 101,
     "metadata": {},
     "output_type": "execute_result"
    }
   ],
   "source": [
    "used_car_serv.head(2)"
   ]
  },
  {
   "cell_type": "code",
   "execution_count": 103,
   "metadata": {},
   "outputs": [],
   "source": [
    "used_car_serv_1 = used_car_serv[used_car_serv['repm_ro_dtime']< used_car_serv['used_car_sale_date']] #1st owner of the car"
   ]
  },
  {
   "cell_type": "code",
   "execution_count": 104,
   "metadata": {},
   "outputs": [],
   "source": [
    "used_car_serv_2 = used_car_serv[used_car_serv['repm_ro_dtime']>=used_car_serv['used_car_sale_date']] #2nd owner of the car"
   ]
  },
  {
   "cell_type": "code",
   "execution_count": 105,
   "metadata": {},
   "outputs": [
    {
     "name": "stdout",
     "output_type": "stream",
     "text": [
      "used_car_serv whole dataset (33744535, 16)\n",
      "used_car_serv_1 : (922684, 16)\n",
      "used_car_serv_2 : (649870, 16)\n"
     ]
    }
   ],
   "source": [
    "print(\"used_car_serv whole dataset\", used_car_serv.shape)\n",
    "print(\"used_car_serv_1 :\" , used_car_serv_1.shape)\n",
    "print(\"used_car_serv_2 :\" , used_car_serv_2.shape)"
   ]
  },
  {
   "cell_type": "code",
   "execution_count": 106,
   "metadata": {},
   "outputs": [],
   "source": [
    "used_car_serv_2 = used_car_serv_2[used_car_serv_2['repm_work_type']!='PD'] #Remove service phone associated with 'PD' type\n",
    "used_car_serv_1 = used_car_serv_1[used_car_serv_1['repm_work_type']!='PD'] #Remove service phone associated with 'PD' type"
   ]
  },
  {
   "cell_type": "code",
   "execution_count": 107,
   "metadata": {},
   "outputs": [],
   "source": [
    "#Data pre-processing for used_car_serv_1. Remove bad phone numbers and merge to the vin_phone df. \n",
    "vin_phone_y = vin_phone[vin_phone['repm_vin'].isin(used_car_serv_1.repm_vin.unique().tolist())][\n",
    "    ['repm_vin', 'vhcl_con_id', 'phone_no']].rename(columns={'vhcl_con_id': 'con_id'})"
   ]
  },
  {
   "cell_type": "code",
   "execution_count": 108,
   "metadata": {},
   "outputs": [
    {
     "name": "stdout",
     "output_type": "stream",
     "text": [
      "(1009150, 3)\n"
     ]
    },
    {
     "data": {
      "text/html": [
       "<div>\n",
       "<style scoped>\n",
       "    .dataframe tbody tr th:only-of-type {\n",
       "        vertical-align: middle;\n",
       "    }\n",
       "\n",
       "    .dataframe tbody tr th {\n",
       "        vertical-align: top;\n",
       "    }\n",
       "\n",
       "    .dataframe thead th {\n",
       "        text-align: right;\n",
       "    }\n",
       "</style>\n",
       "<table border=\"1\" class=\"dataframe\">\n",
       "  <thead>\n",
       "    <tr style=\"text-align: right;\">\n",
       "      <th></th>\n",
       "      <th>repm_vin</th>\n",
       "      <th>con_id</th>\n",
       "      <th>phone_no</th>\n",
       "    </tr>\n",
       "  </thead>\n",
       "  <tbody>\n",
       "    <tr>\n",
       "      <th>8</th>\n",
       "      <td>MALAA51HR5M700943</td>\n",
       "      <td>1-2B0Q-288</td>\n",
       "      <td>9685278310</td>\n",
       "    </tr>\n",
       "    <tr>\n",
       "      <th>9</th>\n",
       "      <td>MALAA51HR5M700944</td>\n",
       "      <td>1-2AU1-1483</td>\n",
       "      <td>9981290940</td>\n",
       "    </tr>\n",
       "  </tbody>\n",
       "</table>\n",
       "</div>"
      ],
      "text/plain": [
       "            repm_vin       con_id    phone_no\n",
       "8  MALAA51HR5M700943   1-2B0Q-288  9685278310\n",
       "9  MALAA51HR5M700944  1-2AU1-1483  9981290940"
      ]
     },
     "execution_count": 108,
     "metadata": {},
     "output_type": "execute_result"
    }
   ],
   "source": [
    "print(vin_phone_y.shape)\n",
    "vin_phone_y.head(2)"
   ]
  },
  {
   "cell_type": "code",
   "execution_count": 109,
   "metadata": {},
   "outputs": [
    {
     "data": {
      "text/plain": [
       "both          1127854\n",
       "left_only      223177\n",
       "right_only          0\n",
       "Name: _merge, dtype: int64"
      ]
     },
     "execution_count": 109,
     "metadata": {},
     "output_type": "execute_result"
    }
   ],
   "source": [
    "used_car_serv_1 = pd.merge(used_car_serv_1,service_phone_clean[['repm_vin','Phone_no']], on = 'repm_vin', how ='left', indicator = True)\n",
    "used_car_serv_1['_merge'].value_counts()"
   ]
  },
  {
   "cell_type": "code",
   "execution_count": 110,
   "metadata": {},
   "outputs": [
    {
     "name": "stdout",
     "output_type": "stream",
     "text": [
      "(1347774, 2)\n"
     ]
    },
    {
     "data": {
      "text/html": [
       "<div>\n",
       "<style scoped>\n",
       "    .dataframe tbody tr th:only-of-type {\n",
       "        vertical-align: middle;\n",
       "    }\n",
       "\n",
       "    .dataframe tbody tr th {\n",
       "        vertical-align: top;\n",
       "    }\n",
       "\n",
       "    .dataframe thead th {\n",
       "        text-align: right;\n",
       "    }\n",
       "</style>\n",
       "<table border=\"1\" class=\"dataframe\">\n",
       "  <thead>\n",
       "    <tr style=\"text-align: right;\">\n",
       "      <th></th>\n",
       "      <th>repm_vin</th>\n",
       "      <th>service_phone</th>\n",
       "    </tr>\n",
       "  </thead>\n",
       "  <tbody>\n",
       "    <tr>\n",
       "      <th>0</th>\n",
       "      <td>MALCH41GRYM012111</td>\n",
       "      <td>NaN</td>\n",
       "    </tr>\n",
       "    <tr>\n",
       "      <th>1</th>\n",
       "      <td>MALCH41GRYM012111</td>\n",
       "      <td>NaN</td>\n",
       "    </tr>\n",
       "  </tbody>\n",
       "</table>\n",
       "</div>"
      ],
      "text/plain": [
       "            repm_vin service_phone\n",
       "0  MALCH41GRYM012111           NaN\n",
       "1  MALCH41GRYM012111           NaN"
      ]
     },
     "execution_count": 110,
     "metadata": {},
     "output_type": "execute_result"
    }
   ],
   "source": [
    "used_car_1_con = used_car_serv_1[~used_car_serv_1['Phone_no'].isin(Bad_service_phone)][['repm_vin', 'Phone_no']].rename(\n",
    "columns={'Phone_no': 'service_phone'})\n",
    "print(used_car_1_con.shape)\n",
    "used_car_1_con.head(2)"
   ]
  },
  {
   "cell_type": "code",
   "execution_count": 111,
   "metadata": {},
   "outputs": [
    {
     "name": "stdout",
     "output_type": "stream",
     "text": [
      "(1663924, 4)\n"
     ]
    },
    {
     "data": {
      "text/html": [
       "<div>\n",
       "<style scoped>\n",
       "    .dataframe tbody tr th:only-of-type {\n",
       "        vertical-align: middle;\n",
       "    }\n",
       "\n",
       "    .dataframe tbody tr th {\n",
       "        vertical-align: top;\n",
       "    }\n",
       "\n",
       "    .dataframe thead th {\n",
       "        text-align: right;\n",
       "    }\n",
       "</style>\n",
       "<table border=\"1\" class=\"dataframe\">\n",
       "  <thead>\n",
       "    <tr style=\"text-align: right;\">\n",
       "      <th></th>\n",
       "      <th>repm_vin</th>\n",
       "      <th>con_id</th>\n",
       "      <th>phone_no</th>\n",
       "      <th>service_phone</th>\n",
       "    </tr>\n",
       "  </thead>\n",
       "  <tbody>\n",
       "    <tr>\n",
       "      <th>0</th>\n",
       "      <td>MALAA51HR5M700943</td>\n",
       "      <td>1-2B0Q-288</td>\n",
       "      <td>9685278310</td>\n",
       "      <td>9993666957</td>\n",
       "    </tr>\n",
       "    <tr>\n",
       "      <th>1</th>\n",
       "      <td>MALAA51HR5M700943</td>\n",
       "      <td>1-2B0Q-288</td>\n",
       "      <td>9685278310</td>\n",
       "      <td>9685278310</td>\n",
       "    </tr>\n",
       "    <tr>\n",
       "      <th>2</th>\n",
       "      <td>MALAA51HR5M700944</td>\n",
       "      <td>1-2AU1-1483</td>\n",
       "      <td>9981290940</td>\n",
       "      <td>9981290940</td>\n",
       "    </tr>\n",
       "  </tbody>\n",
       "</table>\n",
       "</div>"
      ],
      "text/plain": [
       "            repm_vin       con_id    phone_no service_phone\n",
       "0  MALAA51HR5M700943   1-2B0Q-288  9685278310    9993666957\n",
       "1  MALAA51HR5M700943   1-2B0Q-288  9685278310    9685278310\n",
       "2  MALAA51HR5M700944  1-2AU1-1483  9981290940    9981290940"
      ]
     },
     "execution_count": 111,
     "metadata": {},
     "output_type": "execute_result"
    }
   ],
   "source": [
    "#used_car_1_con = used_car_1_con[used_car_1_con['service_phone'].notnull()]\n",
    "used_car_1_con = used_car_1_con.drop_duplicates(subset=['service_phone'])\n",
    "\n",
    "#used_car_1st = pd.merge(sales_vin_y, used_car_1_con, how='left', on=['repm_vin'])\n",
    "used_car_1st = pd.merge(vin_phone_y, used_car_1_con, how='left', on=['repm_vin'])\n",
    "used_car_1st = used_car_1st[used_car_1st.service_phone.notnull()]\n",
    "print(used_car_1st.shape)\n",
    "used_car_1st.head(3)"
   ]
  },
  {
   "cell_type": "code",
   "execution_count": 112,
   "metadata": {},
   "outputs": [],
   "source": [
    "#Check how many service phone numbers present in used_car_serv_1 is present in cust_notused.\n",
    "#These should be assigned same customer group as present in cust_notused\n",
    "notused_dict = pd.Series(cust_notused['unique_cust_grp'].values, \n",
    "                        index=cust_notused['service_phone']).to_dict()"
   ]
  },
  {
   "cell_type": "code",
   "execution_count": 113,
   "metadata": {},
   "outputs": [
    {
     "name": "stdout",
     "output_type": "stream",
     "text": [
      "used_car_1st: (1663924, 4)\n",
      "used_car_1st_notused: (262986, 4)\n"
     ]
    }
   ],
   "source": [
    "print(\"used_car_1st:\", used_car_1st.shape)\n",
    "used_car_1st_notused = used_car_1st[used_car_1st.service_phone.isin(cust_notused.service_phone.unique().tolist())]\n",
    "print(\"used_car_1st_notused:\", used_car_1st_notused.shape)"
   ]
  },
  {
   "cell_type": "code",
   "execution_count": 114,
   "metadata": {},
   "outputs": [
    {
     "data": {
      "text/plain": [
       "(459599, 4)"
      ]
     },
     "execution_count": 114,
     "metadata": {},
     "output_type": "execute_result"
    }
   ],
   "source": [
    "used_car_1st_notused = used_car_1st[used_car_1st.repm_vin.isin(used_car_1st_notused.repm_vin.unique().tolist())]\n",
    "used_car_1st_notused.shape"
   ]
  },
  {
   "cell_type": "code",
   "execution_count": 115,
   "metadata": {},
   "outputs": [
    {
     "name": "stdout",
     "output_type": "stream",
     "text": [
      "used_car_1st_notused: (459599, 5)\n"
     ]
    },
    {
     "name": "stderr",
     "output_type": "stream",
     "text": [
      "/usr/local/src/anaconda3/lib/python3.6/site-packages/ipykernel_launcher.py:1: SettingWithCopyWarning: \n",
      "A value is trying to be set on a copy of a slice from a DataFrame.\n",
      "Try using .loc[row_indexer,col_indexer] = value instead\n",
      "\n",
      "See the caveats in the documentation: http://pandas.pydata.org/pandas-docs/stable/indexing.html#indexing-view-versus-copy\n",
      "  \"\"\"Entry point for launching an IPython kernel.\n"
     ]
    },
    {
     "data": {
      "text/html": [
       "<div>\n",
       "<style scoped>\n",
       "    .dataframe tbody tr th:only-of-type {\n",
       "        vertical-align: middle;\n",
       "    }\n",
       "\n",
       "    .dataframe tbody tr th {\n",
       "        vertical-align: top;\n",
       "    }\n",
       "\n",
       "    .dataframe thead th {\n",
       "        text-align: right;\n",
       "    }\n",
       "</style>\n",
       "<table border=\"1\" class=\"dataframe\">\n",
       "  <thead>\n",
       "    <tr style=\"text-align: right;\">\n",
       "      <th></th>\n",
       "      <th>repm_vin</th>\n",
       "      <th>con_id</th>\n",
       "      <th>phone_no</th>\n",
       "      <th>service_phone</th>\n",
       "      <th>unique_cust_grp</th>\n",
       "    </tr>\n",
       "  </thead>\n",
       "  <tbody>\n",
       "    <tr>\n",
       "      <th>14</th>\n",
       "      <td>MALAA51HR5M706952</td>\n",
       "      <td>1-29NP-4166</td>\n",
       "      <td>1234567890</td>\n",
       "      <td>9949241000</td>\n",
       "      <td>786935.0</td>\n",
       "    </tr>\n",
       "    <tr>\n",
       "      <th>29</th>\n",
       "      <td>MALAA51HR5M716803</td>\n",
       "      <td>1-29WV-2528</td>\n",
       "      <td>9412055310</td>\n",
       "      <td>9412055310</td>\n",
       "      <td>NaN</td>\n",
       "    </tr>\n",
       "    <tr>\n",
       "      <th>30</th>\n",
       "      <td>MALAA51HR5M716803</td>\n",
       "      <td>1-29WV-2528</td>\n",
       "      <td>9412055310</td>\n",
       "      <td>9675726092</td>\n",
       "      <td>385028.0</td>\n",
       "    </tr>\n",
       "  </tbody>\n",
       "</table>\n",
       "</div>"
      ],
      "text/plain": [
       "             repm_vin       con_id    phone_no service_phone  unique_cust_grp\n",
       "14  MALAA51HR5M706952  1-29NP-4166  1234567890    9949241000         786935.0\n",
       "29  MALAA51HR5M716803  1-29WV-2528  9412055310    9412055310              NaN\n",
       "30  MALAA51HR5M716803  1-29WV-2528  9412055310    9675726092         385028.0"
      ]
     },
     "execution_count": 115,
     "metadata": {},
     "output_type": "execute_result"
    }
   ],
   "source": [
    "used_car_1st_notused['unique_cust_grp'] = used_car_1st_notused['service_phone'].map(notused_dict)\n",
    "print(\"used_car_1st_notused:\", used_car_1st_notused.shape)\n",
    "used_car_1st_notused.head(3)"
   ]
  },
  {
   "cell_type": "code",
   "execution_count": 116,
   "metadata": {},
   "outputs": [],
   "source": [
    "used_1_cust_dict = pd.Series(used_car_1st_notused['unique_cust_grp'].values, \n",
    "                        index=used_car_1st_notused['repm_vin']).to_dict()"
   ]
  },
  {
   "cell_type": "code",
   "execution_count": 117,
   "metadata": {},
   "outputs": [
    {
     "name": "stderr",
     "output_type": "stream",
     "text": [
      "/usr/local/src/anaconda3/lib/python3.6/site-packages/ipykernel_launcher.py:2: SettingWithCopyWarning: \n",
      "A value is trying to be set on a copy of a slice from a DataFrame.\n",
      "Try using .loc[row_indexer,col_indexer] = value instead\n",
      "\n",
      "See the caveats in the documentation: http://pandas.pydata.org/pandas-docs/stable/indexing.html#indexing-view-versus-copy\n",
      "  \n",
      "/usr/local/src/anaconda3/lib/python3.6/site-packages/ipykernel_launcher.py:4: SettingWithCopyWarning: \n",
      "A value is trying to be set on a copy of a slice from a DataFrame.\n",
      "Try using .loc[row_indexer,col_indexer] = value instead\n",
      "\n",
      "See the caveats in the documentation: http://pandas.pydata.org/pandas-docs/stable/indexing.html#indexing-view-versus-copy\n",
      "  after removing the cwd from sys.path.\n",
      "/usr/local/src/anaconda3/lib/python3.6/site-packages/ipykernel_launcher.py:5: SettingWithCopyWarning: \n",
      "A value is trying to be set on a copy of a slice from a DataFrame.\n",
      "Try using .loc[row_indexer,col_indexer] = value instead\n",
      "\n",
      "See the caveats in the documentation: http://pandas.pydata.org/pandas-docs/stable/indexing.html#indexing-view-versus-copy\n",
      "  \"\"\"\n",
      "/usr/local/src/anaconda3/lib/python3.6/site-packages/ipykernel_launcher.py:9: FutureWarning: Sorting because non-concatenation axis is not aligned. A future version\n",
      "of pandas will change to not sort by default.\n",
      "\n",
      "To accept the future behavior, pass 'sort=False'.\n",
      "\n",
      "To retain the current behavior and silence the warning, pass 'sort=True'.\n",
      "\n",
      "  if __name__ == '__main__':\n"
     ]
    }
   ],
   "source": [
    "used_car_1st_notused = used_car_1st[used_car_1st.repm_vin.isin(used_car_1st_notused.repm_vin.unique().tolist())]\n",
    "used_car_1st_notused['unique_cust_grp'] = used_car_1st_notused['repm_vin'].map(used_1_cust_dict)    \n",
    "\n",
    "used_car_1st_notused['vin_grp'] = 'used_car_1st'   #Identify customer groups with used cars. Such VIN will be present across multiple customer group\n",
    "used_car_1st_notused['ser_ph_grp'] = 'same_notused' #Identify customer groups with used cars. \n",
    "\n",
    "used_car_1st_notused = used_car_1st_notused[['repm_vin', 'con_id', 'phone_no', 'service_phone', 'vin_grp',\n",
    "                                             'ser_ph_grp', 'unique_cust_grp']]\n",
    "cust_grp = pd.concat([cust_notused, used_car_1st_notused]) #Concat this to cust_notused"
   ]
  },
  {
   "cell_type": "code",
   "execution_count": 118,
   "metadata": {},
   "outputs": [],
   "source": [
    "#Create unique customer group ids for used_car_1 that are not present in cust_notused\n",
    "used_car_1st_unique = used_car_1st[~used_car_1st.repm_vin.isin(used_car_1st_notused.service_phone.unique().tolist())]\n",
    "used_car_1st_unique['vin_grp'] = used_car_1st_unique.groupby(['repm_vin']).ngroup()+1\n",
    "used_car_1st_unique['ser_ph_grp'] = used_car_1st_unique.groupby(['service_phone']).ngroup()+1"
   ]
  },
  {
   "cell_type": "code",
   "execution_count": 119,
   "metadata": {},
   "outputs": [],
   "source": [
    "phone_vin_a = used_car_1st_unique.groupby(['ser_ph_grp', 'repm_vin']).count().reset_index()\n",
    "phone_vin_a = phone_vin_a[['ser_ph_grp', 'repm_vin']]\n",
    "\n",
    "nwk_used_1 = pd.merge(used_car_1st_unique[['ser_ph_grp', 'repm_vin']], phone_vin_a, how='left', on=['ser_ph_grp'])\n",
    "nwk_used_1_x = nwk_used_1.drop(['ser_ph_grp'], axis=1)"
   ]
  },
  {
   "cell_type": "code",
   "execution_count": 120,
   "metadata": {},
   "outputs": [],
   "source": [
    "G_used = nx.from_pandas_edgelist(nwk_used_1_x, source='repm_vin_x', target='repm_vin_y')\n",
    "l = [list(G_used.subgraph(x)) for x in nx.connected_components(G_used)]\n",
    "d_used = dict((k, i) for i in range(len(l)) for k in l[i])"
   ]
  },
  {
   "cell_type": "code",
   "execution_count": 121,
   "metadata": {},
   "outputs": [
    {
     "name": "stderr",
     "output_type": "stream",
     "text": [
      "/usr/local/src/anaconda3/lib/python3.6/site-packages/ipykernel_launcher.py:8: FutureWarning: Sorting because non-concatenation axis is not aligned. A future version\n",
      "of pandas will change to not sort by default.\n",
      "\n",
      "To accept the future behavior, pass 'sort=False'.\n",
      "\n",
      "To retain the current behavior and silence the warning, pass 'sort=True'.\n",
      "\n",
      "  \n"
     ]
    },
    {
     "data": {
      "text/plain": [
       "(37530722, 9)"
      ]
     },
     "execution_count": 121,
     "metadata": {},
     "output_type": "execute_result"
    }
   ],
   "source": [
    "used_car_1st_unique['unique_cust_grp_initial'] = used_car_1st_unique.repm_vin.map(d_used)\n",
    "\n",
    "#Add a '_used' tag to cust_grp so that the group numbers are unique\n",
    "used_car_1st_unique['unique_cust_grp'] = used_car_1st_unique['unique_cust_grp_initial'].astype(str) + '_' + 'used'\n",
    "used_car_1st_unique = used_car_1st_unique.drop(['unique_cust_grp_initial'], axis=1)\n",
    "\n",
    "#Merge with cust_grp\n",
    "cust_grp = pd.concat([cust_grp, used_car_1st_unique])\n",
    "cust_grp.shape"
   ]
  },
  {
   "cell_type": "code",
   "execution_count": 122,
   "metadata": {},
   "outputs": [
    {
     "data": {
      "text/plain": [
       "(649478, 16)"
      ]
     },
     "execution_count": 122,
     "metadata": {},
     "output_type": "execute_result"
    }
   ],
   "source": [
    "used_car_serv_2.shape"
   ]
  },
  {
   "cell_type": "code",
   "execution_count": 123,
   "metadata": {},
   "outputs": [
    {
     "data": {
      "text/plain": [
       "both          899203\n",
       "left_only     119648\n",
       "right_only         0\n",
       "Name: _merge, dtype: int64"
      ]
     },
     "execution_count": 123,
     "metadata": {},
     "output_type": "execute_result"
    }
   ],
   "source": [
    "used_car_serv_2 = pd.merge(used_car_serv_2,service_phone_clean[['repm_vin', 'master_cell_phone', 'con_id','Phone_no']], on = 'repm_vin', how ='left',indicator=True)\n",
    "used_car_serv_2['_merge'].value_counts()"
   ]
  },
  {
   "cell_type": "code",
   "execution_count": 124,
   "metadata": {},
   "outputs": [
    {
     "data": {
      "text/plain": [
       "(1018851, 20)"
      ]
     },
     "execution_count": 124,
     "metadata": {},
     "output_type": "execute_result"
    }
   ],
   "source": [
    "used_car_serv_2.shape"
   ]
  },
  {
   "cell_type": "code",
   "execution_count": 125,
   "metadata": {},
   "outputs": [],
   "source": [
    "#Used_car_2 pre-processing\n",
    "used_car_2nd = used_car_serv_2[used_car_serv_2.Phone_no.notnull()][['repm_vin', 'con_id', 'master_cell_phone',\n",
    "                                                                    'Phone_no']].rename(\n",
    "    columns={'master_cell_phone': 'phone_no', 'Phone_no':'service_phone'})\n",
    "used_car_2nd = used_car_2nd[~used_car_2nd.service_phone.isin(Bad_service_phone)]"
   ]
  },
  {
   "cell_type": "code",
   "execution_count": 126,
   "metadata": {},
   "outputs": [
    {
     "name": "stderr",
     "output_type": "stream",
     "text": [
      "/usr/local/src/anaconda3/lib/python3.6/site-packages/ipykernel_launcher.py:8: SettingWithCopyWarning: \n",
      "A value is trying to be set on a copy of a slice from a DataFrame.\n",
      "Try using .loc[row_indexer,col_indexer] = value instead\n",
      "\n",
      "See the caveats in the documentation: http://pandas.pydata.org/pandas-docs/stable/indexing.html#indexing-view-versus-copy\n",
      "  \n",
      "/usr/local/src/anaconda3/lib/python3.6/site-packages/ipykernel_launcher.py:12: SettingWithCopyWarning: \n",
      "A value is trying to be set on a copy of a slice from a DataFrame.\n",
      "Try using .loc[row_indexer,col_indexer] = value instead\n",
      "\n",
      "See the caveats in the documentation: http://pandas.pydata.org/pandas-docs/stable/indexing.html#indexing-view-versus-copy\n",
      "  if sys.path[0] == '':\n",
      "/usr/local/src/anaconda3/lib/python3.6/site-packages/ipykernel_launcher.py:14: SettingWithCopyWarning: \n",
      "A value is trying to be set on a copy of a slice from a DataFrame.\n",
      "Try using .loc[row_indexer,col_indexer] = value instead\n",
      "\n",
      "See the caveats in the documentation: http://pandas.pydata.org/pandas-docs/stable/indexing.html#indexing-view-versus-copy\n",
      "  \n",
      "/usr/local/src/anaconda3/lib/python3.6/site-packages/ipykernel_launcher.py:15: SettingWithCopyWarning: \n",
      "A value is trying to be set on a copy of a slice from a DataFrame.\n",
      "Try using .loc[row_indexer,col_indexer] = value instead\n",
      "\n",
      "See the caveats in the documentation: http://pandas.pydata.org/pandas-docs/stable/indexing.html#indexing-view-versus-copy\n",
      "  from ipykernel import kernelapp as app\n",
      "/usr/local/src/anaconda3/lib/python3.6/site-packages/ipykernel_launcher.py:21: FutureWarning: Sorting because non-concatenation axis is not aligned. A future version\n",
      "of pandas will change to not sort by default.\n",
      "\n",
      "To accept the future behavior, pass 'sort=False'.\n",
      "\n",
      "To retain the current behavior and silence the warning, pass 'sort=True'.\n",
      "\n"
     ]
    }
   ],
   "source": [
    "#Check how many service phone numbers present in used_car_serv_2 is present in cust_grp.\n",
    "#These should be assigned same customer group as present in cust_grp\n",
    "all_dict = pd.Series(cust_grp['unique_cust_grp'].values, \n",
    "                        index=cust_grp['service_phone']).to_dict()\n",
    "\n",
    "used_car_2nd_notused = used_car_2nd[used_car_2nd.service_phone.isin(cust_grp.service_phone.unique().tolist())]\n",
    "used_car_2nd_notused = used_car_2nd[used_car_2nd.repm_vin.isin(used_car_2nd_notused.repm_vin.unique().tolist())]\n",
    "used_car_2nd_notused['unique_cust_grp'] = used_car_2nd_notused['service_phone'].map(all_dict)\n",
    "used_2_cust_dict = pd.Series(used_car_2nd_notused['unique_cust_grp'].values, \n",
    "                        index=used_car_2nd_notused['repm_vin']).to_dict()\n",
    "used_car_2nd_notused = used_car_2nd[used_car_2nd.repm_vin.isin(used_car_1st_notused.repm_vin.unique().tolist())]\n",
    "used_car_2nd_notused['unique_cust_grp'] = used_car_2nd_notused['repm_vin'].map(used_1_cust_dict)    \n",
    "\n",
    "used_car_2nd_notused['vin_grp'] = 'used_car_2nd'    #Identify customer groups with used cars.\n",
    "used_car_2nd_notused['ser_ph_grp'] = 'same_notused'  #Identify customer groups with used cars.\n",
    "\n",
    "used_car_2nd_notused = used_car_2nd_notused[['repm_vin', 'con_id', 'phone_no', 'service_phone', 'vin_grp',\n",
    "                                             'ser_ph_grp', 'unique_cust_grp']]\n",
    "\n",
    "#Merge with cust_grp\n",
    "cust_grp = pd.concat([cust_grp, used_car_2nd_notused])"
   ]
  },
  {
   "cell_type": "code",
   "execution_count": 127,
   "metadata": {},
   "outputs": [
    {
     "data": {
      "text/plain": [
       "(37585221, 9)"
      ]
     },
     "execution_count": 127,
     "metadata": {},
     "output_type": "execute_result"
    }
   ],
   "source": [
    "cust_grp.shape"
   ]
  },
  {
   "cell_type": "code",
   "execution_count": 128,
   "metadata": {},
   "outputs": [],
   "source": [
    "#Create unique customer group ids for used_car_2 that are not present in cust_grp\n",
    "\n",
    "used_car_2nd_unique = used_car_2nd[~used_car_2nd.repm_vin.isin(used_car_2nd_notused.repm_vin.unique().tolist())]\n",
    "used_car_2nd_unique = used_car_2nd_unique.drop_duplicates(subset=['repm_vin', 'con_id', 'service_phone'])\n",
    "used_car_2nd_unique['vin_grp'] = used_car_2nd_unique.groupby(['repm_vin']).ngroup()+1\n",
    "used_car_2nd_unique['ser_ph_grp'] = used_car_2nd_unique.groupby(['service_phone']).ngroup()+1\n",
    "phone_vin_b = used_car_2nd_unique.groupby(['ser_ph_grp', 'repm_vin']).count().reset_index()\n",
    "phone_vin_b = phone_vin_b[['ser_ph_grp', 'repm_vin']]\n",
    "nwk_used_2 = pd.merge(used_car_2nd_unique[['ser_ph_grp', 'repm_vin']], phone_vin_b, how='left', on=['ser_ph_grp'])\n",
    "nwk_used_2_x = nwk_used_2.drop(['ser_ph_grp'], axis=1)"
   ]
  },
  {
   "cell_type": "code",
   "execution_count": 129,
   "metadata": {},
   "outputs": [],
   "source": [
    "# Create the graph\n",
    "G_used_2 = nx.from_pandas_edgelist(nwk_used_2_x, source='repm_vin_x', target='repm_vin_y')\n",
    "l = [list(G_used_2.subgraph(x)) for x in nx.connected_components(G_used_2)]\n",
    "d_used_2 = dict((k, i) for i in range(len(l)) for k in l[i])"
   ]
  },
  {
   "cell_type": "code",
   "execution_count": 130,
   "metadata": {},
   "outputs": [
    {
     "name": "stderr",
     "output_type": "stream",
     "text": [
      "/usr/local/src/anaconda3/lib/python3.6/site-packages/ipykernel_launcher.py:7: FutureWarning: Sorting because non-concatenation axis is not aligned. A future version\n",
      "of pandas will change to not sort by default.\n",
      "\n",
      "To accept the future behavior, pass 'sort=False'.\n",
      "\n",
      "To retain the current behavior and silence the warning, pass 'sort=True'.\n",
      "\n",
      "  import sys\n"
     ]
    },
    {
     "data": {
      "text/plain": [
       "(37776982, 9)"
      ]
     },
     "execution_count": 130,
     "metadata": {},
     "output_type": "execute_result"
    }
   ],
   "source": [
    "used_car_2nd_unique['unique_cust_grp_initial'] = used_car_2nd_unique.repm_vin.map(d_used_2)\n",
    "\n",
    "#Add a '_used2' tag to cust_grp so that the group numbers are unique\n",
    "used_car_2nd_unique['unique_cust_grp'] = used_car_2nd_unique['unique_cust_grp_initial'].astype(str) + '_' + 'used2'\n",
    "used_car_2nd_unique = used_car_2nd_unique.drop(['unique_cust_grp_initial'], axis=1)\n",
    "#Merge with cust_grp\n",
    "cust_grp = pd.concat([cust_grp, used_car_2nd_unique])\n",
    "cust_grp.shape"
   ]
  },
  {
   "cell_type": "code",
   "execution_count": 131,
   "metadata": {},
   "outputs": [
    {
     "data": {
      "text/plain": [
       "(1924867, 9)"
      ]
     },
     "execution_count": 131,
     "metadata": {},
     "output_type": "execute_result"
    }
   ],
   "source": [
    "#Remove duplicates\n",
    "cust_grp_final = cust_grp.drop_duplicates(subset=['repm_vin', 'con_id', 'phone_no', 'service_phone'])\n",
    "cust_grp_final.shape"
   ]
  },
  {
   "cell_type": "code",
   "execution_count": 146,
   "metadata": {},
   "outputs": [],
   "source": [
    "#cust_grp.reset_index().to_excel(\"Cust_grp_master.xlsx\")\n",
    "#cust_grp_final.reset_index().to_excel(\"Cust_grp_master_unique.xlsx\")\n",
    "cust_grp.reset_index().to_json(\"Cust_grp_master.JSON\")"
   ]
  },
  {
   "cell_type": "code",
   "execution_count": 139,
   "metadata": {},
   "outputs": [],
   "source": [
    "# Add Target column to cust_grp_final df to identify customer group that provided referral vs those that did not\n",
    "\n",
    "# refrl_tag = pd.read_excel('crm_rcrefl_tb_complete.xlsx') #Referral master data\n",
    "cursor_1.execute('select * from crm_rcrefl_tb')\n",
    "refrl_tag = as_pandas(cursor_1)"
   ]
  },
  {
   "cell_type": "code",
   "execution_count": 140,
   "metadata": {},
   "outputs": [],
   "source": [
    "rfrl_data = refrl_tag[refrl_tag['refl_vin'].astype(str).str.startswith('MA')|\n",
    "         refrl_tag['refl_vin'].astype(str).str.startswith('KM')] # Only Hyundai VIN\n"
   ]
  },
  {
   "cell_type": "code",
   "execution_count": 143,
   "metadata": {},
   "outputs": [
    {
     "name": "stderr",
     "output_type": "stream",
     "text": [
      "/usr/local/src/anaconda3/lib/python3.6/site-packages/ipykernel_launcher.py:2: SettingWithCopyWarning: \n",
      "A value is trying to be set on a copy of a slice from a DataFrame.\n",
      "Try using .loc[row_indexer,col_indexer] = value instead\n",
      "\n",
      "See the caveats in the documentation: http://pandas.pydata.org/pandas-docs/stable/indexing.html#indexing-view-versus-copy\n",
      "  \n",
      "/usr/local/src/anaconda3/lib/python3.6/site-packages/ipykernel_launcher.py:8: SettingWithCopyWarning: \n",
      "A value is trying to be set on a copy of a slice from a DataFrame.\n",
      "Try using .loc[row_indexer,col_indexer] = value instead\n",
      "\n",
      "See the caveats in the documentation: http://pandas.pydata.org/pandas-docs/stable/indexing.html#indexing-view-versus-copy\n",
      "  \n"
     ]
    },
    {
     "data": {
      "text/plain": [
       "(1924867, 10)"
      ]
     },
     "execution_count": 143,
     "metadata": {},
     "output_type": "execute_result"
    }
   ],
   "source": [
    "cust_grp_final['Target'] = np.where(cust_grp_final['repm_vin'].isin(rfrl_data['refl_vin'].unique().tolist()),\n",
    "                                   1, 0)\n",
    "\n",
    "#Identify all unique_cust_grp containing VINs that provided referrals and map it to Target colum\n",
    "unique_1 = cust_grp_final[cust_grp_final['Target']==1].unique_cust_grp.unique().tolist()\n",
    "\n",
    "cust_grp_final['Target'] = np.where(cust_grp_final['unique_cust_grp'].isin(unique_1),\n",
    "                                   1, 0)\n",
    "cust_grp_final.shape"
   ]
  },
  {
   "cell_type": "code",
   "execution_count": 144,
   "metadata": {},
   "outputs": [
    {
     "data": {
      "text/html": [
       "<div>\n",
       "<style scoped>\n",
       "    .dataframe tbody tr th:only-of-type {\n",
       "        vertical-align: middle;\n",
       "    }\n",
       "\n",
       "    .dataframe tbody tr th {\n",
       "        vertical-align: top;\n",
       "    }\n",
       "\n",
       "    .dataframe thead th {\n",
       "        text-align: right;\n",
       "    }\n",
       "</style>\n",
       "<table border=\"1\" class=\"dataframe\">\n",
       "  <thead>\n",
       "    <tr style=\"text-align: right;\">\n",
       "      <th></th>\n",
       "      <th>con_id</th>\n",
       "      <th>con_id_x</th>\n",
       "      <th>con_id_y</th>\n",
       "      <th>phone_no</th>\n",
       "      <th>repm_vin</th>\n",
       "      <th>ser_ph_grp</th>\n",
       "      <th>service_phone</th>\n",
       "      <th>unique_cust_grp</th>\n",
       "      <th>vin_grp</th>\n",
       "      <th>Target</th>\n",
       "    </tr>\n",
       "  </thead>\n",
       "  <tbody>\n",
       "    <tr>\n",
       "      <th>0</th>\n",
       "      <td>NaN</td>\n",
       "      <td>1-29OZ-1503</td>\n",
       "      <td>1-29OZ-1503</td>\n",
       "      <td>9891112121</td>\n",
       "      <td>MALAA51HR5M700082</td>\n",
       "      <td>1316486</td>\n",
       "      <td>9891112121</td>\n",
       "      <td>0</td>\n",
       "      <td>566852</td>\n",
       "      <td>0</td>\n",
       "    </tr>\n",
       "    <tr>\n",
       "      <th>45</th>\n",
       "      <td>NaN</td>\n",
       "      <td>1-29OE-2971</td>\n",
       "      <td>1-29OE-2971</td>\n",
       "      <td>2501201900</td>\n",
       "      <td>MALAA51HR5M700158</td>\n",
       "      <td>235</td>\n",
       "      <td>2501201900</td>\n",
       "      <td>1</td>\n",
       "      <td>566853</td>\n",
       "      <td>0</td>\n",
       "    </tr>\n",
       "    <tr>\n",
       "      <th>64</th>\n",
       "      <td>NaN</td>\n",
       "      <td>1-2A9X-3345</td>\n",
       "      <td>1-2A9X-3345</td>\n",
       "      <td>9994155040</td>\n",
       "      <td>MALAA51HR5M700178</td>\n",
       "      <td>1567815</td>\n",
       "      <td>9994155040</td>\n",
       "      <td>2</td>\n",
       "      <td>566854</td>\n",
       "      <td>0</td>\n",
       "    </tr>\n",
       "    <tr>\n",
       "      <th>111</th>\n",
       "      <td>NaN</td>\n",
       "      <td>1-2B7U-3041</td>\n",
       "      <td>1-2B7U-3041</td>\n",
       "      <td>9880977808</td>\n",
       "      <td>MALAA51HR5M700666</td>\n",
       "      <td>672422</td>\n",
       "      <td>9448346265</td>\n",
       "      <td>3</td>\n",
       "      <td>566855</td>\n",
       "      <td>0</td>\n",
       "    </tr>\n",
       "    <tr>\n",
       "      <th>112</th>\n",
       "      <td>NaN</td>\n",
       "      <td>1-2B7U-3041</td>\n",
       "      <td>1-F817-67</td>\n",
       "      <td>9880977808</td>\n",
       "      <td>MALAA51HR5M700666</td>\n",
       "      <td>1284729</td>\n",
       "      <td>9880977808</td>\n",
       "      <td>3</td>\n",
       "      <td>566855</td>\n",
       "      <td>0</td>\n",
       "    </tr>\n",
       "  </tbody>\n",
       "</table>\n",
       "</div>"
      ],
      "text/plain": [
       "    con_id     con_id_x     con_id_y    phone_no           repm_vin  \\\n",
       "0      NaN  1-29OZ-1503  1-29OZ-1503  9891112121  MALAA51HR5M700082   \n",
       "45     NaN  1-29OE-2971  1-29OE-2971  2501201900  MALAA51HR5M700158   \n",
       "64     NaN  1-2A9X-3345  1-2A9X-3345  9994155040  MALAA51HR5M700178   \n",
       "111    NaN  1-2B7U-3041  1-2B7U-3041  9880977808  MALAA51HR5M700666   \n",
       "112    NaN  1-2B7U-3041    1-F817-67  9880977808  MALAA51HR5M700666   \n",
       "\n",
       "    ser_ph_grp service_phone unique_cust_grp vin_grp  Target  \n",
       "0      1316486    9891112121               0  566852       0  \n",
       "45         235    2501201900               1  566853       0  \n",
       "64     1567815    9994155040               2  566854       0  \n",
       "111     672422    9448346265               3  566855       0  \n",
       "112    1284729    9880977808               3  566855       0  "
      ]
     },
     "execution_count": 144,
     "metadata": {},
     "output_type": "execute_result"
    }
   ],
   "source": [
    "cust_grp_final.head(5)"
   ]
  },
  {
   "cell_type": "code",
   "execution_count": 147,
   "metadata": {},
   "outputs": [
    {
     "name": "stdout",
     "output_type": "stream",
     "text": [
      "Done\n"
     ]
    }
   ],
   "source": [
    "#Save the above df and use for feature_engineering.ipynb\n",
    "cust_grp_final.to_csv('Cust_grp_master_final_1.csv', encoding = 'utf-8', index=False)\n",
    "\n",
    "print(\"Done\")"
   ]
  }
 ],
 "metadata": {
  "kernelspec": {
   "display_name": "Python 3",
   "language": "python",
   "name": "python3"
  },
  "language_info": {
   "codemirror_mode": {
    "name": "ipython",
    "version": 3
   },
   "file_extension": ".py",
   "mimetype": "text/x-python",
   "name": "python",
   "nbconvert_exporter": "python",
   "pygments_lexer": "ipython3",
   "version": "3.6.8"
  }
 },
 "nbformat": 4,
 "nbformat_minor": 2
}
