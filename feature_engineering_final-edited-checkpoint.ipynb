{
 "cells": [
  {
   "cell_type": "code",
   "execution_count": 1,
   "metadata": {},
   "outputs": [],
   "source": [
    "import pandas as pd\n",
    "import numpy as np\n",
    "import networkx as nx\n",
    "from pyhive import hive\n",
    "import pydoop.hdfs as hdfs\n",
    "from pyhive import hive\n",
    "from impala.dbapi import connect\n",
    "from impala.util import as_pandas  "
   ]
  },
  {
   "cell_type": "code",
   "execution_count": 2,
   "metadata": {},
   "outputs": [],
   "source": [
    "# Establishing the connection with Hive\n",
    "host_name = \"10.107.6.14\"\n",
    "port = 10000\n",
    "user = \"hdfs\"\n",
    "password = \"bigid#01\"\n",
    "database=\"referral_mart_latest\"\n",
    "conn = hive.Connection(host=host_name, port=port, username=user, password=password,\n",
    "                           database=database, auth='CUSTOM')\n",
    "cursor_1 = conn.cursor()"
   ]
  },
  {
   "cell_type": "markdown",
   "metadata": {},
   "source": [
    "**Create splits for customer group id and create partition of service data and other tables to make it computationally less intensive. If enough processing capacity is available or data is already partitioned skip this step**"
   ]
  },
  {
   "cell_type": "code",
   "execution_count": 3,
   "metadata": {},
   "outputs": [
    {
     "name": "stderr",
     "output_type": "stream",
     "text": [
      "/usr/local/src/anaconda3/lib/python3.6/site-packages/IPython/core/interactiveshell.py:3049: DtypeWarning: Columns (0,1,2,3,5,6,7,8) have mixed types. Specify dtype option on import or set low_memory=False.\n",
      "  interactivity=interactivity, compiler=compiler, result=result)\n"
     ]
    }
   ],
   "source": [
    "cust_grp = pd.read_csv('Cust_grp_master_final_1.csv')"
   ]
  },
  {
   "cell_type": "code",
   "execution_count": 4,
   "metadata": {},
   "outputs": [
    {
     "name": "stdout",
     "output_type": "stream",
     "text": [
      "(1924867, 10)\n",
      "Index(['con_id', 'con_id_x', 'con_id_y', 'phone_no', 'repm_vin', 'ser_ph_grp',\n",
      "       'service_phone', 'unique_cust_grp', 'vin_grp', 'Target'],\n",
      "      dtype='object')\n"
     ]
    }
   ],
   "source": [
    "print(cust_grp.shape)\n",
    "print(cust_grp.columns)"
   ]
  },
  {
   "cell_type": "code",
   "execution_count": 5,
   "metadata": {},
   "outputs": [
    {
     "data": {
      "text/html": [
       "<div>\n",
       "<style scoped>\n",
       "    .dataframe tbody tr th:only-of-type {\n",
       "        vertical-align: middle;\n",
       "    }\n",
       "\n",
       "    .dataframe tbody tr th {\n",
       "        vertical-align: top;\n",
       "    }\n",
       "\n",
       "    .dataframe thead th {\n",
       "        text-align: right;\n",
       "    }\n",
       "</style>\n",
       "<table border=\"1\" class=\"dataframe\">\n",
       "  <thead>\n",
       "    <tr style=\"text-align: right;\">\n",
       "      <th></th>\n",
       "      <th>con_id</th>\n",
       "      <th>con_id_x</th>\n",
       "      <th>con_id_y</th>\n",
       "      <th>phone_no</th>\n",
       "      <th>repm_vin</th>\n",
       "      <th>ser_ph_grp</th>\n",
       "      <th>service_phone</th>\n",
       "      <th>unique_cust_grp</th>\n",
       "      <th>vin_grp</th>\n",
       "      <th>Target</th>\n",
       "    </tr>\n",
       "  </thead>\n",
       "  <tbody>\n",
       "    <tr>\n",
       "      <th>0</th>\n",
       "      <td>NaN</td>\n",
       "      <td>1-29OZ-1503</td>\n",
       "      <td>1-29OZ-1503</td>\n",
       "      <td>9.89111e+09</td>\n",
       "      <td>MALAA51HR5M700082</td>\n",
       "      <td>1316486</td>\n",
       "      <td>9891112121</td>\n",
       "      <td>0</td>\n",
       "      <td>566852</td>\n",
       "      <td>0</td>\n",
       "    </tr>\n",
       "    <tr>\n",
       "      <th>1</th>\n",
       "      <td>NaN</td>\n",
       "      <td>1-29OE-2971</td>\n",
       "      <td>1-29OE-2971</td>\n",
       "      <td>2.5012e+09</td>\n",
       "      <td>MALAA51HR5M700158</td>\n",
       "      <td>235</td>\n",
       "      <td>2501201900</td>\n",
       "      <td>1</td>\n",
       "      <td>566853</td>\n",
       "      <td>0</td>\n",
       "    </tr>\n",
       "    <tr>\n",
       "      <th>2</th>\n",
       "      <td>NaN</td>\n",
       "      <td>1-2A9X-3345</td>\n",
       "      <td>1-2A9X-3345</td>\n",
       "      <td>9.99416e+09</td>\n",
       "      <td>MALAA51HR5M700178</td>\n",
       "      <td>1567815</td>\n",
       "      <td>9994155040</td>\n",
       "      <td>2</td>\n",
       "      <td>566854</td>\n",
       "      <td>0</td>\n",
       "    </tr>\n",
       "  </tbody>\n",
       "</table>\n",
       "</div>"
      ],
      "text/plain": [
       "  con_id     con_id_x     con_id_y     phone_no           repm_vin ser_ph_grp  \\\n",
       "0    NaN  1-29OZ-1503  1-29OZ-1503  9.89111e+09  MALAA51HR5M700082    1316486   \n",
       "1    NaN  1-29OE-2971  1-29OE-2971   2.5012e+09  MALAA51HR5M700158        235   \n",
       "2    NaN  1-2A9X-3345  1-2A9X-3345  9.99416e+09  MALAA51HR5M700178    1567815   \n",
       "\n",
       "  service_phone unique_cust_grp vin_grp  Target  \n",
       "0    9891112121               0  566852       0  \n",
       "1    2501201900               1  566853       0  \n",
       "2    9994155040               2  566854       0  "
      ]
     },
     "execution_count": 5,
     "metadata": {},
     "output_type": "execute_result"
    }
   ],
   "source": [
    "cust_grp.head(3)"
   ]
  },
  {
   "cell_type": "code",
   "execution_count": 6,
   "metadata": {},
   "outputs": [],
   "source": [
    "#Separate customer group containing used vehicles where used_1 is the first owner of used vehicle\n",
    "#and used_2 is the 2nd owner of a used vehicle\n",
    "cust_grp['used_1'] = np.where(((cust_grp['vin_grp']=='used_car_1st')|\n",
    "                             (cust_grp['unique_cust_grp'].astype(str).str.contains('_used'))), True, False)\n",
    "cust_grp['used_2'] = np.where(((cust_grp['vin_grp']=='used_car_2nd')|\n",
    "                             (cust_grp['unique_cust_grp'].astype(str).str.contains('_used2'))), True, False)"
   ]
  },
  {
   "cell_type": "code",
   "execution_count": 7,
   "metadata": {},
   "outputs": [
    {
     "name": "stdout",
     "output_type": "stream",
     "text": [
      "used_cust_grp_1 :  (232003, 4)\n",
      "used_cust_grp_2 :  (187221, 4)\n"
     ]
    }
   ],
   "source": [
    "used_cust_grp_1 = cust_grp[cust_grp['used_1']==True][['repm_vin', 'service_phone', 'unique_cust_grp', 'con_id']]\n",
    "used_cust_grp_2 = cust_grp[cust_grp['used_2']==True][['repm_vin', 'service_phone', 'unique_cust_grp', 'con_id']]\n",
    "print(\"used_cust_grp_1 : \",used_cust_grp_1.shape)\n",
    "print(\"used_cust_grp_2 : \",used_cust_grp_2.shape)"
   ]
  },
  {
   "cell_type": "code",
   "execution_count": 8,
   "metadata": {},
   "outputs": [
    {
     "name": "stdout",
     "output_type": "stream",
     "text": [
      "(1924867, 12)\n",
      "Index(['con_id', 'con_id_x', 'con_id_y', 'phone_no', 'repm_vin', 'ser_ph_grp',\n",
      "       'service_phone', 'unique_cust_grp', 'vin_grp', 'Target', 'used_1',\n",
      "       'used_2'],\n",
      "      dtype='object')\n"
     ]
    }
   ],
   "source": [
    "print(cust_grp.shape)\n",
    "print(cust_grp.columns)"
   ]
  },
  {
   "cell_type": "code",
   "execution_count": 9,
   "metadata": {},
   "outputs": [
    {
     "data": {
      "text/html": [
       "<div>\n",
       "<style scoped>\n",
       "    .dataframe tbody tr th:only-of-type {\n",
       "        vertical-align: middle;\n",
       "    }\n",
       "\n",
       "    .dataframe tbody tr th {\n",
       "        vertical-align: top;\n",
       "    }\n",
       "\n",
       "    .dataframe thead th {\n",
       "        text-align: right;\n",
       "    }\n",
       "</style>\n",
       "<table border=\"1\" class=\"dataframe\">\n",
       "  <thead>\n",
       "    <tr style=\"text-align: right;\">\n",
       "      <th></th>\n",
       "      <th>con_id</th>\n",
       "      <th>con_id_x</th>\n",
       "      <th>con_id_y</th>\n",
       "      <th>phone_no</th>\n",
       "      <th>repm_vin</th>\n",
       "      <th>ser_ph_grp</th>\n",
       "      <th>service_phone</th>\n",
       "      <th>unique_cust_grp</th>\n",
       "      <th>vin_grp</th>\n",
       "      <th>Target</th>\n",
       "      <th>used_1</th>\n",
       "      <th>used_2</th>\n",
       "    </tr>\n",
       "  </thead>\n",
       "  <tbody>\n",
       "    <tr>\n",
       "      <th>0</th>\n",
       "      <td>NaN</td>\n",
       "      <td>1-29OZ-1503</td>\n",
       "      <td>1-29OZ-1503</td>\n",
       "      <td>9.89111e+09</td>\n",
       "      <td>MALAA51HR5M700082</td>\n",
       "      <td>1316486</td>\n",
       "      <td>9891112121</td>\n",
       "      <td>0</td>\n",
       "      <td>566852</td>\n",
       "      <td>0</td>\n",
       "      <td>False</td>\n",
       "      <td>False</td>\n",
       "    </tr>\n",
       "    <tr>\n",
       "      <th>1</th>\n",
       "      <td>NaN</td>\n",
       "      <td>1-29OE-2971</td>\n",
       "      <td>1-29OE-2971</td>\n",
       "      <td>2.5012e+09</td>\n",
       "      <td>MALAA51HR5M700158</td>\n",
       "      <td>235</td>\n",
       "      <td>2501201900</td>\n",
       "      <td>1</td>\n",
       "      <td>566853</td>\n",
       "      <td>0</td>\n",
       "      <td>False</td>\n",
       "      <td>False</td>\n",
       "    </tr>\n",
       "    <tr>\n",
       "      <th>2</th>\n",
       "      <td>NaN</td>\n",
       "      <td>1-2A9X-3345</td>\n",
       "      <td>1-2A9X-3345</td>\n",
       "      <td>9.99416e+09</td>\n",
       "      <td>MALAA51HR5M700178</td>\n",
       "      <td>1567815</td>\n",
       "      <td>9994155040</td>\n",
       "      <td>2</td>\n",
       "      <td>566854</td>\n",
       "      <td>0</td>\n",
       "      <td>False</td>\n",
       "      <td>False</td>\n",
       "    </tr>\n",
       "  </tbody>\n",
       "</table>\n",
       "</div>"
      ],
      "text/plain": [
       "  con_id     con_id_x     con_id_y     phone_no           repm_vin ser_ph_grp  \\\n",
       "0    NaN  1-29OZ-1503  1-29OZ-1503  9.89111e+09  MALAA51HR5M700082    1316486   \n",
       "1    NaN  1-29OE-2971  1-29OE-2971   2.5012e+09  MALAA51HR5M700158        235   \n",
       "2    NaN  1-2A9X-3345  1-2A9X-3345  9.99416e+09  MALAA51HR5M700178    1567815   \n",
       "\n",
       "  service_phone unique_cust_grp vin_grp  Target  used_1  used_2  \n",
       "0    9891112121               0  566852       0   False   False  \n",
       "1    2501201900               1  566853       0   False   False  \n",
       "2    9994155040               2  566854       0   False   False  "
      ]
     },
     "execution_count": 9,
     "metadata": {},
     "output_type": "execute_result"
    }
   ],
   "source": [
    "cust_grp.head(3)"
   ]
  },
  {
   "cell_type": "code",
   "execution_count": 10,
   "metadata": {},
   "outputs": [],
   "source": [
    "# Creating the feature used_vin such that used_vin == True means its a used vehicle and used_vin == False means its a new car\n",
    "cust_grp['used_vin'] = np.where(cust_grp['used_1'] == True, True, False)\n",
    "cust_grp['used_vin'] = np.where(cust_grp['used_2'] == True, True, False)"
   ]
  },
  {
   "cell_type": "code",
   "execution_count": 11,
   "metadata": {},
   "outputs": [
    {
     "data": {
      "text/plain": [
       "False    1737646\n",
       "True      187221\n",
       "Name: used_vin, dtype: int64"
      ]
     },
     "execution_count": 11,
     "metadata": {},
     "output_type": "execute_result"
    }
   ],
   "source": [
    "cust_grp['used_vin'].value_counts()"
   ]
  },
  {
   "cell_type": "code",
   "execution_count": 12,
   "metadata": {},
   "outputs": [
    {
     "data": {
      "text/plain": [
       "127379"
      ]
     },
     "execution_count": 12,
     "metadata": {},
     "output_type": "execute_result"
    }
   ],
   "source": [
    "import glob\n",
    "#Create df of customer group containing non-used vehicles only \n",
    "used_vin_list = cust_grp[(cust_grp['used_vin'] == True)].repm_vin.unique().tolist()\n",
    "len(used_vin_list)"
   ]
  },
  {
   "cell_type": "code",
   "execution_count": 13,
   "metadata": {},
   "outputs": [
    {
     "data": {
      "text/plain": [
       "(1924867, 13)"
      ]
     },
     "execution_count": 13,
     "metadata": {},
     "output_type": "execute_result"
    }
   ],
   "source": [
    "cust_grp_noused = cust_grp[~cust_grp.unique_cust_grp.isin(used_vin_list)]\n",
    "cust_grp_noused.shape"
   ]
  },
  {
   "cell_type": "code",
   "execution_count": 14,
   "metadata": {},
   "outputs": [
    {
     "data": {
      "text/plain": [
       "(1703479, 13)"
      ]
     },
     "execution_count": 14,
     "metadata": {},
     "output_type": "execute_result"
    }
   ],
   "source": [
    "cust_grp_noused = cust_grp[~cust_grp.repm_vin.isin(used_vin_list)]\n",
    "cust_grp_noused.shape"
   ]
  },
  {
   "cell_type": "code",
   "execution_count": 15,
   "metadata": {},
   "outputs": [
    {
     "data": {
      "text/html": [
       "<div>\n",
       "<style scoped>\n",
       "    .dataframe tbody tr th:only-of-type {\n",
       "        vertical-align: middle;\n",
       "    }\n",
       "\n",
       "    .dataframe tbody tr th {\n",
       "        vertical-align: top;\n",
       "    }\n",
       "\n",
       "    .dataframe thead th {\n",
       "        text-align: right;\n",
       "    }\n",
       "</style>\n",
       "<table border=\"1\" class=\"dataframe\">\n",
       "  <thead>\n",
       "    <tr style=\"text-align: right;\">\n",
       "      <th></th>\n",
       "      <th>con_id</th>\n",
       "      <th>con_id_x</th>\n",
       "      <th>con_id_y</th>\n",
       "      <th>phone_no</th>\n",
       "      <th>repm_vin</th>\n",
       "      <th>ser_ph_grp</th>\n",
       "      <th>service_phone</th>\n",
       "      <th>unique_cust_grp</th>\n",
       "      <th>vin_grp</th>\n",
       "      <th>Target</th>\n",
       "      <th>used_1</th>\n",
       "      <th>used_2</th>\n",
       "      <th>used_vin</th>\n",
       "    </tr>\n",
       "  </thead>\n",
       "  <tbody>\n",
       "    <tr>\n",
       "      <th>0</th>\n",
       "      <td>NaN</td>\n",
       "      <td>1-29OZ-1503</td>\n",
       "      <td>1-29OZ-1503</td>\n",
       "      <td>9.89111e+09</td>\n",
       "      <td>MALAA51HR5M700082</td>\n",
       "      <td>1316486</td>\n",
       "      <td>9891112121</td>\n",
       "      <td>0</td>\n",
       "      <td>566852</td>\n",
       "      <td>0</td>\n",
       "      <td>False</td>\n",
       "      <td>False</td>\n",
       "      <td>False</td>\n",
       "    </tr>\n",
       "    <tr>\n",
       "      <th>1</th>\n",
       "      <td>NaN</td>\n",
       "      <td>1-29OE-2971</td>\n",
       "      <td>1-29OE-2971</td>\n",
       "      <td>2.5012e+09</td>\n",
       "      <td>MALAA51HR5M700158</td>\n",
       "      <td>235</td>\n",
       "      <td>2501201900</td>\n",
       "      <td>1</td>\n",
       "      <td>566853</td>\n",
       "      <td>0</td>\n",
       "      <td>False</td>\n",
       "      <td>False</td>\n",
       "      <td>False</td>\n",
       "    </tr>\n",
       "    <tr>\n",
       "      <th>2</th>\n",
       "      <td>NaN</td>\n",
       "      <td>1-2A9X-3345</td>\n",
       "      <td>1-2A9X-3345</td>\n",
       "      <td>9.99416e+09</td>\n",
       "      <td>MALAA51HR5M700178</td>\n",
       "      <td>1567815</td>\n",
       "      <td>9994155040</td>\n",
       "      <td>2</td>\n",
       "      <td>566854</td>\n",
       "      <td>0</td>\n",
       "      <td>False</td>\n",
       "      <td>False</td>\n",
       "      <td>False</td>\n",
       "    </tr>\n",
       "  </tbody>\n",
       "</table>\n",
       "</div>"
      ],
      "text/plain": [
       "  con_id     con_id_x     con_id_y     phone_no           repm_vin ser_ph_grp  \\\n",
       "0    NaN  1-29OZ-1503  1-29OZ-1503  9.89111e+09  MALAA51HR5M700082    1316486   \n",
       "1    NaN  1-29OE-2971  1-29OE-2971   2.5012e+09  MALAA51HR5M700158        235   \n",
       "2    NaN  1-2A9X-3345  1-2A9X-3345  9.99416e+09  MALAA51HR5M700178    1567815   \n",
       "\n",
       "  service_phone unique_cust_grp vin_grp  Target  used_1  used_2  used_vin  \n",
       "0    9891112121               0  566852       0   False   False     False  \n",
       "1    2501201900               1  566853       0   False   False     False  \n",
       "2    9994155040               2  566854       0   False   False     False  "
      ]
     },
     "execution_count": 15,
     "metadata": {},
     "output_type": "execute_result"
    }
   ],
   "source": [
    "cust_grp_noused.head(3)"
   ]
  },
  {
   "cell_type": "code",
   "execution_count": null,
   "metadata": {},
   "outputs": [],
   "source": [
    "# Split or partition customer group containing non-used vehicles only\n",
    "def split(df, name):\n",
    "    m = cust_grp_noused.unique_cust_grp.unique().tolist()\n",
    "    n = 200000\n",
    "    last = 0\n",
    "    r = 1\n",
    "    name = name\n",
    "    path = r'/home/neelima/Service_Latest_Data_Final_Execution'\n",
    "    while last<len(m):\n",
    "        df_new = df[df.unique_cust_grp.isin(m[int(last):int(last+n)])]\n",
    "        name = name + '_' + str(r)\n",
    "        file = path+'/'+name+'.csv'\n",
    "        last+=n\n",
    "        r+=1\n",
    "        #print(df_new.shape)\n",
    "        df_new.to_csv(file, encoding='utf-8', index=False)"
   ]
  },
  {
   "cell_type": "code",
   "execution_count": null,
   "metadata": {},
   "outputs": [],
   "source": [
    "split(cust_grp_noused, 'cust_grp_noused_1')"
   ]
  },
  {
   "cell_type": "code",
   "execution_count": 16,
   "metadata": {},
   "outputs": [
    {
     "name": "stdout",
     "output_type": "stream",
     "text": [
      "cust_grp raw: (1924867, 13)\n",
      "cust_grp_noused: (1703479, 13)\n",
      "used_cust_grp_1: (232003, 4)\n",
      "used_cust_grp_2: (187221, 4)\n"
     ]
    }
   ],
   "source": [
    "print(\"cust_grp raw:\", cust_grp.shape)\n",
    "print(\"cust_grp_noused:\", cust_grp_noused.shape)\n",
    "print(\"used_cust_grp_1:\", used_cust_grp_1.shape)\n",
    "print(\"used_cust_grp_2:\", used_cust_grp_2.shape)"
   ]
  },
  {
   "cell_type": "markdown",
   "metadata": {},
   "source": [
    "**Service history feature engineering for used cars**"
   ]
  },
  {
   "cell_type": "code",
   "execution_count": 17,
   "metadata": {},
   "outputs": [],
   "source": [
    "#Remove duplicates from used_car_cust_grp\n",
    "used_cust_grp_1_dedup = used_cust_grp_1.drop_duplicates(subset=['repm_vin', 'unique_cust_grp'])\n",
    "used_cust_grp_2_dedup = used_cust_grp_2.drop_duplicates(subset=['repm_vin', 'unique_cust_grp'])"
   ]
  },
  {
   "cell_type": "code",
   "execution_count": 18,
   "metadata": {},
   "outputs": [
    {
     "name": "stdout",
     "output_type": "stream",
     "text": [
      "used_cust_grp_1_dedup: (155554, 4)\n",
      "used_cust_grp_2_dedup: (127379, 4)\n"
     ]
    }
   ],
   "source": [
    "print(\"used_cust_grp_1_dedup:\", used_cust_grp_1_dedup.shape)\n",
    "print(\"used_cust_grp_2_dedup:\", used_cust_grp_2_dedup.shape)"
   ]
  },
  {
   "cell_type": "code",
   "execution_count": 19,
   "metadata": {},
   "outputs": [],
   "source": [
    "# Reading table used_car_rcrepm\n",
    "cursor_1.execute('select * from used_car_rcrepm')\n",
    "used_car_rcrepm = as_pandas(cursor_1)"
   ]
  },
  {
   "cell_type": "code",
   "execution_count": null,
   "metadata": {},
   "outputs": [],
   "source": [
    "used_car_rcrepm_backup = used_car_rcrepm.copy()"
   ]
  },
  {
   "cell_type": "code",
   "execution_count": 20,
   "metadata": {},
   "outputs": [
    {
     "name": "stdout",
     "output_type": "stream",
     "text": [
      "(33744535, 14)\n",
      "Index(['repm_dlr_code', 'repm_cust_no', 'repm_ro_no', 'repm_ro_dtime',\n",
      "       'repm_vin', 'repm_work_type', 'repm_vst_type',\n",
      "       'repm_bill_total_labr_amt', 'repm_bill_total_othr_amt',\n",
      "       'repm_bill_total_part_amt', 'vinm_selling_date', 'vinm_sale_date',\n",
      "       'vinm_model_year', 'vinm_last_milg'],\n",
      "      dtype='object')\n"
     ]
    },
    {
     "data": {
      "text/html": [
       "<div>\n",
       "<style scoped>\n",
       "    .dataframe tbody tr th:only-of-type {\n",
       "        vertical-align: middle;\n",
       "    }\n",
       "\n",
       "    .dataframe tbody tr th {\n",
       "        vertical-align: top;\n",
       "    }\n",
       "\n",
       "    .dataframe thead th {\n",
       "        text-align: right;\n",
       "    }\n",
       "</style>\n",
       "<table border=\"1\" class=\"dataframe\">\n",
       "  <thead>\n",
       "    <tr style=\"text-align: right;\">\n",
       "      <th></th>\n",
       "      <th>repm_dlr_code</th>\n",
       "      <th>repm_cust_no</th>\n",
       "      <th>repm_ro_no</th>\n",
       "      <th>repm_ro_dtime</th>\n",
       "      <th>repm_vin</th>\n",
       "      <th>repm_work_type</th>\n",
       "      <th>repm_vst_type</th>\n",
       "      <th>repm_bill_total_labr_amt</th>\n",
       "      <th>repm_bill_total_othr_amt</th>\n",
       "      <th>repm_bill_total_part_amt</th>\n",
       "      <th>vinm_selling_date</th>\n",
       "      <th>vinm_sale_date</th>\n",
       "      <th>vinm_model_year</th>\n",
       "      <th>vinm_last_milg</th>\n",
       "    </tr>\n",
       "  </thead>\n",
       "  <tbody>\n",
       "    <tr>\n",
       "      <th>0</th>\n",
       "      <td>N3208</td>\n",
       "      <td>C2008020258</td>\n",
       "      <td>R201708673</td>\n",
       "      <td>2017-07-29 10:10:50</td>\n",
       "      <td>MALCG51WR6M015343</td>\n",
       "      <td>OC</td>\n",
       "      <td>null</td>\n",
       "      <td>0.00</td>\n",
       "      <td>0.00</td>\n",
       "      <td>0.00</td>\n",
       "      <td>null</td>\n",
       "      <td>20060629</td>\n",
       "      <td>2006</td>\n",
       "      <td>81635</td>\n",
       "    </tr>\n",
       "    <tr>\n",
       "      <th>1</th>\n",
       "      <td>W2213</td>\n",
       "      <td>C2008030086</td>\n",
       "      <td>R201610998</td>\n",
       "      <td>2016-11-16 17:14:46</td>\n",
       "      <td>MALCG51WR6M015479</td>\n",
       "      <td>OC</td>\n",
       "      <td>null</td>\n",
       "      <td>0.00</td>\n",
       "      <td>0.00</td>\n",
       "      <td>0.00</td>\n",
       "      <td>null</td>\n",
       "      <td>20061128</td>\n",
       "      <td>2006</td>\n",
       "      <td>75950</td>\n",
       "    </tr>\n",
       "    <tr>\n",
       "      <th>2</th>\n",
       "      <td>W2213</td>\n",
       "      <td>C2008030086</td>\n",
       "      <td>R201702566</td>\n",
       "      <td>2017-03-13 18:08:27</td>\n",
       "      <td>MALCG51WR6M015479</td>\n",
       "      <td>OC</td>\n",
       "      <td>null</td>\n",
       "      <td>0.00</td>\n",
       "      <td>0.00</td>\n",
       "      <td>0.00</td>\n",
       "      <td>null</td>\n",
       "      <td>20061128</td>\n",
       "      <td>2006</td>\n",
       "      <td>75950</td>\n",
       "    </tr>\n",
       "  </tbody>\n",
       "</table>\n",
       "</div>"
      ],
      "text/plain": [
       "  repm_dlr_code repm_cust_no  repm_ro_no       repm_ro_dtime  \\\n",
       "0         N3208  C2008020258  R201708673 2017-07-29 10:10:50   \n",
       "1         W2213  C2008030086  R201610998 2016-11-16 17:14:46   \n",
       "2         W2213  C2008030086  R201702566 2017-03-13 18:08:27   \n",
       "\n",
       "            repm_vin repm_work_type repm_vst_type repm_bill_total_labr_amt  \\\n",
       "0  MALCG51WR6M015343             OC          null                     0.00   \n",
       "1  MALCG51WR6M015479             OC          null                     0.00   \n",
       "2  MALCG51WR6M015479             OC          null                     0.00   \n",
       "\n",
       "  repm_bill_total_othr_amt repm_bill_total_part_amt vinm_selling_date  \\\n",
       "0                     0.00                     0.00              null   \n",
       "1                     0.00                     0.00              null   \n",
       "2                     0.00                     0.00              null   \n",
       "\n",
       "  vinm_sale_date vinm_model_year  vinm_last_milg  \n",
       "0       20060629            2006           81635  \n",
       "1       20061128            2006           75950  \n",
       "2       20061128            2006           75950  "
      ]
     },
     "execution_count": 20,
     "metadata": {},
     "output_type": "execute_result"
    }
   ],
   "source": [
    "print(used_car_rcrepm.shape)\n",
    "print(used_car_rcrepm.columns)\n",
    "used_car_rcrepm.head(3)"
   ]
  },
  {
   "cell_type": "code",
   "execution_count": 21,
   "metadata": {},
   "outputs": [],
   "source": [
    "used_car_rcrepm = used_car_rcrepm.replace(\"null\", np.nan)"
   ]
  },
  {
   "cell_type": "code",
   "execution_count": 22,
   "metadata": {},
   "outputs": [
    {
     "data": {
      "text/plain": [
       "repm_dlr_code                       object\n",
       "repm_cust_no                        object\n",
       "repm_ro_no                          object\n",
       "repm_ro_dtime               datetime64[ns]\n",
       "repm_vin                            object\n",
       "repm_work_type                      object\n",
       "repm_vst_type                       object\n",
       "repm_bill_total_labr_amt            object\n",
       "repm_bill_total_othr_amt            object\n",
       "repm_bill_total_part_amt            object\n",
       "vinm_selling_date                   object\n",
       "vinm_sale_date                      object\n",
       "vinm_model_year                     object\n",
       "vinm_last_milg                       int64\n",
       "dtype: object"
      ]
     },
     "execution_count": 22,
     "metadata": {},
     "output_type": "execute_result"
    }
   ],
   "source": [
    "used_car_rcrepm.dtypes"
   ]
  },
  {
   "cell_type": "code",
   "execution_count": 23,
   "metadata": {},
   "outputs": [],
   "source": [
    "used_car_rcrepm['repm_ro_dtime'] = pd.to_datetime(used_car_rcrepm['repm_ro_dtime'])"
   ]
  },
  {
   "cell_type": "code",
   "execution_count": 26,
   "metadata": {},
   "outputs": [],
   "source": [
    "used_car_rcrepm['vinm_selling_date'] = pd.to_datetime(used_car_rcrepm['vinm_selling_date'])"
   ]
  },
  {
   "cell_type": "code",
   "execution_count": 27,
   "metadata": {},
   "outputs": [],
   "source": [
    "used_car_rcrepm['used_car_sale_date'] = pd.to_datetime(used_car_rcrepm['vinm_selling_date'], infer_datetime_format=True)"
   ]
  },
  {
   "cell_type": "code",
   "execution_count": 28,
   "metadata": {},
   "outputs": [
    {
     "data": {
      "text/plain": [
       "(33744535, 15)"
      ]
     },
     "execution_count": 28,
     "metadata": {},
     "output_type": "execute_result"
    }
   ],
   "source": [
    "used_car_rcrepm.shape"
   ]
  },
  {
   "cell_type": "code",
   "execution_count": 29,
   "metadata": {},
   "outputs": [],
   "source": [
    "#Separate service data for 1st owner vs 2nd owner\n",
    "used_car_rcrepm_1 = used_car_rcrepm[(used_car_rcrepm['repm_ro_dtime']<used_car_rcrepm['used_car_sale_date'])&\n",
    "                                   (used_car_rcrepm.repm_work_type!='PD')]\n",
    "\n",
    "used_car_rcrepm_2 = used_car_rcrepm[(used_car_rcrepm['repm_ro_dtime']>used_car_rcrepm['used_car_sale_date'])&\n",
    "                                   (used_car_rcrepm.repm_work_type!='PD')]"
   ]
  },
  {
   "cell_type": "code",
   "execution_count": 30,
   "metadata": {},
   "outputs": [
    {
     "name": "stdout",
     "output_type": "stream",
     "text": [
      "Used_car_rcrepm original: (33744535, 15)\n",
      "Used_car_rcrepm_1: (909344, 15)\n",
      "Used_car_rcrepm_2: (644382, 15)\n",
      "\n",
      "used_cust_grp_1_dedup: (155554, 4)\n",
      "used_cust_grp_2_dedup: (127379, 4)\n"
     ]
    }
   ],
   "source": [
    "print(\"Used_car_rcrepm original:\", used_car_rcrepm.shape)\n",
    "print(\"Used_car_rcrepm_1:\", used_car_rcrepm_1.shape)\n",
    "print(\"Used_car_rcrepm_2:\", used_car_rcrepm_2.shape)\n",
    "print(\"\")\n",
    "print(\"used_cust_grp_1_dedup:\", used_cust_grp_1_dedup.shape)\n",
    "print(\"used_cust_grp_2_dedup:\", used_cust_grp_2_dedup.shape)"
   ]
  },
  {
   "cell_type": "code",
   "execution_count": 31,
   "metadata": {},
   "outputs": [],
   "source": [
    "#Merge used car service data with used car customer groups\n",
    "used_car_1_serv_hist = pd.merge(used_car_rcrepm_1, used_cust_grp_1_dedup, how='left', on=['repm_vin'], indicator = True)\n",
    "used_car_2_serv_hist = pd.merge(used_car_rcrepm_2, used_cust_grp_2_dedup, how='left', on=['repm_vin'], indicator = True)\n",
    "\n",
    "#Use the above df for used car service feature using the codes below"
   ]
  },
  {
   "cell_type": "code",
   "execution_count": 32,
   "metadata": {},
   "outputs": [
    {
     "name": "stdout",
     "output_type": "stream",
     "text": [
      "used_car_1_serv_hist : (979526, 19)\n",
      "used_car_2_serv_hist : (644382, 19)\n"
     ]
    }
   ],
   "source": [
    "print(\"used_car_1_serv_hist :\", used_car_1_serv_hist.shape)\n",
    "print(\"used_car_2_serv_hist :\", used_car_2_serv_hist.shape)"
   ]
  },
  {
   "cell_type": "code",
   "execution_count": 33,
   "metadata": {},
   "outputs": [
    {
     "name": "stdout",
     "output_type": "stream",
     "text": [
      "used_car_1_serv_hist : (979526, 19)\n"
     ]
    },
    {
     "data": {
      "text/plain": [
       "both          598285\n",
       "left_only     381241\n",
       "right_only         0\n",
       "Name: _merge, dtype: int64"
      ]
     },
     "execution_count": 33,
     "metadata": {},
     "output_type": "execute_result"
    }
   ],
   "source": [
    "print(\"used_car_1_serv_hist :\", used_car_1_serv_hist.shape)\n",
    "used_car_1_serv_hist['_merge'].value_counts()"
   ]
  },
  {
   "cell_type": "code",
   "execution_count": 34,
   "metadata": {},
   "outputs": [
    {
     "name": "stdout",
     "output_type": "stream",
     "text": [
      "used_car_2_serv_hist : (644382, 19)\n"
     ]
    },
    {
     "data": {
      "text/plain": [
       "both          511305\n",
       "left_only     133077\n",
       "right_only         0\n",
       "Name: _merge, dtype: int64"
      ]
     },
     "execution_count": 34,
     "metadata": {},
     "output_type": "execute_result"
    }
   ],
   "source": [
    "print(\"used_car_2_serv_hist :\", used_car_2_serv_hist.shape)\n",
    "used_car_2_serv_hist['_merge'].value_counts()"
   ]
  },
  {
   "cell_type": "markdown",
   "metadata": {},
   "source": [
    "**Testing with the existing variable**"
   ]
  },
  {
   "cell_type": "code",
   "execution_count": 35,
   "metadata": {},
   "outputs": [
    {
     "name": "stdout",
     "output_type": "stream",
     "text": [
      "(1703479, 13)\n",
      "False    1703479\n",
      "Name: used_vin, dtype: int64\n"
     ]
    },
    {
     "data": {
      "text/html": [
       "<div>\n",
       "<style scoped>\n",
       "    .dataframe tbody tr th:only-of-type {\n",
       "        vertical-align: middle;\n",
       "    }\n",
       "\n",
       "    .dataframe tbody tr th {\n",
       "        vertical-align: top;\n",
       "    }\n",
       "\n",
       "    .dataframe thead th {\n",
       "        text-align: right;\n",
       "    }\n",
       "</style>\n",
       "<table border=\"1\" class=\"dataframe\">\n",
       "  <thead>\n",
       "    <tr style=\"text-align: right;\">\n",
       "      <th></th>\n",
       "      <th>con_id</th>\n",
       "      <th>con_id_x</th>\n",
       "      <th>con_id_y</th>\n",
       "      <th>phone_no</th>\n",
       "      <th>repm_vin</th>\n",
       "      <th>ser_ph_grp</th>\n",
       "      <th>service_phone</th>\n",
       "      <th>unique_cust_grp</th>\n",
       "      <th>vin_grp</th>\n",
       "      <th>Target</th>\n",
       "      <th>used_1</th>\n",
       "      <th>used_2</th>\n",
       "      <th>used_vin</th>\n",
       "    </tr>\n",
       "  </thead>\n",
       "  <tbody>\n",
       "    <tr>\n",
       "      <th>0</th>\n",
       "      <td>NaN</td>\n",
       "      <td>1-29OZ-1503</td>\n",
       "      <td>1-29OZ-1503</td>\n",
       "      <td>9.89111e+09</td>\n",
       "      <td>MALAA51HR5M700082</td>\n",
       "      <td>1316486</td>\n",
       "      <td>9891112121</td>\n",
       "      <td>0</td>\n",
       "      <td>566852</td>\n",
       "      <td>0</td>\n",
       "      <td>False</td>\n",
       "      <td>False</td>\n",
       "      <td>False</td>\n",
       "    </tr>\n",
       "    <tr>\n",
       "      <th>1</th>\n",
       "      <td>NaN</td>\n",
       "      <td>1-29OE-2971</td>\n",
       "      <td>1-29OE-2971</td>\n",
       "      <td>2.5012e+09</td>\n",
       "      <td>MALAA51HR5M700158</td>\n",
       "      <td>235</td>\n",
       "      <td>2501201900</td>\n",
       "      <td>1</td>\n",
       "      <td>566853</td>\n",
       "      <td>0</td>\n",
       "      <td>False</td>\n",
       "      <td>False</td>\n",
       "      <td>False</td>\n",
       "    </tr>\n",
       "  </tbody>\n",
       "</table>\n",
       "</div>"
      ],
      "text/plain": [
       "  con_id     con_id_x     con_id_y     phone_no           repm_vin ser_ph_grp  \\\n",
       "0    NaN  1-29OZ-1503  1-29OZ-1503  9.89111e+09  MALAA51HR5M700082    1316486   \n",
       "1    NaN  1-29OE-2971  1-29OE-2971   2.5012e+09  MALAA51HR5M700158        235   \n",
       "\n",
       "  service_phone unique_cust_grp vin_grp  Target  used_1  used_2  used_vin  \n",
       "0    9891112121               0  566852       0   False   False     False  \n",
       "1    2501201900               1  566853       0   False   False     False  "
      ]
     },
     "execution_count": 35,
     "metadata": {},
     "output_type": "execute_result"
    }
   ],
   "source": [
    "print(cust_grp_noused.shape)\n",
    "print(cust_grp_noused.used_vin.value_counts())\n",
    "cust_grp_noused.head(2)"
   ]
  },
  {
   "cell_type": "code",
   "execution_count": 36,
   "metadata": {},
   "outputs": [
    {
     "data": {
      "text/plain": [
       "127379"
      ]
     },
     "execution_count": 36,
     "metadata": {},
     "output_type": "execute_result"
    }
   ],
   "source": [
    "len(used_vin_list)"
   ]
  },
  {
   "cell_type": "code",
   "execution_count": 37,
   "metadata": {},
   "outputs": [
    {
     "data": {
      "text/plain": [
       "(33744535, 15)"
      ]
     },
     "execution_count": 37,
     "metadata": {},
     "output_type": "execute_result"
    }
   ],
   "source": [
    "used_car_rcrepm.shape"
   ]
  },
  {
   "cell_type": "code",
   "execution_count": 38,
   "metadata": {},
   "outputs": [
    {
     "data": {
      "text/plain": [
       "(32171981, 15)"
      ]
     },
     "metadata": {},
     "output_type": "display_data"
    }
   ],
   "source": [
    "# Testing on existing variable\n",
    "serv_noused_test1 = used_car_rcrepm[used_car_rcrepm['used_car_sale_date'].isnull()]\n",
    "display(serv_noused_test1.shape)"
   ]
  },
  {
   "cell_type": "code",
   "execution_count": 39,
   "metadata": {},
   "outputs": [
    {
     "name": "stdout",
     "output_type": "stream",
     "text": [
      "(32171981, 15)\n"
     ]
    },
    {
     "data": {
      "text/html": [
       "<div>\n",
       "<style scoped>\n",
       "    .dataframe tbody tr th:only-of-type {\n",
       "        vertical-align: middle;\n",
       "    }\n",
       "\n",
       "    .dataframe tbody tr th {\n",
       "        vertical-align: top;\n",
       "    }\n",
       "\n",
       "    .dataframe thead th {\n",
       "        text-align: right;\n",
       "    }\n",
       "</style>\n",
       "<table border=\"1\" class=\"dataframe\">\n",
       "  <thead>\n",
       "    <tr style=\"text-align: right;\">\n",
       "      <th></th>\n",
       "      <th>repm_dlr_code</th>\n",
       "      <th>repm_cust_no</th>\n",
       "      <th>repm_ro_no</th>\n",
       "      <th>repm_ro_dtime</th>\n",
       "      <th>repm_vin</th>\n",
       "      <th>repm_work_type</th>\n",
       "      <th>repm_vst_type</th>\n",
       "      <th>repm_bill_total_labr_amt</th>\n",
       "      <th>repm_bill_total_othr_amt</th>\n",
       "      <th>repm_bill_total_part_amt</th>\n",
       "      <th>vinm_selling_date</th>\n",
       "      <th>vinm_sale_date</th>\n",
       "      <th>vinm_model_year</th>\n",
       "      <th>vinm_last_milg</th>\n",
       "      <th>used_car_sale_date</th>\n",
       "    </tr>\n",
       "  </thead>\n",
       "  <tbody>\n",
       "    <tr>\n",
       "      <th>0</th>\n",
       "      <td>N3208</td>\n",
       "      <td>C2008020258</td>\n",
       "      <td>R201708673</td>\n",
       "      <td>2017-07-29 10:10:50</td>\n",
       "      <td>MALCG51WR6M015343</td>\n",
       "      <td>OC</td>\n",
       "      <td>NaN</td>\n",
       "      <td>0.00</td>\n",
       "      <td>0.00</td>\n",
       "      <td>0.00</td>\n",
       "      <td>NaT</td>\n",
       "      <td>20060629</td>\n",
       "      <td>2006</td>\n",
       "      <td>81635</td>\n",
       "      <td>NaT</td>\n",
       "    </tr>\n",
       "    <tr>\n",
       "      <th>1</th>\n",
       "      <td>W2213</td>\n",
       "      <td>C2008030086</td>\n",
       "      <td>R201610998</td>\n",
       "      <td>2016-11-16 17:14:46</td>\n",
       "      <td>MALCG51WR6M015479</td>\n",
       "      <td>OC</td>\n",
       "      <td>NaN</td>\n",
       "      <td>0.00</td>\n",
       "      <td>0.00</td>\n",
       "      <td>0.00</td>\n",
       "      <td>NaT</td>\n",
       "      <td>20061128</td>\n",
       "      <td>2006</td>\n",
       "      <td>75950</td>\n",
       "      <td>NaT</td>\n",
       "    </tr>\n",
       "  </tbody>\n",
       "</table>\n",
       "</div>"
      ],
      "text/plain": [
       "  repm_dlr_code repm_cust_no  repm_ro_no       repm_ro_dtime  \\\n",
       "0         N3208  C2008020258  R201708673 2017-07-29 10:10:50   \n",
       "1         W2213  C2008030086  R201610998 2016-11-16 17:14:46   \n",
       "\n",
       "            repm_vin repm_work_type repm_vst_type repm_bill_total_labr_amt  \\\n",
       "0  MALCG51WR6M015343             OC           NaN                     0.00   \n",
       "1  MALCG51WR6M015479             OC           NaN                     0.00   \n",
       "\n",
       "  repm_bill_total_othr_amt repm_bill_total_part_amt vinm_selling_date  \\\n",
       "0                     0.00                     0.00               NaT   \n",
       "1                     0.00                     0.00               NaT   \n",
       "\n",
       "  vinm_sale_date vinm_model_year  vinm_last_milg used_car_sale_date  \n",
       "0       20060629            2006           81635                NaT  \n",
       "1       20061128            2006           75950                NaT  "
      ]
     },
     "execution_count": 39,
     "metadata": {},
     "output_type": "execute_result"
    }
   ],
   "source": [
    "serv_noused_test2 =serv_noused_test1[~serv_noused_test1.repm_vin.isin(used_vin_list)]\n",
    "print(serv_noused_test2.shape)\n",
    "serv_noused_test2.head(2)"
   ]
  },
  {
   "cell_type": "markdown",
   "metadata": {},
   "source": [
    "**Feature engineering for not used customer group for one partition data. The below needs to be repeated for all partiotined data**"
   ]
  },
  {
   "cell_type": "raw",
   "metadata": {},
   "source": [
    "#Merge service data with unique customer group\n",
    "cust_grp_1 = pd.read_csv('C:\\\\Users\\\\274828\\\\Data Analysis\\\\service_ref\\\\Data_preprocessing_FE\\\\1yr Data\\\\cust_grp_noused_1.csv', low_memory=False)"
   ]
  },
  {
   "cell_type": "code",
   "execution_count": 40,
   "metadata": {},
   "outputs": [],
   "source": [
    "#Merge service data with unique customer group\n",
    "cust_grp_1 = cust_grp_noused\n",
    "serv_grp_1 = serv_noused_test2"
   ]
  },
  {
   "cell_type": "code",
   "execution_count": 41,
   "metadata": {},
   "outputs": [
    {
     "name": "stdout",
     "output_type": "stream",
     "text": [
      "cust_grp_1.unique_cust_grp.unique: 1244941\n",
      "cust_grp_1.repm_vin.unique:  1329223\n",
      "serv_grp_1.repm_vin.unique:  5193039\n",
      "serv_grp_1.shape:  (32171981, 15)\n",
      "serv_grp_1.shape (32171981, 16)\n"
     ]
    }
   ],
   "source": [
    "# Check data sanity\n",
    "print(\"cust_grp_1.unique_cust_grp.unique:\", len(cust_grp_1.unique_cust_grp.unique()))\n",
    "print(\"cust_grp_1.repm_vin.unique: \",len(cust_grp_1.repm_vin.unique()))\n",
    "print(\"serv_grp_1.repm_vin.unique: \",len(serv_grp_1.repm_vin.unique()))\n",
    "print(\"serv_grp_1.shape: \",serv_grp_1.shape)\n",
    "cust_grp_1_dict = pd.Series(cust_grp_1['unique_cust_grp'].values, index=cust_grp_1['repm_vin']).to_dict()\n",
    "serv_grp_1['unique_cust_grp'] = serv_grp_1.repm_vin.map(cust_grp_1_dict)\n",
    "print(\"serv_grp_1.shape\",serv_grp_1.shape)"
   ]
  },
  {
   "cell_type": "code",
   "execution_count": 42,
   "metadata": {},
   "outputs": [
    {
     "name": "stdout",
     "output_type": "stream",
     "text": [
      "(32171981, 16)\n"
     ]
    },
    {
     "data": {
      "text/html": [
       "<div>\n",
       "<style scoped>\n",
       "    .dataframe tbody tr th:only-of-type {\n",
       "        vertical-align: middle;\n",
       "    }\n",
       "\n",
       "    .dataframe tbody tr th {\n",
       "        vertical-align: top;\n",
       "    }\n",
       "\n",
       "    .dataframe thead th {\n",
       "        text-align: right;\n",
       "    }\n",
       "</style>\n",
       "<table border=\"1\" class=\"dataframe\">\n",
       "  <thead>\n",
       "    <tr style=\"text-align: right;\">\n",
       "      <th></th>\n",
       "      <th>repm_dlr_code</th>\n",
       "      <th>repm_cust_no</th>\n",
       "      <th>repm_ro_no</th>\n",
       "      <th>repm_ro_dtime</th>\n",
       "      <th>repm_vin</th>\n",
       "      <th>repm_work_type</th>\n",
       "      <th>repm_vst_type</th>\n",
       "      <th>repm_bill_total_labr_amt</th>\n",
       "      <th>repm_bill_total_othr_amt</th>\n",
       "      <th>repm_bill_total_part_amt</th>\n",
       "      <th>vinm_selling_date</th>\n",
       "      <th>vinm_sale_date</th>\n",
       "      <th>vinm_model_year</th>\n",
       "      <th>vinm_last_milg</th>\n",
       "      <th>used_car_sale_date</th>\n",
       "      <th>unique_cust_grp</th>\n",
       "    </tr>\n",
       "  </thead>\n",
       "  <tbody>\n",
       "    <tr>\n",
       "      <th>0</th>\n",
       "      <td>N3208</td>\n",
       "      <td>C2008020258</td>\n",
       "      <td>R201708673</td>\n",
       "      <td>2017-07-29 10:10:50</td>\n",
       "      <td>MALCG51WR6M015343</td>\n",
       "      <td>OC</td>\n",
       "      <td>NaN</td>\n",
       "      <td>0.00</td>\n",
       "      <td>0.00</td>\n",
       "      <td>0.00</td>\n",
       "      <td>NaT</td>\n",
       "      <td>20060629</td>\n",
       "      <td>2006</td>\n",
       "      <td>81635</td>\n",
       "      <td>NaT</td>\n",
       "      <td>NaN</td>\n",
       "    </tr>\n",
       "    <tr>\n",
       "      <th>1</th>\n",
       "      <td>W2213</td>\n",
       "      <td>C2008030086</td>\n",
       "      <td>R201610998</td>\n",
       "      <td>2016-11-16 17:14:46</td>\n",
       "      <td>MALCG51WR6M015479</td>\n",
       "      <td>OC</td>\n",
       "      <td>NaN</td>\n",
       "      <td>0.00</td>\n",
       "      <td>0.00</td>\n",
       "      <td>0.00</td>\n",
       "      <td>NaT</td>\n",
       "      <td>20061128</td>\n",
       "      <td>2006</td>\n",
       "      <td>75950</td>\n",
       "      <td>NaT</td>\n",
       "      <td>NaN</td>\n",
       "    </tr>\n",
       "  </tbody>\n",
       "</table>\n",
       "</div>"
      ],
      "text/plain": [
       "  repm_dlr_code repm_cust_no  repm_ro_no       repm_ro_dtime  \\\n",
       "0         N3208  C2008020258  R201708673 2017-07-29 10:10:50   \n",
       "1         W2213  C2008030086  R201610998 2016-11-16 17:14:46   \n",
       "\n",
       "            repm_vin repm_work_type repm_vst_type repm_bill_total_labr_amt  \\\n",
       "0  MALCG51WR6M015343             OC           NaN                     0.00   \n",
       "1  MALCG51WR6M015479             OC           NaN                     0.00   \n",
       "\n",
       "  repm_bill_total_othr_amt repm_bill_total_part_amt vinm_selling_date  \\\n",
       "0                     0.00                     0.00               NaT   \n",
       "1                     0.00                     0.00               NaT   \n",
       "\n",
       "  vinm_sale_date vinm_model_year  vinm_last_milg used_car_sale_date  \\\n",
       "0       20060629            2006           81635                NaT   \n",
       "1       20061128            2006           75950                NaT   \n",
       "\n",
       "  unique_cust_grp  \n",
       "0             NaN  \n",
       "1             NaN  "
      ]
     },
     "execution_count": 42,
     "metadata": {},
     "output_type": "execute_result"
    }
   ],
   "source": [
    "grp_1_vin_age = serv_noused_test2\n",
    "print(grp_1_vin_age.shape)\n",
    "grp_1_vin_age.head(2)"
   ]
  },
  {
   "cell_type": "code",
   "execution_count": 43,
   "metadata": {},
   "outputs": [
    {
     "data": {
      "text/plain": [
       "repm_dlr_code                      0\n",
       "repm_cust_no                 1102926\n",
       "repm_ro_no                         0\n",
       "repm_ro_dtime                      0\n",
       "repm_vin                           0\n",
       "repm_work_type                    18\n",
       "repm_vst_type               28028731\n",
       "repm_bill_total_labr_amt           0\n",
       "repm_bill_total_othr_amt           0\n",
       "repm_bill_total_part_amt           0\n",
       "vinm_selling_date           32171981\n",
       "vinm_sale_date                 24273\n",
       "vinm_model_year                15355\n",
       "vinm_last_milg                     0\n",
       "used_car_sale_date          32171981\n",
       "unique_cust_grp             22744826\n",
       "dtype: int64"
      ]
     },
     "execution_count": 43,
     "metadata": {},
     "output_type": "execute_result"
    }
   ],
   "source": [
    "grp_1_vin_age.isnull().sum()"
   ]
  },
  {
   "cell_type": "raw",
   "metadata": {},
   "source": [
    "grp_1_vin_age['vinm_model_year'] = pd.DatetimeIndex(grp_1_vin_age['vinm_sale_date'].map(lambda x:str(x)[0:4]), errors = 'coerce').year"
   ]
  },
  {
   "cell_type": "code",
   "execution_count": 44,
   "metadata": {},
   "outputs": [],
   "source": [
    "# Merging with car age\n",
    "#grp_1_vin_age = pd.read_csv('D:/Referral/Cust_grp_splits/serv_noused_1_vin_age.csv', low_memory=False)\n",
    "vin_age_map = pd.Series(grp_1_vin_age.vinm_model_year.values,index = grp_1_vin_age.repm_vin).to_dict()\n",
    "serv_grp_1['car_model_year'] = serv_grp_1.repm_vin.map(vin_age_map)"
   ]
  },
  {
   "cell_type": "code",
   "execution_count": 45,
   "metadata": {},
   "outputs": [
    {
     "data": {
      "text/plain": [
       "(32171981, 17)"
      ]
     },
     "metadata": {},
     "output_type": "display_data"
    },
    {
     "data": {
      "text/plain": [
       "Index(['repm_dlr_code', 'repm_cust_no', 'repm_ro_no', 'repm_ro_dtime',\n",
       "       'repm_vin', 'repm_work_type', 'repm_vst_type',\n",
       "       'repm_bill_total_labr_amt', 'repm_bill_total_othr_amt',\n",
       "       'repm_bill_total_part_amt', 'vinm_selling_date', 'vinm_sale_date',\n",
       "       'vinm_model_year', 'vinm_last_milg', 'used_car_sale_date',\n",
       "       'unique_cust_grp', 'car_model_year'],\n",
       "      dtype='object')"
      ]
     },
     "metadata": {},
     "output_type": "display_data"
    },
    {
     "data": {
      "text/plain": [
       "15355"
      ]
     },
     "metadata": {},
     "output_type": "display_data"
    }
   ],
   "source": [
    "display(serv_grp_1.shape)\n",
    "display(serv_grp_1.columns)\n",
    "display(serv_grp_1.car_model_year.isnull().sum())"
   ]
  },
  {
   "cell_type": "code",
   "execution_count": 46,
   "metadata": {},
   "outputs": [
    {
     "data": {
      "text/plain": [
       "dtype('O')"
      ]
     },
     "execution_count": 46,
     "metadata": {},
     "output_type": "execute_result"
    }
   ],
   "source": [
    "serv_grp_1['car_model_year'].dtypes"
   ]
  },
  {
   "cell_type": "code",
   "execution_count": 47,
   "metadata": {},
   "outputs": [],
   "source": [
    "serv_grp_1['car_model_year'] = pd.to_numeric(serv_grp_1['car_model_year'])"
   ]
  },
  {
   "cell_type": "code",
   "execution_count": 48,
   "metadata": {},
   "outputs": [],
   "source": [
    "serv_grp_1['Purchase_Age'] = (2020 - serv_grp_1['car_model_year']) #Calculate car age replace 0 years with 1 year\n",
    "serv_grp_1['Purchase_Age'] = np.where(serv_grp_1['Purchase_Age']==0, 1, serv_grp_1['Purchase_Age'])\n",
    "serv_grp_1 = serv_grp_1.drop_duplicates(subset=['repm_dlr_code', 'repm_cust_no', 'repm_vin', 'repm_ro_dtime',\n",
    "                                  'repm_work_type'])\n",
    "\n",
    "#removed repm milg from original code -- this variable is present in the ser_rcrepm_tb_0_10L files.\n",
    "#serv_grp_1 = serv_grp_1.drop_duplicates(subset=['repm_dlr_code', 'repm_cust_no', 'repm_vin', 'repm_ro_dtime',\n",
    "#                                  'repm_work_type', 'repm_milg'])"
   ]
  },
  {
   "cell_type": "code",
   "execution_count": 49,
   "metadata": {},
   "outputs": [
    {
     "data": {
      "text/plain": [
       "(32153653, 18)"
      ]
     },
     "metadata": {},
     "output_type": "display_data"
    },
    {
     "data": {
      "text/plain": [
       "(32138345, 18)"
      ]
     },
     "metadata": {},
     "output_type": "display_data"
    }
   ],
   "source": [
    "display(serv_grp_1.shape)\n",
    "serv_grp_1 = serv_grp_1[serv_grp_1.car_model_year.notnull()] #Remove rows where car age is not present\n",
    "display(serv_grp_1.shape)"
   ]
  },
  {
   "cell_type": "code",
   "execution_count": 50,
   "metadata": {},
   "outputs": [],
   "source": [
    "serv_grp_1['repm_ro_dtime'] = pd.to_datetime(serv_grp_1['repm_ro_dtime'])\n",
    "serv_grp_1 = serv_grp_1.sort_values(['unique_cust_grp', 'repm_vin', 'repm_work_type', 'repm_ro_dtime'], ascending = [True,\n",
    "                                                                                                                     True,\n",
    "                                                                                                                    True, False])"
   ]
  },
  {
   "cell_type": "code",
   "execution_count": 51,
   "metadata": {},
   "outputs": [
    {
     "name": "stdout",
     "output_type": "stream",
     "text": [
      "(32138345, 18)\n"
     ]
    },
    {
     "data": {
      "text/html": [
       "<div>\n",
       "<style scoped>\n",
       "    .dataframe tbody tr th:only-of-type {\n",
       "        vertical-align: middle;\n",
       "    }\n",
       "\n",
       "    .dataframe tbody tr th {\n",
       "        vertical-align: top;\n",
       "    }\n",
       "\n",
       "    .dataframe thead th {\n",
       "        text-align: right;\n",
       "    }\n",
       "</style>\n",
       "<table border=\"1\" class=\"dataframe\">\n",
       "  <thead>\n",
       "    <tr style=\"text-align: right;\">\n",
       "      <th></th>\n",
       "      <th>repm_dlr_code</th>\n",
       "      <th>repm_cust_no</th>\n",
       "      <th>repm_ro_no</th>\n",
       "      <th>repm_ro_dtime</th>\n",
       "      <th>repm_vin</th>\n",
       "      <th>repm_work_type</th>\n",
       "      <th>repm_vst_type</th>\n",
       "      <th>repm_bill_total_labr_amt</th>\n",
       "      <th>repm_bill_total_othr_amt</th>\n",
       "      <th>repm_bill_total_part_amt</th>\n",
       "      <th>vinm_selling_date</th>\n",
       "      <th>vinm_sale_date</th>\n",
       "      <th>vinm_model_year</th>\n",
       "      <th>vinm_last_milg</th>\n",
       "      <th>used_car_sale_date</th>\n",
       "      <th>unique_cust_grp</th>\n",
       "      <th>car_model_year</th>\n",
       "      <th>Purchase_Age</th>\n",
       "    </tr>\n",
       "  </thead>\n",
       "  <tbody>\n",
       "    <tr>\n",
       "      <th>7995749</th>\n",
       "      <td>N1201</td>\n",
       "      <td>C2005100362</td>\n",
       "      <td>R201932851</td>\n",
       "      <td>2019-11-28 09:18:30</td>\n",
       "      <td>MALAA51HR5M700082</td>\n",
       "      <td>PS</td>\n",
       "      <td>P</td>\n",
       "      <td>5974.34</td>\n",
       "      <td>0.00</td>\n",
       "      <td>7910.51</td>\n",
       "      <td>NaT</td>\n",
       "      <td>20051016</td>\n",
       "      <td>2005</td>\n",
       "      <td>64235</td>\n",
       "      <td>NaT</td>\n",
       "      <td>0</td>\n",
       "      <td>2005.0</td>\n",
       "      <td>15.0</td>\n",
       "    </tr>\n",
       "    <tr>\n",
       "      <th>7995751</th>\n",
       "      <td>N1201</td>\n",
       "      <td>C2005100362</td>\n",
       "      <td>R201900002</td>\n",
       "      <td>2019-01-02 08:51:38</td>\n",
       "      <td>MALAA51HR5M700082</td>\n",
       "      <td>PS</td>\n",
       "      <td>NaN</td>\n",
       "      <td>2837.90</td>\n",
       "      <td>0.00</td>\n",
       "      <td>1457.20</td>\n",
       "      <td>NaT</td>\n",
       "      <td>20051016</td>\n",
       "      <td>2005</td>\n",
       "      <td>64235</td>\n",
       "      <td>NaT</td>\n",
       "      <td>0</td>\n",
       "      <td>2005.0</td>\n",
       "      <td>15.0</td>\n",
       "    </tr>\n",
       "  </tbody>\n",
       "</table>\n",
       "</div>"
      ],
      "text/plain": [
       "        repm_dlr_code repm_cust_no  repm_ro_no       repm_ro_dtime  \\\n",
       "7995749         N1201  C2005100362  R201932851 2019-11-28 09:18:30   \n",
       "7995751         N1201  C2005100362  R201900002 2019-01-02 08:51:38   \n",
       "\n",
       "                  repm_vin repm_work_type repm_vst_type  \\\n",
       "7995749  MALAA51HR5M700082             PS             P   \n",
       "7995751  MALAA51HR5M700082             PS           NaN   \n",
       "\n",
       "        repm_bill_total_labr_amt repm_bill_total_othr_amt  \\\n",
       "7995749                  5974.34                     0.00   \n",
       "7995751                  2837.90                     0.00   \n",
       "\n",
       "        repm_bill_total_part_amt vinm_selling_date vinm_sale_date  \\\n",
       "7995749                  7910.51               NaT       20051016   \n",
       "7995751                  1457.20               NaT       20051016   \n",
       "\n",
       "        vinm_model_year  vinm_last_milg used_car_sale_date unique_cust_grp  \\\n",
       "7995749            2005           64235                NaT               0   \n",
       "7995751            2005           64235                NaT               0   \n",
       "\n",
       "         car_model_year  Purchase_Age  \n",
       "7995749          2005.0          15.0  \n",
       "7995751          2005.0          15.0  "
      ]
     },
     "execution_count": 51,
     "metadata": {},
     "output_type": "execute_result"
    }
   ],
   "source": [
    "print(serv_grp_1.shape)\n",
    "serv_grp_1.head(2)"
   ]
  },
  {
   "cell_type": "code",
   "execution_count": 52,
   "metadata": {},
   "outputs": [
    {
     "data": {
      "text/plain": [
       "RR    8806091\n",
       "PS    8214255\n",
       "FS    6818509\n",
       "AR    3854565\n",
       "PD    1884582\n",
       "OC    1863201\n",
       "AC     645721\n",
       "MT      43813\n",
       "RM       4153\n",
       "UF       3200\n",
       "RA        237\n",
       "Name: repm_work_type, dtype: int64"
      ]
     },
     "metadata": {},
     "output_type": "display_data"
    },
    {
     "data": {
      "text/html": [
       "<div>\n",
       "<style scoped>\n",
       "    .dataframe tbody tr th:only-of-type {\n",
       "        vertical-align: middle;\n",
       "    }\n",
       "\n",
       "    .dataframe tbody tr th {\n",
       "        vertical-align: top;\n",
       "    }\n",
       "\n",
       "    .dataframe thead th {\n",
       "        text-align: right;\n",
       "    }\n",
       "</style>\n",
       "<table border=\"1\" class=\"dataframe\">\n",
       "  <thead>\n",
       "    <tr style=\"text-align: right;\">\n",
       "      <th></th>\n",
       "      <th>repm_dlr_code</th>\n",
       "      <th>repm_cust_no</th>\n",
       "      <th>repm_ro_no</th>\n",
       "      <th>repm_ro_dtime</th>\n",
       "      <th>repm_vin</th>\n",
       "      <th>repm_work_type</th>\n",
       "      <th>repm_vst_type</th>\n",
       "      <th>repm_bill_total_labr_amt</th>\n",
       "      <th>repm_bill_total_othr_amt</th>\n",
       "      <th>repm_bill_total_part_amt</th>\n",
       "      <th>vinm_selling_date</th>\n",
       "      <th>vinm_sale_date</th>\n",
       "      <th>vinm_model_year</th>\n",
       "      <th>vinm_last_milg</th>\n",
       "      <th>used_car_sale_date</th>\n",
       "      <th>unique_cust_grp</th>\n",
       "      <th>car_model_year</th>\n",
       "      <th>Purchase_Age</th>\n",
       "    </tr>\n",
       "  </thead>\n",
       "  <tbody>\n",
       "    <tr>\n",
       "      <th>7995749</th>\n",
       "      <td>N1201</td>\n",
       "      <td>C2005100362</td>\n",
       "      <td>R201932851</td>\n",
       "      <td>2019-11-28 09:18:30</td>\n",
       "      <td>MALAA51HR5M700082</td>\n",
       "      <td>PS</td>\n",
       "      <td>P</td>\n",
       "      <td>5974.34</td>\n",
       "      <td>0.00</td>\n",
       "      <td>7910.51</td>\n",
       "      <td>NaT</td>\n",
       "      <td>20051016</td>\n",
       "      <td>2005</td>\n",
       "      <td>64235</td>\n",
       "      <td>NaT</td>\n",
       "      <td>0</td>\n",
       "      <td>2005.0</td>\n",
       "      <td>15.0</td>\n",
       "    </tr>\n",
       "    <tr>\n",
       "      <th>7995751</th>\n",
       "      <td>N1201</td>\n",
       "      <td>C2005100362</td>\n",
       "      <td>R201900002</td>\n",
       "      <td>2019-01-02 08:51:38</td>\n",
       "      <td>MALAA51HR5M700082</td>\n",
       "      <td>PS</td>\n",
       "      <td>NaN</td>\n",
       "      <td>2837.90</td>\n",
       "      <td>0.00</td>\n",
       "      <td>1457.20</td>\n",
       "      <td>NaT</td>\n",
       "      <td>20051016</td>\n",
       "      <td>2005</td>\n",
       "      <td>64235</td>\n",
       "      <td>NaT</td>\n",
       "      <td>0</td>\n",
       "      <td>2005.0</td>\n",
       "      <td>15.0</td>\n",
       "    </tr>\n",
       "    <tr>\n",
       "      <th>7995750</th>\n",
       "      <td>N1201</td>\n",
       "      <td>C2005100362</td>\n",
       "      <td>R201804504</td>\n",
       "      <td>2018-02-18 08:52:00</td>\n",
       "      <td>MALAA51HR5M700082</td>\n",
       "      <td>PS</td>\n",
       "      <td>NaN</td>\n",
       "      <td>4652.74</td>\n",
       "      <td>1180.00</td>\n",
       "      <td>3717.26</td>\n",
       "      <td>NaT</td>\n",
       "      <td>20051016</td>\n",
       "      <td>2005</td>\n",
       "      <td>64235</td>\n",
       "      <td>NaT</td>\n",
       "      <td>0</td>\n",
       "      <td>2005.0</td>\n",
       "      <td>15.0</td>\n",
       "    </tr>\n",
       "    <tr>\n",
       "      <th>7995746</th>\n",
       "      <td>N1201</td>\n",
       "      <td>C2005100362</td>\n",
       "      <td>R201708463</td>\n",
       "      <td>2017-04-01 08:36:57</td>\n",
       "      <td>MALAA51HR5M700082</td>\n",
       "      <td>PS</td>\n",
       "      <td>NaN</td>\n",
       "      <td>3075.12</td>\n",
       "      <td>0.00</td>\n",
       "      <td>3192.83</td>\n",
       "      <td>NaT</td>\n",
       "      <td>20051016</td>\n",
       "      <td>2005</td>\n",
       "      <td>64235</td>\n",
       "      <td>NaT</td>\n",
       "      <td>0</td>\n",
       "      <td>2005.0</td>\n",
       "      <td>15.0</td>\n",
       "    </tr>\n",
       "    <tr>\n",
       "      <th>7995752</th>\n",
       "      <td>N1201</td>\n",
       "      <td>C2005100362</td>\n",
       "      <td>R201616534</td>\n",
       "      <td>2016-07-07 08:35:00</td>\n",
       "      <td>MALAA51HR5M700082</td>\n",
       "      <td>PS</td>\n",
       "      <td>NaN</td>\n",
       "      <td>2969.32</td>\n",
       "      <td>0.00</td>\n",
       "      <td>10145.90</td>\n",
       "      <td>NaT</td>\n",
       "      <td>20051016</td>\n",
       "      <td>2005</td>\n",
       "      <td>64235</td>\n",
       "      <td>NaT</td>\n",
       "      <td>0</td>\n",
       "      <td>2005.0</td>\n",
       "      <td>15.0</td>\n",
       "    </tr>\n",
       "  </tbody>\n",
       "</table>\n",
       "</div>"
      ],
      "text/plain": [
       "        repm_dlr_code repm_cust_no  repm_ro_no       repm_ro_dtime  \\\n",
       "7995749         N1201  C2005100362  R201932851 2019-11-28 09:18:30   \n",
       "7995751         N1201  C2005100362  R201900002 2019-01-02 08:51:38   \n",
       "7995750         N1201  C2005100362  R201804504 2018-02-18 08:52:00   \n",
       "7995746         N1201  C2005100362  R201708463 2017-04-01 08:36:57   \n",
       "7995752         N1201  C2005100362  R201616534 2016-07-07 08:35:00   \n",
       "\n",
       "                  repm_vin repm_work_type repm_vst_type  \\\n",
       "7995749  MALAA51HR5M700082             PS             P   \n",
       "7995751  MALAA51HR5M700082             PS           NaN   \n",
       "7995750  MALAA51HR5M700082             PS           NaN   \n",
       "7995746  MALAA51HR5M700082             PS           NaN   \n",
       "7995752  MALAA51HR5M700082             PS           NaN   \n",
       "\n",
       "        repm_bill_total_labr_amt repm_bill_total_othr_amt  \\\n",
       "7995749                  5974.34                     0.00   \n",
       "7995751                  2837.90                     0.00   \n",
       "7995750                  4652.74                  1180.00   \n",
       "7995746                  3075.12                     0.00   \n",
       "7995752                  2969.32                     0.00   \n",
       "\n",
       "        repm_bill_total_part_amt vinm_selling_date vinm_sale_date  \\\n",
       "7995749                  7910.51               NaT       20051016   \n",
       "7995751                  1457.20               NaT       20051016   \n",
       "7995750                  3717.26               NaT       20051016   \n",
       "7995746                  3192.83               NaT       20051016   \n",
       "7995752                 10145.90               NaT       20051016   \n",
       "\n",
       "        vinm_model_year  vinm_last_milg used_car_sale_date unique_cust_grp  \\\n",
       "7995749            2005           64235                NaT               0   \n",
       "7995751            2005           64235                NaT               0   \n",
       "7995750            2005           64235                NaT               0   \n",
       "7995746            2005           64235                NaT               0   \n",
       "7995752            2005           64235                NaT               0   \n",
       "\n",
       "         car_model_year  Purchase_Age  \n",
       "7995749          2005.0          15.0  \n",
       "7995751          2005.0          15.0  \n",
       "7995750          2005.0          15.0  \n",
       "7995746          2005.0          15.0  \n",
       "7995752          2005.0          15.0  "
      ]
     },
     "metadata": {},
     "output_type": "display_data"
    }
   ],
   "source": [
    "display(serv_grp_1.repm_work_type.value_counts())\n",
    "display(serv_grp_1.head())"
   ]
  },
  {
   "cell_type": "code",
   "execution_count": 53,
   "metadata": {},
   "outputs": [
    {
     "data": {
      "text/html": [
       "<div>\n",
       "<style scoped>\n",
       "    .dataframe tbody tr th:only-of-type {\n",
       "        vertical-align: middle;\n",
       "    }\n",
       "\n",
       "    .dataframe tbody tr th {\n",
       "        vertical-align: top;\n",
       "    }\n",
       "\n",
       "    .dataframe thead th {\n",
       "        text-align: right;\n",
       "    }\n",
       "</style>\n",
       "<table border=\"1\" class=\"dataframe\">\n",
       "  <thead>\n",
       "    <tr style=\"text-align: right;\">\n",
       "      <th></th>\n",
       "      <th>repm_dlr_code</th>\n",
       "      <th>repm_cust_no</th>\n",
       "      <th>repm_ro_no</th>\n",
       "      <th>repm_ro_dtime</th>\n",
       "      <th>repm_vin</th>\n",
       "      <th>repm_work_type</th>\n",
       "      <th>repm_vst_type</th>\n",
       "      <th>repm_bill_total_labr_amt</th>\n",
       "      <th>repm_bill_total_othr_amt</th>\n",
       "      <th>repm_bill_total_part_amt</th>\n",
       "      <th>vinm_selling_date</th>\n",
       "      <th>vinm_sale_date</th>\n",
       "      <th>vinm_model_year</th>\n",
       "      <th>vinm_last_milg</th>\n",
       "      <th>used_car_sale_date</th>\n",
       "      <th>unique_cust_grp</th>\n",
       "      <th>car_model_year</th>\n",
       "      <th>Purchase_Age</th>\n",
       "    </tr>\n",
       "  </thead>\n",
       "  <tbody>\n",
       "    <tr>\n",
       "      <th>10098774</th>\n",
       "      <td>N2212</td>\n",
       "      <td>B2010090010</td>\n",
       "      <td>R201813137</td>\n",
       "      <td>2018-11-24 15:03:46</td>\n",
       "      <td>00000000000037519</td>\n",
       "      <td>RR</td>\n",
       "      <td>NaN</td>\n",
       "      <td>0.00</td>\n",
       "      <td>0.00</td>\n",
       "      <td>0.00</td>\n",
       "      <td>NaT</td>\n",
       "      <td>20000113</td>\n",
       "      <td>1999</td>\n",
       "      <td>200394</td>\n",
       "      <td>NaT</td>\n",
       "      <td>NaN</td>\n",
       "      <td>1999.0</td>\n",
       "      <td>21.0</td>\n",
       "    </tr>\n",
       "    <tr>\n",
       "      <th>9351338</th>\n",
       "      <td>N6208</td>\n",
       "      <td>S2012070002</td>\n",
       "      <td>R201605202</td>\n",
       "      <td>2016-05-24 12:23:36</td>\n",
       "      <td>00000000000207962</td>\n",
       "      <td>RR</td>\n",
       "      <td>NaN</td>\n",
       "      <td>0.00</td>\n",
       "      <td>0.00</td>\n",
       "      <td>0.00</td>\n",
       "      <td>NaT</td>\n",
       "      <td>20031125</td>\n",
       "      <td>2003</td>\n",
       "      <td>79425</td>\n",
       "      <td>NaT</td>\n",
       "      <td>NaN</td>\n",
       "      <td>2003.0</td>\n",
       "      <td>17.0</td>\n",
       "    </tr>\n",
       "    <tr>\n",
       "      <th>13355686</th>\n",
       "      <td>S5208</td>\n",
       "      <td>B2012040014</td>\n",
       "      <td>R201720814</td>\n",
       "      <td>2017-12-28 10:59:00</td>\n",
       "      <td>00000000000236380</td>\n",
       "      <td>RR</td>\n",
       "      <td>NaN</td>\n",
       "      <td>0.00</td>\n",
       "      <td>0.00</td>\n",
       "      <td>0.00</td>\n",
       "      <td>NaT</td>\n",
       "      <td>20040129</td>\n",
       "      <td>2004</td>\n",
       "      <td>82569</td>\n",
       "      <td>NaT</td>\n",
       "      <td>NaN</td>\n",
       "      <td>2004.0</td>\n",
       "      <td>16.0</td>\n",
       "    </tr>\n",
       "    <tr>\n",
       "      <th>27086235</th>\n",
       "      <td>S5219</td>\n",
       "      <td>S2013050004</td>\n",
       "      <td>R202001830</td>\n",
       "      <td>2020-06-24 00:00:00</td>\n",
       "      <td>00000000001117907</td>\n",
       "      <td>RR</td>\n",
       "      <td>NaN</td>\n",
       "      <td>0.00</td>\n",
       "      <td>0.00</td>\n",
       "      <td>0.00</td>\n",
       "      <td>NaT</td>\n",
       "      <td>20120530</td>\n",
       "      <td>2008</td>\n",
       "      <td>27000</td>\n",
       "      <td>NaT</td>\n",
       "      <td>NaN</td>\n",
       "      <td>2008.0</td>\n",
       "      <td>12.0</td>\n",
       "    </tr>\n",
       "    <tr>\n",
       "      <th>13150439</th>\n",
       "      <td>N2201</td>\n",
       "      <td>B2011060030</td>\n",
       "      <td>R201806287</td>\n",
       "      <td>2018-07-24 15:28:00</td>\n",
       "      <td>00000000001370274</td>\n",
       "      <td>PS</td>\n",
       "      <td>NaN</td>\n",
       "      <td>0.00</td>\n",
       "      <td>0.00</td>\n",
       "      <td>0.00</td>\n",
       "      <td>NaT</td>\n",
       "      <td>19991018</td>\n",
       "      <td>1999</td>\n",
       "      <td>108377</td>\n",
       "      <td>NaT</td>\n",
       "      <td>NaN</td>\n",
       "      <td>1999.0</td>\n",
       "      <td>21.0</td>\n",
       "    </tr>\n",
       "  </tbody>\n",
       "</table>\n",
       "</div>"
      ],
      "text/plain": [
       "         repm_dlr_code repm_cust_no  repm_ro_no       repm_ro_dtime  \\\n",
       "10098774         N2212  B2010090010  R201813137 2018-11-24 15:03:46   \n",
       "9351338          N6208  S2012070002  R201605202 2016-05-24 12:23:36   \n",
       "13355686         S5208  B2012040014  R201720814 2017-12-28 10:59:00   \n",
       "27086235         S5219  S2013050004  R202001830 2020-06-24 00:00:00   \n",
       "13150439         N2201  B2011060030  R201806287 2018-07-24 15:28:00   \n",
       "\n",
       "                   repm_vin repm_work_type repm_vst_type  \\\n",
       "10098774  00000000000037519             RR           NaN   \n",
       "9351338   00000000000207962             RR           NaN   \n",
       "13355686  00000000000236380             RR           NaN   \n",
       "27086235  00000000001117907             RR           NaN   \n",
       "13150439  00000000001370274             PS           NaN   \n",
       "\n",
       "         repm_bill_total_labr_amt repm_bill_total_othr_amt  \\\n",
       "10098774                     0.00                     0.00   \n",
       "9351338                      0.00                     0.00   \n",
       "13355686                     0.00                     0.00   \n",
       "27086235                     0.00                     0.00   \n",
       "13150439                     0.00                     0.00   \n",
       "\n",
       "         repm_bill_total_part_amt vinm_selling_date vinm_sale_date  \\\n",
       "10098774                     0.00               NaT       20000113   \n",
       "9351338                      0.00               NaT       20031125   \n",
       "13355686                     0.00               NaT       20040129   \n",
       "27086235                     0.00               NaT       20120530   \n",
       "13150439                     0.00               NaT       19991018   \n",
       "\n",
       "         vinm_model_year  vinm_last_milg used_car_sale_date unique_cust_grp  \\\n",
       "10098774            1999          200394                NaT             NaN   \n",
       "9351338             2003           79425                NaT             NaN   \n",
       "13355686            2004           82569                NaT             NaN   \n",
       "27086235            2008           27000                NaT             NaN   \n",
       "13150439            1999          108377                NaT             NaN   \n",
       "\n",
       "          car_model_year  Purchase_Age  \n",
       "10098774          1999.0          21.0  \n",
       "9351338           2003.0          17.0  \n",
       "13355686          2004.0          16.0  \n",
       "27086235          2008.0          12.0  \n",
       "13150439          1999.0          21.0  "
      ]
     },
     "execution_count": 53,
     "metadata": {},
     "output_type": "execute_result"
    }
   ],
   "source": [
    "serv_grp_1.sort_values(['repm_vin', 'repm_ro_dtime'], ascending = [True, False], inplace = True)\n",
    "serv_grp_1.head()"
   ]
  },
  {
   "cell_type": "code",
   "execution_count": 54,
   "metadata": {},
   "outputs": [],
   "source": [
    "serv_grp_1.reset_index(inplace = True)"
   ]
  },
  {
   "cell_type": "code",
   "execution_count": 55,
   "metadata": {},
   "outputs": [],
   "source": [
    "serv_grp_1['day_diff'] = serv_grp_1.groupby(['repm_vin'])['repm_ro_dtime'].apply(lambda x: x - x.shift(-1))"
   ]
  },
  {
   "cell_type": "code",
   "execution_count": 56,
   "metadata": {},
   "outputs": [
    {
     "data": {
      "text/html": [
       "<div>\n",
       "<style scoped>\n",
       "    .dataframe tbody tr th:only-of-type {\n",
       "        vertical-align: middle;\n",
       "    }\n",
       "\n",
       "    .dataframe tbody tr th {\n",
       "        vertical-align: top;\n",
       "    }\n",
       "\n",
       "    .dataframe thead th {\n",
       "        text-align: right;\n",
       "    }\n",
       "</style>\n",
       "<table border=\"1\" class=\"dataframe\">\n",
       "  <thead>\n",
       "    <tr style=\"text-align: right;\">\n",
       "      <th></th>\n",
       "      <th>index</th>\n",
       "      <th>repm_dlr_code</th>\n",
       "      <th>repm_cust_no</th>\n",
       "      <th>repm_ro_no</th>\n",
       "      <th>repm_ro_dtime</th>\n",
       "      <th>repm_vin</th>\n",
       "      <th>repm_work_type</th>\n",
       "      <th>repm_vst_type</th>\n",
       "      <th>repm_bill_total_labr_amt</th>\n",
       "      <th>repm_bill_total_othr_amt</th>\n",
       "      <th>repm_bill_total_part_amt</th>\n",
       "      <th>vinm_selling_date</th>\n",
       "      <th>vinm_sale_date</th>\n",
       "      <th>vinm_model_year</th>\n",
       "      <th>vinm_last_milg</th>\n",
       "      <th>used_car_sale_date</th>\n",
       "      <th>unique_cust_grp</th>\n",
       "      <th>car_model_year</th>\n",
       "      <th>Purchase_Age</th>\n",
       "      <th>day_diff</th>\n",
       "    </tr>\n",
       "  </thead>\n",
       "  <tbody>\n",
       "    <tr>\n",
       "      <th>0</th>\n",
       "      <td>10098774</td>\n",
       "      <td>N2212</td>\n",
       "      <td>B2010090010</td>\n",
       "      <td>R201813137</td>\n",
       "      <td>2018-11-24 15:03:46</td>\n",
       "      <td>00000000000037519</td>\n",
       "      <td>RR</td>\n",
       "      <td>NaN</td>\n",
       "      <td>0.00</td>\n",
       "      <td>0.00</td>\n",
       "      <td>0.00</td>\n",
       "      <td>NaT</td>\n",
       "      <td>20000113</td>\n",
       "      <td>1999</td>\n",
       "      <td>200394</td>\n",
       "      <td>NaT</td>\n",
       "      <td>NaN</td>\n",
       "      <td>1999.0</td>\n",
       "      <td>21.0</td>\n",
       "      <td>NaT</td>\n",
       "    </tr>\n",
       "    <tr>\n",
       "      <th>1</th>\n",
       "      <td>9351338</td>\n",
       "      <td>N6208</td>\n",
       "      <td>S2012070002</td>\n",
       "      <td>R201605202</td>\n",
       "      <td>2016-05-24 12:23:36</td>\n",
       "      <td>00000000000207962</td>\n",
       "      <td>RR</td>\n",
       "      <td>NaN</td>\n",
       "      <td>0.00</td>\n",
       "      <td>0.00</td>\n",
       "      <td>0.00</td>\n",
       "      <td>NaT</td>\n",
       "      <td>20031125</td>\n",
       "      <td>2003</td>\n",
       "      <td>79425</td>\n",
       "      <td>NaT</td>\n",
       "      <td>NaN</td>\n",
       "      <td>2003.0</td>\n",
       "      <td>17.0</td>\n",
       "      <td>NaT</td>\n",
       "    </tr>\n",
       "  </tbody>\n",
       "</table>\n",
       "</div>"
      ],
      "text/plain": [
       "      index repm_dlr_code repm_cust_no  repm_ro_no       repm_ro_dtime  \\\n",
       "0  10098774         N2212  B2010090010  R201813137 2018-11-24 15:03:46   \n",
       "1   9351338         N6208  S2012070002  R201605202 2016-05-24 12:23:36   \n",
       "\n",
       "            repm_vin repm_work_type repm_vst_type repm_bill_total_labr_amt  \\\n",
       "0  00000000000037519             RR           NaN                     0.00   \n",
       "1  00000000000207962             RR           NaN                     0.00   \n",
       "\n",
       "  repm_bill_total_othr_amt repm_bill_total_part_amt vinm_selling_date  \\\n",
       "0                     0.00                     0.00               NaT   \n",
       "1                     0.00                     0.00               NaT   \n",
       "\n",
       "  vinm_sale_date vinm_model_year  vinm_last_milg used_car_sale_date  \\\n",
       "0       20000113            1999          200394                NaT   \n",
       "1       20031125            2003           79425                NaT   \n",
       "\n",
       "  unique_cust_grp  car_model_year  Purchase_Age day_diff  \n",
       "0             NaN          1999.0          21.0      NaT  \n",
       "1             NaN          2003.0          17.0      NaT  "
      ]
     },
     "execution_count": 56,
     "metadata": {},
     "output_type": "execute_result"
    }
   ],
   "source": [
    "serv_grp_1.head(2)"
   ]
  },
  {
   "cell_type": "code",
   "execution_count": 57,
   "metadata": {},
   "outputs": [
    {
     "data": {
      "text/html": [
       "<div>\n",
       "<style scoped>\n",
       "    .dataframe tbody tr th:only-of-type {\n",
       "        vertical-align: middle;\n",
       "    }\n",
       "\n",
       "    .dataframe tbody tr th {\n",
       "        vertical-align: top;\n",
       "    }\n",
       "\n",
       "    .dataframe thead th {\n",
       "        text-align: right;\n",
       "    }\n",
       "</style>\n",
       "<table border=\"1\" class=\"dataframe\">\n",
       "  <thead>\n",
       "    <tr style=\"text-align: right;\">\n",
       "      <th></th>\n",
       "      <th>index</th>\n",
       "      <th>repm_dlr_code</th>\n",
       "      <th>repm_cust_no</th>\n",
       "      <th>repm_ro_no</th>\n",
       "      <th>repm_ro_dtime</th>\n",
       "      <th>repm_vin</th>\n",
       "      <th>repm_work_type</th>\n",
       "      <th>repm_vst_type</th>\n",
       "      <th>repm_bill_total_labr_amt</th>\n",
       "      <th>repm_bill_total_othr_amt</th>\n",
       "      <th>repm_bill_total_part_amt</th>\n",
       "      <th>vinm_selling_date</th>\n",
       "      <th>vinm_sale_date</th>\n",
       "      <th>vinm_model_year</th>\n",
       "      <th>vinm_last_milg</th>\n",
       "      <th>used_car_sale_date</th>\n",
       "      <th>unique_cust_grp</th>\n",
       "      <th>car_model_year</th>\n",
       "      <th>Purchase_Age</th>\n",
       "      <th>day_diff</th>\n",
       "    </tr>\n",
       "  </thead>\n",
       "  <tbody>\n",
       "    <tr>\n",
       "      <th>0</th>\n",
       "      <td>10098774</td>\n",
       "      <td>N2212</td>\n",
       "      <td>B2010090010</td>\n",
       "      <td>R201813137</td>\n",
       "      <td>2018-11-24 15:03:46</td>\n",
       "      <td>00000000000037519</td>\n",
       "      <td>RR</td>\n",
       "      <td>NaN</td>\n",
       "      <td>0.00</td>\n",
       "      <td>0.00</td>\n",
       "      <td>0.00</td>\n",
       "      <td>NaT</td>\n",
       "      <td>20000113</td>\n",
       "      <td>1999</td>\n",
       "      <td>200394</td>\n",
       "      <td>NaT</td>\n",
       "      <td>NaN</td>\n",
       "      <td>1999.0</td>\n",
       "      <td>21.0</td>\n",
       "      <td>NaN</td>\n",
       "    </tr>\n",
       "    <tr>\n",
       "      <th>1</th>\n",
       "      <td>9351338</td>\n",
       "      <td>N6208</td>\n",
       "      <td>S2012070002</td>\n",
       "      <td>R201605202</td>\n",
       "      <td>2016-05-24 12:23:36</td>\n",
       "      <td>00000000000207962</td>\n",
       "      <td>RR</td>\n",
       "      <td>NaN</td>\n",
       "      <td>0.00</td>\n",
       "      <td>0.00</td>\n",
       "      <td>0.00</td>\n",
       "      <td>NaT</td>\n",
       "      <td>20031125</td>\n",
       "      <td>2003</td>\n",
       "      <td>79425</td>\n",
       "      <td>NaT</td>\n",
       "      <td>NaN</td>\n",
       "      <td>2003.0</td>\n",
       "      <td>17.0</td>\n",
       "      <td>NaN</td>\n",
       "    </tr>\n",
       "    <tr>\n",
       "      <th>2</th>\n",
       "      <td>13355686</td>\n",
       "      <td>S5208</td>\n",
       "      <td>B2012040014</td>\n",
       "      <td>R201720814</td>\n",
       "      <td>2017-12-28 10:59:00</td>\n",
       "      <td>00000000000236380</td>\n",
       "      <td>RR</td>\n",
       "      <td>NaN</td>\n",
       "      <td>0.00</td>\n",
       "      <td>0.00</td>\n",
       "      <td>0.00</td>\n",
       "      <td>NaT</td>\n",
       "      <td>20040129</td>\n",
       "      <td>2004</td>\n",
       "      <td>82569</td>\n",
       "      <td>NaT</td>\n",
       "      <td>NaN</td>\n",
       "      <td>2004.0</td>\n",
       "      <td>16.0</td>\n",
       "      <td>NaN</td>\n",
       "    </tr>\n",
       "  </tbody>\n",
       "</table>\n",
       "</div>"
      ],
      "text/plain": [
       "      index repm_dlr_code repm_cust_no  repm_ro_no       repm_ro_dtime  \\\n",
       "0  10098774         N2212  B2010090010  R201813137 2018-11-24 15:03:46   \n",
       "1   9351338         N6208  S2012070002  R201605202 2016-05-24 12:23:36   \n",
       "2  13355686         S5208  B2012040014  R201720814 2017-12-28 10:59:00   \n",
       "\n",
       "            repm_vin repm_work_type repm_vst_type repm_bill_total_labr_amt  \\\n",
       "0  00000000000037519             RR           NaN                     0.00   \n",
       "1  00000000000207962             RR           NaN                     0.00   \n",
       "2  00000000000236380             RR           NaN                     0.00   \n",
       "\n",
       "  repm_bill_total_othr_amt repm_bill_total_part_amt vinm_selling_date  \\\n",
       "0                     0.00                     0.00               NaT   \n",
       "1                     0.00                     0.00               NaT   \n",
       "2                     0.00                     0.00               NaT   \n",
       "\n",
       "  vinm_sale_date vinm_model_year  vinm_last_milg used_car_sale_date  \\\n",
       "0       20000113            1999          200394                NaT   \n",
       "1       20031125            2003           79425                NaT   \n",
       "2       20040129            2004           82569                NaT   \n",
       "\n",
       "  unique_cust_grp  car_model_year  Purchase_Age  day_diff  \n",
       "0             NaN          1999.0          21.0       NaN  \n",
       "1             NaN          2003.0          17.0       NaN  \n",
       "2             NaN          2004.0          16.0       NaN  "
      ]
     },
     "execution_count": 57,
     "metadata": {},
     "output_type": "execute_result"
    }
   ],
   "source": [
    "serv_grp_1['day_diff'] = serv_grp_1['day_diff'].dt.days\n",
    "serv_grp_1.head(3)"
   ]
  },
  {
   "cell_type": "code",
   "execution_count": 58,
   "metadata": {},
   "outputs": [],
   "source": [
    "serv_grp_1_x = serv_grp_1.groupby('repm_vin')['repm_ro_dtime'].apply(lambda x: x.max()-x.min()).reset_index().rename(\n",
    "    columns={'repm_ro_dtime': 'service_age_vin'})"
   ]
  },
  {
   "cell_type": "code",
   "execution_count": 59,
   "metadata": {},
   "outputs": [
    {
     "name": "stdout",
     "output_type": "stream",
     "text": [
      "(5190368, 2)\n"
     ]
    },
    {
     "data": {
      "text/html": [
       "<div>\n",
       "<style scoped>\n",
       "    .dataframe tbody tr th:only-of-type {\n",
       "        vertical-align: middle;\n",
       "    }\n",
       "\n",
       "    .dataframe tbody tr th {\n",
       "        vertical-align: top;\n",
       "    }\n",
       "\n",
       "    .dataframe thead th {\n",
       "        text-align: right;\n",
       "    }\n",
       "</style>\n",
       "<table border=\"1\" class=\"dataframe\">\n",
       "  <thead>\n",
       "    <tr style=\"text-align: right;\">\n",
       "      <th></th>\n",
       "      <th>repm_vin</th>\n",
       "      <th>service_age_vin</th>\n",
       "    </tr>\n",
       "  </thead>\n",
       "  <tbody>\n",
       "    <tr>\n",
       "      <th>0</th>\n",
       "      <td>00000000000037519</td>\n",
       "      <td>0 days</td>\n",
       "    </tr>\n",
       "    <tr>\n",
       "      <th>1</th>\n",
       "      <td>00000000000207962</td>\n",
       "      <td>0 days</td>\n",
       "    </tr>\n",
       "    <tr>\n",
       "      <th>2</th>\n",
       "      <td>00000000000236380</td>\n",
       "      <td>0 days</td>\n",
       "    </tr>\n",
       "  </tbody>\n",
       "</table>\n",
       "</div>"
      ],
      "text/plain": [
       "            repm_vin service_age_vin\n",
       "0  00000000000037519          0 days\n",
       "1  00000000000207962          0 days\n",
       "2  00000000000236380          0 days"
      ]
     },
     "execution_count": 59,
     "metadata": {},
     "output_type": "execute_result"
    }
   ],
   "source": [
    "print(serv_grp_1_x.shape)\n",
    "serv_grp_1_x.head(3)"
   ]
  },
  {
   "cell_type": "code",
   "execution_count": 60,
   "metadata": {},
   "outputs": [
    {
     "data": {
      "text/html": [
       "<div>\n",
       "<style scoped>\n",
       "    .dataframe tbody tr th:only-of-type {\n",
       "        vertical-align: middle;\n",
       "    }\n",
       "\n",
       "    .dataframe tbody tr th {\n",
       "        vertical-align: top;\n",
       "    }\n",
       "\n",
       "    .dataframe thead th {\n",
       "        text-align: right;\n",
       "    }\n",
       "</style>\n",
       "<table border=\"1\" class=\"dataframe\">\n",
       "  <thead>\n",
       "    <tr style=\"text-align: right;\">\n",
       "      <th></th>\n",
       "      <th>repm_vin</th>\n",
       "      <th>service_age_vin</th>\n",
       "    </tr>\n",
       "  </thead>\n",
       "  <tbody>\n",
       "    <tr>\n",
       "      <th>0</th>\n",
       "      <td>00000000000037519</td>\n",
       "      <td>0.0</td>\n",
       "    </tr>\n",
       "    <tr>\n",
       "      <th>1</th>\n",
       "      <td>00000000000207962</td>\n",
       "      <td>0.0</td>\n",
       "    </tr>\n",
       "    <tr>\n",
       "      <th>2</th>\n",
       "      <td>00000000000236380</td>\n",
       "      <td>0.0</td>\n",
       "    </tr>\n",
       "    <tr>\n",
       "      <th>3</th>\n",
       "      <td>00000000001117907</td>\n",
       "      <td>0.0</td>\n",
       "    </tr>\n",
       "    <tr>\n",
       "      <th>4</th>\n",
       "      <td>00000000001370274</td>\n",
       "      <td>0.0</td>\n",
       "    </tr>\n",
       "  </tbody>\n",
       "</table>\n",
       "</div>"
      ],
      "text/plain": [
       "            repm_vin  service_age_vin\n",
       "0  00000000000037519              0.0\n",
       "1  00000000000207962              0.0\n",
       "2  00000000000236380              0.0\n",
       "3  00000000001117907              0.0\n",
       "4  00000000001370274              0.0"
      ]
     },
     "execution_count": 60,
     "metadata": {},
     "output_type": "execute_result"
    }
   ],
   "source": [
    "serv_grp_1_x['service_age_vin'] = serv_grp_1_x['service_age_vin']/np.timedelta64(1,'D')\n",
    "serv_grp_1_x.head()"
   ]
  },
  {
   "cell_type": "code",
   "execution_count": 61,
   "metadata": {},
   "outputs": [
    {
     "data": {
      "text/html": [
       "<div>\n",
       "<style scoped>\n",
       "    .dataframe tbody tr th:only-of-type {\n",
       "        vertical-align: middle;\n",
       "    }\n",
       "\n",
       "    .dataframe tbody tr th {\n",
       "        vertical-align: top;\n",
       "    }\n",
       "\n",
       "    .dataframe thead th {\n",
       "        text-align: right;\n",
       "    }\n",
       "</style>\n",
       "<table border=\"1\" class=\"dataframe\">\n",
       "  <thead>\n",
       "    <tr style=\"text-align: right;\">\n",
       "      <th></th>\n",
       "      <th>index</th>\n",
       "      <th>repm_dlr_code</th>\n",
       "      <th>repm_cust_no</th>\n",
       "      <th>repm_ro_no</th>\n",
       "      <th>repm_ro_dtime</th>\n",
       "      <th>repm_vin</th>\n",
       "      <th>repm_work_type</th>\n",
       "      <th>repm_vst_type</th>\n",
       "      <th>repm_bill_total_labr_amt</th>\n",
       "      <th>repm_bill_total_othr_amt</th>\n",
       "      <th>...</th>\n",
       "      <th>vinm_selling_date</th>\n",
       "      <th>vinm_sale_date</th>\n",
       "      <th>vinm_model_year</th>\n",
       "      <th>vinm_last_milg</th>\n",
       "      <th>used_car_sale_date</th>\n",
       "      <th>unique_cust_grp</th>\n",
       "      <th>car_model_year</th>\n",
       "      <th>Purchase_Age</th>\n",
       "      <th>day_diff</th>\n",
       "      <th>service_age_vin</th>\n",
       "    </tr>\n",
       "  </thead>\n",
       "  <tbody>\n",
       "    <tr>\n",
       "      <th>0</th>\n",
       "      <td>10098774</td>\n",
       "      <td>N2212</td>\n",
       "      <td>B2010090010</td>\n",
       "      <td>R201813137</td>\n",
       "      <td>2018-11-24 15:03:46</td>\n",
       "      <td>00000000000037519</td>\n",
       "      <td>RR</td>\n",
       "      <td>NaN</td>\n",
       "      <td>0.00</td>\n",
       "      <td>0.00</td>\n",
       "      <td>...</td>\n",
       "      <td>NaT</td>\n",
       "      <td>20000113</td>\n",
       "      <td>1999</td>\n",
       "      <td>200394</td>\n",
       "      <td>NaT</td>\n",
       "      <td>NaN</td>\n",
       "      <td>1999.0</td>\n",
       "      <td>21.0</td>\n",
       "      <td>NaN</td>\n",
       "      <td>0.0</td>\n",
       "    </tr>\n",
       "    <tr>\n",
       "      <th>1</th>\n",
       "      <td>9351338</td>\n",
       "      <td>N6208</td>\n",
       "      <td>S2012070002</td>\n",
       "      <td>R201605202</td>\n",
       "      <td>2016-05-24 12:23:36</td>\n",
       "      <td>00000000000207962</td>\n",
       "      <td>RR</td>\n",
       "      <td>NaN</td>\n",
       "      <td>0.00</td>\n",
       "      <td>0.00</td>\n",
       "      <td>...</td>\n",
       "      <td>NaT</td>\n",
       "      <td>20031125</td>\n",
       "      <td>2003</td>\n",
       "      <td>79425</td>\n",
       "      <td>NaT</td>\n",
       "      <td>NaN</td>\n",
       "      <td>2003.0</td>\n",
       "      <td>17.0</td>\n",
       "      <td>NaN</td>\n",
       "      <td>0.0</td>\n",
       "    </tr>\n",
       "    <tr>\n",
       "      <th>2</th>\n",
       "      <td>13355686</td>\n",
       "      <td>S5208</td>\n",
       "      <td>B2012040014</td>\n",
       "      <td>R201720814</td>\n",
       "      <td>2017-12-28 10:59:00</td>\n",
       "      <td>00000000000236380</td>\n",
       "      <td>RR</td>\n",
       "      <td>NaN</td>\n",
       "      <td>0.00</td>\n",
       "      <td>0.00</td>\n",
       "      <td>...</td>\n",
       "      <td>NaT</td>\n",
       "      <td>20040129</td>\n",
       "      <td>2004</td>\n",
       "      <td>82569</td>\n",
       "      <td>NaT</td>\n",
       "      <td>NaN</td>\n",
       "      <td>2004.0</td>\n",
       "      <td>16.0</td>\n",
       "      <td>NaN</td>\n",
       "      <td>0.0</td>\n",
       "    </tr>\n",
       "  </tbody>\n",
       "</table>\n",
       "<p>3 rows × 21 columns</p>\n",
       "</div>"
      ],
      "text/plain": [
       "      index repm_dlr_code repm_cust_no  repm_ro_no       repm_ro_dtime  \\\n",
       "0  10098774         N2212  B2010090010  R201813137 2018-11-24 15:03:46   \n",
       "1   9351338         N6208  S2012070002  R201605202 2016-05-24 12:23:36   \n",
       "2  13355686         S5208  B2012040014  R201720814 2017-12-28 10:59:00   \n",
       "\n",
       "            repm_vin repm_work_type repm_vst_type repm_bill_total_labr_amt  \\\n",
       "0  00000000000037519             RR           NaN                     0.00   \n",
       "1  00000000000207962             RR           NaN                     0.00   \n",
       "2  00000000000236380             RR           NaN                     0.00   \n",
       "\n",
       "  repm_bill_total_othr_amt  ... vinm_selling_date vinm_sale_date  \\\n",
       "0                     0.00  ...               NaT       20000113   \n",
       "1                     0.00  ...               NaT       20031125   \n",
       "2                     0.00  ...               NaT       20040129   \n",
       "\n",
       "  vinm_model_year vinm_last_milg  used_car_sale_date unique_cust_grp  \\\n",
       "0            1999         200394                 NaT             NaN   \n",
       "1            2003          79425                 NaT             NaN   \n",
       "2            2004          82569                 NaT             NaN   \n",
       "\n",
       "  car_model_year  Purchase_Age  day_diff  service_age_vin  \n",
       "0         1999.0          21.0       NaN              0.0  \n",
       "1         2003.0          17.0       NaN              0.0  \n",
       "2         2004.0          16.0       NaN              0.0  \n",
       "\n",
       "[3 rows x 21 columns]"
      ]
     },
     "execution_count": 61,
     "metadata": {},
     "output_type": "execute_result"
    }
   ],
   "source": [
    "serv_grp_1 = pd.merge(serv_grp_1, serv_grp_1_x, how = 'left', on = ['repm_vin'])\n",
    "#del(serv_grp_1_x)\n",
    "serv_grp_1.head(3)"
   ]
  },
  {
   "cell_type": "code",
   "execution_count": 62,
   "metadata": {},
   "outputs": [
    {
     "name": "stdout",
     "output_type": "stream",
     "text": [
      "(32138345, 21)\n",
      "Index(['index', 'repm_dlr_code', 'repm_cust_no', 'repm_ro_no', 'repm_ro_dtime',\n",
      "       'repm_vin', 'repm_work_type', 'repm_vst_type',\n",
      "       'repm_bill_total_labr_amt', 'repm_bill_total_othr_amt',\n",
      "       'repm_bill_total_part_amt', 'vinm_selling_date', 'vinm_sale_date',\n",
      "       'vinm_model_year', 'vinm_last_milg', 'used_car_sale_date',\n",
      "       'unique_cust_grp', 'car_model_year', 'Purchase_Age', 'day_diff',\n",
      "       'service_age_vin'],\n",
      "      dtype='object')\n"
     ]
    }
   ],
   "source": [
    "print(serv_grp_1.shape)\n",
    "print(serv_grp_1.columns)"
   ]
  },
  {
   "cell_type": "code",
   "execution_count": 24,
   "metadata": {},
   "outputs": [],
   "source": [
    "# Reading table refrl_ser_rcrepm_tb_final\n",
    "cursor_1.execute('select repm_dlr_no, repm_ro_no, repm_vin, repm_cust_no, repm_ro_stat, repm_estmt_no, repm_work_type,  repm_milg, repm_estmt_amt, repm_ro_dtime, repm_bill_total_part_amt, repm_bill_total_labr_amt, repm_bill_total_othr_amt, repm_total_labr_amt, repm_total_part_amt, repm_total_othr_amt, repm_vst_type, repm_vst_type_seq_no, repm_rmkrs, repm_crte_dtime, repm_prvs_milg, repm_used_flag, repm_byng_dlr_code, repm_no_details, repm_ro_stat_new, repm_work_category, repm_dlr_code, repm_exit_milg, repm_file_doc_id, repm_ro_mobile_flag, model from refrl_ser_rcrepm_tb_final where repm_ro_dtime >= \"2018-01-01\" and repm_ro_dtime <= \"2020-12-31\"')\n",
    "refrl_ser_rcrepm_tb = as_pandas(cursor_1)"
   ]
  },
  {
   "cell_type": "raw",
   "metadata": {},
   "source": [
    "select repm_dlr_no, repm_ro_no, repm_vin, repm_cust_no, repm_ro_stat, repm_estmt_no, repm_work_type,  repm_milg, repm_estmt_amt, repm_ro_dtime, repm_bill_total_part_amt, repm_bill_total_labr_amt, repm_bill_total_othr_amt, repm_total_labr_amt, repm_total_part_amt, repm_total_othr_amt, repm_vst_type, repm_vst_type_seq_no, repm_rmkrs, repm_crte_dtime, repm_prvs_milg, repm_used_flag, repm_byng_dlr_code, repm_no_details, repm_ro_stat_new, repm_work_category, repm_dlr_code, repm_exit_milg, repm_file_doc_id, repm_ro_mobile_flag, model from refrl_ser_rcrepm_tb_final where repm_ro_dtime >= \"2018-01-01\" and repm_ro_dtime <= \"2020-12-31\"')\n",
    "refrl_ser_rcrepm_tb = as_pandas(cursor_1)"
   ]
  },
  {
   "cell_type": "code",
   "execution_count": 25,
   "metadata": {},
   "outputs": [],
   "source": [
    "refrl_ser_rcrepm_tb = refrl_ser_rcrepm_tb.replace(\"null\", np.nan)"
   ]
  },
  {
   "cell_type": "code",
   "execution_count": 63,
   "metadata": {},
   "outputs": [
    {
     "data": {
      "text/plain": [
       "(21195039, 31)"
      ]
     },
     "execution_count": 63,
     "metadata": {},
     "output_type": "execute_result"
    }
   ],
   "source": [
    "refrl_ser_rcrepm_tb.shape"
   ]
  },
  {
   "cell_type": "code",
   "execution_count": 64,
   "metadata": {},
   "outputs": [
    {
     "data": {
      "text/html": [
       "<div>\n",
       "<style scoped>\n",
       "    .dataframe tbody tr th:only-of-type {\n",
       "        vertical-align: middle;\n",
       "    }\n",
       "\n",
       "    .dataframe tbody tr th {\n",
       "        vertical-align: top;\n",
       "    }\n",
       "\n",
       "    .dataframe thead th {\n",
       "        text-align: right;\n",
       "    }\n",
       "</style>\n",
       "<table border=\"1\" class=\"dataframe\">\n",
       "  <thead>\n",
       "    <tr style=\"text-align: right;\">\n",
       "      <th></th>\n",
       "      <th>repm_dlr_no</th>\n",
       "      <th>repm_ro_no</th>\n",
       "      <th>repm_vin</th>\n",
       "      <th>repm_cust_no</th>\n",
       "      <th>repm_ro_stat</th>\n",
       "      <th>repm_estmt_no</th>\n",
       "      <th>repm_work_type</th>\n",
       "      <th>repm_milg</th>\n",
       "      <th>repm_estmt_amt</th>\n",
       "      <th>repm_ro_dtime</th>\n",
       "      <th>...</th>\n",
       "      <th>repm_used_flag</th>\n",
       "      <th>repm_byng_dlr_code</th>\n",
       "      <th>repm_no_details</th>\n",
       "      <th>repm_ro_stat_new</th>\n",
       "      <th>repm_work_category</th>\n",
       "      <th>repm_dlr_code</th>\n",
       "      <th>repm_exit_milg</th>\n",
       "      <th>repm_file_doc_id</th>\n",
       "      <th>repm_ro_mobile_flag</th>\n",
       "      <th>model</th>\n",
       "    </tr>\n",
       "  </thead>\n",
       "  <tbody>\n",
       "    <tr>\n",
       "      <th>0</th>\n",
       "      <td>S7207</td>\n",
       "      <td>R201800454</td>\n",
       "      <td>MALCH41CR1M034876</td>\n",
       "      <td>C2018010143</td>\n",
       "      <td>D</td>\n",
       "      <td>NaN</td>\n",
       "      <td>RR</td>\n",
       "      <td>106479</td>\n",
       "      <td>100.00</td>\n",
       "      <td>2018-01-06 15:20:00</td>\n",
       "      <td>...</td>\n",
       "      <td>N</td>\n",
       "      <td>NaN</td>\n",
       "      <td>NaN</td>\n",
       "      <td>UR</td>\n",
       "      <td>N</td>\n",
       "      <td>S7207</td>\n",
       "      <td>NaN</td>\n",
       "      <td>NaN</td>\n",
       "      <td>NaN</td>\n",
       "      <td>Accent</td>\n",
       "    </tr>\n",
       "    <tr>\n",
       "      <th>1</th>\n",
       "      <td>S8408</td>\n",
       "      <td>R201909642</td>\n",
       "      <td>MALCH41CR2M043607</td>\n",
       "      <td>C2005100076</td>\n",
       "      <td>D</td>\n",
       "      <td>NaN</td>\n",
       "      <td>OC</td>\n",
       "      <td>111021</td>\n",
       "      <td>0.00</td>\n",
       "      <td>2019-07-22 15:13:10</td>\n",
       "      <td>...</td>\n",
       "      <td>N</td>\n",
       "      <td>NaN</td>\n",
       "      <td>NaN</td>\n",
       "      <td>UR</td>\n",
       "      <td>NaN</td>\n",
       "      <td>S8408</td>\n",
       "      <td>111022.0</td>\n",
       "      <td>NaN</td>\n",
       "      <td>NaN</td>\n",
       "      <td>Accent</td>\n",
       "    </tr>\n",
       "    <tr>\n",
       "      <th>2</th>\n",
       "      <td>S8408</td>\n",
       "      <td>R201810257</td>\n",
       "      <td>MALCH41CR2M043607</td>\n",
       "      <td>C2005100076</td>\n",
       "      <td>D</td>\n",
       "      <td>NaN</td>\n",
       "      <td>OC</td>\n",
       "      <td>110900</td>\n",
       "      <td>0.00</td>\n",
       "      <td>2018-08-23 14:57:00</td>\n",
       "      <td>...</td>\n",
       "      <td>N</td>\n",
       "      <td>NaN</td>\n",
       "      <td>NaN</td>\n",
       "      <td>AD</td>\n",
       "      <td>N</td>\n",
       "      <td>S8408</td>\n",
       "      <td>NaN</td>\n",
       "      <td>NaN</td>\n",
       "      <td>NaN</td>\n",
       "      <td>Accent</td>\n",
       "    </tr>\n",
       "  </tbody>\n",
       "</table>\n",
       "<p>3 rows × 31 columns</p>\n",
       "</div>"
      ],
      "text/plain": [
       "  repm_dlr_no  repm_ro_no           repm_vin repm_cust_no repm_ro_stat  \\\n",
       "0       S7207  R201800454  MALCH41CR1M034876  C2018010143            D   \n",
       "1       S8408  R201909642  MALCH41CR2M043607  C2005100076            D   \n",
       "2       S8408  R201810257  MALCH41CR2M043607  C2005100076            D   \n",
       "\n",
       "  repm_estmt_no repm_work_type  repm_milg repm_estmt_amt       repm_ro_dtime  \\\n",
       "0           NaN             RR     106479         100.00 2018-01-06 15:20:00   \n",
       "1           NaN             OC     111021           0.00 2019-07-22 15:13:10   \n",
       "2           NaN             OC     110900           0.00 2018-08-23 14:57:00   \n",
       "\n",
       "   ... repm_used_flag repm_byng_dlr_code repm_no_details repm_ro_stat_new  \\\n",
       "0  ...              N                NaN             NaN               UR   \n",
       "1  ...              N                NaN             NaN               UR   \n",
       "2  ...              N                NaN             NaN               AD   \n",
       "\n",
       "  repm_work_category repm_dlr_code repm_exit_milg  repm_file_doc_id  \\\n",
       "0                  N         S7207            NaN               NaN   \n",
       "1                NaN         S8408       111022.0               NaN   \n",
       "2                  N         S8408            NaN               NaN   \n",
       "\n",
       "  repm_ro_mobile_flag   model  \n",
       "0                 NaN  Accent  \n",
       "1                 NaN  Accent  \n",
       "2                 NaN  Accent  \n",
       "\n",
       "[3 rows x 31 columns]"
      ]
     },
     "execution_count": 64,
     "metadata": {},
     "output_type": "execute_result"
    }
   ],
   "source": [
    "refrl_ser_rcrepm_tb.head(3)"
   ]
  },
  {
   "cell_type": "code",
   "execution_count": 70,
   "metadata": {},
   "outputs": [
    {
     "data": {
      "text/plain": [
       "Index(['index', 'repm_dlr_code', 'repm_cust_no', 'repm_ro_no', 'repm_ro_dtime',\n",
       "       'repm_vin', 'repm_work_type', 'repm_vst_type',\n",
       "       'repm_bill_total_labr_amt', 'repm_bill_total_othr_amt',\n",
       "       'repm_bill_total_part_amt', 'vinm_selling_date', 'vinm_sale_date',\n",
       "       'vinm_model_year', 'vinm_last_milg', 'used_car_sale_date',\n",
       "       'unique_cust_grp', 'car_model_year', 'Purchase_Age', 'day_diff',\n",
       "       'service_age_vin', 'repm_estmt_amt', 'repm_prvs_milg', 'repm_milg'],\n",
       "      dtype='object')"
      ]
     },
     "execution_count": 70,
     "metadata": {},
     "output_type": "execute_result"
    }
   ],
   "source": [
    "serv_grp_1.columns"
   ]
  },
  {
   "cell_type": "code",
   "execution_count": 66,
   "metadata": {},
   "outputs": [],
   "source": [
    "serv_grp_1 = pd.merge(serv_grp_1, refrl_ser_rcrepm_tb[['repm_vin','repm_estmt_amt','repm_prvs_milg','repm_milg']], how ='left', on ='repm_vin')"
   ]
  },
  {
   "cell_type": "raw",
   "metadata": {},
   "source": [
    "serv_grp_1 = pd.merge(serv_grp_1, refrl_ser_rcrepm_tb[['repm_vin']], how='left', left_on = 'repm_vin',right_on ='repm_vin',indicator=True)"
   ]
  },
  {
   "cell_type": "code",
   "execution_count": 67,
   "metadata": {},
   "outputs": [
    {
     "data": {
      "text/html": [
       "<div>\n",
       "<style scoped>\n",
       "    .dataframe tbody tr th:only-of-type {\n",
       "        vertical-align: middle;\n",
       "    }\n",
       "\n",
       "    .dataframe tbody tr th {\n",
       "        vertical-align: top;\n",
       "    }\n",
       "\n",
       "    .dataframe thead th {\n",
       "        text-align: right;\n",
       "    }\n",
       "</style>\n",
       "<table border=\"1\" class=\"dataframe\">\n",
       "  <thead>\n",
       "    <tr style=\"text-align: right;\">\n",
       "      <th></th>\n",
       "      <th>index</th>\n",
       "      <th>repm_dlr_code</th>\n",
       "      <th>repm_cust_no</th>\n",
       "      <th>repm_ro_no</th>\n",
       "      <th>repm_ro_dtime</th>\n",
       "      <th>repm_vin</th>\n",
       "      <th>repm_work_type</th>\n",
       "      <th>repm_vst_type</th>\n",
       "      <th>repm_bill_total_labr_amt</th>\n",
       "      <th>repm_bill_total_othr_amt</th>\n",
       "      <th>...</th>\n",
       "      <th>vinm_last_milg</th>\n",
       "      <th>used_car_sale_date</th>\n",
       "      <th>unique_cust_grp</th>\n",
       "      <th>car_model_year</th>\n",
       "      <th>Purchase_Age</th>\n",
       "      <th>day_diff</th>\n",
       "      <th>service_age_vin</th>\n",
       "      <th>repm_estmt_amt</th>\n",
       "      <th>repm_prvs_milg</th>\n",
       "      <th>repm_milg</th>\n",
       "    </tr>\n",
       "  </thead>\n",
       "  <tbody>\n",
       "    <tr>\n",
       "      <th>0</th>\n",
       "      <td>10098774</td>\n",
       "      <td>N2212</td>\n",
       "      <td>B2010090010</td>\n",
       "      <td>R201813137</td>\n",
       "      <td>2018-11-24 15:03:46</td>\n",
       "      <td>00000000000037519</td>\n",
       "      <td>RR</td>\n",
       "      <td>NaN</td>\n",
       "      <td>0.00</td>\n",
       "      <td>0.00</td>\n",
       "      <td>...</td>\n",
       "      <td>200394</td>\n",
       "      <td>NaT</td>\n",
       "      <td>NaN</td>\n",
       "      <td>1999.0</td>\n",
       "      <td>21.0</td>\n",
       "      <td>NaN</td>\n",
       "      <td>0.0</td>\n",
       "      <td>0.00</td>\n",
       "      <td>0.0</td>\n",
       "      <td>200397.0</td>\n",
       "    </tr>\n",
       "    <tr>\n",
       "      <th>1</th>\n",
       "      <td>9351338</td>\n",
       "      <td>N6208</td>\n",
       "      <td>S2012070002</td>\n",
       "      <td>R201605202</td>\n",
       "      <td>2016-05-24 12:23:36</td>\n",
       "      <td>00000000000207962</td>\n",
       "      <td>RR</td>\n",
       "      <td>NaN</td>\n",
       "      <td>0.00</td>\n",
       "      <td>0.00</td>\n",
       "      <td>...</td>\n",
       "      <td>79425</td>\n",
       "      <td>NaT</td>\n",
       "      <td>NaN</td>\n",
       "      <td>2003.0</td>\n",
       "      <td>17.0</td>\n",
       "      <td>NaN</td>\n",
       "      <td>0.0</td>\n",
       "      <td>NaN</td>\n",
       "      <td>NaN</td>\n",
       "      <td>NaN</td>\n",
       "    </tr>\n",
       "    <tr>\n",
       "      <th>2</th>\n",
       "      <td>13355686</td>\n",
       "      <td>S5208</td>\n",
       "      <td>B2012040014</td>\n",
       "      <td>R201720814</td>\n",
       "      <td>2017-12-28 10:59:00</td>\n",
       "      <td>00000000000236380</td>\n",
       "      <td>RR</td>\n",
       "      <td>NaN</td>\n",
       "      <td>0.00</td>\n",
       "      <td>0.00</td>\n",
       "      <td>...</td>\n",
       "      <td>82569</td>\n",
       "      <td>NaT</td>\n",
       "      <td>NaN</td>\n",
       "      <td>2004.0</td>\n",
       "      <td>16.0</td>\n",
       "      <td>NaN</td>\n",
       "      <td>0.0</td>\n",
       "      <td>NaN</td>\n",
       "      <td>NaN</td>\n",
       "      <td>NaN</td>\n",
       "    </tr>\n",
       "    <tr>\n",
       "      <th>3</th>\n",
       "      <td>27086235</td>\n",
       "      <td>S5219</td>\n",
       "      <td>S2013050004</td>\n",
       "      <td>R202001830</td>\n",
       "      <td>2020-06-24 00:00:00</td>\n",
       "      <td>00000000001117907</td>\n",
       "      <td>RR</td>\n",
       "      <td>NaN</td>\n",
       "      <td>0.00</td>\n",
       "      <td>0.00</td>\n",
       "      <td>...</td>\n",
       "      <td>27000</td>\n",
       "      <td>NaT</td>\n",
       "      <td>NaN</td>\n",
       "      <td>2008.0</td>\n",
       "      <td>12.0</td>\n",
       "      <td>NaN</td>\n",
       "      <td>0.0</td>\n",
       "      <td>0.00</td>\n",
       "      <td>27000.0</td>\n",
       "      <td>27000.0</td>\n",
       "    </tr>\n",
       "    <tr>\n",
       "      <th>4</th>\n",
       "      <td>13150439</td>\n",
       "      <td>N2201</td>\n",
       "      <td>B2011060030</td>\n",
       "      <td>R201806287</td>\n",
       "      <td>2018-07-24 15:28:00</td>\n",
       "      <td>00000000001370274</td>\n",
       "      <td>PS</td>\n",
       "      <td>NaN</td>\n",
       "      <td>0.00</td>\n",
       "      <td>0.00</td>\n",
       "      <td>...</td>\n",
       "      <td>108377</td>\n",
       "      <td>NaT</td>\n",
       "      <td>NaN</td>\n",
       "      <td>1999.0</td>\n",
       "      <td>21.0</td>\n",
       "      <td>NaN</td>\n",
       "      <td>0.0</td>\n",
       "      <td>0.00</td>\n",
       "      <td>0.0</td>\n",
       "      <td>109262.0</td>\n",
       "    </tr>\n",
       "  </tbody>\n",
       "</table>\n",
       "<p>5 rows × 24 columns</p>\n",
       "</div>"
      ],
      "text/plain": [
       "      index repm_dlr_code repm_cust_no  repm_ro_no       repm_ro_dtime  \\\n",
       "0  10098774         N2212  B2010090010  R201813137 2018-11-24 15:03:46   \n",
       "1   9351338         N6208  S2012070002  R201605202 2016-05-24 12:23:36   \n",
       "2  13355686         S5208  B2012040014  R201720814 2017-12-28 10:59:00   \n",
       "3  27086235         S5219  S2013050004  R202001830 2020-06-24 00:00:00   \n",
       "4  13150439         N2201  B2011060030  R201806287 2018-07-24 15:28:00   \n",
       "\n",
       "            repm_vin repm_work_type repm_vst_type repm_bill_total_labr_amt  \\\n",
       "0  00000000000037519             RR           NaN                     0.00   \n",
       "1  00000000000207962             RR           NaN                     0.00   \n",
       "2  00000000000236380             RR           NaN                     0.00   \n",
       "3  00000000001117907             RR           NaN                     0.00   \n",
       "4  00000000001370274             PS           NaN                     0.00   \n",
       "\n",
       "  repm_bill_total_othr_amt  ... vinm_last_milg used_car_sale_date  \\\n",
       "0                     0.00  ...         200394                NaT   \n",
       "1                     0.00  ...          79425                NaT   \n",
       "2                     0.00  ...          82569                NaT   \n",
       "3                     0.00  ...          27000                NaT   \n",
       "4                     0.00  ...         108377                NaT   \n",
       "\n",
       "  unique_cust_grp car_model_year  Purchase_Age day_diff service_age_vin  \\\n",
       "0             NaN         1999.0          21.0      NaN             0.0   \n",
       "1             NaN         2003.0          17.0      NaN             0.0   \n",
       "2             NaN         2004.0          16.0      NaN             0.0   \n",
       "3             NaN         2008.0          12.0      NaN             0.0   \n",
       "4             NaN         1999.0          21.0      NaN             0.0   \n",
       "\n",
       "   repm_estmt_amt  repm_prvs_milg  repm_milg  \n",
       "0            0.00             0.0   200397.0  \n",
       "1             NaN             NaN        NaN  \n",
       "2             NaN             NaN        NaN  \n",
       "3            0.00         27000.0    27000.0  \n",
       "4            0.00             0.0   109262.0  \n",
       "\n",
       "[5 rows x 24 columns]"
      ]
     },
     "execution_count": 67,
     "metadata": {},
     "output_type": "execute_result"
    }
   ],
   "source": [
    "serv_grp_1.head()"
   ]
  },
  {
   "cell_type": "code",
   "execution_count": null,
   "metadata": {},
   "outputs": [],
   "source": [
    "del(serv_grp_1_x)"
   ]
  },
  {
   "cell_type": "code",
   "execution_count": 71,
   "metadata": {},
   "outputs": [],
   "source": [
    "def serv_hist(df):\n",
    "    df['Diff_estimate_bill'] = df['repm_estmt_amt'] - df['billable_amount']\n",
    "    df['Milg_diff_vin'] = df['repm_milg'] - df['repm_prvs_milg']\n",
    "    df['total_service_count_vin'] = df.repm_vin.map(df.groupby('repm_vin')['repm_ro_dtime'].nunique())\n",
    "    df['FS_count_vin'] = df.repm_vin.map(df[(df['repm_work_type']=='FS')|\n",
    "                                            (df['repm_work_type']=='UF')].groupby('repm_vin')['repm_ro_dtime'].nunique())\n",
    "    df['FS_count_vin_norm'] = df['FS_count_vin']/df['Purchase_Age']\n",
    "    df['PS_count_vin'] = df.repm_vin.map(df[(df['repm_work_type']=='PS')].groupby('repm_vin')['repm_ro_dtime'].nunique())\n",
    "    df['PS_count_vin_norm'] = df['PS_count_vin']/df['Purchase_Age']\n",
    "    df['RR_count_vin'] = df.repm_vin.map(df[(df['repm_work_type']=='RR')].groupby('repm_vin')['repm_ro_dtime'].nunique())\n",
    "    df['RR_count_vin_norm'] = df['RR_count_vin']/df['Purchase_Age']\n",
    "    df['AR_count_vin'] = df.repm_vin.map(df[(df['repm_work_type']=='AR')|\n",
    "                            (df['repm_work_type']=='RA')].groupby('repm_vin')['repm_ro_dtime'].nunique())\n",
    "    df['AR_count_vin_norm'] = df['AR_count_vin']/df['Purchase_Age']\n",
    "    df['OC_count_vin'] = df.repm_vin.map(df[(df['repm_work_type']=='OC')].groupby('repm_vin')['repm_ro_dtime'].nunique())\n",
    "    df['OC_count_vin_norm'] = df['OC_count_vin']/df['Purchase_Age']\n",
    "    return df"
   ]
  },
  {
   "cell_type": "code",
   "execution_count": null,
   "metadata": {},
   "outputs": [],
   "source": [
    "serv_grp_1['billable_amount'] = serv_grp_1['repm_bill_total_labr_amt'] + serv_grp_1['repm_bill_total_othr_amt'] + serv_grp_1['repm_bill_total_part_amt']"
   ]
  },
  {
   "cell_type": "code",
   "execution_count": null,
   "metadata": {},
   "outputs": [],
   "source": [
    "list(serv_grp_1.columns)"
   ]
  },
  {
   "cell_type": "code",
   "execution_count": null,
   "metadata": {},
   "outputs": [],
   "source": [
    "serv_grp_1_tst = serv_hist(serv_grp_1)"
   ]
  },
  {
   "cell_type": "code",
   "execution_count": null,
   "metadata": {},
   "outputs": [],
   "source": [
    "print(serv_grp_1_tst.shape)\n",
    "print(serv_grp_1_tst.columns)\n",
    "serv_grp_1_tst.head(3)"
   ]
  },
  {
   "cell_type": "code",
   "execution_count": null,
   "metadata": {},
   "outputs": [],
   "source": [
    "serv_grp_1_tst = serv_grp_1_tst.sort_values(['unique_cust_grp', 'repm_vin', 'repm_ro_dtime'], ascending = [True, True, False])"
   ]
  },
  {
   "cell_type": "code",
   "execution_count": null,
   "metadata": {},
   "outputs": [],
   "source": [
    "serv_grp_1_tst['repm_work_type'].value_counts()"
   ]
  },
  {
   "cell_type": "code",
   "execution_count": null,
   "metadata": {},
   "outputs": [],
   "source": [
    "serv_grp_1_tst['FS_mlg_diff'] = serv_grp_1_tst[(serv_grp_1_tst['repm_work_type']=='FS')|\n",
    "                                               (serv_grp_1_tst['repm_work_type']=='UF')].groupby(['repm_vin'])['repm_milg'].apply(lambda x: x - x.shift(-1))\n",
    "\n",
    "serv_grp_1_tst['PS_mlg_diff'] = serv_grp_1_tst[(serv_grp_1_tst['repm_work_type']=='PS')].groupby(['repm_vin'])['repm_milg'].apply(lambda x: x - x.shift(-1))\n",
    "\n",
    "serv_grp_1_tst['RR_mlg_diff'] = serv_grp_1_tst[(serv_grp_1_tst['repm_work_type']=='RR')].groupby(['repm_vin'])['repm_milg'].apply(lambda x: x - x.shift(-1))\n",
    "\n",
    "serv_grp_1_tst['OC_mlg_diff'] = serv_grp_1_tst[(serv_grp_1_tst['repm_work_type']=='OC')].groupby(['repm_vin'])['repm_milg'].apply(lambda x: x - x.shift(-1))\n",
    "\n",
    "serv_grp_1_tst['AR_mlg_diff'] = serv_grp_1_tst[(serv_grp_1_tst['repm_work_type']=='AR')|\n",
    "                                             (serv_grp_1_tst['repm_work_type']=='RA')].groupby(['repm_vin'])['repm_milg'].apply(lambda x: x - x.shift(-1))\n",
    "\n",
    "serv_grp_1_tst['FS_day_diff'] = serv_grp_1_tst[(serv_grp_1_tst['repm_work_type']=='FS')|\n",
    "                                               (serv_grp_1_tst['repm_work_type']=='UF')].groupby(['repm_vin'])['repm_ro_dtime'].apply(lambda x: x - x.shift(-1))\n",
    "\n",
    "serv_grp_1_tst['PS_day_diff'] = serv_grp_1_tst[(serv_grp_1_tst['repm_work_type']=='PS')].groupby(['repm_vin'])['repm_ro_dtime'].apply(lambda x: x - x.shift(-1))\n",
    "\n",
    "serv_grp_1_tst['RR_day_diff'] = serv_grp_1_tst[(serv_grp_1_tst['repm_work_type']=='RR')].groupby(['repm_vin'])['repm_ro_dtime'].apply(lambda x: x - x.shift(-1))\n",
    "\n",
    "serv_grp_1_tst['OC_day_diff'] = serv_grp_1_tst[(serv_grp_1_tst['repm_work_type']=='OC')].groupby(['repm_vin'])['repm_ro_dtime'].apply(lambda x: x - x.shift(-1))\n",
    "\n",
    "serv_grp_1_tst['AR_day_diff'] = serv_grp_1_tst[(serv_grp_1_tst['repm_work_type']=='AR')|\n",
    "                                             (serv_grp_1_tst['repm_work_type']=='RA')].groupby(['repm_vin'])['repm_ro_dtime'].apply(lambda x: x - x.shift(-1))"
   ]
  },
  {
   "cell_type": "code",
   "execution_count": null,
   "metadata": {},
   "outputs": [],
   "source": [
    "serv_grp_1_tst['FS_day_diff'] = serv_grp_1_tst['FS_day_diff']/np.timedelta64(1,'D')\n",
    "serv_grp_1_tst['PS_day_diff'] = serv_grp_1_tst['PS_day_diff']/np.timedelta64(1,'D')\n",
    "serv_grp_1_tst['RR_day_diff'] = serv_grp_1_tst['RR_day_diff']/np.timedelta64(1,'D')\n",
    "serv_grp_1_tst['OC_day_diff'] = serv_grp_1_tst['OC_day_diff']/np.timedelta64(1,'D')\n",
    "serv_grp_1_tst['AR_day_diff'] = serv_grp_1_tst['AR_day_diff']/np.timedelta64(1,'D')"
   ]
  },
  {
   "cell_type": "code",
   "execution_count": null,
   "metadata": {},
   "outputs": [],
   "source": [
    "def flat(df):\n",
    "    df.columns = [' '.join(col).strip() for col in df.columns.values]\n",
    "    return df"
   ]
  },
  {
   "cell_type": "code",
   "execution_count": null,
   "metadata": {},
   "outputs": [],
   "source": [
    "serv_feat_noused_1 = serv_grp_1_tst.groupby('unique_cust_grp').agg({'FS_mlg_diff': ['mean', 'median', 'min', 'max'],\n",
    "                                                             'PS_mlg_diff': ['mean', 'median', 'min', 'max'],\n",
    "                                                             'RR_mlg_diff': ['mean', 'median', 'min', 'max'],\n",
    "                                                              'OC_mlg_diff': ['mean', 'median', 'min', 'max'],\n",
    "                                                             'AR_mlg_diff': ['mean', 'median', 'min', 'max'],\n",
    "                                                              'Milg_diff_vin':['mean', 'median', 'min', 'max'],\n",
    "                                                              'billable_amount': ['mean', 'median', 'min', 'max'],\n",
    "                                                             'Diff_estimate_bill': ['mean', 'median', 'min', 'max'],                                                                    \n",
    "                                                             'FS_day_diff': ['mean', 'median', 'min', 'max'],\n",
    "                                                             'PS_day_diff': ['mean', 'median', 'min', 'max'],\n",
    "                                                             'RR_day_diff': ['mean', 'median', 'min', 'max'],\n",
    "                                                             'OC_day_diff': ['mean', 'median', 'min', 'max'],\n",
    "                                                             'AR_day_diff': ['mean', 'median', 'min', 'max'],\n",
    "                                                             'FS_count_vin_norm':['mean', 'median', 'min', 'max'],\n",
    "                                                             'PS_count_vin_norm': ['mean', 'median', 'min', 'max'],\n",
    "                                                             'RR_count_vin_norm': ['mean', 'median', 'min', 'max'],\n",
    "                                                             'OC_count_vin_norm': ['mean', 'median', 'min', 'max'],\n",
    "                                                             'AR_count_vin_norm': ['mean', 'median', 'min', 'max'],\n",
    "                                                             'FS_count_vin':['mean', 'median', 'min', 'max'],\n",
    "                                                             'PS_count_vin': ['mean', 'median', 'min', 'max'],\n",
    "                                                             'RR_count_vin': ['mean', 'median', 'min', 'max'],\n",
    "                                                             'OC_count_vin': ['mean', 'median', 'min', 'max'],\n",
    "                                                             'AR_count_vin': ['mean', 'median', 'min', 'max'],\n",
    "                                                             'repm_vin': pd.Series.nunique,\n",
    "                                                             'Purchase_Age': 'mean',\n",
    "                                                             'service_age_vin': 'mean'\n",
    "                                                             }).reset_index()"
   ]
  },
  {
   "cell_type": "code",
   "execution_count": null,
   "metadata": {},
   "outputs": [],
   "source": [
    "print(serv_feat_noused_1.shape)\n",
    "serv_feat_noused_1.head()"
   ]
  },
  {
   "cell_type": "code",
   "execution_count": null,
   "metadata": {},
   "outputs": [],
   "source": [
    "serv_feat_noused_1 = flat(serv_feat_noused_1)\n",
    "display(serv_feat_noused_1.head())"
   ]
  },
  {
   "cell_type": "code",
   "execution_count": null,
   "metadata": {},
   "outputs": [],
   "source": [
    "split(serv_feat_noused_1,'serv_feat_noused_1')"
   ]
  },
  {
   "cell_type": "markdown",
   "metadata": {},
   "source": [
    "**Repeat visit and recent visit analysis**"
   ]
  },
  {
   "cell_type": "code",
   "execution_count": null,
   "metadata": {},
   "outputs": [],
   "source": [
    "cust_grp_1 = pd.read_csv('C:\\\\Users\\\\274828\\\\Data Analysis\\\\service_ref\\\\Data_preprocessing_FE\\\\1yr Data Final\\\\cust_grp_noused_1.csv', low_memory=False)\n",
    "\n",
    "# serv_grp_1 = serv_noused_1\n",
    "# Replace serv_grp_1 here with serv_noused_1 as we have performed operations on serv_grp_1 in earlier cells\n",
    "# Hence again reinitiate serv_grp_1 = serv_noused_1\n",
    "#serv_grp_1 = pd.read_csv('D:/Referral/Cust_grp_splits/serv_noused_1.csv', low_memory=False)"
   ]
  },
  {
   "cell_type": "code",
   "execution_count": null,
   "metadata": {},
   "outputs": [],
   "source": [
    "## complete set of code is already execute in above \n",
    "#cust_grp_1 = pd.read_csv('D:/Referral/Cust_grp_splits/cust_grp_noused_1.csv', low_memory=False)\n",
    "#serv_grp_1 = pd.read_csv('D:/Referral/Cust_grp_splits/serv_noused_1.csv', low_memory=False)\n",
    "cust_grp_1_dict = pd.Series(cust_grp_1['unique_cust_grp'].values, index=cust_grp_1['repm_vin']).to_dict()\n",
    "serv_grp_1['unique_cust_grp'] = serv_grp_1.repm_vin.map(cust_grp_1_dict)\n",
    "del(cust_grp_1)\n",
    "serv_grp_1 = serv_grp_1.drop_duplicates(subset=['repm_dlr_code', 'repm_cust_no', 'repm_vin', 'repm_ro_dtime',\n",
    "                                  'repm_work_type', 'repm_milg'])\n",
    "serv_grp_1['repm_ro_dtime'] = pd.to_datetime(serv_grp_1['repm_ro_dtime'])\n",
    "serv_grp_1 = serv_grp_1.sort_values(['unique_cust_grp', 'repm_vin', 'repm_work_type', 'repm_ro_dtime'], ascending=[True, \n",
    "                                                                                                                  True, True,\n",
    "                                                                                                                  False])\n",
    "serv_grp_1['year'] = serv_grp_1['repm_ro_dtime'].dt.year\n",
    "\n",
    "serv_grp_1['day_diff'] = serv_grp_1.sort_values(['repm_vin', 'repm_ro_dtime'], ascending=[True,False]).groupby(\n",
    "    ['repm_vin'])['repm_ro_dtime'].apply(lambda x: x - x.shift(-1))\n",
    "serv_grp_1['day_diff'] = serv_grp_1['day_diff'].dt.days"
   ]
  },
  {
   "cell_type": "code",
   "execution_count": null,
   "metadata": {},
   "outputs": [],
   "source": [
    "display(serv_grp_1.columns)"
   ]
  },
  {
   "cell_type": "code",
   "execution_count": null,
   "metadata": {},
   "outputs": [],
   "source": [
    "split(serv_grp_1, \"serv_grp_1\")"
   ]
  },
  {
   "cell_type": "code",
   "execution_count": null,
   "metadata": {},
   "outputs": [],
   "source": [
    "serv_grp_1['Repeat_visit_month'] = np.where((serv_grp_1['day_diff']<30), True, False)"
   ]
  },
  {
   "cell_type": "code",
   "execution_count": null,
   "metadata": {},
   "outputs": [],
   "source": [
    "serv_grp_1['Repeat_visit_three_month'] = np.where((serv_grp_1['day_diff']<100), True, False)"
   ]
  },
  {
   "cell_type": "code",
   "execution_count": null,
   "metadata": {},
   "outputs": [],
   "source": [
    "display(serv_grp_1['Repeat_visit_month'].value_counts())\n",
    "display(serv_grp_1['Repeat_visit_three_month'].value_counts())"
   ]
  },
  {
   "cell_type": "code",
   "execution_count": null,
   "metadata": {},
   "outputs": [],
   "source": [
    "serv_rv_three_flags = serv_grp_1[serv_grp_1['Repeat_visit_three_month']==True].groupby('unique_cust_grp')['repm_ro_dtime'].count().reset_index()\n",
    "serv_count_one_yr = serv_grp_1[serv_grp_1['repm_ro_dtime']>='2018-06-01'].groupby('unique_cust_grp')['repm_ro_dtime'].count().reset_index()\n",
    "serv_count_three_yr = serv_grp_1[serv_grp_1['repm_ro_dtime']>='2016-06-01'].groupby('unique_cust_grp')['repm_ro_dtime'].count().reset_index()"
   ]
  },
  {
   "cell_type": "code",
   "execution_count": null,
   "metadata": {},
   "outputs": [],
   "source": [
    "print(serv_rv_three_flags.shape)\n",
    "serv_rv_three_flags.tail(3)"
   ]
  },
  {
   "cell_type": "code",
   "execution_count": null,
   "metadata": {},
   "outputs": [],
   "source": [
    "print(serv_count_one_yr.shape)\n",
    "serv_count_one_yr.tail(3)"
   ]
  },
  {
   "cell_type": "code",
   "execution_count": null,
   "metadata": {},
   "outputs": [],
   "source": [
    "print(serv_count_three_yr.shape)\n",
    "serv_count_three_yr.tail(3)"
   ]
  },
  {
   "cell_type": "code",
   "execution_count": null,
   "metadata": {},
   "outputs": [],
   "source": [
    "serv_rv_yrly_count = serv_grp_1[serv_grp_1['Repeat_visit_month']==True].groupby(['unique_cust_grp', 'car_model_year'])['repm_ro_dtime'].count().reset_index()\n",
    "\n",
    "serv_rv_one_yr_count = serv_rv_yrly_count.groupby('unique_cust_grp').agg({'repm_ro_dtime': ['mean', 'max', 'median', 'min']}).reset_index()\n",
    "serv_day_diff_count = serv_grp_1.groupby('unique_cust_grp').agg({'day_diff': ['mean', 'max', 'median', 'min']}).reset_index()"
   ]
  },
  {
   "cell_type": "code",
   "execution_count": null,
   "metadata": {},
   "outputs": [],
   "source": [
    "print(serv_rv_yrly_count.shape)\n",
    "serv_rv_yrly_count.tail(3)"
   ]
  },
  {
   "cell_type": "code",
   "execution_count": null,
   "metadata": {},
   "outputs": [],
   "source": [
    "print(serv_rv_one_yr_count.shape)\n",
    "serv_rv_one_yr_count.tail(3)"
   ]
  },
  {
   "cell_type": "code",
   "execution_count": null,
   "metadata": {},
   "outputs": [],
   "source": [
    "print(serv_day_diff_count.shape)\n",
    "serv_day_diff_count.tail(3)"
   ]
  },
  {
   "cell_type": "code",
   "execution_count": null,
   "metadata": {},
   "outputs": [],
   "source": [
    "def flat(df):\n",
    "    df.columns = [' '.join(col).strip() for col in df.columns.values]\n",
    "    return df"
   ]
  },
  {
   "cell_type": "code",
   "execution_count": null,
   "metadata": {},
   "outputs": [],
   "source": [
    "serv_rv_one_yr_count = flat(serv_rv_one_yr_count)\n",
    "serv_rv_one_yr_count.tail(3)"
   ]
  },
  {
   "cell_type": "code",
   "execution_count": null,
   "metadata": {},
   "outputs": [],
   "source": [
    "serv_day_diff_count = flat(serv_day_diff_count)\n",
    "serv_day_diff_count.tail(3)"
   ]
  },
  {
   "cell_type": "code",
   "execution_count": null,
   "metadata": {},
   "outputs": [],
   "source": [
    "serv_rv_three_flags_dict = pd.Series(serv_rv_three_flags['repm_ro_dtime'].values, index=serv_rv_three_flags['unique_cust_grp']).to_dict()\n",
    "serv_count_one_yr_dict = pd.Series(serv_count_one_yr['repm_ro_dtime'].values, index=serv_count_one_yr['unique_cust_grp']).to_dict()\n",
    "serv_count_three_yr_dict = pd.Series(serv_count_three_yr['repm_ro_dtime'].values, index=serv_count_three_yr['unique_cust_grp']).to_dict()"
   ]
  },
  {
   "cell_type": "code",
   "execution_count": null,
   "metadata": {},
   "outputs": [],
   "source": [
    "#serv_grp_1['rv_3_count'] = serv_grp_1.unique_cust_grp.map(serv_rv_one_flags_dict).fillna(0)\n",
    "serv_grp_1['rv_3_count'] = serv_grp_1.unique_cust_grp.map(serv_rv_three_flags_dict).fillna(0)\n",
    "serv_grp_1['serv_count_last_one'] = serv_grp_1.unique_cust_grp.map(serv_count_one_yr_dict).fillna(0)\n",
    "serv_grp_1['serv_count_last_three'] = serv_grp_1.unique_cust_grp.map(serv_count_three_yr_dict).fillna(0)"
   ]
  },
  {
   "cell_type": "code",
   "execution_count": null,
   "metadata": {},
   "outputs": [],
   "source": [
    "serv_rv_feat_1 = serv_grp_1.drop_duplicates(subset=['unique_cust_grp'])[['unique_cust_grp', 'rv_3_count', 'serv_count_last_one','serv_count_last_three']]"
   ]
  },
  {
   "cell_type": "code",
   "execution_count": null,
   "metadata": {},
   "outputs": [],
   "source": [
    "print(serv_rv_feat_1.shape)\n",
    "serv_rv_feat_1.tail(3)"
   ]
  },
  {
   "cell_type": "code",
   "execution_count": null,
   "metadata": {},
   "outputs": [],
   "source": [
    "serv_rv_feat_2 = pd.merge(serv_rv_feat_1, serv_rv_one_yr_count, how='left', on=['unique_cust_grp']).rename(columns={\n",
    "    'repm_ro_dtime mean': 'yearly_rv_3_count mean', 'repm_ro_dtime max': 'yearly_rv_3_count max',\n",
    "    'repm_ro_dtime min': 'yearly_rv_3_count min', 'repm_ro_dtime median': 'yearly_rv_3_count median'\n",
    "}).fillna(0)"
   ]
  },
  {
   "cell_type": "code",
   "execution_count": null,
   "metadata": {},
   "outputs": [],
   "source": [
    "print(serv_rv_feat_2.shape)\n",
    "serv_rv_feat_2.tail(3)"
   ]
  },
  {
   "cell_type": "code",
   "execution_count": null,
   "metadata": {},
   "outputs": [],
   "source": [
    "serv_rv_feat = pd.merge(serv_rv_feat_2, serv_day_diff_count, how='left', on=['unique_cust_grp'])"
   ]
  },
  {
   "cell_type": "code",
   "execution_count": null,
   "metadata": {},
   "outputs": [],
   "source": [
    "print(serv_rv_feat.shape)\n",
    "serv_rv_feat.tail(3)"
   ]
  },
  {
   "cell_type": "code",
   "execution_count": null,
   "metadata": {},
   "outputs": [],
   "source": [
    "serv_rv_feat.to_csv('C:\\\\Users\\\\274828\\\\Data Analysis\\\\service_ref\\\\Data_preprocessing_FE\\\\1yr Data Final\\\\rv_feat_noused_1.dsv', index = False, encoding='utf-8')"
   ]
  },
  {
   "cell_type": "code",
   "execution_count": null,
   "metadata": {},
   "outputs": [],
   "source": [
    "serv_rv_feat.to_csv('rv_feat_noused_1.csv', index = False, encoding='utf-8')"
   ]
  },
  {
   "cell_type": "markdown",
   "metadata": {},
   "source": [
    "**Service dealer history**"
   ]
  },
  {
   "cell_type": "raw",
   "metadata": {},
   "source": [
    "cust_grp_1 = pd.read_csv('cust_grp_noused_1.csv', low_memory=False)\n",
    "serv_grp_1 = pd.read_csv('serv_noused_1.csv', low_memory=False)\n",
    "#used_cust_grp_1 = used_cust_grp_1"
   ]
  },
  {
   "cell_type": "code",
   "execution_count": null,
   "metadata": {},
   "outputs": [],
   "source": [
    "cust_grp_1 = pd.read_csv('cust_grp_noused_1.csv', low_memory=False)"
   ]
  },
  {
   "cell_type": "code",
   "execution_count": null,
   "metadata": {},
   "outputs": [],
   "source": [
    "cust_grp_1_dict = pd.Series(cust_grp_1['unique_cust_grp'].values, index=cust_grp_1['repm_vin']).to_dict()\n",
    "serv_grp_1['unique_cust_grp'] = serv_grp_1.repm_vin.map(cust_grp_1_dict)"
   ]
  },
  {
   "cell_type": "code",
   "execution_count": null,
   "metadata": {},
   "outputs": [],
   "source": [
    "serv_grp_1 = serv_grp_1.drop_duplicates(subset=['repm_dlr_code', 'repm_cust_no', 'repm_vin', 'repm_ro_dtime',\n",
    "                                  'repm_work_type', 'repm_milg'])"
   ]
  },
  {
   "cell_type": "code",
   "execution_count": null,
   "metadata": {},
   "outputs": [],
   "source": [
    "display(serv_grp_1.shape)"
   ]
  },
  {
   "cell_type": "code",
   "execution_count": null,
   "metadata": {},
   "outputs": [],
   "source": [
    "serv_grp_1['repm_ro_dtime'] = pd.to_datetime(serv_grp_1['repm_ro_dtime'])"
   ]
  },
  {
   "cell_type": "code",
   "execution_count": null,
   "metadata": {},
   "outputs": [],
   "source": [
    "serv_grp_1 = serv_grp_1.sort_values(['unique_cust_grp', 'repm_vin', 'repm_work_type', 'repm_ro_dtime'], ascending=[True, \n",
    "                                                                                                                  True, True,\n",
    "                                                                                                                      False])"
   ]
  },
  {
   "cell_type": "code",
   "execution_count": null,
   "metadata": {},
   "outputs": [],
   "source": [
    "def dlr_count(df):\n",
    "    df['FS_dlr_count_vin'] = df.repm_vin.map(df[(df['repm_work_type']=='FS')|\n",
    "                                            (df['repm_work_type']=='UF')].groupby('repm_vin')['repm_dlr_code'].nunique())\n",
    "    \n",
    "    df['MS_dlr_count_vin'] = df.repm_vin.map(df[(df['repm_work_type']=='PS')|\n",
    "                                            (df['repm_work_type']=='RR')|\n",
    "                                            (df['repm_work_type']=='RM')].groupby('repm_vin')['repm_dlr_code'].nunique())\n",
    "    df['AR_dlr_count_vin'] = df.repm_vin.map(df[(df['repm_work_type']=='AR')|\n",
    "                                            (df['repm_work_type']=='RA')].groupby('repm_vin')['repm_dlr_code'].nunique())\n",
    "    df['Total_dlr_count_vin'] = df.repm_vin.map(df.groupby('repm_vin')['repm_dlr_code'].nunique())\n",
    "    df['FS_count_vin'] = df.repm_vin.map(df[(df['repm_work_type']=='FS')|\n",
    "                                            (df['repm_work_type']=='UF')].groupby('repm_vin')['repm_ro_dtime'].nunique())\n",
    "    df['MS_count_vin'] = df.repm_vin.map(df[(df['repm_work_type']=='PS')|\n",
    "                            (df['repm_work_type']=='RR')|\n",
    "                           (df['repm_work_type']=='RM')].groupby('repm_vin')['repm_ro_dtime'].nunique())\n",
    "    df['AR_count_vin'] = df.repm_vin.map(df[(df['repm_work_type']=='AR')|\n",
    "                            (df['repm_work_type']=='RA')].groupby('repm_vin')['repm_ro_dtime'].nunique())    \n",
    "    df['Total_serv_count_vin'] = df.repm_vin.map(df.groupby('repm_vin')['repm_ro_dtime'].nunique())\n",
    "    df['FS_dealer_loyalty_vin'] = df['FS_count_vin']/df['FS_dlr_count_vin']\n",
    "    df['MS_dealer_loyalty_vin'] = df['MS_count_vin']/df['MS_dlr_count_vin']\n",
    "    df['AR_dealer_loyalty_vin'] = df['AR_count_vin']/df['AR_dlr_count_vin']\n",
    "    df['Overall_dealer_loyalty_vin'] = df['Total_serv_count_vin']/df['Total_dlr_count_vin']\n",
    "    \n",
    "    return df"
   ]
  },
  {
   "cell_type": "code",
   "execution_count": null,
   "metadata": {},
   "outputs": [],
   "source": [
    "max_service_dlr = serv_grp_1.groupby('unique_cust_grp')['repm_dlr_code'].apply(max).reset_index().rename(\n",
    "columns={'repm_dlr_code': 'Max_service_dlr_code'})"
   ]
  },
  {
   "cell_type": "code",
   "execution_count": null,
   "metadata": {},
   "outputs": [],
   "source": [
    "print(max_service_dlr.shape)\n",
    "max_service_dlr.tail(3)"
   ]
  },
  {
   "cell_type": "code",
   "execution_count": null,
   "metadata": {},
   "outputs": [],
   "source": [
    "max_dlr_dict = pd.Series(max_service_dlr['Max_service_dlr_code'].values, index=max_service_dlr['unique_cust_grp']).to_dict()\n",
    "serv_grp_1 = dlr_count(serv_grp_1)"
   ]
  },
  {
   "cell_type": "code",
   "execution_count": null,
   "metadata": {},
   "outputs": [],
   "source": [
    "print(serv_grp_1.shape)\n",
    "print(serv_grp_1.columns)\n",
    "serv_grp_1.head()"
   ]
  },
  {
   "cell_type": "code",
   "execution_count": null,
   "metadata": {},
   "outputs": [],
   "source": [
    "split(serv_grp_1,\"serv_grp_1_bfr_dlr\")"
   ]
  },
  {
   "cell_type": "code",
   "execution_count": null,
   "metadata": {},
   "outputs": [],
   "source": [
    "serv_grp_1.to_csv('serv_grp_1_bfr_dlr.csv', encoding='utf-8', index=False)"
   ]
  },
  {
   "cell_type": "code",
   "execution_count": null,
   "metadata": {},
   "outputs": [],
   "source": [
    "serv_grp_1_dlr = serv_grp_1.groupby('unique_cust_grp').agg({'FS_dlr_count_vin': ['mean', 'median', 'min', 'max'],\n",
    "                                                             'MS_dlr_count_vin': ['mean', 'median', 'min', 'max'],\n",
    "                                                             'AR_dlr_count_vin': ['mean', 'median', 'min', 'max'],\n",
    "                                                             'repm_dlr_code': pd.Series.nunique,\n",
    "                                                              'Total_dlr_count_vin': ['mean', 'median', 'min', 'max'],\n",
    "                                                              'FS_dealer_loyalty_vin': ['mean', 'median', 'min', 'max'],\n",
    "                                                               'MS_dealer_loyalty_vin': ['mean', 'median', 'min', 'max'],\n",
    "                                                                'AR_dealer_loyalty_vin': ['mean', 'median', 'min', 'max'],\n",
    "                                                                'Overall_dealer_loyalty_vin': ['mean', 'median', 'min', 'max'],\n",
    "                                                             'repm_vin': pd.Series.nunique,\n",
    "                                                              'repm_ro_dtime': pd.Series.nunique,}).reset_index().rename(\n",
    "columns={'repm_dlr_code': 'Total_dealer_count', 'repm_ro_dtime': 'Total_service_count'})"
   ]
  },
  {
   "cell_type": "code",
   "execution_count": null,
   "metadata": {},
   "outputs": [],
   "source": [
    "print(serv_grp_1_dlr.shape)\n",
    "print(serv_grp_1_dlr.columns)\n",
    "serv_grp_1_dlr.head()"
   ]
  },
  {
   "cell_type": "code",
   "execution_count": null,
   "metadata": {},
   "outputs": [],
   "source": [
    "def flat(df):\n",
    "    df.columns = [' '.join(col).strip() for col in df.columns.values]\n",
    "    return df"
   ]
  },
  {
   "cell_type": "code",
   "execution_count": null,
   "metadata": {},
   "outputs": [],
   "source": [
    "serv_grp_1_dlr = flat(serv_grp_1_dlr)"
   ]
  },
  {
   "cell_type": "code",
   "execution_count": null,
   "metadata": {},
   "outputs": [],
   "source": [
    "print(serv_grp_1_dlr.shape)\n",
    "print(serv_grp_1_dlr.columns)\n",
    "serv_grp_1_dlr.head()"
   ]
  },
  {
   "cell_type": "code",
   "execution_count": null,
   "metadata": {},
   "outputs": [],
   "source": [
    "serv_grp_1_dlr['Max_service_dlr_code'] = serv_grp_1_dlr.unique_cust_grp.map(max_dlr_dict)"
   ]
  },
  {
   "cell_type": "code",
   "execution_count": null,
   "metadata": {},
   "outputs": [],
   "source": [
    "print(serv_grp_1_dlr.shape)\n",
    "print(serv_grp_1_dlr.columns[35:])"
   ]
  },
  {
   "cell_type": "code",
   "execution_count": null,
   "metadata": {},
   "outputs": [],
   "source": [
    "serv_grp_1_dlr.to_csv('C:\\\\Users\\\\274828\\\\Data Analysis\\\\service_ref\\\\Data_preprocessing_FE\\\\1yr Data Final\\\\serv_dlr_feat_1.dsv', encoding='utf-8', index=False)"
   ]
  },
  {
   "cell_type": "code",
   "execution_count": null,
   "metadata": {},
   "outputs": [],
   "source": [
    "serv_grp_1_dlr.to_csv('C:\\\\Users\\\\274828\\\\Data Analysis\\\\service_ref\\\\Data_preprocessing_FE\\\\1yr Data Final\\\\serv_dlr_feat_1.csv', encoding='utf-8', index=False)"
   ]
  },
  {
   "cell_type": "code",
   "execution_count": null,
   "metadata": {},
   "outputs": [],
   "source": [
    "cust_grp_1.to_csv('C:\\\\Users\\\\274828\\\\Data Analysis\\\\service_ref\\\\Data_preprocessing_FE\\\\1yr Data Final\\\\cust_grp_1.csv', encoding='utf-8', index=False)"
   ]
  },
  {
   "cell_type": "code",
   "execution_count": null,
   "metadata": {},
   "outputs": [],
   "source": [
    "cust_grp_noused.to_csv('C:\\\\Users\\\\274828\\\\Data Analysis\\\\service_ref\\\\Data_preprocessing_FE\\\\1yr Data Final\\\\cust_grp_noused.csv', encoding='utf-8', index=False)"
   ]
  },
  {
   "cell_type": "code",
   "execution_count": null,
   "metadata": {},
   "outputs": [],
   "source": [
    "serv_noused_test2.to_csv('C:\\\\Users\\\\274828\\\\Data Analysis\\\\service_ref\\\\Data_preprocessing_FE\\\\1yr Data Final\\\\serv_noused_test2.csv', encoding='utf-8', index=False)"
   ]
  },
  {
   "cell_type": "markdown",
   "metadata": {},
   "source": [
    "**Service marketing campaigns feature extraction**"
   ]
  },
  {
   "cell_type": "code",
   "execution_count": null,
   "metadata": {},
   "outputs": [],
   "source": [
    "# Original Code\n",
    "target_cust_grp = pd.read_csv('C:\\\\Users\\\\274828\\\\Data Analysis\\\\service_ref\\\\Data_preprocessing_FE\\\\1yr Data Final\\\\Cust_grp_master_final_1.csv', low_memory=False)"
   ]
  },
  {
   "cell_type": "code",
   "execution_count": null,
   "metadata": {},
   "outputs": [],
   "source": [
    "# Test code\n",
    "target_cust_grp = cust_grp.copy()"
   ]
  },
  {
   "cell_type": "code",
   "execution_count": null,
   "metadata": {},
   "outputs": [],
   "source": [
    "print(target_cust_grp.shape)\n",
    "print(target_cust_grp.columns)\n",
    "target_cust_grp.head(3)"
   ]
  },
  {
   "cell_type": "code",
   "execution_count": null,
   "metadata": {},
   "outputs": [],
   "source": [
    "camp_data = pd.read_csv('serv_marketing_data.csv') #Camp data with camp counts across uniques cust grp"
   ]
  },
  {
   "cell_type": "code",
   "execution_count": null,
   "metadata": {},
   "outputs": [],
   "source": [
    "print(camp_data.shape)\n",
    "print(camp_data.columns)\n",
    "camp_data.head(3)"
   ]
  },
  {
   "cell_type": "code",
   "execution_count": null,
   "metadata": {},
   "outputs": [],
   "source": [
    "target_cust_grp.unique_cust_grp = target_cust_grp.unique_cust_grp.apply(str)"
   ]
  },
  {
   "cell_type": "code",
   "execution_count": null,
   "metadata": {},
   "outputs": [],
   "source": [
    "test = pd.merge(target_cust_grp, camp_data, left_on =\"repm_vin\",  right_on= \"RO_VIN\", indicator= True, how= \"outer\")\n",
    "test['_merge'].value_counts()"
   ]
  },
  {
   "cell_type": "code",
   "execution_count": null,
   "metadata": {},
   "outputs": [],
   "source": [
    "#testing \n",
    "camp_data = test[test[\"_merge\"]==\"both\"]\n",
    "print(camp_data.shape)\n",
    "print(camp_data.columns)\n",
    "camp_data.head(3)"
   ]
  },
  {
   "cell_type": "code",
   "execution_count": null,
   "metadata": {},
   "outputs": [],
   "source": [
    "camp_data['unique_cust_grp'] = camp_data['unique_cust_grp'].apply(str)"
   ]
  },
  {
   "cell_type": "code",
   "execution_count": null,
   "metadata": {},
   "outputs": [],
   "source": [
    "target_cust_grp[\"Target_final\"]= target_cust_grp[\"Target\"]\n",
    "test_0 = target_cust_grp[target_cust_grp.Target_final==0].unique_cust_grp.unique().tolist() #Create dict to map target values to camp data"
   ]
  },
  {
   "cell_type": "code",
   "execution_count": null,
   "metadata": {},
   "outputs": [],
   "source": [
    "camp_data['Target_binary'] = np.where(camp_data['unique_cust_grp'].isin(test_0), 0, 1) #map target values to camp data"
   ]
  },
  {
   "cell_type": "code",
   "execution_count": null,
   "metadata": {},
   "outputs": [],
   "source": [
    "#Data pre-processing\n",
    "camp_data_dedup = camp_data.drop_duplicates(subset=['CREATED', 'CON_PER_ID', 'CAMP_CON_NUM', 'CAMP_LD_WAVE_ID','MSG_BNCD_REASON_CD', 'MSG_BNCD_STAT_CD', 'STAT_CD'])"
   ]
  },
  {
   "cell_type": "code",
   "execution_count": null,
   "metadata": {},
   "outputs": [],
   "source": [
    "camp_data_dedup.shape"
   ]
  },
  {
   "cell_type": "code",
   "execution_count": null,
   "metadata": {},
   "outputs": [],
   "source": [
    "camp_data_dedup['stat_cd'] = camp_data_dedup['STAT_CD'].fillna('NA')"
   ]
  },
  {
   "cell_type": "code",
   "execution_count": null,
   "metadata": {},
   "outputs": [],
   "source": [
    "camp_data_dedup = camp_data_dedup[['ROW_ID', 'unique_cust_grp', 'repm_vin', 'STAT_CD', 'CREATED']]"
   ]
  },
  {
   "cell_type": "code",
   "execution_count": null,
   "metadata": {},
   "outputs": [],
   "source": [
    "camp_data_feat = camp_data_dedup.groupby(['unique_cust_grp']).agg({'ROW_ID': pd.Series.nunique,'repm_vin': pd.Series.nunique}).reset_index() # Total camp count"
   ]
  },
  {
   "cell_type": "code",
   "execution_count": null,
   "metadata": {},
   "outputs": [],
   "source": [
    "#Feature extraction test\n",
    "feat_1 = camp_data_dedup[camp_data_dedup.STAT_CD =='Bounced'].groupby(['unique_cust_grp']).agg({'ROW_ID': pd.Series.nunique}).reset_index().rename(\n",
    "    columns={'ROW_ID': 'Bounced_count'}) #Bounced email count\n",
    "print(feat_1.shape)\n",
    "print(feat_1.columns)\n",
    "feat_1.head(2)"
   ]
  },
  {
   "cell_type": "code",
   "execution_count": null,
   "metadata": {},
   "outputs": [],
   "source": [
    "feat_2 = camp_data_dedup[camp_data_dedup.STAT_CD=='NA'].groupby(['unique_cust_grp']).agg({'ROW_ID': pd.Series.nunique}).reset_index().rename(\n",
    "    columns={'row_id': 'NA_count'}) #Email count with no status\n",
    "print(feat_2.shape)\n",
    "print(feat_2.columns)\n",
    "feat_2.head(2)"
   ]
  },
  {
   "cell_type": "code",
   "execution_count": null,
   "metadata": {},
   "outputs": [],
   "source": [
    "feat_3 = camp_data_dedup[camp_data_dedup.STAT_CD=='Sent'].groupby(['unique_cust_grp']).agg({'ROW_ID': pd.Series.nunique}).reset_index().rename(\n",
    "    columns={'row_id': 'Sent'}) #Sent email count\n",
    "print(feat_3.shape)\n",
    "print(feat_3.columns)\n",
    "feat_3.head(2)"
   ]
  },
  {
   "cell_type": "code",
   "execution_count": null,
   "metadata": {},
   "outputs": [],
   "source": [
    "# Merge sent, bounced and NA camp count to the main data\n",
    "camp_data_feat = pd.merge(camp_data_feat, feat_1, on=['unique_cust_grp'], how='left').merge(\n",
    "    feat_2, on=['unique_cust_grp'], how='left').merge(feat_3, on=['unique_cust_grp'], how='left')"
   ]
  },
  {
   "cell_type": "code",
   "execution_count": null,
   "metadata": {},
   "outputs": [],
   "source": [
    "print(camp_data_feat.shape)\n",
    "print(camp_data_feat.columns)\n",
    "camp_data_feat.head(2)"
   ]
  },
  {
   "cell_type": "code",
   "execution_count": null,
   "metadata": {},
   "outputs": [],
   "source": [
    "# Merge with target values\n",
    "camp_data_feat = camp_data_feat.fillna(0)\n",
    "camp_data_feat['Target_binary'] = np.where(camp_data_feat['unique_cust_grp'].isin(test_0), 0, 1)"
   ]
  },
  {
   "cell_type": "code",
   "execution_count": null,
   "metadata": {},
   "outputs": [],
   "source": [
    "camp_data_feat.to_csv('C:\\\\Users\\\\274828\\\\Data Analysis\\\\service_ref\\\\Data_preprocessing_FE\\\\1yr Data Final\\\\camp_data_feature_ext.dsv', encoding='utf-8', index=False)"
   ]
  },
  {
   "cell_type": "code",
   "execution_count": null,
   "metadata": {},
   "outputs": [],
   "source": [
    "camp_data_feat.to_csv('C:\\\\Users\\\\274828\\\\Data Analysis\\\\service_ref\\\\Data_preprocessing_FE\\\\1yr Data Final\\\\camp_data_feature_ext.csv', encoding='utf-8', index=False)"
   ]
  },
  {
   "cell_type": "code",
   "execution_count": null,
   "metadata": {},
   "outputs": [],
   "source": [
    "serv_feat_noused_1.to_csv('C:\\\\Users\\\\274828\\\\Data Analysis\\\\service_ref\\\\Data_preprocessing_FE\\\\1yr Data Final\\\\serv_feat_noused_1.dsv', encoding='utf-8', index=False)"
   ]
  },
  {
   "cell_type": "code",
   "execution_count": null,
   "metadata": {},
   "outputs": [],
   "source": [
    "serv_rv_feat.to_csv('C:\\\\Users\\\\274828\\\\Data Analysis\\\\service_ref\\\\Data_preprocessing_FE\\\\1yr Data Final\\\\rv_feat_noused_1.dsv', index=False, encoding='utf-8')"
   ]
  },
  {
   "cell_type": "code",
   "execution_count": null,
   "metadata": {},
   "outputs": [],
   "source": [
    "serv_grp_1_dlr.to_csv('C:\\\\Users\\\\274828\\\\Data Analysis\\\\service_ref\\\\Data_preprocessing_FE\\\\1yr Data Final\\\\serv_dlr_feat_1.dsv', encoding='utf-8', index=False)"
   ]
  },
  {
   "cell_type": "code",
   "execution_count": null,
   "metadata": {},
   "outputs": [],
   "source": [
    "camp_data_feat.head()"
   ]
  },
  {
   "cell_type": "code",
   "execution_count": null,
   "metadata": {},
   "outputs": [],
   "source": [
    "camp_data_feat.to_csv('C:\\\\Users\\\\274828\\\\Data Analysis\\\\service_ref\\\\Data_preprocessing_FE\\\\1yr Data Final\\\\camp_data.dsv', encoding='utf-8', index=False)"
   ]
  },
  {
   "cell_type": "markdown",
   "metadata": {},
   "source": [
    "**Combining split feature files**"
   ]
  },
  {
   "cell_type": "code",
   "execution_count": null,
   "metadata": {},
   "outputs": [],
   "source": [
    "import glob\n",
    "#Combine service features\n",
    "path = r'C:\\\\Users\\\\274828\\\\Data Analysis\\\\service_ref\\\\Data_preprocessing_FE\\\\1yr Data Final' # use your path\n",
    "all_files = glob.glob(path + \"/*.dsv\")\n",
    "\n",
    "li = []\n",
    "\n",
    "for filename in all_files:\n",
    "    df = pd.read_csv(filename)\n",
    "    li.append(df)\n",
    "rfrl_serv_data = pd.concat(li)"
   ]
  },
  {
   "cell_type": "code",
   "execution_count": null,
   "metadata": {},
   "outputs": [],
   "source": [
    "print(rfrl_serv_data.shape)\n",
    "print(rfrl_serv_data.columns)\n",
    "rfrl_serv_data.head(3)"
   ]
  },
  {
   "cell_type": "code",
   "execution_count": null,
   "metadata": {},
   "outputs": [],
   "source": [
    "#drop highly correlated features\n",
    "corr_serv = rfrl_serv_data.corr().abs()\n",
    "upper = corr_serv.where(np.triu(np.ones(corr_serv.shape), k=1).astype(np.bool))\n",
    "to_drop = [column for column in upper.columns if any(upper[column] > 0.90)]\n",
    "rfrl_serv_data_red = rfrl_serv_data.drop(rfrl_serv_data[to_drop], axis=1)"
   ]
  },
  {
   "cell_type": "code",
   "execution_count": null,
   "metadata": {},
   "outputs": [],
   "source": [
    "print(rfrl_serv_data_red.shape)\n",
    "print(rfrl_serv_data_red.columns)\n",
    "rfrl_serv_data_red.head(3)"
   ]
  },
  {
   "cell_type": "code",
   "execution_count": null,
   "metadata": {},
   "outputs": [],
   "source": [
    "#Combine dealer features\n",
    "path = r'C:\\\\Users\\\\274828\\\\Data Analysis\\\\service_ref\\\\Data_preprocessing_FE\\\\1yr Data Final\\\\' # use your path\n",
    "all_files = glob.glob(path + \"/*.dsv\")\n",
    "\n",
    "li = []\n",
    "\n",
    "for filename in all_files:\n",
    "    df = pd.read_csv(filename)\n",
    "    li.append(df)\n",
    "dlr_feat = pd.concat(li)"
   ]
  },
  {
   "cell_type": "code",
   "execution_count": null,
   "metadata": {},
   "outputs": [],
   "source": [
    "print(dlr_feat.shape)\n",
    "print(dlr_feat.columns)\n",
    "dlr_feat.head(3)"
   ]
  },
  {
   "cell_type": "code",
   "execution_count": null,
   "metadata": {},
   "outputs": [],
   "source": [
    "#Drop correlated features\n",
    "corr_serv = dlr_feat.corr().abs()\n",
    "upper = corr_serv.where(np.triu(np.ones(corr_serv.shape), k=1).astype(np.bool))\n",
    "to_drop = [column for column in upper.columns if any(upper[column] > 0.95)]\n",
    "dlr_feat_red = dlr_feat.drop(dlr_feat[to_drop], axis=1)"
   ]
  },
  {
   "cell_type": "code",
   "execution_count": null,
   "metadata": {},
   "outputs": [],
   "source": [
    "print(dlr_feat_red.shape)\n",
    "print(dlr_feat_red.columns)\n",
    "dlr_feat_red.head(3)"
   ]
  },
  {
   "cell_type": "code",
   "execution_count": null,
   "metadata": {},
   "outputs": [],
   "source": [
    "#Combine repeat visit features\n",
    "path = r'C:\\\\Users\\\\274828\\\\Data Analysis\\\\service_ref\\\\Data_preprocessing_FE\\\\1yr Data Final\\\\' # use your path\n",
    "all_files = glob.glob(path + \"/*.dsv\")\n",
    "\n",
    "li = []\n",
    "\n",
    "for filename in all_files:\n",
    "    df = pd.read_csv(filename)\n",
    "    li.append(df)\n",
    "rv_feat = pd.concat(li)"
   ]
  },
  {
   "cell_type": "code",
   "execution_count": null,
   "metadata": {},
   "outputs": [],
   "source": [
    "print(rv_feat.shape)\n",
    "print(rv_feat.columns)\n",
    "rv_feat.head(3)"
   ]
  },
  {
   "cell_type": "code",
   "execution_count": null,
   "metadata": {},
   "outputs": [],
   "source": [
    "#Drop correlated features\n",
    "corr_serv = rv_feat.corr().abs()\n",
    "upper = corr_serv.where(np.triu(np.ones(corr_serv.shape), k=1).astype(np.bool))\n",
    "to_drop = [column for column in upper.columns if any(upper[column] > 0.95)]\n",
    "rv_feat_red = rv_feat.drop(rv_feat[to_drop], axis=1)"
   ]
  },
  {
   "cell_type": "code",
   "execution_count": null,
   "metadata": {},
   "outputs": [],
   "source": [
    "print(rv_feat_red.shape)\n",
    "print(rv_feat_red.columns)\n",
    "rv_feat_red.head(3)"
   ]
  },
  {
   "cell_type": "code",
   "execution_count": null,
   "metadata": {},
   "outputs": [],
   "source": [
    "rfrl_serv_data_red_new_1 = pd.merge(rfrl_serv_data_red, rv_feat_red, how='inner', on=['unique_cust_grp'])\n",
    "rfrl_serv_data_red_new_1.shape"
   ]
  },
  {
   "cell_type": "code",
   "execution_count": null,
   "metadata": {},
   "outputs": [],
   "source": [
    "rfrl_serv_data_red_new_2 = pd.merge(rfrl_serv_data_red_new_1, dlr_feat_red, how='inner', on=['unique_cust_grp'])\n",
    "rfrl_serv_data_red_new_2.shape"
   ]
  },
  {
   "cell_type": "code",
   "execution_count": null,
   "metadata": {},
   "outputs": [],
   "source": [
    "camp_data_feat1 = camp_data_feat.copy()\n",
    "camp_data_feat1['used'] = np.where(((camp_data_feat['unique_cust_grp'].astype(str).str.contains('_used'))), True, False)"
   ]
  },
  {
   "cell_type": "code",
   "execution_count": null,
   "metadata": {},
   "outputs": [],
   "source": [
    "print(camp_data_feat1.shape)\n",
    "camp_data_feat1.used.sum()"
   ]
  },
  {
   "cell_type": "code",
   "execution_count": null,
   "metadata": {},
   "outputs": [],
   "source": [
    "camp_data_feat1.head()"
   ]
  },
  {
   "cell_type": "code",
   "execution_count": null,
   "metadata": {},
   "outputs": [],
   "source": [
    "camp_data_feat1.columns"
   ]
  },
  {
   "cell_type": "code",
   "execution_count": null,
   "metadata": {},
   "outputs": [],
   "source": [
    "camp_data_feat2 = camp_data_feat1[camp_data_feat1['used']==False][['unique_cust_grp', 'ROW_ID_x', 'repm_vin', 'ROW_ID_y', 'ROW_ID_x',\n",
    "       'ROW_ID_y', 'Target_binary', 'used']]\n",
    "print(camp_data_feat2.shape)\n",
    "print(camp_data_feat2.columns)\n",
    "camp_data_feat2.head()"
   ]
  },
  {
   "cell_type": "code",
   "execution_count": null,
   "metadata": {},
   "outputs": [],
   "source": [
    "camp_data_feat2[\"unique_cust_grp\"] = camp_data_feat2[\"unique_cust_grp\"].astype(float)"
   ]
  },
  {
   "cell_type": "code",
   "execution_count": null,
   "metadata": {},
   "outputs": [],
   "source": [
    "camp_data_feat2 = camp_data_feat2[['unique_cust_grp', 'ROW_ID_x', 'ROW_ID_x', 'repm_vin', 'ROW_ID_y',\n",
    "       'ROW_ID_y', 'ROW_ID_x', 'ROW_ID_x', 'ROW_ID_y', 'ROW_ID_y',\n",
    "       'Target_binary']]"
   ]
  },
  {
   "cell_type": "code",
   "execution_count": null,
   "metadata": {},
   "outputs": [],
   "source": [
    "rfrl_serv_data_red_new_4 = pd.merge(rfrl_serv_data_red_new_2, camp_data_feat2, how='left', on=['unique_cust_grp'])\n",
    "rfrl_serv_data_red_new_4.shape"
   ]
  },
  {
   "cell_type": "code",
   "execution_count": null,
   "metadata": {},
   "outputs": [],
   "source": [
    "print(rfrl_serv_data_red_new_4.shape)\n",
    "display(rfrl_serv_data_red_new_4.columns)\n",
    "rfrl_serv_data_red_new_4.head()"
   ]
  },
  {
   "cell_type": "code",
   "execution_count": null,
   "metadata": {},
   "outputs": [],
   "source": [
    "rfrl_serv_data_red_new_4.to_csv('C:\\\\Users\\\\274828\\\\Data Analysis\\\\service_ref\\\\Data_preprocessing_FE\\\\1yr Data Final\\\\rfrl_serv_data_red_new.dsv', encoding='utf-8', index=False)"
   ]
  },
  {
   "cell_type": "code",
   "execution_count": null,
   "metadata": {},
   "outputs": [],
   "source": [
    "cust_grp.head()"
   ]
  },
  {
   "cell_type": "code",
   "execution_count": null,
   "metadata": {},
   "outputs": [],
   "source": [
    "cust_grp[[\"repm_vin\",\"used_vin\",\"unique_cust_grp\"]].to_csv(\"used_vin.csv\")"
   ]
  }
 ],
 "metadata": {
  "kernelspec": {
   "display_name": "Python 3",
   "language": "python",
   "name": "python3"
  },
  "language_info": {
   "codemirror_mode": {
    "name": "ipython",
    "version": 3
   },
   "file_extension": ".py",
   "mimetype": "text/x-python",
   "name": "python",
   "nbconvert_exporter": "python",
   "pygments_lexer": "ipython3",
   "version": "3.6.8"
  }
 },
 "nbformat": 4,
 "nbformat_minor": 2
}
